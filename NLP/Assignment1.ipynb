{
 "cells": [
  {
   "cell_type": "markdown",
   "metadata": {
    "id": "mbGnNWI1lRy_"
   },
   "source": [
    "# KAIST AI605 Assignment 1: Text Classification with RNNs\n",
    "Authors: Hyeong-Gwon Hong (honggudrnjs@kaist.ac.kr) and Minjoon Seo (minjoon@kaist.ac.kr)\n",
    "\n",
    "**Due Date:** March 31 (Wed) 11:00pm, 2021\n",
    "\n",
    "## Assignment Objectives\n",
    "- Verify theoretically and empirically why gating mechanism (LSTM, GRU) helps in Recurrent Neural Networks (RNNs)\n",
    "- Design an LSTM-based text classification model from scratch using PyTorch.\n",
    "- Apply the classification model to a popular classification task, Stanford Sentiment Treebank v2 (SST-2).\n",
    "- Achieve higher accuracy by applying common machine learning strategies, including Dropout.\n",
    "- Utilize pretrained word embedding (e.g. GloVe) to leverage self-supervision over a large text corpus.\n",
    "- (Bonus) Use Hugging Face library (`transformers`) to leverage self-supervision via large language models.\n",
    "\n",
    "## Your Submission\n",
    "Your submission will be a link to a Colab notebook that has all written answers and is fully executable. You will submit your assignment via KLMS. Use in-line LaTeX (see below) for mathematical expressions. Collaboration among students is allowed but it is not a group assignment so make sure your answer and code are your own. Make sure to mention your collaborators in your assignment with their names and their student ids.\n",
    "\n",
    "## Grading\n",
    "The entire assignment is out of 100 points. There are four bonus questions with 10 points each (two bonus questions added on Mar 19). Your final score can be higher than 100 points.\n",
    "\n",
    "\n",
    "## Environment\n",
    "You will only use Python 3.7 and PyTorch 1.8, which is already available on Colab:"
   ]
  },
  {
   "cell_type": "code",
   "execution_count": null,
   "metadata": {
    "colab": {
     "base_uri": "https://localhost:8080/"
    },
    "id": "kYxEp1XMpxem",
    "outputId": "544f83ba-9a56-41b0-cfdb-e0e3fcdb4b66"
   },
   "outputs": [
    {
     "name": "stdout",
     "output_type": "stream",
     "text": [
      "python 3.7.10\n",
      "torch 1.8.1+cu101\n"
     ]
    }
   ],
   "source": [
    "from platform import python_version\n",
    "import torch\n",
    "\n",
    "print(\"python\", python_version())\n",
    "print(\"torch\", torch.__version__)"
   ]
  },
  {
   "cell_type": "code",
   "execution_count": null,
   "metadata": {
    "colab": {
     "base_uri": "https://localhost:8080/"
    },
    "id": "ky-0Aaam10EB",
    "outputId": "ba8f791f-5721-4f5d-d4b1-3dc81e330653"
   },
   "outputs": [
    {
     "data": {
      "text/plain": [
       "device(type='cuda', index=0)"
      ]
     },
     "execution_count": 2,
     "metadata": {
      "tags": []
     },
     "output_type": "execute_result"
    }
   ],
   "source": [
    "device = torch.device(\"cuda:0\" if torch.cuda.is_available()else \"cpu\"); device"
   ]
  },
  {
   "cell_type": "code",
   "execution_count": null,
   "metadata": {
    "id": "iyK_bf_zrmDk"
   },
   "outputs": [],
   "source": [
    "from collections import Counter\n",
    "from itertools import repeat\n",
    "from tqdm import tqdm\n",
    "import operator\n",
    "\n",
    "import os\n",
    "import numpy as np\n",
    "import pandas as pd\n",
    "import copy\n",
    "import math\n",
    "import time\n",
    "import matplotlib.pyplot as plt\n",
    "\n",
    "import torch\n",
    "import torch.nn as nn\n",
    "import torch.nn.functional as F"
   ]
  },
  {
   "cell_type": "markdown",
   "metadata": {
    "id": "sB7xyzIgnnkA"
   },
   "source": [
    "## 1. Limitations of Vanilla RNNs\n",
    "In Lecture 04 and 05, we saw how RNNs suffer from exploding or vanishing gradients. We mathematically showed that, if the recurrent relation is\n",
    "$$ \\textbf{h}_t = \\sigma (\\textbf{V}\\textbf{h}_{t-1} + \\textbf{U}\\textbf{x}_t + \\textbf{b}) $$\n",
    "then\n",
    "$$ \\frac{\\partial \\textbf{h}_t}{\\partial \\textbf{h}_{t-1}} = \\text{diag}(\\sigma' (\\textbf{V}\\textbf{h}_{t-1} + \\textbf{U}\\textbf{x}_t + \\textbf{b}))\\textbf{V}$$\n",
    "so\n",
    "$$\\frac{\\partial \\textbf{h}_T}{\\partial \\textbf{h}_1} \\propto \\textbf{V}^{T-1}$$\n",
    "which means this term will be very close to zero if the norm of $\\bf{V}$ is smaller than 1 and really big otherwise.\n",
    "\n",
    "**Problem 1.1** *(10 points)* Explain how exploding gradient can be mitigated if we use gradient clipping.\n",
    "\n",
    "---\n",
    "\n",
    "**Answer** : The gradient clipping is performed in this way:\n",
    "\n",
    "$\\frac{\\partial \\epsilon}{\\partial \\theta} = \\frac{threshold}{||\\hat{g}||}\\hat{g}$ if $ ||\\hat{g}||\\geq $ threshold,   $\\hat{g}$ otherwise.\n",
    "\n",
    "\n",
    "If the L2-Norm value of the gradient at specific layer is larger than the threshold I decided, by normalizing the gradient by L2-Norm value, the gradient values are resized to the values between 0 and 1. It means that, though V matrices are continously multiplied, the value would not exceed 1. After the gradient clipping, any value would be smaller than 1. Considering that the product of the values smaller than 1 is always smaller than 1, exploding gradient problem might be solved. \n",
    "\n",
    "---\n",
    "---\n",
    "\n",
    "**Problem 1.2** *(10 points)* Explain how vanishing gradient can be mitigated if we use LSTM. See the Lecture 04 and 05 slides for the definition of LSTM.\n",
    "\n",
    "---\n",
    "\n",
    "**Answer** : Personally, I think, the main contribution of LSTM at mitigating the vanishing gradient problem is introduction of `cell state` $c_t$. Cell state passes a LSTM module without matrix multiplication with weight matrix, so there's much less possibility of gradient-vanishing probelm to happen. However, as the number of layers deepens, gradient vanishing problem still happens in LSTM, likewise.   \n",
    "\n",
    "Writing in equation, it is more obvious\n",
    "\n",
    "$f_t = \\sigma_g(W_fx_t + U_f h_{t-1} + b_f)$\n",
    "\n",
    "$i_t = \\sigma_g(W_ix_t + U_i h_{t-1} + b_i)$\n",
    "\n",
    "$o_t = \\sigma_g(W_ox_t + U_o h_{t-1} + b_o)$\n",
    "\n",
    "$\\tilde{c}_t = \\sigma_c(W_cx_t + U_c h_{t-1} + b_c)$\n",
    "\n",
    "$c_t = f_t \\cdot c_{t-1} + i_t \\cdot \\tilde{c}_t$\n",
    "\n",
    "$h_t = o_t \\cdot \\sigma_h (c_t)$\n",
    "\n",
    "As the equation says, the highway c does not get matrix multiplication. So, the possibility of gradient related problem to happen would decrease. "
   ]
  },
  {
   "cell_type": "markdown",
   "metadata": {
    "id": "S0AmoAT3wA1J"
   },
   "source": [
    "## 2. Creating Vocabulary from Training Data\n",
    "Creating the vocabulary is the first step for every natural language processing model. In this section, you will use Stanford Sentiment Treebank v2, a popular dataset for sentiment classification, to create your vocabulary.\n",
    "\n",
    "### Obtaining SST-2 via GLUE\n",
    "General Language Understanding Evaluation (GLUE) benchmark is a collection of tools for evaluating the performance of models across a diverse set of existing natural language understanding (NLU) tasks. See GLUE website (https://gluebenchmark.com/) and the GLUE paper (https://openreview.net/pdf?id=rJ4km2R5t7) for more details. GLUE provides an easy way to access the datasets, including SST-2.\n",
    "You can download SST-2 dataset by following the steps below:\n",
    "\n",
    "1. Clone GitHub repository:"
   ]
  },
  {
   "cell_type": "code",
   "execution_count": null,
   "metadata": {
    "colab": {
     "base_uri": "https://localhost:8080/"
    },
    "id": "YK0S_VTJxds4",
    "outputId": "6855771f-fbde-4888-cc12-eb5aea1d2455"
   },
   "outputs": [
    {
     "name": "stdout",
     "output_type": "stream",
     "text": [
      "Cloning into 'GLUE-baselines'...\n",
      "remote: Enumerating objects: 5, done.\u001b[K\n",
      "remote: Counting objects: 100% (5/5), done.\u001b[K\n",
      "remote: Compressing objects: 100% (5/5), done.\u001b[K\n",
      "remote: Total 891 (delta 1), reused 2 (delta 0), pack-reused 886\u001b[K\n",
      "Receiving objects: 100% (891/891), 1.48 MiB | 21.01 MiB/s, done.\n",
      "Resolving deltas: 100% (610/610), done.\n"
     ]
    }
   ],
   "source": [
    "!git clone https://github.com/nyu-mll/GLUE-baselines.git"
   ]
  },
  {
   "cell_type": "markdown",
   "metadata": {
    "id": "Y8eWbt2yxb3H"
   },
   "source": [
    "2. Download SST-2 only:"
   ]
  },
  {
   "cell_type": "code",
   "execution_count": null,
   "metadata": {
    "colab": {
     "base_uri": "https://localhost:8080/"
    },
    "id": "6drFIvgxxjgI",
    "outputId": "bce659c2-e107-4b5a-f558-fe0b5d2c2ffe"
   },
   "outputs": [
    {
     "name": "stdout",
     "output_type": "stream",
     "text": [
      "/content/GLUE-baselines\n",
      "Downloading and extracting SST...\n",
      "\tCompleted!\n"
     ]
    }
   ],
   "source": [
    "%cd GLUE-baselines/\n",
    "!python download_glue_data.py --data_dir glue_data --tasks SST"
   ]
  },
  {
   "cell_type": "markdown",
   "metadata": {
    "id": "uAVQyYWkxib6"
   },
   "source": [
    "Your training, dev, and test data can be found at `glue_data/SST-2`. Note that each file is in a tsv format, where the first column is the sentence and the second column is the label (either 0 or 1, where 1 means positive sentiment). "
   ]
  },
  {
   "cell_type": "code",
   "execution_count": null,
   "metadata": {
    "colab": {
     "base_uri": "https://localhost:8080/"
    },
    "id": "ElsgL-Piz7ck",
    "outputId": "6842f678-9bee-40f7-ac54-79d85a096e07"
   },
   "outputs": [
    {
     "name": "stdout",
     "output_type": "stream",
     "text": [
      "sentence\tlabel\n",
      "hide new secretions from the parental units \t0\n",
      "contains no wit , only labored gags \t0\n",
      "that loves its characters and communicates something rather beautiful about human nature \t1\n",
      "remains utterly satisfied to remain the same throughout \t0\n",
      "on the worst revenge-of-the-nerds clichés the filmmakers could dredge up \t0\n",
      "that 's far too tragic to merit such superficial treatment \t0\n",
      "demonstrates that the director of such hollywood blockbusters as patriot games can still turn out a small , personal film with an emotional wallop . \t1\n",
      "of saucy \t1\n",
      "a depressed fifteen-year-old 's suicidal poetry \t0\n"
     ]
    }
   ],
   "source": [
    "!head -10 glue_data/SST-2/train.tsv"
   ]
  },
  {
   "cell_type": "markdown",
   "metadata": {
    "id": "2s0T6qk6x78s"
   },
   "source": [
    "**Problem 2.1** *(10 points)* Using space tokenizer, create the vocabulary for the training data and report the vocabulary size here. Make sure that you add an `UNK` token to the vocabulary to account for words (during inference time) that you haven't seen. See below for an example with a short text.\n",
    "\n",
    "---\n",
    "\n",
    "**Answer** I didn't exclude punchuations or blanks, such as ' ' and ?, because there was no instructions to exclude those things at the example code. Not deleting it, the total number of vocabulary sizes including `UNK` are 14818."
   ]
  },
  {
   "cell_type": "code",
   "execution_count": null,
   "metadata": {
    "colab": {
     "base_uri": "https://localhost:8080/"
    },
    "id": "qOsxkEpyxTW1",
    "outputId": "4afdea5f-a05b-410b-c509-307c24f00b7a"
   },
   "outputs": [
    {
     "name": "stdout",
     "output_type": "stream",
     "text": [
      "['Hello', 'world!']\n"
     ]
    }
   ],
   "source": [
    "# Space tokenization\n",
    "text = \"Hello world!\"\n",
    "tokens = text.split(' ')\n",
    "print(tokens)"
   ]
  },
  {
   "cell_type": "code",
   "execution_count": null,
   "metadata": {
    "colab": {
     "base_uri": "https://localhost:8080/"
    },
    "id": "_iCTn95_pK7i",
    "outputId": "375807c4-700c-4880-8f61-9af8520902ba"
   },
   "outputs": [
    {
     "name": "stdout",
     "output_type": "stream",
     "text": [
      "['UNK', 'world!', 'Hello']\n",
      "2\n"
     ]
    }
   ],
   "source": [
    "# Constructing vocabulary with `UNK`\n",
    "vocab = ['UNK'] + list(set(text.split(' ')))\n",
    "word2id = {word: id_ for id_, word in enumerate(vocab)}\n",
    "print(vocab)\n",
    "print(word2id['Hello'])"
   ]
  },
  {
   "cell_type": "code",
   "execution_count": null,
   "metadata": {
    "colab": {
     "base_uri": "https://localhost:8080/"
    },
    "id": "zVZWDrKR4a-1",
    "outputId": "3fc8f88f-0380-4ad8-82b7-4d1f279cc8fb"
   },
   "outputs": [
    {
     "name": "stdout",
     "output_type": "stream",
     "text": [
      "/content/GLUE-baselines\n"
     ]
    }
   ],
   "source": [
    "!pwd"
   ]
  },
  {
   "cell_type": "code",
   "execution_count": null,
   "metadata": {
    "colab": {
     "base_uri": "https://localhost:8080/"
    },
    "id": "5VmmlzHA4BYz",
    "outputId": "0afb9f74-287d-45ab-f824-ec586cbd68d0"
   },
   "outputs": [
    {
     "name": "stdout",
     "output_type": "stream",
     "text": [
      "The vocabulary for training data: \n",
      "['', 'strenuous', 'sanctimony', 'pushed', 'deceptively', 'putters', 'saga', 'enjoying', 'fantasies', 'singles', 'hampered', 'bizarre', 'fitfully', 'misuse', 'steps', 'masala', 'silver', 'etched', 'drama/action', 'demonstrates', '3', 'pulp', 'creeping', 'pictures', 'scooby', 'throws', 'bucket', 'atop', 'exotic', 'tangents', 'not-too-distant', 'hostile', 'accumulates', 'open-ended', 'performers', 'late-summer', 'liked', 'mildly', 'ailments', 'fincher', 'during', 'black-and-white', 'delving', 'instance', 'sewer', 'calculating', 'bueller', 'gobbler', 'monologues', 'previous', 'a', 'foolish', 'futuristic', 'tendencies', 'catch', 'careening', 'courtship', 'tasteless', 'garbled', 'wisdom', 'obscenely', 'violent', 'indoor', 'destined', 'strong-minded', 'strategic', 'chung', 'no.', 'hughes', 'drains', 'swords', 'pop-cyber', 'fluttering', 'balancing', 'denouement', 'satisfying', 'cash', 'year-end', 'suspenseful', 'finely', 'preferable', 'libretto', 'bar', 'bombs', 'one-of-a-kind', 'desecrations', 'centering', 'dynamism', 'faraway', 'roles', 'renders', 'elliptically', 'day-lewis', 'bling-bling', 'dante', 'idealism', 'greg', 'punchlines', 'dream', 'might', 'low-rent', 'self-consciously', 'resist', 'inspires', 'wesley', 'mischievous', 'bode', 'rip-off', 'talents', 'neurosis', 'noon', 't-shirt', 'scribe', 'taken', 'talk', 'viewing', 'ride', 'tiger', 'gutless', 'snappy', 'midsection', 'forty', 'combining', 'baroque', 'slightest', 'smile', 'double', 'bjarne', 'displacement', 'spall', 'mgm', 'reputation', 'performing', 'fogging', 'allegory', 'seattle', 'sublimely', 'formal', 'sontag', 'foundation', 'following', 'lipstick', 'unpersuasive', 'italian', 'forbidden', 'rothman', 'makers', 'raphael', 'prepare', '168-minute', 'guilt-free', 'yorkers', 'prozac', 'definition', 'dimensions', 'clams', 'springboard', 'unthinkable', 'wise-beyond-her-years', 'pulpy', 'lds', 'demi', 'desplat', 'rudy', 'convictions', 'freighter', 'altman', 'samuel', 'bloodstream', 'slugfest', 'evokes', 'television', 'perfectly', 'dramaturgy', 'american', 'money-oriented', 'deception', 'altogether', 'stasis', 'assayas', 'gracefully', 'isabelle', 'kid-movie', 'reunions', 'throat', 'dustin', 'making', 'too', 'placed', 'absence', 'jeff', 'stomach-turning', 'puff', 'cam', 'jez', 'alagna', 'both', 'ravaging', 'demographic', 'evergreen', 'grandiloquent', 'sterling', 'exposé', 'searing', 'openly', 'head-turner', 'heroes', 'reveal', 'brazenly', 'rider', 'choppy', 'signature', 'oleander', 'bias', 'mitch', 'bought', 'malcolm', 'staggers', 'pulls', 'drab', 'favors', 'suburban', 'thematically', 'sharper', 'waking', 'jean', 'moist', 'chaotic', 'continuing', 'equally', 'lowered', 'cheech', 'oozes', 'peploe', 'ethics', 'inarticulate', 'grueling', 'ambivalence', 'grandparents', 'architecture', 'huppert', 'impulse', 'what', 'slanted', 'stock', 'pop-up', 'unblinkingly', 'documentarians', 'chain', 'litmus', 'shootout', 'deliberative', 'spot-on', 'necessity', 'degrades', 'armchair', 'douglas', 'ceo', 'glucose', 'crime', 'mean-spirited', 'gregory', 'widescreen', '20-car', 'definitely', 'newness', 'fessenden', 'title', 'feminine', 'evidence', 'forrest', 'blues', 'core', 'clichéd', 'welcomed', 'solace', 'pretty', 'severely', 'béart', 'mcadams', 'bertrand', 'christianity', 'heavyweights', 'full-fledged', '40', 'heaped', 'bathtub', 'champagne', 'euphoria', 'dislocation', 'unrewarding', 'breath', 'heart-felt', 'morlocks', 'carlito', 'catcher', 'motions', 'parallel', 'towers', 'kiarostami', 'craziness', 'factory', 'roots', 'purposefully', 'minimum', 'familial', 'truth', 'french-produced', 'cohesion', 'spies', 'friel', 'fixated', 'men', 'incessantly', 'desultory', 'koury', 'strangeness', 'non-mystery', 'snake', 'kahlo', 'avary', 'cockeyed', 'informed', 'improvement', 'joke', 'fairness', 'insipid', 'exudes', 'etc', 'format', 'grey', 'consequences', 'salt-of-the-earth', 'resumes', 'trembling', 'confuses', '&', 'artsploitation', 'parker', 'mora', 'brody', 'frankenstein-monster', 'unnecessary', 'gives', 'demand', 'flakiness', 'shearer', 'quirks', 'humans', 'noyce', 'strays', 'groaners', 'disadvantage', 'voyage', 'over', 'articulates', 'restage', 'master', 'welsh', 'establishing', 'stare', 'attempted', 'idiots', 'aranda', 'hopkins', 'ever-watchful', 'u.n.', 'news', 'birot', 'anti-war', 'lose', 'involve', 'septic', 'campanella', 'greed', 'wore', 'mateys', 'mind-numbingly', 'tough', 'uncompelling', 'filmgoing', 'henry', 'inferior', 'crawlies', 'rollicking', 'evolves', 'documented', 'pleasingly', 'nincompoop', 'earned', '15-year', 'fanatic', 'chills', 'redundancies', 'bruce', 'serve', 'vittorio', 'defend', 'raymond', 'malls', 'furiously', 'kidnappings', 'dover', 'spike', 'repetitively', 'wildest', 'social/economic/urban', 'maintaining', 'revisionist', 'tackled', 'self-absorbed', 'strongly', 'satisfy', 'gabbiest', '1/2', 'disappointing', 'work', 'fresh-faced', 'glamour', 'street-smart', 'drinker', 'rant', 'vacuum', 'distinctions', 'leaner', 'attached', 'headaches', 'slogans', 'unentertaining', 'irreparably', 'assaults', 'pandering', 'deeply', 'vin', 'muting', 'scooping', 'led', 'plumbs', 'poetry', 'espn', 'genial', 'ripening', 'freshly', 'consists', 'gaping', 'dawdle', 'adhere', 'bowl', 'carrier', 'diaz', 'ineptly', 'groups', 'biting', 'much-needed', 'pageants', 'shaped', 'pokes', 'klein', 'off-puttingly', 'privileged', 'farewell-to-innocence', 'demonstrated', 'issues', 'treacly', 'machismo', 'bolster', 'legendary', 'charred', 'gibberish', 'satisfied', 'owe', 'defiant', 'coburn', 'job', 'breathtaking', 'capitalize', 'erotically', 'pyschological', 'bumbling', 'dishes', 'drives', 'nubile', 'opinion', 'small', 'dehumanizing', 'ineptitude', 'humbuggery', 'stupidity', 'amounts', 'ceremonies', 'weaknesses', 'friendship', 'competently', 'pony', 'sharply', 'recognize', 'scripting', 'm', 'pseudo-rock-video', 'members', 'theatrics', 'tragically', 'everett', 'astronaut', 'mimetic', 'ia', 'reminded', 'ignites', 'played-out', 'ought', 'made-for-movie', 'popcorn', 'hardware', 'buff', 'got', 'held', 'surroundings', 'original', 'twinkly-eyed', 'lopez', 'condescension', 'dead', 'inappropriate', 'hit-hungry', 'direct-to-video/dvd', 'accused', 'chuckles', 'well-crafted', 'yellow', 'christelle', 'inter-family', 'every-joke-has', 'materalism', 'stands', 'completists', 'jolts', 'agent', 'bucked', 'sensual', 'bluff', 'monument', 'efficient', 'sustains', '(', 'dolls', 'inauthentic', 'imitative', 'lathan', 'builds', 'possibility', 'sun-drenched', 'answers', 'ransacked', 'self-caricature', 'commercials', 'wounding', 'water-camera', '3-d', 'unlike', 'suited', 'single-handed', 'antwone', 'vastly', 'percussion', 'emotionally', 'enlightenment', 'audiard', 'charlotte', '9', 'far', 'status', 'spectacular', 'danish', 'smack', 'fu', 'hits', 'figure', 'conveying', 'airless', 'wildlife', 'milked', 'double-cross', 'incident', 'languishing', 'tv-insider', 'schaefer', 'considering', 'drung', 'cattle', 'tits', 'in-jokes', 'zealand', 'profiling', 'diplomacy', 'jokers', 'unimpeachable', 'massive', 'contained', 'stamp', 'box-office', 'punch', 'fontaine', 'code', 'scarcely', '8', 'splatterfests', 'random', 'negativity', 'veggietales', 'origins', 'affair', 'holly', 'genre-busting', 'altar', 'jealous', 'enduring', 'red', 'lugosi', 'flash', 'cake', 'gadgets', 'featured', 'clarke-williams', 'unapologetically', 'kubrick', 'rumblings', 'sit', 'estranged', 'romething', 'cox', 'surrenders', 'disoriented', 'marvelous', 'reagan', 'blacklight', 'fits', 'responsibility', 'pre-9', 'soporific', 'sean', '4w', 'stage', 'judge', 'attending', 'retold', 'fabulousness', 'garcia', 'cogent', 'progressed', 'concerns', 'county', 'psychological', 'trademark', 'philosophers', 'unsurprisingly', 'runs', 'directions', 'dread', 'characters', 'souvlaki', 'ears', 'weary', 'collaborators', 'acquainted', 'nicks', 'bravery', 'jane', 'munch', 'stellar', 'may', 'list', 'battle', 'reverse', 'eddie', 'snl', 'unresolved', 'emerges', 'arnold', 'such', 'historical', 'damon/bourne', 'polemical', 'codswallop', 'projects', 'top-notch', 'formalism', 'depravity', 'specifics', 'silly-looking', 'crossroads', 'doubts', 'skip', 'debate', 'pressure', 'drang', 'spouting', 'bleak', 'gets', 'phocion', 'distorts', 'laugh', 'ving', 'sensibility', 'alienated', 'wanderers', 'scan', 'undertaken', 'miserably', 'helps', 'staggeringly', 'ridiculousness', 'elicited', 'forster', 'ably', 'even', 'intensely', 'protestors', 'café', 'vibrantly', 'queens', 'beginning', 'holiday', 'innovative', 'interior', 'beautiful', 'disposible', 'hmmm', 'sytle', 'muccino', 'something', 'esteemed', 'reel/real', 'green', 'credible', 'scary', 'closing', 'sustain', 'influence', 'implied', 'tissue-thin', 'kalvert', 'move', 'cynical', 'demonstration', 'consolation', 'plea', 'family-friendly', 'cyndi', 'forms', 'never', 'pedro', 'disregard', 'raindrop', 'blair', 'must', 'underestimated', 'humiliated', 'relationship', 'sleepwalk', 'visceral', 'amateur', 'on-screen', 'harvey', 'resurrection', 'rigged', 'rises', 'assumption', 'hop', 'claws', 'in-depth', 'crowd-pleasing', 'parris', 'kid-vid', 'lodge', '96', 'rhames', 'ledger', 'table', 'money', 'entirely', 'dues', 'behold', 'driver-esque', 'summer-camp', 'right', 'think', 'thrusts', 'entertained', 'gusto', 'wow', 'bettany', 'spookiness', 'trombone', 'car-wreck', '10,000', 'highest', 'crucial', 'importance', 'flag', 'connect-the-dots', 'mechanics', 'howard', 'swinging', 'escaped', 'exception', 'curve', 'ladles', 'exchange', 'droll', 'twelve', 'columbia', 'tongue-tied', 'artistic', 'turks', 'consume', 'cocktail', 'grabs', 'gloss', 'mire', 'debated', 'thin', 'precocious', 'redundant', 'fastballs', 'treacle', 'herself', 'frat-boy', 'ransom', 'showtime', 'indefinitely', 'fluff', 'amoral', 'porridge', 'extremely', 'muddle', 'disposable', 'when', 'animals', 'parents', 'wasting', 'joan', 'context', 'laboratory', 'hatfield', 'developmentally', 'abroad', 'departs', 'arc', 'shindler', 'puppets', 'nurtures', 'michael', 'mcdormand', 'bugsy', 'warfare', 'hardhearted', 'testud', 'helga', 'hanks', 'satisfactorily', 'toy', 'upscale', 'nohe', 'preciousness', 'not-so-bright', 'stimulating', 'ballet', 'slip', 'playboy', 'cuter', 'liman', 'elvira', 'reek', 'knock', 'sorely', 'paints', 'beer', 'ex-girlfriend', 'carrying', 'villains', 'exhaustion', 'calculated', 'goals', 'remaining', 'subtlety', 'backstage', 'glorified', 'if', 'unambitious', 'prepackaged', 'cinderella', 'dope', 'non-techies', 'unreligious', 'samurai', 'artless', 'beat-the-clock', 'burger', 'channeling', 'becker', 'randomness', 'filmmakers', 'screenwriter', 'dispatching', 'satire', 'received', 'romanticized', 'jesus', 'grunge-pirate', 'infectious', 'jeunet', 'cost', 'dialog', 'disturbance', 'hollywood-itis', 'minimalist', 'patriotic', 'three', 'shohei', 'gratefully', 'someone', 'dreamy', 'devastation', 'day-old', 'hatosy', 'debrauwer', 'smart-aleck', 'deal', 'standup', 'opposite', 'whimsicality', 'distant', 'gender-bending', 'marketable', 'treated', 'grayish', 'revives', 'yang', 'fluffy', '8-year-old', 'wartime', 'hustlers', 'artists', 'photography', '13', 'heidegger', 'conclusion', 'fairy-tale', 'joy', 'rouses', 'manhood', 'tearjerker', 'erupt', 'lover', 'lil', 'phantom', '75', 'gut-clutching', 'knows', 'wreck', 'shepard', 'nanette', 'kong', 'fleshed-out', 'luridly', 'one', 'mesmerised', 'rent', 'second-guess', 'several', 'subcultures', 'losing', 'clunker', 'contribute', 'sleazy', 'eye-catching', '?!?', 'dozing', 'serrault', 'jostling', 'ferocity', 'entered', 'leys', 'unintentional', 'verdu', 'kuras', 'rough-hewn', 'model', 'salvos', 'strategies', 'marveling', 'stretches', 'cleaver', 'surrounding', 'plenty', 'remembering', 'vat', 'bath', 'banger', 'druggy', 'jagjit', 'repartee', 'girls-behaving-badly', 'punctuated', 'yielded', 'underlines', 'breillat', 'ravel', 'self-determination', 'amish', 'ill-equipped', 'gutter', 'hope', 'freaking', 'specialized', 'visions', '1959', 'hold', 'detract', 'stoop', 'promise', 'nailbiter', 'realize', 'self-awareness', 'damsel', 'adaptation', 'brawn', 'beguiling', 'lecherous', 'tantamount', 'bleed', 'surplus', 'dungpile', 'rehearsals', 'plastic', 'garth', 'focused', 'lend', 'takes', 'mean', 'greatly', 'popular', 'indomitability', '1960', 'vaguely', 'pretends', 'williams', 'reached', 'results', 'happy', 'steadfast', 'drag', 'humorless', 'hug', 'binoche', 'infinite', 'underscoring', 'supple', 'admirably', 'cookie-cutter', 'plod', 'fraser', 'adopts', 'p', '1937', 'faster', 'lifetime', 'mattel', 'sledgehammer', 'face', 'escapades', 'incinerates', 'playwright', 'examples', 'hastily', 'rural', 'ackerman', 'romeo', 'provokes', 'okay', 'officer', 'angry', 'produced', 'george', 'iconography', 'haunted', 'ripping', 'blushing', 'bubbles', 'still-raw', 'tattered', 'doubtful', 'handle', 'send', 'grossest', 'surround', 'raises', 'unfakable', 'makhmalbaf', 'kouyate', 'undertones', 'lawmen', 'ballerina', 'blustery', 'iosseliani', 'lameness', 'superficial', 'sneers', 'tradition-bound', 'rueful', 'entree', 'topic', 'ozpetek', 'ignore', 'pompous', 're-working', 'assault', 'surreal', 'blimp', 'qualify', '2,500', 'stomp', 'want', 'vh1', 'analgesic', 'limps', 'slow-paced', 'horrible', 'congrats', 'clarity', 'affected', 'smirk', 'wondered', 'unfortunate', 'dissipated', 'spinning', 'monotone', 'cosa', 'addictive', 'pax', 'barf', 'instincts', 'honoring', 'elie', 'kubrick-meets-spielberg', 'whining', 'ethnic', 'previously', 'terri', 'fillers', 'kittenish', 'will', 'uh', 'twisting', 'crashing', 'writings', 'falls', 'hurley', 'arch', 'general', 'nights', 'hennings', 'fabian', 'sleekness', 'incisive', 'career-defining', 'short', 'neighborhood', 'quaint', 'acted', 'unexplored', 'tearing', 'mind-bender', 'relevance', 'defeated', 'philadelphia', 'unfolds', 'alienation', 'plumbing', 'messenger', 'binary', 'opening', 'unfurls', 'foreman', 'austin', 'crisper', 'hours', 'slender', 'rise', 'deranged', 'oddballs', 'guess', 'tried', 'intoxication', 'peaked', 'potty-mouthed', 'video-cam', 'limbs', 'embedded', 'old-school', 'casts', 'elicits', 'imposed', 'role', 'literally', 'life-changing', 'arthur', 'frolic', 'irony-free', 'cinematography', 'seduce', 'bed', 'precious', 'stalls', 'fused', 'rhythms', 'rooting', 'jesse', 'brilliant', 'dealing', 'swedish', 'brand', 'malaise', 'hoped', 'capra', 'unendurable', 'perfervid', 'asks', 'suckers', 'themselves', 'hard-edged', 'pondering', 'equation', 'psychodramatics', 'stallion', 'political', 'urbanity', 'appearing', 'hour', 'devoid', 'dominant', 'effectively', 'cheapen', 'undernourished', 'hermetic', 'automatic', 'preachy', 'heard', 'anymore', 'similarly', 'irrepressible', 'sheridan', 'debts', 'self-esteem', 'enterprise', 'hush', 'stacked', 'stupefying', 'cheapened', 'sturdiness', 'appear', 'share', 'unsettling', 'collaborative', 'compared', 'capricious', 'tarantino', 'notch', 'singer/composer', 'believing', 'thick', 'fudged', 'woo', 'particular', 'captivated', 'dungeons', 'first-rate', 'unabashed', 'rorschach', 'sprinkled', 'jangle', 'writers', 'remembrance', 'exploits', 's&m', 'tolerate', 'servicable', 'prospect', 'righteousness', 'weaves', 'comically', 'betters', 'drowsy', 'no-frills', 'presiding', 'bombards', 'steinis', 'laurence', 'wrote', 'execrable', 'advanced', 'achievement', 'bathroom', 'indecipherable', 'romanced', 'blessed', 'frustrations', 'screenings', 'mawkish', 'timely', 'straddles', 'exterior', 'approached', 'piercing', 'night', 'actress-producer', 'depleted', 'prejudices', 'slowed', 'render', 'african-american', 'intimate', 'no-surprise', 'dimwits', 'cross-country', 'powerhouse', 'grungy', 'nalin', 'rhino', 'temptation', 'video-shot', 'beseechingly', 'doo', ':', 'open-hearted', 'troopers', 'opting', 'mary-louise', 'valentine', 'gratitude', 'hardship', 'summertime', 'missive', 'krawczyk', 'sealed', 'restraint', 'yarns', 'ward', 'wittgenstein', 'acerbic', 'punch-drunk', 'ideally', 'chateau', 'location', ')', 'moved', 'underrehearsed', 'wisegirls', 'natalie', 'iwai', 'merited', 'eats', 'darling', 'tamer', 'stultifying', 'impressionistic', 'smoothly', 'psychotic', 'true-blue', 'marking', 'inc.', 'skateboarder', 'coda', 'unhappiness', 'checking', 'drop', 'turntablists', 'picaresque', 'holofcenter', 'leone', 'linking', 'leigh', 'in-your-face', 'stress-reducing', 'unimpressively', 'objects', 'deficit', 'price', 'satin', 'bullets', 'fairlane', 'dean', 'now', 'worm', 'triangles', 'chong', 'pit', 'hankies', 'boost', 'borscht', 'innocent', 'inhalant', 'robert', 'reason', 'topless', 'successor', 'touched', 'shiri', 'dumas', 'cumulative', 'anderson', 'accents', 'chuckling', 'stylistic', 'nice', 'awry', 'garner', 'attitudes', 'prints', 'french', 'steven', 'bawdy', 'cineasts', 'grenoble', 'dustbin', 'well-lensed', 'jammies', 'staring', 'super-simple', 'dreamscape', 'focuses', 'alone', '?', 'clownish', 'phonce', 'undermining', 'singer-turned', 'clerk', 'juiceless', 'hopelessly', 'bale', 'evasive', 'lip-reading', 'elevated', 'chasing', 'jacques', 'sun-splashed', 'differences', 'exercises', 'sassy', 'soul', 'necessary', 'recalling', 'hammy', 'oppressive', 'amassed', 'bedeviled', 'literary', 'fellow', 'rotoscope', 'climb', 'tales', 'high-spirited', 'colonialism', 'pays', 'indie-heads', 'castles', 'movie-making', 'edit', 'dragonfly', 'skewering', 'jacquot', 'effect', 'threatened', 'eccentricity', 'art', 'remain-nameless', 'tolerable-to-adults', 'dependence', 'feisty', 'schemes', 'dogged', 'inexpressive', 'overflows', 'turning', 'whole', 'howling', 'workmanlike', 'cloyingly', 'alert', 'fuses', 'prefeminist', 'engendering', 'ray', 'paranormal', 'clamorous', 'peppering', 'inner-city', 'literate', 'diapers', 'theories', 'gifted', 'vs.', 'difference', 'laden', 'atrociously', 'tropes', 'jazz', 'vowing', 'scrapbook', 'abstract', 'jokes', 'creators', 'symbols', 'remember', 'expertly', 'woefully', 'toes', 'squareness', 'interpretation', 'katherine', 'fusion', 'engross', 'junk', 'tweener', 'spangle', 'squabbling', 'exuberantly', 'accident', 'grabowsky', 'lashing', 'steaming', 'post', 'humane', 'snow', 'effortlessly', 'lacks', 'relegated', 'vibe', 'grand', 'position', 'hyper-realistic', 'contemptuous', 'non-britney', 'enhanced', 'insane', 'hawke', 'alterations', 'proven', 'chicago', 'sweat', 'alfred', 'gratify', 'crush', 'certified', 'injuries', 'odds', 'waif', 'foreground', 'korean', 'daringly', 'freezers', 'co-written', 'conceivable', 'destin', 'placing', 'filmgoers', 'unexamined', 'death', 'good-bad', 'neo-fascism', 'russian', 'pick', 'proved', 'complaints', 'corrupt', 'grief', 'digital-effects-heavy', 'audrey', 'bela', 'evident', 'someplace', 'set-up', 'kieslowski', 'point-to-point', 'abject', 'gaudy', 'p.o.v.', 'attention', 'club', 'flamboyant', 'apply', 'less', 'series', 'leaden', 'steamy', 'dozens', 'third', 'crystal', 'prosaic', 'unfunny', 'copies', 'enhance', 'cat', 'cassel', 'durable', 'selling', 'tough-man', 'obscenity', 'univac-like', 'seater', 'pro-serbian', 'ship', 'olympic', 'die-hard', 'zero-dimensional', 'crack', 'awe-inspiring', 'for', 'dualistic', 'clueless', 'robin', 'doshas', 'und', 'less-than-thrilling', 'or', 'stories', 'turgid', 'soars', 'scandals', 'fuelled', 'ballplayer', 'cliches', 'ramsay', 'importantly', 'scream', 'trot', 'superficiality', 'herzog', 'kang', 'self-expression', 'liar', 'northwest', 'eloquent', 'calling', 'methodically', 'throw', 'wry', 'fide', 'burlesque', 'sea', 'talancón', 'despairing', 'scar', 'chainsaw', 'pauline', 'lo', 'squirts', 'we', 'hilarious', 'decade', 'insufficiently', 'infuses', 'arctic', 'peek', 'curves', 'journalist', 'bug', 'wannabe', 'grit', 'screed', 'sibling', 'wars', 'fiendishly', 'theater', 'identity-seeking', 'slice', 'rote', 'loosely', 'elderly', 'coral', 'clancy', 'lurks', 'inescapable', 'problem', 'permitting', 'smokey', 'sickeningly', 'veteran', 'sub-par', 'teach', 'co-writers', 'youngsters', 'step-printing', 'gore', 'james', 'greaseballs', 'speak', 'suitable', 'traces', 'himself', 'patriot', 'length', 'denmark', 'prayer', 'reporting', 'circle', 'no-holds-barred', 'claim', 'unwatchable', 'gratingly', 'oft-brilliant', 'preoccupations', 'g.', 'monosyllabic', 'fried', 'spits', 'punchier', 'assume', 'holiday-season', 'message', 'understanding', 'challenging', 'blanks', 'prescription', 'vulnerability', 'endings', 'scares', 'just-above-average', 'nymphette', 'verismo', 'stark', 'sleep-inducing', 'porous', 'shot', 'face-to-face', 'tenacious', 'slackers', 'insights', 'discord', 'maladjusted', 'point-and-shoot', 'earthly', 'raucously', '1940s', 'purely', 'reshaping', 'tempting', '``', 'trudge', 'wobbly', 'expiration', 'consoled', 'forcefully', 'subculture', 'discovery', 'media-soaked', 'ignored', 'bickle', 'recognizable', 'tolerance', 'improvisation', 'underdog', 'baaaaaaaaad', 'sneak', 'shoe', 'physique', 'workshops', 'freely', 'strategy', 'shoot-outs', 'rendition', 'whom', 'frequent', 'blondes', 'chance', '2455', 'tonally', 'contender', 'wash.', 'doa', 'pity', 'reflected', 'drugs', 'distinguished', 'ingenue', 'enabling', 'harvesting', 'unparalleled', 'keg', 'reconceptualize', 'handily', 'widow', 'drumming', 'magnetic', 'secret', 'couples', 'r&d', 'revulsion', 'cute', 'artistes', 'wending', 'pratfalls', 'seen', 'neverland', 'intentions', 'heft', 'aplenty', 'chai', 'unacceptable', 'jennifer', 'moviemaking', 'dose', 'flinching', 'dumplings', 'freddy', 'cockney', 'ash', 'moronic', 'worldly-wise', 'proficient', 'hack', 'taymor', 'enthusiastically', 'undertone', 'adultery', 'darkness', 'marquis', 'victims', 'sober-minded', 'devastated', 'unwillingness', 'gunplay', 'back-stabbing', 'psychodrama', 'wastes', 'hagiographic', 'trace', 'infectiously', 'anchored', 'pleasuring', 'undemanding', 'white', 'pluto', 'prescribed', 'domineering', 'sugarman', 'fulfilling', 'vulgarity', 'melodrama', 'scoring', 'skims', 'revealing', 'vile', 'turns', 'hutchins', 'wins', 'setup', 'enthusiastic', 'misery', 'bicentennial', 'illogical', 'byatt', 'cliché-riddled', 'j.r.r.', 'argentinean', 'guillen', '90-minute', 'plausible', 'solemnity', 'recognized', 'caretakers', 'demented-funny', 'south', 'letterman', 'lyne', 'emperor', 'self-deprecating', 'urgently', 'cares', 'devote', 'of-a-sequel', 'deadeningly', 'tony', 'included', 'lady', 'subjugate', 'how', 'taut', 'rubbo', 'findings', 'money-grubbing', 'half-lit', 'rock', 'undercut', '1984', 'spins', 'playful', 'least', 'under', 'break', 'bombastic', 'flashbulb', 'exhibits', 'hélène', 'island', 'payback', 'tundra', 'seldhal', 'titus', 're-creations', 'regeneration', 'sexism', 'literarily', 'navigate', 'horrors', 'bunch', 'recompense', 'shadow', 'cops', 'crawls', 'exposes', 'editing', 'curtsy', 'true-to-life', 'francisco', 'light-years', 'screeching-metal', 'schlocky', 'outer', 'ghost', 'stuffing', 'event', 'attacks', 'boho', 'dumb', 'immigrant', 'blue', 'biographical', 'gay', 'agonizing', 'crummy-looking', 'appétit', 'describes', 'hobby', 'cq', 'cinematically', 'overload', 'thoughts', 'drew', 'dip', 'cribbing', 'wishful', 'committed', 'outlet', 'friday', 'tykwer', 'eschews', 'comic', 'growth', 'insufferably', 'ancient', 'americanized', 'depicted', 'basically', 'squeeze', 'desiccated', 'struck', 'rife', 'daytime', 'flavorless', 'moon', 'grinning', 'chaiken', 'labyrinthine', 'linger', 'equations', 'engaging', 'throes', 'signposts', 'tragedies', 'lame', 'rhapsodizes', 'finishing', 'foul-natured', 'bugged', 'redolent', 'middle-earth', 'wistful', 'boy', 'mannered', 'paramount', 'boston', 'cringe', 'fateful', 'mature', 'plotline', 'avon', 'flow', 'skill', 'hyped', 'u-boat', 'melville', 'lushness', 'forest', '3000', 'variation', 'viterelli', 'swipe', 'flies', 'expand', 'continuum', 'into', 'dancers', 'anti-feminist', 'enchanting', 'emerging', 'd', 'janice', 'wearing', 'booths', 'burst', 'poor', 'loves', 'after-school', 'jar', 'everyone', 'low-budget', 'groove', 'slow-moving', 'accepts', 'revolting', 'scariest', 'gripping', 'elegant', 'dreamlike', 'damned', 'cuba', 'sweet-tempered', 'hannibal', 'arrogant', 'communicating', 'supposedly', 'reliable', 'wind-in-the-hair', 'listen', 'opens', 'autocritique', 'diego', 'antidote', 'heaven', 'base', 'wonderful', 'bickering', 'betting', 'england', 'fascination', 'album', 'dv', 'computer-animated', 'garbage', 'rather', 'sensuous', 'distaste', 'addresses', 'lesson', 'nutty', 'stuff', 'martin', 'giving', 'athleticism', 'lectured', 'sc2', 'pronounced', 'humanize', 'tailor-made', 'bag', 'derring-do', 'mikes', 'giler', 'blush', 'patting', 'one-sided', 'profits', 'national', 'ah-nuld', 'harmless', 'songbird', 'generic', 'crackle', 'slim', 'boyz', 'aged', 'disappointed', 'paper', 'vibrant', 'evolved', 'encyclopedia', 'self-hatred', 'english-language', 'your', 'irrevocable', 'comfortably', 'zealously', 'audacious', 'again', 'cleaving', 'kid', 'rubbish', 'charting', 'skillfully', 'in-between', 'beyond-lame', 'dilemma', 'consistent', 'blossom', 'barn-side', 'powers', 'conscious', 'look', 'bludgeoning', 'prowess', 'paint', 'complaining', 'synagogue', 'passages', 'flinging', 'funky', 'defines', 'embarrassed', 'flinch', 'compassion', 'gurus', 'torture', 'compensate', 'imposter', 'prognosis', 'blanchett', 'addiction', 'highs', 'gimmicky', 'choppiness', 'unmentionable', 'strangely', 'existing', 'botching', 'gum', 'marveilleux', 'irish', 'scandal', 'opaque', 'vega', 'hearst', 'pun', 'capably', 'lectures', 'self-assured', 'temporal', 'macho', 'doings', 'germany', 'skirts', 'theaters', 'ingredients', 'added', 'allusions', 'have', 'sofia', 'scenarios', 'yong', 'hardy', 'cyber', 'forget', 'found', 'illusion', 'kaufman', '88', 'century', 'derailed', 'culture', 'quietude', 'prevention', 'tea', 'boys', 'ditty', 'targeted', 'bogdanich', 'oscar-sweeping', 'character-driven', 'denied', 'forewarned', 'generates', 'superior', 'barn-burningly', 'school', 'congeniality', 'completely', 'bronze', 'bolstered', 'demons', 'clichés', 'predecessor', 'bedevilling', 'aim', 'blasting', 'ally', 'lethargic', 'liberalism', 'odd', 'gantz', 'livelier', 'by-the-book', 'counter', 'odoriferous', 'notations', 'denlopp', 'holland', 'overwhelms', 'graze', 'robinson', 'geared', 'ecstasy', 'city', 'finesse', 'ghastly', 'wail', '1989', 'hopes', 'respectively', 'vibrance', 'sandra', 'principled', 'squander', 'excepting', 'vistas', 'toilet', '1999', 'made', 'sordid', 'writing', 'smooth', 'self-righteous', 'convention', '/', 'ford', 'well-behaved', 'stimulus', 'slaloming', 'inextricably', 'country', 'yawning', 'mock', 'maggio', 'narrated', 'lingered', 'marivaux', 'die', 'sample', 'establishes', 'claire', 'survivors', 'bores', 'seizing', 'coming', 'louiso', 'hiss', 'horton', 'hierarchy', 'tone', 'camerawork', 'whence', 'certain', 'stickiness', 'convenience', 'addressing', 'pipeline', 'koepp', 'metro', 'showcase', 'imogen', 'singer', 'befuddled', 'anne', 'colorfully', 'split', 'essayist', 'bug-eyed', 'agreed', 'helmer', 'reward', 'kaos', 'fest', 'better-focused', 'fiercely', 'obnoxiously', 'amicable', 'com', 'stagings', 'challenges', 'rom', 'uplifting', 'rape', 'really', 'misfiring', 'factors', 'world-renowned', 'theatrical', 'gheorghiu', 'forages', 'pokémon', 'bedroom', 'massoud', '1930s', 'option', 'allowed', 'dissecting', 'drinking', 'snide', 'fantasia', 'passe', 'barrel', 'heartbreaking', 'appetizer', 'valiantly', 'non-narrative', 'tons', 'prefabricated', 'all-night', 'scarface', 'assimilated', 'lensing', 'teetering', 'allowing', 'spiffy', 'meets', 'avoids', 'painfully', 'wear', 'surrealistic', 'pointless', 'imagined', 'clare', 'updatings', 'wayne', 'ii-birkenau', 'filled', 'guardian', 'terrific', 'intrigued', 'fingers', 'huggers', 'stay', 'insufferable', 'assembly', 'dimensional', 'unbearable', 'unforgivingly', 'critical', 'hourlong', 'histrionics', 'low-tech', 'ran', '127', 'tunney', 'amorality', 'lovable-loser', 'central', 'agape', 'nazi', 'affectation', 'vagueness', 'judging', 'nicole', 'snail-like', 'waiting', 'admission', 'ego', 'alien', 'letdown', 'trimmed', 'elves', 'watching', 'tucked', 'blurry', 'root', 'infirmity', 'nanook', 'bewilderingly', 'submerging', 'recognizes', 'lionize', 'degraded', 'pessimistic', 'tartly', 'bordering', 'aragorn', 'misfortune', 'pornographic', 'johnnie', 'genial-rogue', 'behalf', 'inclination', 'expects', 'excuse', 'happen', 'impressions', 'newfangled', 'mention', 'larson', 'call', 'overwrought', 'painting', 'moviegoers', 'attractive', 'mermaid', 'floating', 'intelligently', 'wednesday', 't', 'fiennes', 'nosedive', 'downplaying', 'strutting', 'resuscitate', 'mini', 'high-octane', 'strains', 'types', 'under-7', 'flabbergasting', 'u.s.', 'hip', 'filter', 'drive-by', 'pillages', 'textbook', '2002', 'fire-breathing', 'droning', 'corners', 'envelops', 'ayatollah', 'insightful', 'heavy', 'skillful', 'consuming', 'quickie', 'mandy', '1972', 'halos', 'jackal', 'polson', 'trapped', 'ideas', 'automatically', 'lethargically', 'but', 'horizons', 'trimming', 'all-inclusive', 'strike', 'inventive', 'antsy', 'seesawing', 'explanation', 'desirable', 'nesbitt', 'gloom', 'frightening', 'cobbled', 'ace', 'scorsese', 'rules', 'rumor', 'gaghan', 'feardotcom', 'rosa', 'portray', 'earn', 'egoyan', 'downfall', 'flaws', 'icy', 'recall', 'curse', 'deploys', 'pretence', 'stick', 'dog-paddle', 'embellished', 'from', 'ministers', 'service', 'happenstance', 'heidi', 'households', 'bender', 'inventiveness', 'schlock', 'schoolgirl', 'see', 'novak', 'affectionate', 'presented', 'theatre', 'anchoring', 'exhibitionism', 'name-calling', 'verdict', 'reynolds', 'relative', 'cheapo', 'featuring', 'helms', 'tiniest', 'blight', 'unflappable', 'paralyzed', 'pad', 'vivacious', 'rapt', 'office', 'frank', 'greenfingers', 'roy', 'makin', 'shag', 'anti-virus', 'distractions', 'archibald', 'misty-eyed', 'host', 'sense-spinning', 'pageant', 'gaiety', 'modestly', 'setpieces', 'team', 'cliché-laden', 'pact', 'good-naturedness', 'party', 'interested', 'orleans', 'earnest', 'idiom', 'families', 'ferrera', 'energizing', 'onion', 'trials', 'urine', 'europe', 'boardwalk', 'lasting', 'duking', 'outdated', 'creations', 'patient', 'rough-around-the-edges', 'usurp', 'marvel', 'shafer', 'reputedly', 'vignettes', 'somewhere', \"'\", 'disaffected-indie-film', 'i.e.', 'austrian', 'strings', 'eloquence', 'opera-ish', 'laughed', 'mechanical', 'preceded', 'rumination', 'organic', 'conspiracies', 'p.c.', 'swaying', 'acute', 'celluloid', 'picnic', 'pre', 'naturally', 'ill-timed', 'jessica', 'canny', 'holmes', 'lump', 'rockumentary', 'rare', 'amuse', 'unorthodox', '1995', 'tidal', 'bikes', 'shots', 'arrogance', 'environs', 'deleting', 'downbeat', 'transcendence', 'k', 'early', 'rodrigues', 'spooky', 'iranian-american', 'angle', 'pop-influenced', 'uncommitted', 'bears', 'conceits', 'man', 'whatever', 'tunes', 'nebrida', 'fencing', 'wilson', 'tops', 'sniffle', 'upheaval', 'coriat', 'third-person', 'branagh', 'pastel', 'pabulum', 'lately', 'voices-from-the-other-side', 'undeserved', 'pre-wwii', 'bothers', 'drastic', 'starring', 'actor', 'moviegoer', 'do', 'questions', 'connect', 'case', 'slob', 'scheming', 'impression', 'emergency', 'psychedelic', 'undeterminable', 'intern', 'disservice', 'doctorate', 'butter', 'acidity', 'adam', 'preteen', 'comedy/drama', 'warm', 'remain', 'testimony', 'open-minded', 'videodrome', 'nuclear', 'clocks', 'all-woman', 'unbridled', 'videologue', 'straight-faced', 'disagree', 'lock', 'best-sustained', 'extra', 'ghetto', 'knickknacks', 'brims', 'teen-sleaze', 'bare-bones', 'olivier', 'ballroom', 'poignant', 'whoop', 'bloodwork', 'soccer', 'free-wheeling', \"n't\", 'indie', 'giggly', 'experiences', 'skyscraper-trapeze', 'inspirational', 'cutting-edge', 'sung', 'uninspired', 'protective', 'achingly', 'dragon', 'not-at-all-good', 'spirited', 'nerve-rattling', 'co-wrote', 'transfigures', 'refuse', 'reductive', 'questionable', 'myrtle', 'unstable', 'streetwise', 'bigger', 'zhao', 'spiderman', 'limb', 'imaginary', 'mastering', 'simpson', 'stunning', 'segal', 'charged', 'bands', 'establishment', 'watstein', 'vices', 'dire', 'card', 'stewart', 'ideology', 'gidget', 'jaded', 'anti-semitism', 'shimmeringly', 'black', 'privy', 'topics', 'thinkers', 'even-toned', 'bon', 'movie-goers', 'sky', 'patchy', 'bmx', 'eternally', 'susceptible', 'account', 'incorporate', 'excites', 'jovial', 'audience-pleaser', 'technically', 'adventure', 'deadpan', 'sequel-for-the-sake', 'fourth', 'creepy-crawly', 'paved', 'trail', 'busts', 'threefold', 'incapable', 'manners', 'paul', 'switch', 'shameless', 'slave', 'replace', 'neo-nazism', 'vacuous', 'hibiscus', 'wanders', 'celebrated', 'blaxploitation', 'spindly', 'dictates', 'fifties', 'good', 'trilogy', 'careful', 'shrieky', 'naomi', 'phonograph', 'veracity', 'flower-power', 'secretly', 'listening', 'scientists', 'stronger', 'somebodies', 'spaniel-eyed', 'leaps', 'arithmetic', 'jerusalem', 'hilary', 'bite', 'blips', 'consistency', 'hospital', 'devolves', 'crushing', 'brutality', 'tiresomely', 'australian', 'anarchists', 'buddy', 'scene-chewing', 'critique', 'rat-a-tat', 'harm', 'bitten', 'craven', 'dark-as-pitch', 'resemble', 'crudely', 'wrath', 'thoughtfulness', 'monster', 'claustrophic', 'laced', 'schmucks', 'resolution', 'efteriades', 'captures', 'espoused', 'behind-the-scenes', 'existent', 'euphemism', 'varying', 'screenful', 'cavorting', 'saving', 'binks', 'sci', 'machinations', 'analyze', 'dana', 'empty', 'anyplace', 'truthful', 'jungle', 'confession', 'shedding', 'assembled', 'romanek', 'regard', 'conspicuously', 'pleased', 'teens', 'cynic', 'killing', 'follows', 'phillip', 'scope', 'restroom', 'injustice', 'inexpressible', 'states', 'poster-boy', 'spawned', 'symbolism', 'picture-perfect', 'kept', '1987', 'construction', 'girl', 'blond', 'preaching', 'adoring', 'pandora', 'areas', 'pile-ups', 'respects', 'crazier', 'exasperated', 'solondz', 'brosnan', 'self-sacrifice', 'aptitude', 'fierce', 'jonathan', 'condensed', 'paid', 'pompeo', 'antonio', 'likely', 'socially', 'festers', 'underdogs', 'stop', 'clinch', 'headbanger', 'curious', 'emergence', 'monotony', 'storyline', 'bitter', 'sonny', 'self-defeatingly', 'communicates', 'neglecting', 'warmth', 'fringes', 'disassociation', 'bang', 'member', 'loads', 'luster', 'largely', 'miracle', 'sublime', 'workshop', 'sunday', 'strange', 'everywhere', 'luke', 'beard', 'actuary', 'prove', 'navel', 'with', 'ark', 'compassionately', 'wood', 'empathizes', 'flashback', 'residents', 'directly', 'fresh', 'cleaner', '1975', 'implies', 'awful', 'moral-condundrum', 'logic', 'distinguishable', 'five', 'quasi-improvised', 'deals', 'claw', 'unreachable', 'sillified', 'ongoing', 'enter', 'goombah', 'roach', 'sense-of-humour', 'scare', 'iranian', 'characteristically', 'baseball', 'day', 'attuned', 'suey', 'prim', 'mushy', 'irreconcilable', 'snobbery', 'lots', 'bygone', 'carousel', 'urbane', 'clips', 'saddle', 'swingers', 'explains', 'elysian', 'unique', 'beacon', 'block', 'moore', 'talks', 'stirs', 'executed', 'interlocked', 'devastatingly', 'self-examination', 'extrusion', 'heights', 'propensity', 'contemporaries', 'recorded', 'smell', 'cooly', 'horrendously', '6-year-old', 'foot', 'symbiotic', 'taking', 'delivered', 'bearing', 'delight', 'urban', 'mapquest', 'able', 'gain', 'leblanc', 'venture', 'two-day', 'scientific', 'margins', 'action/thriller', 'tricks', 'brilliantly', 'kilted', 'skullduggery', 'understated', 'ernest', 'inventing', 'someday', 'top', 'bourgeois', 'purists', 'rated', 'acting-workshop', 'bartleby', 'invites', 'overshadows', 'relatively', 'el', 'dead-on', 'longing', 'sommers', 'boat', 'creator', 'freshman', 'flair', '3d', 'diamond', 'ultra-violent', 'trek', 'palm', 'muddy', 'quick', 'mistaken-identity', 'thereafter', 're-fried', 'unusual', 'package', 'virulent', 'speed', 'doubt', 'breach', 'linear', 'effecting', 'sheets', 'hookers', 'thirteen-year-old', 'promising', 'slight', 'fabulously', 'immediate', 'governments', 'interrogation', 'graces', 'curiosity', 'sincere', 'practice', 'handiwork', 'maintain', 'modern-day', 'reductions', 'studiously', 'love-hate', 'chemistry', 'brooms', 'serviceability', 'well-put-together', 'meanspirited', 'motown', 'melancholy', 'melange', 'corpus', 'between', 'fence', '10th', 'emotions', 'irresponsible', 'depressingly', 'jia', 'darkly', 'weighs', 'mess', 'post-september', 'small-scale', 'kills', 'survival', 'accurate', 'self-promotion', 'unsuccessfully', 'succeed', 'incoherent', 'stevenon', 'norwegian', 'street', 'barry', 'cello', 'hidden', 'bad-movie', 'stylist', 'much', 'shrill', 'description', 'tuxedo', 'dry-eyed', 'off-kilter', 'york', 'davies', 'preserving', 'hopeless', 'comfort', 'excellence', 'giggling', 'crushed', 'prose', 'opportunism', 'stages', 'streamlined', 'felinni', 'relentlessly', 'ardent', 'miraculous', 'arts', 'wai', 'i-heard-a-joke', 'putrid', 'bliss', 'straightforward', 'daily', 'grizzled', 'title-bout', 'ryan', 'neo-augustinian', 'philosophical', 'comprehend', '95-minute', 'analysis', 'hart', 'crumb', 'frontman', 'creates', 'struggled', 'encountering', 'equilibrium', 'grandly', '105', 'amidst', 'gods', 'adjusting', 'inviting', 'reconciliation', 'unscathed', 'sweetheart', 'award', 'college-spawned', 'finished', 'full-bodied', 'triumphs', 'sandlerian', 'smackdown', 'ayurveda', 'sincerity', 'parapsychological', 'toughest', 'brink', 'story', 'exploit', 'layered', 'wo', 'amount', 'seemingly', 'steers', 'incognito', 'meanest', 'eye-boggling', 'plumbed', 'tnt', 'porn', 'existed', 'drug', 'today', 'attentive', 'mores', 'hurt', 'softheaded', 'dunst', 'teeth-gnashing', 'are', 'aliens', 'limited', '1970', 'dashing', 'enacted', 'cheeky', 'riding', 'patent', 'shock', 'familiar', 'comedies', 'incessant', 'hymn', 'decency', 'cinematographer', 'demonic', 'gift', 'rewarded', 'new-agey', 'co', 'needs', 'not', 'minute', 'ong', 'disgust', ',', 'impress', 'obviously', 'journey', 'smutty', 'cal', 'tomfoolery', 'vulakoro', 'gary', 'spot', 'spry', 'self-knowledge', 'sergio', 'remove', 'swashbucklers', 'bloodshed', 'shining', 'prolonged', 'girl-meets-girl', 'conclusive', 'promisingly', 'hole', 'iced', 'fist', 'uncool', '89', 'tragic', 'complicate', 'laws', 'heartbreak', 'aimless', 'adolescents', 'burdened', 'overexposed', 'p.t.', 'amalgam', 'troubled', 'clarissa', 'teacher', 'single-minded', 'examines', '3/4th', 'shortness', 'him', 'cricket', 'slick', 'blended', 'paulette', 'collage', 'randall', 'freak-outs', 'travail', 'equal', 'editorial', 'paris', '2001', 'subconscious', 'serbs', 'sadistic', 'garage', 'musketeer', 'tarantula', 'four-year-old', 'named', 'ferrara', 'award-winning', 'mein', 'harder', 'camps', 'production', 'frothing', 'edifying', 'barrow', 'glover', 'porno', 'extremities', 'horrid', 'life-embracing', 'oh-so-hollywood', 'generation', 'gosford', 'misconstrued', 'kingdom', 'innuendo', '1960s', 'self-hating', 'famuyiwa', 'brushes', 'shallow', 'disneyland', 'day-to-day', 'in-jokey', 'giants', 'teddy', 'welty', 'smaller', 'the-cash', 'empowerment', 'kline', 'isolation', 'intense', 'evelyn', 'talky', 'majority', 'feeds', 'trains', 'annoyed', 'suspended', 'wonton', 'onto', 'stein', 'plunging', 'aesthetic', 'n', 'one-night', 'uncomfortable', 'convinced', 'tarzan', 'adds', 'front', 'romp', 'catapulting', 'sandwich', 'narc', 'those', 'non-stop', 'ordinary', 'portrayed', '1950', 'necessarily', 'monte', 'san', 'derisions', 'locusts', 'ireland', 'jolt', 'examine', 'sooner', '10th-grade', 'caruso', 'freak-out', 'cringing', 'square', 'polished', 'sanity', 'inept', 'photos', 'fumes', 'backmasking', 'layer', 'notorious', 'exploiting', 'pow', 'teenybopper', 'jell', 'would-be', 'joffé', 'pileup', 'dead-eye', 'orthodox', 'lesser', 'pregnant', 'wrestler', 'tabloid', 'mythologizing', 'values', 'athletes', 'snore', 'resourceful', 'headed', 'mankind', 'takashi', 'midnight', 'carmichael', 'wide', 'bruckheimeresque', 'specificity', 'grinds', 'dead-undead', 'productions', 'chomp', 'world', 'try', 'brush', 'ghoulish', 'styles', 'apex', 'designed', 'sports-movie', 'lust', 'annoying', 'mopping', 'waster', 'marred', 'first', 'g-rated', 'wall', 'doyle', 'terminally', 'brow', 'sexpot', 'underutilized', 'pulpiness', 'giannini', 'action', 'prep-school', 'ducts', 'knee-jerk', 'off-center', 'african', 'jeong-hyang', 'obsessions', 'faceless', 'double-barreled', 'uglier', 'invention', 'mired', 'i.q.', 'elling', 'nursery', 'homes', 'chin', 'deconstruction', 'blazingly', 'orders', 'definitions', 'unadorned', 'lying', 'babysitter', 'overburdened', 'eastwood', 'brain', 'big', 'indispensable', 'lascivious-minded', 'witless', 'impostor', 'leafing', 'notice', 'stroked', 'routine', 'conduct', 'repeating', 'theological', 'self-pitying', 'expected', 'roman', 'digs', 'against', 'pies', 'seamy', 'dynamics', 'scripted', 'flowers', 'economical', 'stars', 'personally', \"'s\", 'leaves', 'encompasses', 'conservative', '65-minute', 'kiddie', 'anguish', 'motivation', 'tacky', 'mobility', 'brown', 'approach', 'transcends', 'trust', 'rise-and-fall', 'unrealized', 'extraordinary', 'patch', 'execution', 'plus', 'tv-cops', 'rogue', 'unseen', 'join', 'chokes', 'retelling', 'short-story', 'amélie', 'masquerade', 'reportedly', 'garnered', 'all-star', 'gibson', 'immune', 'amaro', 'media', 'subsided', 'paula', 'insight', 'actresses', 'steinberg', 'misunderstanding', 'dared', 'remade', 'register', 'uselessly', 'appropriately', 'moment', 'catch-22', 'conduits', 'ho-tep', 'hear', 'snipes', 'playwriting', 'ganesh', 'glaring', 'romantic', 'west', 'unsuspecting', 'overplayed', 'untrained', 'his', 'constructs', 'niro', 'fledgling', 'ponder', 'blueprint', '12th', 'portraits', 'decter', 'radiant', 'absurd', 'zishe', 'wilco', 'withered', 'blame', 'patrolmen', 'doomed', 'loaf', 'scrap', 'done-to-death', 'mud', 'penance', 'belittle', 'laughably', 'wyman', 'fellowship', 'spookily', 'goodies', 'infantile', 'foster', 'closed', 'limpid', 'hokum', 'problems', 'semi-surrealist', 'tense', 'followers', 'laziest', 'situations', 'web', 'pairing', 'badly-rendered', 'volatile', 'musty', 'buttons', 'thoughtless', 'projector', 'glib', 'adequate', 'exceedingly', 'player', 'body', 'mother-daughter', 'departure', 'dudsville', 'fairy', 'disdain', 'hair', 'alternatives', 'beast', 'nose', 'ardently', 'hairs', 'gushing', 'preposterous', 'extra-dry', 'anyone', 'tool', 'until', 'regimen', 'nuanced', 'particularly', 'products', 'siblings', 'chabrol', 'raimi', 'straight-shooting', 'balk', 'till', 'stanley', 'rodriguez', 'technologies', 'collect', 'triteness', 'patric', 'nomination', 'label', 'levels', 'dreck', 'glumly', 'fluke', 'bull', 'wounded', 'rhythm', 'chekhov', 'clutch', '1899', '10-year', 'boils', 'spirits', 'einstein', 'eclipses', 'talkers', 'overwhelmingly', 'stifles', 'flavor', 'test', 'desired', 'devito', 'merely', 'strained', 'fizzle', 'jeopardy', 'musicals', 'bone-chilling', 'ram', 'idol', '88-minute', 'characterizations', 'league', 'stonehenge', 'portrayal', 'ruthlessly', 'sardonic', 'unsubtle', 'clooney', 'hanky-panky', 'there', 'cons', 'positively', 'sixties', 'woe', 'worth', 'acres', 'energy', 'toolbags', 'diaries', 'director', 'lighter', 'kindred', 'gang-raped', 'sputters', 'shop', 'splendid', 'misses', 'civil', 'melodramas', 'lapping', 'scenario', 'skeptics', 'elegantly', 'catholic', 'tear-drenched', 'converted', 'decades-spanning', 'larded', 'screams', 'likeable', 'captors', 'ardor', 'tribute', 'lamentations', 'everlyn', 'heated', 'arresting', 'heritage', 'anton', 'squirm-inducing', 'intellect', \"'n'\", 'ballerinas', 'columbine', 'daughter', 'figuring', 'noteworthy', 'fantasy', 'beware', 'dey', 'reinvigorated', 'elusive', 'flicks', 'calvin', 'sitting', 'cage', 'manically', 'temple', 'arliss', 'stoked', 'servants', 'train', 'meow', 'diane', 'drowning', 'jolie', 'their', 'cameras', 'meditation', 'drumbeat', 'post-war', 'personal', 'kenneth', 'conceited', 'rip-roaring', 'killer', 'mibii', 'loss', 'otto-sallies', 'ploddingly', 'needed', 'none', 'wizened', 'murk', 'mall', 'guy', 'smash', 'hipness', 'aimlessly', 'reverence', 'roughshod', 'utter', 'peels', 'frightfest', 'dismiss', 'ingeniously', 'decisive', 'object', 'uncluttered', 'vidgame', 'pastiche', 'extravaganza', 'homework', 'hotel', 'unassuming', 'ills', 'pathos', 'axel', 'aggrieved', 'stylists', 'misplaced', 'menu', 'seeking', 'interference', 'third-rate', 'al', 'units', 'thank', 'went', 'revel', 'malleable', 'twilight', 'traffics', 'splendidly', 'signing', 'does', 'lead', 'pseudo-serious', 'rebellion', 'neighbor', 'preview', 'captivates', 'unwary', 'personified', 'preposterousness', 'idea', 'stockings', 'snickers', 'fascinating', 'collaboration', 'libertine', 'familiarity', 'forgets', 'goodall', 'papin', 'flashy', 'stale', 'guys', 'rail', 'tyco', 'profundities', 'concern', 'advert', 'simmer', 'interplay', 'define', 'von', 'survives', 'peerlessly', 'action-thriller/dark', 'arrives', 'forgettable', 'resistance', 'brand-new', 'inquiry', 'tiny', 'bod', 'ops', 'decisively', 'and-miss', 'ki-deok', 'william', 'tear', 'occasional', 'light-hearted', 'provided', 'promenade', 'optic', 'piano', 'progresses', 'embracing', 'erotic', 'endangered', 'slumming', 'facts', 'substances', 'almodovar', 'specifically', 'armed', 'probably', 'professors', 'nominated', 'reminiscent', 'major-league', 'murderous', 'report', 'scuttled', 'lamer', 'lower-wit', 'fidgeted', 'lilia', 'hickenlooper', 'epps', 'sequel', 'memoir', 'suspend', 'perfected', 'bonding', 'anticipation', 'waldo', 'anticipated', 'blown', 'rinzler', 'lagging', 'father-and-son', 'cheeks', 'hangover', 'circa', 'overbearing', 'marginal', 'grip', 'indescribably', 'arthouse', 'cold-blooded', '1920', 'instilled', 'infused', 'treasured', 'colleagues', 'prime', 'packages', 'fruit', 'knitting', 'son', 'fiction', 'asphalt', 'slasher', 'phoenix', 'sneeze', 'exposition', 'subtexts', '50s', 'juliet/west', 'cedar', 'flaccid', 'sufficiently', 'specimen', 'thrill', 'pulchritude', 'encourage', 'ridley', 'hamming', 'detective', 'moviegoing', 'boozy', 'manifesto', 'antagonism', 'well-done', 'telegrams', 'ask', 'exactly', 'epitaph', 'shatters', 'borrow', 'spliced', '1993', 'am', 'derek', 'intacto', 'developed', 'working', 'banal', 'scenery', 'written', 'playstation', 'irwin', 'theorizing', 'payoff', 'exuberance', 'tumult', 'timeless', 'dares', 'baby-faced', 'suffered', 'irksome', 'self-glorified', 'steamboat', 'monsters', 'dedication', 'immense', 'total', 'distracted', 'wounds', 'sayles', 'ken', 'disconnects', 'goodfellas', 'gilliam', 'melds', 'triviality', 'no-brainer', 'refuses', 'deep-seated', 'kudos', 'complicated', 'say', 'good-looking', 'beckons', 'capitalism', 'christmas', 'siegel', 'unprovoked', 'discloses', 'discussed', 'breitbart', 'super', 'canon', 'roiling', 'european', 'make', '99', 'appreciates', 'requiem', 'siege', 'prod', 'water', 'door', 'analytical', 'retrospectively', 'fantasized', 'abysmally', 'impossibly', 'affinity', 'alienating', 'neatly', 'kangaroo', 'veered', 'besson', 'communicate', 'crossover', 'adams', 'sees', 'supernatural', 'students', 'lucks', 'audacious-impossible', 'persona', 'vampires', 'uncertain', 'discoveries', 'classics', 'cardiac', 'deuces', 'kieran', 'neorealism', 'races', 'coastal', 'xmas', 'slopped', 'use', 'myriad', 'along', 'achronological', 'goldbacher', 'jealousy', 'high-buffed', 'homophobia', 'yawn-provoking', 'success', 'hang-ups', 'merge', 'ron', 'christopher', 'wavers', 'overmanipulative', 'food-spittingly', 'sexes', 'teaming', 'jie', 'wanes', 'sounds', 'jewish', 'paws', 'crap', 'palatable', 'graves', 'passions', 'honks', 'development', 'movements', 'slow-motion', 'rude', 'boss', 'adrenalin', 'loopholes', 'ivan', 'outgag', 'deny', 'hall', 'charge', 'other', 'b-movie', 'fearlessly', 'generalities', 'foul-mouthed', 'right-hand', 'graphics', 'también', 'applies', 'saddam', 'canada', 'hiding', 'dreaming', 'unwavering', 'skeeved', 'invulnerable', 'goofiest', 'israeli', 'princesses', 'schindler', 'cussing', 'markedly', 'lynch-like', 'minority', 'friendships', 'love', 'prima', 'co-writer/director', 'edited', 'assassination', 'syrup', 'simultaneously', 'predecessors', 'hubert', 'super-powers', 'ballot', 'positives', 'procedural', 'ratio', 'forward', 'scarpia', '50-something', 'laptops', 'translate', 'edgy', 'sociopathy', 'imagine', 'electronic', 'wanton', 'complacency', 'rapid', 'plex', 'presenting', 'despite', 'continues', 'rocks', 'spader', 'adults', 'crypt', 'tinsel', 'janklowicz-mann', 'high-strung', 'subtitles', 'bros.', 'arkansas', 'morris', 'out', 'veers', 'change', 'suspecting', 'remains', 'compromising', 'unrealistic', 'release', 'arm', 'state', 'brazil-like', 'stakes', 'doctor', 'lab', 'potboiler', 'simulation', 'semi-autobiographical', 'artificiality', 'futile', '2-day', 'vast', 'sheerly', 'invited', 'all-too-familiar', 'forgive', 'instinct', 'manipulative', 'cannes', 'well-meant', 'ignorant', 'pipe', 'arwen', 'mitchell', 'vampire', 'spanish', 'hardened', 'pastry', 'gave', 'minkoff', 'hard-hearted', 'vividly', 'campaign-trail', 'actual', 'reinforcement', 'insistently', 'knowledge', 'heartwarmingly', 'cloaks', 'sack', 'settings', 'contrivances', 'successfully', 'tattoos', 'sneaks', 'johnny', 'poetics', 'drowned', 'donna', 'zhuangzhuang', 'restrained', 'fuels', 'practically', 'subgenre', 'homage', 'worse', 'computer', 'attraction', 'dumped', 'association', 'plug', 'pressed', 'battlefield', 'proving', 'fashioning', 'pork', 'depictions', 'bodacious', 'road-and-buddy', 'spotty', 'forgotten', 'fustily', 'mai', 'frothy', 'mournful', 'stream', 'ill-advised', 'dismantle', 'explode', 'ante', 'schtick', 'disturbingly', 'drama/character', 'observe', 'ribcage', 'democracy', 'said', 'doofus', 'kind', 'postmodern', 'shoestring', 'faithful', 'illiterate', 'premise', 'done-that', 'servitude', 'yesterday', 'heady', 'amp', 'determination', 'mush-hearted', 'plotted', 'middle-america', 'transgression', 'adventures', 'beasts', 'weighted', 'few', 'director/co-writer', 'nba', 'teen-exploitation', 'less-compelling', 'cameos', 'screaming', 'phenomenal', 'morally', 'impetuousness', 'young-guns', 'bible', 'cacoyannis', 'virtue', 'tape', 'associated', 'wrap', 'outweighs', 'fans', 'food-for-thought', 'alike', 'autopilot', 'spree', 'bailiwick', 'lustrous', 'reinvention', 'bestial', 'irresistible', 'loser', 'claustrophobic', 'nonsensical', 'reference', 'wewannour', 'lick', 'enthrall', 'slathered', 'masculine', 'major', 'ear', 'kiddie-oriented', 'pair', 'pitch', 'brainy', 'put', 'mcbeal-style', 'highlight', 'pop-music', 'spider-man', 'conjuring', 'jeffs', 'burden', 'nostalgia', 'ransacks', 'underdeveloped', 'scratch', 'knew', 'one-room', 'pie', 'scathingly', 'consequence', 'defuses', 'distinguishes', 'densest', 'sedate', 'unrecoverable', 'picpus', 'aplomb', 'crappy', 'entering', 'pet', 'deserve', 'believed', 'feathers', 'perform', 'worker', 'sleight-of-hand', 'ready-made', 'narcissism', 'languid', 'public', 'prophecies', '24/7', 'midst', 'governmental', 'sullivan', 'teachers', 'adrift', 'communications', 'locations', 'beresford', 'grinder', 'enact', 'cristo', 'triumph', 'glimpse', 'high-wattage', 'icily', 'tumbleweeds', 'pill', 'whoopee-cushion', 'par', 'ladder', 'keener', 'revitalize', 'phoney-feeling', 'snapping', 'aging', 'comforting', 'folks', 'young', 'monkey', 'turn', 'class', 'transform', 'documentary-making', 'predict', 'perpetually', 'commanding', 'stereotypes', 'hitler', 'callow', 'talked', 'grumbling', 'seldom', 'cross-dressing', 'screwed-up', 'melted', 'norton', 'renowned', 'feces', 'consistently', 'flounders', 'parental', 'practiced', 'acts', 'counterproductive', 'mat', 'smugly', 'jackie', 'faults', 'circuit', 'evaluate', \"'til\", 'japanese', 'wacky', 'auteur', 'signpost', 'savage', 'loopy', 'gaï', 'fruition', 'merrily', 'proceedings', 'thorough', 'janey', 'lending', 'shockers', 'tiresome', 'x.', 'leniency', 'cared', 'indistinct', 'mistress', 'lauper', 'patiently', 'steady', 'liberties', 'hefty', 'example', 'undo', 'horrific', 'earlier', 'eccentrics', 'strongest', 'morphs', 'distressing', 'naturalism', 'strength', 'scarier', 'harps', 'jordan', 'dollars', 'mind-numbing', 'a.e.w.', 'navel-gazing', 'overlapping', 'unclean', 'tries', 'fanatical', 'reminder', 'attackers', 'stoops', 'coffee', 'fancies', 'unsalvageability', 'handles', 'make-believe', 'drying', 'spoofy', 'traditionally', 'fuss', 'commonplace', 'pace', 'efficiency', 'iran', 'energizes', 'sentimentalizing', 'skateboard', 'siuation', 'stultifyingly', 'spoken', 'endorses', 'sport', 'frustrated', 'descriptions', 'summary', 'hand-drawn', 'end', 'arteta', 'powerment', 'unfolding', 'coy', 'muckraking', 'souls', 'immature', 'superficially', 'skunk', 'stays', 'bankrupt', 'ambivalent', 'sorrowfully', 'center', 'canned', 'lemon', 'explore', 'shanghai', 'propaganda', 'home', 'believable', 'easy', 'spiced', 'broomfield', 'nickelodeon-esque', 'suicide', 'spectrum', 'pessimists', 'timeout', 'enticing', 'rests', 'experience', 'oversexed', 'psychopathic', 'steadfastly', 'battered', 'large-format', 'punching', 'seated', 'concerning', 'dramatically', 'dedicated', 'viscerally', 'sparse', 'spaces', 'section', 'didactic', 'beaten', 'digital', 'italian-language', 'equate', 'began', 'moralism', 'twohy', 'widget', 'needing', 'housing', 'crocodile', 'parties', 'rowdy', 'besides', 'knoxville', 'carnage', 'variant', 'clinically', 'it', 'marxian', 'oedekerk', 'high-profile', 'pleaser', 'standards', 'single', 'mccoist', 'floundering', 'mileage', 'laggard', 'dicaprio', 'using', 'essay', 'insistence', 'lobby', 'tones', 'indifference', 'mann', 'settles', 'imparted', 'itch', 'densely', 'terrifically', 'liana', 'human-scale', 'tier', 'averse', 'no-bull', 'laughingly', 'poorly', 'boom-bam', 'mythology', 'caring', 'tics', 'hot-button', 'spends', 'leguizamo', 'highlighted', 'concealment', 'alexander', 'freewheeling', 'screwing', 'tipped', 'cantet', 'dipped', 'safe', 'anime', 'ham-fisted', 'silly', 'bidder', 'mesmerize', 'circumstances', 'barker', 'rats', 'mediterranean', 'fright', 'writes', 'mendes', 'exist', 'enjoys', 'beach', 'zap', 'rhapsodic', 'around', 'thematic', 'trickery', 'pitched', 'tap', 'fax', 'flame-like', 'truths', 'expressively', 'reginald', 'upping', 'fleder', 'laugh-a-minute', 'banking', 'refers', 'helped', 'unblinking', 'pointing', 'dafoe', 'publicist', 'filling', 'unwieldy', 'tommy', 'abdul', 'infatuated', 'qatsi', 'lina', 'formed', 'finding', 'hokey', 'too-frosty', 'aggressively', 'pissed', 'pantheon', 'winners', 'talkiness', 'damage', 'pretend', 'finery', 'plan', 'conducted', 'normal', 's1m0ne', 'cesspool', 'losses', 'circumstantial', 'brutal', 'rackets', 'doe-eyed', 'represent', 'mixed', 'region', 'parable', 'legged', 'uncomfortably', 'borrowed', 'choke', 'josé', 'husband', 'razzie', 'being', 'flowery', 'aground', 'tupac', 'tongue-in-cheek', 'sits', 'comparisons', 'monsoon', 'etc.', 'sustained', 'swan', 'dismally', 'answer', 'profile', 'confronting', 'troubadour', 'frenetic', 'philippe', 'pleasure', 'function', 'botches', '50-year-old', 'unearth', 'ingest', 'niccol', 'elemental', 'individual', 'mine', 'gaza', 'bloodsucker', 'tap-dancing', 'busy', 'fuel', 'told', 'size', 'concoctions', 'discomfort', 'pa', 'portrayals', 'structure', 'paxton', 'copious', 'plate', 'trouble', 'show-stoppingly', 'scandalous', 'hem', 'chill', 'disney', 'peekaboo', 'conflicted', 'irrelevant', 'guffaw', 'yiddish', 'weighty', 'humorously', 'gratuitous', 'plethora', 'proves', 'goodwill', 'lion', 'homosexuality', 'plans', '10-course', 'offerings', 'idiotic', 'be-bop', 'gained', 'preaches', 'overuse', '170', 'ego-destroying', 'cinematic', 'modeled', 'irvine', 'distinction', 'thesis', 'hubristic', 'o.', 'joys', 'bluto', 'scattered', 'hopeful', 'surfeit', 'sympathetic', 'demented', 'disjointed', 'ineffable', 'rate', 'hogwash', 'twisty', 'hudson', 'past', 'performance', 'insults', 'exploring', 'dampened', 'milieu', 'whine', 'rolling', 'spellbinding', 'bless', 'dissing', 'sweaty-palmed', 'heart-wrenching', 'spain', 'lucratively', 'windshield', 'keeping', 'burning', 'forming', 'names', 'tragedy', 'stardom', 'chords', 'clockstoppers', 'fixating', 'israeli/palestinian', 'recharged', 'rye', 'off-beat', 'reach', 'gays', 'spectator', 'illuminated', 'squeezed', 'uninitiated', 'less-is-more', 'hang', 'features', 'graced', 'baker', 'villain', 'chronicles', 'kiss', 'vigorously', '7th', 'barrage', '50-million', 'irritating', 'ragged', 'childhood', 'evolve', 'multi-layered', 'style-free', 'kidman', 'laconic', 'frustration', 'hitting', 'maryam', 'movie-star', 'enormously', 'mile', 'balto', 'attentions', 'zombie-land', 'eroti-comedy', '1973', 'wladyslaw', 'hour-and-a-half', 'phenomena', 'advises', 'groggy', 'clinical', 'mystique', 'enormous', 'mishmash', 'brusqueness', 'innocence', 'charitable', 'huskies', 'detachment', 'lightweight', 'minor-league', 'ya-yas', 'vera', 'childish', 'semi-stable', 'fascinate', 'september', 'mirren', 'borstal', 'rap', 'imperious', 'hood', 'randolph', 'rolls', 'linklater', 'in', 'placement', 'casual', 'poorly-constructed', 'humility', 'lumpen', 'assert', 'high-adrenaline', 'regards', 'hysteria', 'kraft', 'weak', 'talent', 'underconfident', 'sensitivity', 'lector', 'sharing', 'rush', 'ponderous', 'duration', 'jockey', 'anomaly', 'forcing', 'groaner', 'frosting', 'matchmaking', 'mommy', 'liberating', 'westbrook', 'dazed', '1950s', 'jams', 'facing', 'leontine', 'faux-urban', 'mccracken', 'pooper-scoopers', 'gimmick', 'cheap-looking', 'callar', 'agency', 'hews', 'barney', 'dud', 'crystallize', 'harmed', 'creek', 'costly', 'flowering', 'bully', 'ripper', 'follow-your-dream', 'beachcombing', 'moodiness', 'fortune', 'blisteringly', 'glasses', 'run', 'shelf', 'kiddies', 'reassuring', 'scrutiny', 'numb', 'outweigh', 'snuck', 'tainted', 'lucky', 'lively', 'hermitage', 'latter', 'disarming', 'stylish', 'popped', 'derivative', 'interaction', 'infuriating', 'combine', 'anecdote', 'shiver-inducing', 'schaeffer', 'toback', 'touchingly', 'atrocious', 'corn', 'intellectual', 'fish-out-of-water', 'limits', 'gamesmanship', 'motionless', '15', 'trifle', 'eternity', 'laziness', 'soul-searching', 'greene', 'thinly', 'vincent', 'backward', 'padding', 'knack', 'clearasil', \"'m\", 'pointed', 'enveloping', 'track', 'serendipity', 'vaudeville', 'embraces', 'et', 'redeeming', 'twenty', 'mountains', 'expose', 'boots', 'scathing', 'throat-singing', 'liu', 'loathe', 'well-acted', 'stitch', 'who-wrote-shakespeare', 'firing', 'direct-to-video', 'hand', 'romantic-comedy', 'hollywood', 'impressed', 'acknowledging', 'eleven', 'attracting', 'interchangeable', 'cuteness', 'hal', 'uhf', 'verbal', 'harangues', 'cult', 'frustrates', 'dramatics', 'media-constructed', 'fumbled', 'sidey', 'kapur', 'our', 'witherspoon', 'sickening', 'real', 'scientist', 'plucking', 'indicative', 'heartfelt', 'restored', 'let', 'cooper', 'predators', 'archly', 'alarms', 'female-bonding', 'unequivocally', 'murder', 'ditsy', 'cloudy', 'lioness', 'pump', 'lampoon', 'boredom', 'metropolitan', 'postapocalyptic', 'preemptive', 'credulous', 'wheezy', 'unfussily', 'cop', 'goggles', 'ichi', 'driven', 'r', 'workings', 'hardass', 'zen', 'sandbox', 'well', 'easily', 'flck', 'sacrifice', 'seemed', 'creepiness', 'wheels', 'resolutely', 'earthy', 'institution', 'hong', 'surge', 'estela', 'ok', 'unable', 'destiny', 'jackson', 'amok', 'hard-to-swallow', 'woman', 'shortcomings', 'mccrudden', 'disappointingly', 'concludes', 'cheapening', 'indoctrinated', 'liberal', 'sting', 'close', 'goldie', 'sameness', 'offset', 'sleeping', 'witty', 'ideal', '24-and-unders', 'establish', 'extension', 'unpaid', 'pleasures', 'draws', 'flimsier', 'mount', 'distanced', 'travis', 'aggressive', 'ordinances', 'sand', 'stills', 'hell-bent', 'straight-ahead', 'thirty', 'france', 'asleep', 'cheek', 'movie-of-the-week', 'reeked', 'colin', 'derisive', 'pascale', 'terms', 'drama', 'lazier', 'on-camera', 'appreciation', 'natured', 'kurds', 'libido', 'voice-over', 'walt', 'pardon', 'rounded', 'undiminished', 'closest', 'expressions', 'huge-screen', 'close-ups', 'paper-thin', 'prevails', 'ahem', 'nature', 'washed', 'lingerie', 'bray', 'bouncy', 'dogme', 'described', 'coming-of-age/coming-out', 'pogue', 'pretention', 'hit-and-miss', 'hotter', 'fallen', 'benefit', 'nerds', 'wonderfully', 'ad', 'explosion', 'earnhart', 'astray', 'truck-loving', 'undergoing', 'president', 'portent', 'goddammit', 'yields', 'let-down', 'traits', 'immersive', 'lecture', '-', 'saccharine', 'persistent', 'acting', 'load', 'zips', 'course', 'testosterone', 'lightness', 'wholesome', 'holofcener', 'lax', 'flush', 'macbeth', 'bronx', 'wondering', '95', 'ball', 'dawn', 'dyslexia', 'weakly', 'vein', 'startled', 'deja', 'hobnail', 'waited', 'befallen', 'supremes', 'mistake', 'flattened', 'requiring', 'personalities', 'erin', 'dearly', 'salvation', 'ooze', 'bags', 'four-hour', 'contentedly', 'comfortable', 'cloaked', 'grumble', 'woe-is-me', 'storylines', 'weightless', 'walsh', 'cutting', 'ballistic-pyrotechnic', 'democracies', 'backdrop', 'immediacy', 'poking', 'cuaron', '48', 'seas', 'oeuvre', 'secular', 'sex', 'archetypal', 'teen-gang', 'slowness', 'gunfire', 'predictable', 'precedent', 'christ', 'retro-refitting', 'petite', 'smarter', 'starting', 'thrown-together', 'weight', 'reptilian', 'mimics', 'nonetheless', 'drawing', 'allison', 'eileen', 'spiteful', 'dress', 'pivotal', 'cutter', 'delves', 'casualties', 'affluent', 'fictional', 'star-power', 'supply', 'campfire', 'time', 'sidesplitting', 'halfhearted', 'collie', 'puzzled', 'wispy', 'stumble', 'hostage', 'deft', 'regalia', 'discourse', 'unclear', 'interludes', 'pay-off', 'sudsy', 'quieter', 'spiked', 'cliff-notes', 'jon', 'type', 'sportsmen', 'compare', 'creed', 'chilled', 'prism', 'khan', 'wertmuller', 'fake', 'directionless', 'dwarfs', 'argument', 'endgame', 'receive', 'last', 'trim', 'prior', 'warned', 'salvaged', 'pointedly', 'creepy', 'overview', 'sands', 'straddle', 'ludicrous', 'maintains', 'monitor', 'created', 'unveil', 'speculation', 'melting', 'abound', 'footage', 'verite', 'communal', 'sequels', 'chronically', 'week', 'china', 'continuation', 'unturned', 'says', 'byler', 'venice', 'illustrated', 'exit', 'fail', 'terminal', 'hairdo', 'weirdness', 'organizing', 'impressionable', 'italy', 'welled', 'pared', 'spin-off', 'statham', 'cornpone', 'decide', 'just', 'hedonistic', 'demands', 'too-long', 'juice', 'contradicts', 'finale', 'praise', 'minac', 'swanson', 'guy-in-a-dress', 'raw', 'through', 'pink', 'indictment', 'banderas', 'simple-minded', 'all-out', 'hard-sell', 'family-film', 'unspeakably', 'virtually', 'hatred', 'kinky', 'calculations', 'star/producer', 'pack', 'improved', 'shrugging', 'compass', 'sluggish', 'humor', 'testament', 'bottom-feeder', 'cowering', 'floats', 'appetizing', 'emotion', 'applegate', 'devastating', 'inherently', 'shine', 'mysterious', 'slimed', 'astute', 'deathly', 'knockoff', 'authenticity', 'colosseum', 'grisly', 'cirulnick', 'aristocrat', 'resorts', 'good-time', 'bore', 'switches', 'educational', 'transition', 'tinseltown', 'z-boys', 'elect', 'video-viewing', 'inter-species', 'ambition', 'undercurrent', 'rappers', 'presents', 'uncommonly', 'auschwitz', 'war-weary', 'bristles', 'kazan', 'poverty', 'freakish', 'censure', 'mission', 'diversion', 'carefully', 'hawley', 'wind-tunnel', 'tron', 'wittier', 'show-biz', 'pauly', 'reflects', 'trivialize', 'times', 'victories', 'humbling', 'feardotcom.com', 'glory', 'gussied', 'degrading', 'struggling', 'living', 'breadth', 'gay-niche', 'fifth', 'spousal', 'trip', 'macnaughton', 'unpredictable', 'glow', 'well-formed', 'criterion', 'concept', 'dog', \"'d\", 'paced', 'rocky', 'neeson', 'disagreeable', 'absurdly', 'pencil', 'circus', 'overdone', 'immaturity', 'she-cute', 'slovenly', 'cimarron', 'occasion', 'broaches', 'decades', 'ramblings', 'spreading', 'reassembled', 'brian', 'underachiever', 'punitive', 'teen-driven', 'eastern', 'serene', 'spanning', 'scale', 'care', 'involving', 'include', 'writer/director', 'un-bear-able', 'lieutenant', 'constant', 'skipping', 'nerve-raked', 'misunderstood', 'spill', 'prostituted', 'suck', 'wisely', 'masterpeice', 'unshapely', 'bomb', 'ticks', 'warning', 'pages', 'express', 'epiphany', 'rich', 'smallest', 'big-hearted', 'synergistic', 'only', 'creature', 'damaged-goods', 'alice', 'next', 'bullfighters', 'fanciful', 'look-see', 'resonate', 'bogs', 'infants', '100-minute', 'tacked', 'losers', 'understand', 'gifts', 'frei', 'tiring', 'stortelling', 'infrequently', 'talented', 'robberies', 'helm', 'kathy', 'dupe', 'design', 'shackles', 'archival', 'compliment', 'market', 'dense', 'furious', 'chabrolian', 'valid', 'amc', 'noticed', 'characterizes', 'questioning', 'wildly', 'amazingly', 'hat-in-hand', 'anarchic', 'consciousness', 'reliance', 'friends', 'shred', 'overdoing', 'serviceable', 'betty', 'meant', 'rejection', 'indulgent', 'quaking', 'mind', 'uzumaki', 'zoom', 'believer', 'sag', 'joint', 'animé', 'drudgery', 'banzai', 'joe', 'referential', 'decibel', 'lies', 'hairier', 'schütte', 'moron', 'window', 'ours', 'praying', 'democratic', 'repetition', 'at-a-frat-party', 'ecks', 'delivery', 'straight-up', 'appearance', 'turpin', 'limitations', 'compels', 'sticks', 'downs', 'eroded', 'tested', 'live-wire', 'suffocating', 'enervating', 'head', 'skewed', 'endearing', 'decoder', 'plimpton', 'espionage', 'reef', 'misconceived', 'objectivity', 'heart', 'diatribes', 'forces', 'brother', 'organized', 'dvd', 'jaunt', 'standoffish', 'costume', 'occupational', 'intricate', 'portuguese', 'pranks', 'phantasms', 'friend', 'fast-paced', 'suffer', 'upfront', 'limit', 'manhunter', 'absorbs', 'disquietingly', 'tediously', 'broadway', 'kid-pleasing', 'meatier', 'anarchy', 'shtick', 'astonishing', 'overly', 'theme', 'attract', 'me', 'self-important', 'countless', 'depalma', 'except', 'sticky', 'anthony', 'hanussen', 'sitcom-worthy', 'conspiratorial', 'physical', 'computerized', 'chick-flicks', 'intact', 'hypocrisy', 'bots', 'library', 'damme', 'turd', 'hustler', 'survive', 'sell', 'deeds', 'contriving', 'press', 'ounce', 's.c.', 'teenager', 'venturesome', '9-11', 'liking', 'obvious', 'sci-fi', 'agreeably', 'mobius', 'heavyweight', 'culture-clash', 'characterization', 'produces', 'sorrow', 'graham', 'spotlight', 'bulk', 'feeble', 'manipulating', 'ratliff', 'clumsy', 'decline', 'bogus', 'j.k.', '295', 'underneath', 'mind-destroying', 'levy', 'achieved', 'suffers', 'entertainingly', 'wrecks', 'weimar', 'form', 'injects', 'protagonist', 'xerox', 'transparency', 'wicked', 'three-dimensional', 'uncharted', 'rotten', 'first-class', 'documentary-like', 'fan', 'whose', 'pleasant', 'stalker', 'rope', 'constricted', 'free', 'terrorists', 'fall', 'surefire', 'mutates', 'benjamins', '60', 'route', 'perversity', 'improves', 'command', 'dressed', 'rash', 'sensitive', 'omission', 'help', \"'n\", 'plain', 'bill', 'nasty', 'macabre', 'has-been', 'screenplay', 'christian', 'shakes', 'screwball', 'afraid', 'oh-so', 'strip', 'passed', 'glows', 'stuffy', 'keen', 'broadside', 'matches', 'distasteful', 'founding', 'cast', 'negated', 'chilly', 'windtalkers', 'made-up', 'mcwilliams', 'feelings', 'roars', 'paradiso', 'concentrates', 'repellent', 'suge', 'forcefulness', 'science-fiction', 'bumper', 'therefore', 'pitiful', 'pin-like', 'stooping', 'blob', 'opts', 'hell-jaunt', 'rewarding', 'naturalness', 'engorged', 'alleged', 'dognini', 'batman', 'sense', 'luminous', 'flim-flam', 'barris', 'oblivious', 'magical', 'believes', 'wonderland', 'disparate', 'self-exploitation', 'soul-stirring', 'entitled', 'unrelated', 'things', 'add', 'paycheck', 'morality', 'niches', 'bump-in', 'chopsocky', 'al.', 'lips', 'boundary-hopping', 'taxi', 'anakin', 'faced', 'critic', 'penchant', 'capped', 'important', 'outing', 'subtly', 'zellweger', 'omitted', 'tour', 'leplouff', 'disorientated', 'li', 'overlook', 'typifies', 'acumen', 'numbing', 'voyeur', 'serry', 'karen', 'accentuating', 'bladerunner', 'readily', 'slapstick', 'rose', 'begins', 'cor-blimey-luv-a-duck', 'morrissette', 'versace', 'chamber', 'extremists', 'boiling', 'manner', 'er', 'hanna-barbera', 'nicholson', 'happiness', 'pummel', 'local', 'tourism', 'locales', 'groan-to-guffaw', 'effective', 'savaged', 'not-nearly', 'rosemary', 'honored', 'smear', 'emerged', 'contains', 'multi-character', 'kevin', 'computer-generated', 'heart-breaking', 'chances', 'witnessed', 'wang', 'churn', 'sarandon', 'sulking', 'zoe', 'tail', 'generosity', 'sane', 'desires', 'franco', 'individuality', 'coarse', 'charms', 'gourd', 'dinner', 'winning', 'seeks', 'showgirls', '3-year-olds', 'bodice-ripper', 'tear-stained', 'deafening', 'tropic', 'posturing', 'grandiosity', 'liveliness', 'per', 'tie', 'determined', 'adrian', 'pawn', 'power', 'explanations', 'haranguing', 'violated', 'babies', 'tub-thumpingly', 'upper', 'madness', 'vigils', 'middle-aged', 'spicy', 'over-dramatic', 'people', 'imply', 'stacy', 'monotonous', 'fundamentally', 'calls', 'flat', 'edge', 'visit', 'owen', 'broadcast', 'bedfellows', 'sentimentality', 'sentimental', 'according', 'buffs', 'cloying', 'stomps', 'tells', 'unbreakable', 'resolutions', 'everyman', 'proverbial', 'community-college', 'induces', 'spectacularly', 'ravishing', 'installment', 'mystery', 'mob', 'epics', 'remembered', 'os', 'higher', 'disarmingly', 'lasker', 'self-indulgence', 'witness', 'tech-geeks', 'chronicle', 'whopping', 'ruin', 'trifecta', 'larger-than-life', 'del', 'travel-agency', 'shaky', 'goofball', 'graduated', 'mike', 'renaissance', 'unerring', 'laughable', 'greengrass', 'child', 'inhabitants', 'adapted', 'suffocate', 'farm', 'properly', 'revigorates', 'dropped', 'mcdonald', 'refused', 'hundreds', 'surrounds', 'aficionados', 'crowdpleaser', 'chest', 'skies', 'rely', 'sade', 'sanitised', 'wines', 'sugarcoated', 'operating', 'goofily', 'autobiographical', 'predominantly', 'bluer', 'martial', 'ten-year-old', 'conan', 'centers', 'theory', 'sentence', 'argot', 'carvey', 'out-sized', 'perfunctory', 'unless', 'jeremy', 'nausea', 'maybe', 'dime', 'shallows', 'manipulation', 'flashes', 'shore', 'societal', 'sabotaged', 'frontal', 'lawrence', 'messing', 'punchy', 'elbows', 'actory', 'essence', 'would', 'disciplined', 'zeitgeist', 'ick', 'stuffs', 'goofy', 'salma', 'crimen', 'qual', 'tapestry', 'upsetting', 'breaks', 'low-grade', 'typed', 'ending', 'becoming', 'directs', 'dramatization', 'flibbertigibbet', 'reaffirming', 'word-of-mouth', 'contradiction', 'warmest', 'unsurprising', 'muddled', 'larger', 'setpiece', 'thoughtful', 'bibbidy-bobbidi-bland', 'israel', 'pageantry', 'refined', 'stops', 'triangle', 'rancid', 'apartheid', 'achieve', 'borrows', 'part', 'escapism', 'gangster', 'tedium', 'intrigue', 'nearly', 'stunt', 'long-faced', 'waterboy', 'hearts', 'rough', 'self-destructiveness', 'ample', 'goliath', 'nolan', 'overproduced', 'esther', 'observations', 'spaceship', 'out-of-kilter', 'criminals', 'painless', 'queasy-stomached', 'yourself', 'willie', 'this', 'conned', 'treads', 'under-inspired', 'burrito', 'perkiness', 'stranger', 'aware', 'whitaker', 'sight', 'underwear', 'orange', 'muted', 'chiefly', 'alternates', 'distinguishing', 'supplies', 'boobs', 'humdrum', 'darned', 'ridiculous', 'twin', 'road-trip', 'activism', 'my', 'affable', 'equals', 'calories', 'amours', 'recreates', 'ourselves', 'le', 'shirt', 'choose', 'released', 'nationalism', 'pat', 'crises', 'played', 'ignoring', 'revolutionaries', 'gags', 'escapes', 'dreamed', 'band', 'magi', 'heart-warming', 'upstaged', 'lower-class', 'bearable', 'judgment', 'mar', 'élan', 'sy', 'whirling', 'danis', 'abuse', 'spice', 'meddles', 'thunderstorms', 'gang', 'titles', 'flight', 'dates', 'landing', 'overwhelm', 'big-wave', 'audiences', 'changing', 'suffice', 'culled', 'cheer', 'ugliness', 'spots', 'alias', 'feet', 'sleep', 'machinery', 'genteel', 'obstacles', 'long-winded', 'sparking', 'coherence', 'lifestyle', 'laugher', 'instigator', 'asiaphiles', 'bentley', 'unconditional', 'eh', 'crosses', 'poo-poo', 'attracts', 'transporting', 'vietnamese', 'ice', 'rohmer', 'byzantine', 'saturday', 'dragons', 'figured', 'surfing', 'satisfies', 'geneva', 'benefits', 'peevish', 'dramatized', 'movie', 'mctiernan', 'chaplin', 'byplay', 'puerile', 'foo', 'yung', 'brains', 'achieves', 'characteristic', 'bone', 'passable', 'ces', 'morbidity', 'secrets', 'structures', 'ranks', 'phifer', 'rugrats', 'skin', 'ruminations', 'turturro', 'sprightly', 'fortify', 'tawdry', 'shadowy', 'shared', 'sucker', 'rachel', 'tautou', 'strives', 'serenity', 'dish', 'depress', '71', 'non-porn', 'derive', 'aspires', 'vain', 'promises', 'lived', 'zone', 'screening', 'eager', 'commenting', 'midwest', 'no-nonsense', 'from-television', 'badder', 'lifting', 'well-paced', 'senseless', 'millennial', 'printed', 'psychologically', 'modernize', 'goth-vampire', 'blacked', 'undogmatic', 'passionately', 'collapses', 'greek', 'gall', 'arrest', 'wonderous', 'breasts', 'evanescent', 'cuisine', 'electric', 'idealistic', 'snooze', 'frames', 'loyal', 'fragmentary', 'integrates', 'criticizes', 'suspense', 'uhhh', 'separates', 'dual', 'metropolis', 'community', 'hated', 'resorting', 'expanded', 'katzenberg', 'sewing', 'caper', 'sensation', 'letting', 'hodgepodge', 'craig', 'looks', 'oppressively', 'frida', 'publishing', 'fatal', 'lends', 'gedeck', 'head-on', 'adventues', 'assuming', 'commerce', 'utilizing', 'returned', 'serials', 'damning', 'quintet', 'campus', 'sneering', 'tonal', 'sorvino', 'perverse', 'collegiate', 'birthday', 'departments', 'clouds', 'amusement', 'hawaiian', 'carrey', 'thanks', 'rustic', 'ye', 'parables', '15th', 'odd-couple', 'threw', 'tickled', 'intended', 'challenge', 'grounding', 'serious', 'sheds', 'idemoto', 'fascinates', 'comprehensible', 'hard-driving', 'three-to-one', 'dog-tag', 'affirm', 'photographic', 'message-mongering', 'mika', 'kinnear', 'zelda', 'pb', 'incorporates', 'coos', 'adolescent', 'procession', 'silent-movie', 'thinking', 'impressive', 'pay', 'equalizer', 'characterisations', 'belt', 'spiritless', 'touching', 'impossible', 'natter', 'ming-liang', 'nervous', 'affectation-free', 'visualizing', 'bank', 'lip-gloss', 'all-over-the-map', 'costumes', 'characterize', 'sellers', 'glazed', 'docu-drama', 'harry', 'illuminating', 'gracious', 'wishy-washy', 'seems', 'backed', 'chimps', 'ripoff', 'lifeless', 'dass', '1962', 'vardalos', 'famous', 'anonymous', 'sub-sophomoric', 'underrated', 'georgia', 'polanski', 'pertinent', 'require', 'character', 'nick', 'lushly', 'intelligent', 'comedy-drama', 'greatest', 'shout', 'competition', 'relied', 'machines', 'nature/nurture', 'variety', 'indifferent', 'tears', 'cousin', 'communication', 'experimentation', 'detail', 'treatment', 'high', 'outstanding', 'thoroughly', 'reckless', 'pot', 'flavorful', 'disappointments', 'scam', 'suggested', 'conscience', 'combined', 'he', 'cronenberg', 'engineering', 'painted', 'conniving', 'converts', 'ascertain', 'profanity', 'airs', 'reams', 'scrape', 'insensitivity', 'inversion', 'respites', 'disaster', 'society', 'deviously', 'blockbusters', 'elaborate', 'portions', 'motion', 'agitprop', 'convincingly', 'targets', 'conflagration', 'dominated', 'weeks', 'warped', 'cotswolds', 'mckay', 'turntablism', 'curiously', 'mounts', 'giggles', 'barriers', 'scary-funny', 'afterlife', 'outbursts', 'pursuers', 'shadyac', 'improve', 'overflowing', 'dramatize', 'ararat', 'farcical', '101', 'irredeemably', 'civics', 'farce', 'processed', 'clad', 'contraption', 'hos', 'beg', 'human', 'antiseptic', 'chan', 'tenor', 'angels', 'spend', '50', 'heart-pounding', 'realistically', '21/2', 'malle', 'unabashedly', 'unstoppable', 'partner', 'nonchalant', 'unnamed', 'leftovers', 'reduce', 'buying', '6', 'indulgence', 'successful', 'wishing', 'fussing', 'soulless', 'glinting', 'muy', 'all-french', 'mazel', 'ame', 'avalanches', 'way', 'sensationalize', 'lazy', 'decomposition', 'refusing', 'illogic', 'paranoid', 'gunfest', '10', 'fore', 'unexplainable', 'carol', 'studied', 'sabotage', 'raving', 'attach', 'anteing', 'viewpoint', 'avengers', 'environments', 'flatter', 'subliminally', '14-year-old', 'revolution', 'undercuts', 'punches', 'auditorium', 'jury', 'versatile', 'stalked', 'unsaid', 'level', 'ho', 'drowns', 'laramie', 'sweep', 'humanism', 'gianni', 'tout', 'exuberant', 'half-step', 'timelessness', 'hunky', 'ever', 'betrayed', 'feel-bad', 'terrified', 'vapid', 'boxes', 'so-so', 'well-balanced', 'paying', 'universe', 'self-amused', 'social', 'season', 'endless', 'get', 'accept', 'receiving', 'requisite', 'zippy', 'burnt', 'billy', 'underlies', 'narrator', 'ingenuity', 'mulan', 'hardwood', 'bracing', 'schiffer', 'devotedly', 'outright', 'telanovela', 'weaving', 'oral', 'copenhagen', 'top-heavy', 'simpering', 'unsuccessful', 'sweet', 'downer', 'gremlins', 'prominent', 'commentary', 'satan', 'routines', 'eyeballs', 'prisoners', 'overstated', 'mix', 'trees', 'pledge', 'inuit', 'cheat', 'search', 'nonconformist', 'influential', 'spider', 'abundant', 'fare', 'eve', 'casting', 'middle-class', 'trims', 'outer-space', 'late-twenty-somethings', 'semi-amusing', 'luck', 'you-are-there', 'delhi', 'gallery', 'chump', 'mugs', '***', 'blemishes', 'rusi', 'useless', 'carries', 'masters', 'tickets', 'well-contructed', 'german-expressionist', 'soulful', 'hurts', 'worry', 'ties', 'wheedling', 'fang-baring', 'react', 'recycling', 'bernard', 'lavish', 'surprising', 'six', 'clearly', 'shocker', 'descends', 'needless', 'resonances', 'keenly', 'save', 'stagy', 'inadvertently', 'newfoundland', 'delay', 'obligation', '--', 'down-and-dirty', 'superlative', 'genuinely', 'misfire', 'derrida', 'punishable', 'drunk', 'boilerplate', 'muse', 'conspirators', 'legend', 'elicit', 'brooks', 'universal', 'gigantic', 'equivalent', 'castle', 'cartoon', 'quotations', 'true-crime', 'elbowed', 'entry', 'charles', 'firmly', 'rut', 'landmark', 'hermocrates', 'obligations', 'shadows', 'cracker', 'movies', 'potential', 'uneasy', 'merit', 'truck', 'raunch', 'accuse', 'crazy', 'dorm', 'little-remembered', 'wizard', 'divine', 'gears', 'scenic', 'diabolical', 'sags', 'supposed', 'ironically', 'bestowing', 'lush', 'hotter-two-years-ago', 'cheese', 'elegiac', 'bazadona', 'accomplish', 'bedtime', 'ants', 'candor', 'loquacious', 'skipped', '18-year-old', 'produce', 'health', 'answered', 'personable', 'expressionistic', 'buck', 'soft-core', 'robust', 'welles', 'superman', 'terry', 'go-for-broke', 'fanatics', 'great', 'suitcase', 'telegraphed', 'canadians', 'accomplished', 'rendered', 'unconventional', 'nowhere', 'quadrangle', 'uproarious', 'virtuosity', 'inherent', 'romped', 'sulky', 'disposition', 'bergmanesque', 'stagey', 'cruelly', 'tighter', 'scores', 'assignment', 'rambling', 'slump', 'stricken', 'gold', 'beijing', 'hudlin', 'bilked', 'budget', 'goodly', 'mcgrath', 'essentially', 'honestly', 'personas', 'earns', 'closure', 'mpaa', 'impulsive', 'waltzed', 'lowbrow', 'hovering', 'broader', 'visual', 'marked', 'progression', 'implicitly', 'astronomically', 'restrictive', 'needlessly', 'lynne', 'womanhood', 'ruse', 'magnificent', 'signs', 'comfy', 'cars', 'gut-busting', 'self-inflicted', 'deliberateness', 'proper', 'bigger-name', 'genitals', 'cup', 'scum', 'fantastic', 'depict', 'ontiveros', 'irrational', 'animal', 'half-asleep', 'choices', 'appointed', 'affectionately', 'anonymity', 'electoral', 'joyless', 'distressingly', 'different', 'incurably', 'aristocrats', 'buries', 'breezy', 'eyre', 'invest', 'cowardly', 'bryan', 'trading', 'brooklyn', 'batting', 'fairies', 'lags', 'documenting', 'recommended', 'carré', 'erratic', 'uproar', 'cheaper', 'nerves', 'fresnadillo', 'soon', 'confrontations', 'averting', 'ourside', 'egocentricities', 'display', 'gross', 'floyd', 'lie', 'requires', 'ka', 'high-tech', 'industry', 'pomposity', 'cassavetes', 'endear', 'haute', 'translation', 'consumers', 'educates', 'kid-empowerment', '4ever', 'respite', 'sociology', 'legacy', 'crafty', 'gushy', 'sirk', 'eagerness', 'weird', 'regardless', 'children', 'undercover', 'expresses', \"'53\", 'villainous', 'deserved', 'distracting', 'smashing', 'graceful', 'aggressiveness', 'archives', 'one-hour', 'models', 'slickest', 'summery', 'niblet', 'intimidated', 'remakes', '103-minute', 'parton', 'sylvie', 'dwindles', 'smacks', 'non-disney', 'stripe', 'bromides', 'living-room', 'representing', 'tube', 'worthwhile', 'hartley', 'completion', 'episode', 'benchmark', 'movie-specific', 'explosive', 'moonlight', 'lapses', 'smoochy', 'iteration', 'heroic', 'law', 'enhancing', 'dimension', 'anger', 'investment', 'ownership', 'draft', 'imaginative', 'throbbing', 'farcically', 'mouth', 'error', 'stature', 'loops', 'sexuality', 'alternately', 'pierce', 'sensitivities', 'often-funny', 'felt', 'ungainly', \"'30s\", 'goers', 'its', 'arcane', 'pan', 'charade', 'snaps', '2/3', 'naked', 'pender', 'unimaginable', 'bouncing', 'rescue', 'hard-won', 'partisans', 'daft', 'civic', 'visualize', 'fathom', 'angling', 'assures', 'interpreting', 'beginners', 'poster', 'unapologetic', 'unhurried', 'meandering', 'taylor', 'acknowledges', 'retaliatory', 'crane', 'begun', 'hippie-turned-yuppie', 'amazing', 'fast', 'cheesiest', 'deepa', 'hue', 'rapid-fire', 'enthusiasm', 'seasonal', 'noise', 'clive', 'wade', 'coolness', 'tangled', 'prone', 'granted', 'surrealism', 'strictly', 'africa', 'undergraduate', 'yet', 'pasolini', 'saw', 'eponymous', 'haunting', 'whet', 'assumes', 'riot-control', 'ruins', 'buffoons', 'obsession', 'overrun', 'disconnection', 'crassly', 'delinquent', 'abundantly', 'should', 'scratches', 'space-based', 'holocaust', 'creatively', 'macdowell', 'fresh-squeezed', 'stable-full', 'primer', 'dullest', 'swim', 'halftime', 'yi', 'lessen', 'clamoring', 'complex', 'period-piece', 'notwithstanding', 'crudup', 'array', 'travesty', 'zoning', 'franchise', 'pablum', 'tome', 'begging', 'rat', 'stepdad', 'riveting', 'ca', 'word', 'and/or', 'tracking', \"'40s\", 'murderer', 'miniseries', 'admirable', 'decided', 'behind', 'lucid', 'seeping', 'losin', 'volume', 'hint', 'delights', 'candy-coat', 'methodical', 'more', 'jaw-droppingly', 'curtain', 'lungs', 'diversity', 'rug', 'script', 'misogynist', 'knockout', 'elfriede', \"'em\", 'buoyant', 'rating', 'relaxed', 'abbott', 'freudianism', 'trumpet', 'cutthroat', 'verging', 'robots', 'captain', 'realizes', 'gainsbourg', 'politics', 'profanities', 'sharp', 'inspired', 'wind', 'mexican', 'britney', 'elizabethans', 'internalized', 'goosebumps', 'smashups', 'writer-actor', 'great-grandson', 'prophet', 'diggs', 'start', 'feed', 'boom', 'matters', 'watts', 'spouses', 'devious', 'carlos', 'variable', 'potentially', 'recalls', 'summons', 'anti-catholic', 'backwater', 'mariah', 'wireless', 'poignancy', 'talking-animal', 'purports', 'barbarian', 'colgate', 'lackadaisical', 'guarantee', 'quivering', 'witch', 'aiello', 'interviews', 'comedic', 'extended', 'innovations', 'cho', 'embarrassingly', 'rerun', 'bruckheimer', 'pained', 'masked', 'lingers', 'own', 'former', 'lusty', 'reception', 'overstays', 'participate', 'bang-bang', 'oscar-nominated', 'maze', 'deeper', 'vulnerable', 'amid', 'trove', 'confessions', 'guzman', 'swimming', 'strengths', 'shoes', 'ballast', 'take', 'testosterone-charged', 'self-revealing', 'presume', 'tim', 'ritual', 'half-hour', 'buzz', 'infomercial', 'managed', 'indian', 'popularity', 'surface', 'energized', 'crispin', 'clue', 'seeing', 'impetus', 'griffith', 'audience', '26', 'sequences', 'build-up', 'actioners', 'meditative', 'slips', 'techniques', 'smorgasbord', 'suspected', 'towering', 'smothered', 'no', 'milking', 'journalistic', 'derives', 'soap', 'raise', 'grounded', 'via', 'hypnotic', 'shatner', 'vision', 'jimmy', 'lewis', 'godzilla', 'ou', 'bloody', 'air', 'honorably', 'eloquently', 'inauspicious', 'escort', 'increase', 'cackles', 'washington', 'undisputed', 'caustic', 'good-naturedly', 'element', 'twirling', 'wreaked', 'scarily', 'waits', 'wildean', 'scared', 'made-for-tv', 'arnie', 'entertainments', 'duke', 'decasia', 'dollar', 'soft', 'itinerant', 'marriage', 'detailing', 'perdition', 'oscar-size', 'built-in', 'petri', 'confidence', 'read', 'skit-com', 'unlikeable', 'o', 'accompanies', 'sucking', 'hammer', 'extravagant', 'bundling', 'exhibit', 'sufficient', 'yearnings', 'awkward', 'negligible', 'counts', 'travelogue', 'milquetoast', 'degenerates', \"'ve\", 'rocket', 'dolorous', 'graffiti', 'investigate', 'addams', 'english', 'faith', 'grandkids', 'misdemeanor', 'lyrical', 'stillborn', 'humankind', 'surgeon', 'raised', 'cylinders', 'tides', 'chardonne', 'translating', 'meet', 'salient', 'unmentionables', 'thumbing', 'danny', 'airy', 'civilized', 'address', 'helping', 'recovering', 'uncovers', 'fashioned', 'springs', 'stinker', 'absurdity', 'superheroics', 'huston', 'docs', 'bullseye', 'tired', 'self-satisfaction', 'fuzziness', 'blanket', 'practitioners', 'criticizing', 'nada', 'crippled', 'hoopla', 'lingual', 'however', 'entertainment', 'nair', 'enthralling', \"'re\", '78', 'main', 'recycled', 'whipping', 'narratively', 'over-indulgent', 'macgraw', 'sap', 'lacking', 'government', 'thornberrys', 'restless', 'still', 'kill', 'african-americans', 'nuances', 'silbersteins', '83', 'side-by-side', 'keeps', 'started', 'exploitive', 'art-house', 'christian-themed', 'allow', 'inexplicable', 'sudden', 'screenwriters', 'poof', 'relocated', 'urges', 'shock-you-into-laughter', 'grieving', 'overworked', 'incongruous', 'modicum', 'tendency', 'unaffected', 'woven', 'realistic', 'composed', 'pics', 'sobering', 'compromised', 'biography', 'bump', 'buñuel', 'experimental', 'silver-haired', 'ominous', 'well-characterized', 'wimmer', 'environment', 'chicanery', 'aggravating', 'amusements', 'tightened', 'embodies', 'pin', 'hunger', 'selby', 'betrayal', 'medical', 'hippopotamus', 'give', 'threatens', 'killed', 'grasp', 'plight', 'paean', 'hare', 'insinuation', 'rudd', 'geniality', 'y', 'gifford', 'capitalizes', 'tools', 'masochism', 'squaddie', 'wafer-thin', 'fleeting', 'bespeaks', 'woodland', 'berkeley', 'graceless', ';', 'chesterton', 'nobody', 'balm', 'tree', 'plaintiveness', 'reworking', 'slide', 'small-screen', 'convolution', 'grownups', 'cleverness', 'sorriest', 'fluent', 'steadily', 'aversion', 'capture', 'menace', 'gates', 'fueled', 'combustion', 'independent-community', 'cerebral', 'versus', 'issue', 'underwater', 'evenly', 'astonish', 'unremittingly', 'surface-obsession', 'aircraft', 'bowel', 'seeds', 'contain', 'property', 'self-serious', 'lengths', 'sympathy', 'releasing', 'underplays', 'scotches', 'orlean', 'march', 'conquers', 'fantastically', 'thankfully', 'faulty', 'yeah', 'diva', 'ali', 'grew', 'soderbergh', 'updated', 'strokes', 'a-bornin', 'adrenaline', 'commiserating', 'half-bad', 'scherfig', 'clinic', 'occurrences', 'balanced', 'point-of-view', 'tied', 'tunisian', 'tucker', 'horrifyingly', 'causes', 'enhances', 'alas', 'angst-ridden', 'whitewash', 'duvall', 'pie-like', 'honesty', 'ai', 'wild-and-woolly', 'mindset', 'riddle', 'brittle', 'confirms', 'tendentious', 'triumphant', 'all-around', 'tease', 'uninspiring', 'quandaries', 'taste', 'composure', 'warmed-over', 'depression', 'leading', 'episodic', 'raison', 'delirious', 'musicians', 'stallone', 'wave', 'supermarket', 'superbly', 'speculative', 'claptrap', 'bottom-of-the-bill', 'kjell', 'balances', 'meyjes', 'terrifying', 'guide', 'cunningham', 'enjoyable', 'regular', 'realized', 'painterly', 'counterpart', 'mouthpieces', 'sustenance', 'sprouts', 'film', 'norma', 'jaw', 'anemic', 'inconceivable', 'embody', 'worthy', 'fill', 'threads', 'surrender', 'cream', 'journalists', 'redefinition', 'infatuation', 'climax', 'american-style', 'diner', 'brett', 'cellophane-pop', 'immaculately', 'copmovieland', 'ago', 'brim', 'moaning', 'masochistic', 'reality-snubbing', 'mom', 'scented', 'dumbness', 'enigma', 'celebrate', 'suicidal', 'cooks', 'leads', 'military', 'substandard', 'disapproval', 'flux', 'landscape', 'repetitive', 'screenwriting', 'later', 'speaking', 'satisfactory', 'away', 'interviewees', 'improperly', 'shrewdly', 'embroils', 'opportunity', 'japan', 'braveheart', 'augmented', 'wanted', 'dignity', 'participant', 'garnish', 'meshes', 'flailing', 'defensible', 'makeup-deep', 'adding', 'amaze', 'propulsive', 'racial', 'ambiguity', 'battles', 'constrictive', 'cranky', 'puddle', 'lovely', 'gentle', 'motherhood', 'bratty', 'appropriate', 'pearls', 'unified', '$', 'paunchy', 'intolerant', 'slop', 'berling', 'appalling', 'retard', 'château', 'encompassing', 'bestowed', 'star', 'warmed', 'lunar', 'simply', 'retooling', 'kahn', 'matter', 'horde', 'splashing', 'trotting', 'relentless', 'irony', 'astringent', 'incoherence', 'greater', 'adult', 'millennium', 'insistent', 'oily', 'hard', 'visitor', 'imagery', 'hearing', 'virtuous', 'accepting', 'josh', 'heed', 'virgin', 'bellyaching', 'fast-edit', 'ignite', 'british', 'unattractive', 'unknown', 'anguished', 'hanukkah', 'seriousness', 's', 'disquieting', 'hey', 'larky', 'frantic', 'writer', 'valuable', 'margarita', 'lillard', 'sopranos', 'unguarded', 'picked', 'togetherness', 'gray', 'reaffirms', 'abyss', 'marginally', 'hopkins/rock', 'muster', 'avert', 'treasure', 'modern', 'suggests', 'skyscraper', 'nail', 'unimaginative', 'bittersweet', 'protect', 'studios', 'mark', 'chiaroscuro', 'gander', 'growing', '120', 'jews', 'out-bad-act', 'michell', 'intriguing', 'van', 'introverted', 'readings', 'among', 'succeeds', 'andie', 'so', 'orchard', 'settled', 're-creation', 'fantasma', 'kids-cute', 'death-defying', 'markets', 'substantial', 'intoxicatingly', 'stereo', 'dresses', 'landbound', 'daddy', 'miscalculates', 'forgot', 'plummer', 'insightfully', 'namely', 'cub', 'smoky', 'sidekicks', 'jump-in-your-seat', 'firmer', 'amini', 'ups', 'oddest', 'symbolically', 'razzle-dazzle', 'grating', 'heck', 'racism', 'ill-considered', 'chelsea', 'sounding', 'unburdened', 'one-dimensional', 'ambitious', 'agile', 'hunnam', 'imprint', 'belly', 'stuttering', 'avoiding', 'deep', 'strain', 'another', 'sort', 'therapy-dependent', 'h', 'unrelenting', 'orwell', 'recommend', 'uses', 'drawings', 'cary', 'artificial', 'wreckage', 'u.', 'muscles', 'sturm', 'eerily', 'comic-book', 'bringing', 'unlimited', 'characterisation', 'brit', 'facetious', 'drips', 'raimondi', 'android', 'scarlet', 'not-so-small', 'coordinated', 'swathe', 'shum', 'paint-by-number', 'paranoia', 'neil', 'catsup', 'sniping', 'revisiting', 'shameful', 'breakdown', 'clung-to', 'sickly', 'cruel', 'radical', 'snow-and-stuntwork', 'can', 'liven', 'drum', 'restate', 'principles', 'heller', 'parts', 'reassuringly', 'pristine', 'lumps', 'satirical', 'import', 'leader', 'arrow', 'awash', 'literal', 'reluctant', 'achival', 'mingles', 'means', 'kitchen-sink', 'lanes', 'sensuality', 'portraying', 'innovators', 'jones', 'grub', 'jake', 'cold-hearted', 'refusal', 'precarious', 'mumbo-jumbo', 'm.', 'ear-pleasing', 'control-alt-delete', 'beauty', 'long', 'beginnings', 'thewlis', 'work-in-progress', 'procedure', 'million', 'phoned-in', 'pinnacle', 'islanders', 'piscopo', 'authenticate', 'instructs', 'knockaround', 'established', 'peep', 'video/dvd', 'uniquely', 'wire', 'numerous', 'cotton', 'kidlets', 'masterpiece', 'terrible', 'sunny', 'tempted', 'wives', 'half-an-hour', 'overcomes', 'orc', 'legally', 'negative', 'naqoyqatsi', 'girl-on-girl', 'bargain-basement', 'prey', 'errol', 'masterful', 'tatters', 're-hash', 'mama', 'moralizing', 'companionable', 'cliched', 'taps', 'book', 'secretary', 'breaking', 'retrograde', 'pub', 'wander', 'lore', 'charm', 'platitudes', 'inconsistent', 'grotesquely', 'coincidence', 'lost', 'discreet', 'overboard', 'd.w.', 'oh-so-important', 'well-directed', '21st', 'songs', 'dim-witted', 'bad', 'barely', 'meara', 'godard', 'mere', 'begin', 'shell', '65-year-old', 'kim', 'ensemble', 'immersed', 'shriveled', 'american-russian', 'flag-waving', 'bluffs', 'mantra', 'loneliest', 'six-time', 'coldest', 'mostly', 'shirley', 'adequately', 'lunch', 'proportions', 'household', 'trick', 'goo', 'cheering', 'ne', 'frighten', 'grain', 'desperation', 'screens', 'refreshing', 'masterfully', 'delicately', 'seek', 'pizazz', 'spirit-crushing', 'wooden', 'develop', 'tummy', 'rode', 'juni', 'taboo', 'avant', 'ziyi', 'lovefest', 'tooth', 'unbelievable', 'path', 'surest', 'bedside', 'fury', 'fret', 'brent', 'fuddled', 'trickster', 'toss-up', 'kidd', 'shapable', 'brings', 'q.', 'petter', 'naipaul', 'joie', 'conjure', 'digest', 'sleep-inducingly', 'zigzag', 'doles', 'crudities', 'pursued', 'eighth', 'traps', 'trounce', 'classical', 'splendor', 'caton-jones', 'arms', 'thoroughfare', 'avalanche', 'misanthropy', 'molested', 'hollywood-action', 'fine-looking', 'assaultive', 'trap', 'producer', 'stud', 'strolls', 'biopic', 'amiss', 'a.s.', 'dull', 'brain-deadening', 'cadavers', 'contributes', 'mexico', 'aerial', 'criminal', 'evocative', 'gloriously', 'step', 'seats', 'sends', 'padre', 'kinds', 'aid', 'first-time', 'schedule', 'fun', 'tinged', 'directed', 'movie-esque', 'cows', 'lets', 'blockage', 'kate', 'cunning', 'restoring', 'records', 'stranded', 'schnieder', 'kung', 'intersect', 'goldmember', 'relayed', 'get-go', 'shower', 'hard-eyed', 'propriety-obsessed', 'martial-arts', 'emailed', 'tell', 'awake', 'dynamite', 'highly', 'benigni', '1979', 'unconned', 'teasing', 'harrowing', 'crammed', 'slides', 'others', 'categorize', 'rotting', 'babak', 'wide-smiling', 'eroticism', 'aspects', 'leonard', 'fluxing', 'fires', 'existentialism', 'university', 'liner', 'enlightened', 'crucifixion', 'springing', 'uncreative', 'discuss', 'inspiration', 're-imagining', 'exude', 'ecological', 'dwells', 'unromantic', 'whimsy', 'wondrous', 'laundry', 'spiritually', 'overtly', 'bob', 'initial', 'dying', 'cavaradossi', 'obsessively', 'appealingly', 'nelson', 'rage', 'republic', 'tender', 'stripped', 'shift', 'stolid', 'enamored', 'underlying', 'second-rate', 'creeps', 'damaged', 'naiveté', 'ineffective', 'loosely-connected', 'headly', 'stiletto-stomps', 'wish', 'pete', 'seams', 'self-critical', 'imitations', 'serious-minded', 'owed', 'comical', 'quirkily', 'dreams', 'population', 'fertility', 'max', 'usher', 'pollak', 'rogers', 'pellington', 'jeffrey', 'claustrophobia', 'springer', 'too-spectacular', 'blatant', 'dylan', 'endlessly', 'sometimes', 'weirdly', 'reeks', 'openness', 'soured', 'blazing', 'juwanna', 'dismember', 'embarking', 'subtle', 'incredible', 'older', 'good-natured', 'vehicle', 'disabilities', 'compositions', 'often-hilarious', 'splitting', 'articulate', 'stayed', 'irritatingly', 'framing', 'document', 'sentiments', 'villainess', 'gore-free', 'blackout', 'juliette', 'disappoints', 'slapped', 'piercingly', 'truffaut', 'category', 'well-developed', 'jack', 'tackling', 'piss', 'photographer', 'howlingly', 'hoofing', 'jacobi', 'whip-smart', 'yank', 'marching', 'lika', 'enforced', 'trimmings', 'sure', 'cleanflicks', 'professional', 'updates', 'aside', 'husband-and-wife', 'non-exploitive', 'somber', 'decent-enough', 'wiggling', 'bona', 'willing', 'hanley', 'continuity', 'impacts', '4', 'demeaning', 'purportedly', 'gorefest', 'pandemonium', 'instalment', 'jae-eun', 'well-timed', 'teenage', 'entity', 'trite', 'animatronic', 'winking', 'lens', 'scored', 'murders', 'these', 'winger', 'sister', 'zaidan', 'coal', 'updating', 'garde', 'eye', 'question', 'two-hour-and-fifteen-minute', 'brecht', 'costuming', 't.', 'founders', 'heavily', 'building', 'mario', 'strangling', 'baio', 'truth-in-advertising', 'scalds', 'strangers', 'gradually', 'fate', 'upbeat', 'skirmishes', 'undermines', 'coinage', 'nonconformity', 'thinks-it-is', 'aspirations', 'beats', 'earth', 'whimsical', 'sober', 'wiel', 'solidity', 'notches', 'thulani', 'quinn', 'conjured', 'divided', 'barrymore', '146', 'ahead', 'celebi', '1938', 'implausibility', 'pseudo-educational', 'indians', 'significance', 'behavior', 'view', 'come', 'represented', 'eccentricities', 'frankly', 'task', 'upends', 'j.', 'breathless', 'hallucinatory', 'flails', 'toro', 'suspects', 'newcastle', 'spite', 'adaptations', 'goose-pimple', 'delia', 'a.c.', 'blast', 'searching', 'flimsy', 'churns', 'argues', 'excessively', 'support', 'subversive', 'risk', 'reaching', 'tenderly', 'exhilarating', 'flop', 'rank', 'words', 'grandness', 'finn', 'possession', 'concert', 'therapy', 'schnitzler', 'mamet', 'well-made', 'toddler', 'late', 'especially', 'discovering', 'suddenly', 'miserable', 'playbook', 'outcome', 'broke', 'burr', 'rough-trade', 'activities', 'gaunt', 'spade', 'leroy', 'phlegmatic', 'jersey', 'diction', 'phony', 'spontaneity', 'congratulate', 'salvage', 'expecting', 'heartache', 'cool-j', 'also', 'interdependence', 'femme', 'likes', \"'50s\", 'acolytes', 'rocawear', 'individuals', 'life-affirming', 'appetite', 'auteil', 'amateurishly', 'waves', 'absent', 'cortez', 'images', 'recruiting', 'instruct', 'uninvolving', 'unfulfilled', 'holistic', 'fish', 'wholly', 'saves', 'conception', 'bounces', 'molehill', 'stomach-knotting', 'all-powerful', 'drek', 'leash', 'mediocre', 'merchandised-to-the-max', 'unaccountable', 'threshold', 'quickly', 'letter', 'walls', 'self-conscious', 'separate', 'shattering', 'solutions', '...', 'texture', 'somebody', 'unruly', 'easier', 'spiritualism', 'basic', 'maturity', 'rewrite', 'mortality', 'theatrically', 'leavened', 'dirty', 'believability', 'intent', 'ushered', 'ill-wrought', 'scoob', 'control', 'shrug', 'ribisi', 'united', 'godfrey', 'hears', 'austerity', 'riveted', 'plant', 'station', 'whimper', 'walking', 'slash-fest', 'carved', 'feat', 'willis', 'hanging', 'parody', 'handsome', 'missing', 'goyer', 'repeatedly', 'shoulder', 'points', 'long-lived', 'attempts', 'presence', 'glass-shattering', 'in-joke', 'grandfather', 'shimmering', 'editor', 'kids-in-peril', 'rest', 'lousy', 'chord', 'heartily', 'contentious', 'pap', 'dodge', 'bermuda', 'writer-director', 'farrelly', 'warrior', 'retaliation', 'academy', 'subscriber', 'judaism', 'steals', 'mentally', 'cheap', 'gulzar', 'stomach', 'knees', 'beloved', 'illustrating', 'raging', 'far-fetched', 'bailly', 'thump', 'long-on-the-shelf', 'adrien', 'hitchcock', 'flames', 'deaths', 'ages-old', 'jean-claud', 'lived-in', 'wiseman', 'animation', 'practices', 'laugh-out-loud', 'chicago-based', 'exquisitely', 'epiphanies', 'k-19', 'built', 'fairly', '`', 'specter', 'pg-13', 'shut', 'ivans', 'addition', 'appetites', 'confined', 'desert', 'guiltless', 'participants', 'little-known', 'wan', 'even-handedness', 'ingratiating', 'brisk', 'retread', 'likable', 'engine', 'stereotypical', 'unnoticed', 'surrounded', 'caffeinated', 'acclaim', 'self-styled', 'attempt', 'she', 'ache', 'chyna', 'bitchy', 'gimmicks', 'scorn', 'majidi', 'stop-and-start', 'approaching', 'posing', 'mick', 'complete', 'wholesale', 'holding', 'combination', 'behave', 'barrie', 'parachutes', 'discordant', 'collateral', 'muzak', 'envelope', 'enlightening', 'solely', 'ruined', 'messy', 'kosashvili', 'movie-going', 'smiles', 'herrings', 'zwick', 'visible', 'mayhem', 'connected', 'dolphin-gasm', 'unfold', 'exasperatingly', 'deferred', 'ends', 'willies', 'score', 'confection', 'know', 'hitler-study', 'undergo', 'ranges', 'stilted', 'brothers', 'network', 'succumb', 'depths', 'soliloquies', 'doodled', 'well-structured', 'brussels', 'games', 'gone', 'vital', 'clients', 'testing', 'immortal', 'calibre', 'surveyed', 'cartoons', 'unlikable', 'gamble', 'texan', 'sitcomishly', 'stevens', 'straight-to-video', 'australia', 'kitten', 'complexities', 'correctly', 'mcculloch', 'labor', 'narcotized', 'voyeuristic', 'benshan', 'guns', 'eerie', 'reeking', 'icky', 'shorts', 'overall', 'b.s.', 'food', 'had', 'halfway', 'irreverence', 'hammering', 'choreography', 'precision', 'sorrowful', 'pillowcases', 'paperbacks', 'emphasizing', 'americans', 'writer/directors', 'debt', 'cheesy', 'sporadic', 'comatose', 'encouraging', 'ambitiously', 'joyful', 'fortunately', 'group', 'villeneuve', 'lolita', 'priggish', 'although', 'orchestrated', 'filmmaking', 'roberts', 'pimps', 'mélange', 'snoots', 'twaddle', 'welt', 'content', 'tackles', 'memorable', 'puzzle', 'guilt', 'enters', 'offers', 'consider', '****', 'mixture', 'conversion', 'two-bit', 'evoked', 'tricky', 'insulting', 'velocity', 'spirit', 'quick-cut', 'one-liners', 'bush', 'hounds', 'veneer', 'extant', 'butthead', 'chuckle', 'slightly', 'baird', 'mined', 'mass', 'by-the-numbers', 'set', 'dawson', 'wherever', 'tumultuous', 'irreverent', 'examining', 'fresher', 'contrasting', 'scenes', 'holden', 'visually', 'like-themed', 'freaky', 'eventful', 'uneasily', 'long-suffering', 'formulaic', 'maneuvers', 'robbed', 'language', 'clear-eyed', 'exclamation', 'places', 'faked', 'viva', 'super-serious', 'explodes', 'sultry', 'fatale', 'off-putting', 'monumental', 'revolutionary', 'consumerist', 'morgen', 'jaglom', 'smart', 'unamusing', 'claims', 'silliness', 'virtuoso', 'published', 'fights', 'breathing', 'waltz', 'puppies', 'shines', 'lau', 'boomers', 'refreshed', 'debut', 'hijinks', 'harris', 'wallowing', 'submerged', 'engulfed', 'doors', 'getting', 'split-screen', 'deliciously', 'dies', 'rice', 'films', 'agony', 'america', 'recovery', 'bloodbath', 'penned', 'brazen', 'counting', 'slow', 'range', 'glancing', 'marketing', 'yarn-spinner', 'wife', 'expensive', 'slam-dunk', 'compromise', 'shainberg', 'perplexing', 'actorly', 'preordained', 'schweig', 'sewage', 'serial', 'two-way', 'dridi', 'hired', 'technology', 'awkwardness', 'unlaughable', 'goth', 'value', 'sam', 'extends', 'rapturous', 'captivating', 'decides', 'launch', 'altered', 'half-dozen', 'animations', 'joyous', 'industrial-model', 'suit', 'cultural', 'seat', 'faded', 'moods', 'altman-esque', 'hoary', 'lunacy', 'latino', 'projection', 'dystopian', 'xxx', 'loving', 'not-very-funny', 'under-rehearsed', 'boorishness', 'lucas', 'multiple', 'recovers', 'favorably', 'haphazardness', 'dominate', 'spooks', 'insanely', 'god', 'truckzilla', 'stylishly', 'arguments', 'expands', 'milestones', 'enjoyed', 'live-style', 'salaries', 'tickles', 'fondly', 'excited', 'discarded', 'responsibilities', 'insider', 'r&b', 'incomprehensible', 'pig', 'humor-seeking', 'abel', 'chasm', 'sleek', 'fleeing', 'shoulders', 'apple', 'marvelously', 'filler', 'sketchiest', 'circular', 'deftly', 'pamela', 'maudlin', 'woody', 'works', 'bogging', 'bilingual', 'steeped', 'delusions', 'perhaps', 'brooding', 'donovan', 'murray', 'smile-button', 'acquires', 'duck', 'valiant', 'identity', 'evacuations', 'one-sidedness', 'painful', 'girlfriends', 'violinist', 'allen', 'teeth-clenching', 'choreographed', 'homicide', 'posthumously', 'publicists', 'land', 'introduce', 'afterthought', 'failing', 'contrast', 'washout', 'irreversible', 'flesh', 'commercialism', 'dated', 'guise', 'originality', 'germanic', 'broder', 'swordfights', 'of', 'prince', 'background', '91-minute', 'frittered', 'ellen', 'latest', 'old-time', 'loneliness', 'assurance', 'juiced', 'redundancy', 'eclair', 'thrust', 'tosses', 'due', 'ensures', 'character-who-shall', 'send-up', 'persecuted', 'frightful', 'affords', 'assign', 'inadequately', 'lad', 'famine', 'dosage', 'lacked', 'why', 'tardier', 'negate', 'conveys', 'sacrificed', 'observant', 'radar', 'dan', 'project', 'antitrust', 'undead', 'dopey', 'proud', 'telling', 'eight', 'unusually', 'russell', 'grace', 'probing', 'anna', 'cagney', 'pinheads', 'hard-pressed', 'dispossessed', 'police-procedural', 'carpets', 'credit', 'trashy', 'mental', 'innovation', 'blade', 'remained', 'cherry', 'span', 'co-dependence', 'cd', 'lapaglia', 'payne', 'refresh', 'pushes', 'combines', 'self-absorption', 'succumbs', 'pasach', 'item', 'kramer', 'inquisitiveness', 'light', 'goods', 'peculiarly', 'satisfaction', 'ironies', 'heightened', 'purpose', 'revenge', 'proficiency', 'evaporates', 'wit', 'terribly', 'noticeable', 'compellingly', 'recent', 'lobotomy', 'paeans', 'chaykin', 'happily-ever', 'hit-man', 'koshashvili', 'metaphorical', 'nachtwey', 'captive', 'dignified', 'glimpses', 'margolo', 'enigmatic', 'levity', 'appealing', 'barbarism', 'inert', 'kitsch', 'classify', 'opposed', 'heartstrings', 'amari', 'facades', 'rigidly', 'offend', 'moat', 'placid', 'offensive', 'clotted', 'prickly', 'limp', 'unrequited', 'irrigates', 'delete', 'backbone', 'cletis', 'loveable', 'hailed', 'primary', 'crash', 'singing', 'noisy', 'awakening', 'convincing', 'edged', 'fisher', 'layers', 'blasphemous', 'slivers', 'unchanged', 'stray', 'freakshow', 'makes', 'balzac', 'harshness', 'swimfan', 'developers', 'destruction', 'pseudo-bio', 'shekhar', 'broken', 'mothman', 'monroe', 'sets', 'poetic', 'looked', 'smarts', 'cutting-room', 'pretensions', 'mclaughlin', 'iii', 'triple', 'ambitions', 'finest', 'perfection', 'hitch', 'well-mounted', 'slummer', 'sidewalks', 'poses', 'beings', 'clean', 'ghostbusters', 'as-it', 'manual', 'well-worn', 'actorliness', 'larry', 'humidity', 'breen', 'rehash', 'minor', 'coma-like', 'stunt-hungry', 'unadulterated', 'merchant-ivory', 'unappealing', 'rushed', 'ethical', 'wrestling', 'molestation', 'comprehension', 'herring', 'reversal', 'pursuing', 'joins', 'footnote', 'sporting', 'actually', 'naïveté', 'cuban', 'secondary', 'outtakes', 'menzel', 'entrapment', 'unpleasant', 'boring', 'bitterly', 'assess', 'plots', 'murder-on-campus', 'war-movie', 'self-destructive', 'genuine', 'celebrates', 'key', 'mordantly', 'fusty', 'sorority', 'immediately', 'schizophrenia', 'followed', '129-minute', 'dough', 'hard-hitting', 'unfairly', 'disastrous', 'accident-prone', 'weep', 'flirts', 'mediocrity', 'mercilessly', 'awarded', 'bucks', 'swiftly', 'adorably', 'marine', 'high-powered', 'peril', 'pushiness', 'poky', 'mason', 'providing', 'crimes', 'watered-down', 'uruk-hai', 'throwing', 'orchestrating', 'reparations', 'simulate', 'harbor', 'tomatoes', 'dutifully', 'chastity', 'competent', 'conditioning', 'fulfill', 'blandness', 'jolly', 'grips', 'spielberg', 'big-fisted', 'pretension', 'mishandle', 'pizza', 'awkwardly', 'perceptive', 'simpsons', 'lethally', 'carnivore', 'cad', 'desperate', 'date', 'tactic', 'repressed', 'gross-out', 'wrapping', 'opulent', 'strenuously', 'telegraphs', 'impeccable', 'sour', 'monstrous', 'girardot', 'disney-style', 'smoke', 'manage', 'distill', 'atmosphere', 'topical', 'overstylized', 'blatantly', 'allegedly', 'profane', 'provocateur', 'cultivated', 'brawny', 'facade', 'still-inestimable', 'sisters', 'promotion', 'affluence', 'armageddon', 'undistinguished', 'candid', 'italics', 'schmaltz', 'insouciance', 'wilder', 'tarkovsky', 'induce', 'everlasting', 'wildcard', 'bernal', 'bowling', 'switchblade', 'recycles', 'revelled', 'sympathizing', 'wig', 'over-blown', 'funnier', 'patchwork', 'trots', 'splatter', 'revision', 'percentages', 'elite', 'enjoy', 'handicap', 'chewy', 'macaroni', 'parlor', 'looney', 'wherein', 'plateau', 'neglects', 'tripe', 'evade', 'war', 'naughty', 'butterworth', 'quick-witted', 'indieflick', 'future', 'self-image', 'courage', 'options', 'asparagus', 'juvenile', 'faces', 'thirst', 'mosque', 'who', 'agenda', 'bmw', 'pallid', 'dismal', 'schoolers', 'komediant', 'gritty', 'connections', 'recreated', 'redemption', 'esoteric', 'iconoclastic', 'includes', 'well-written', 'down', 'sick', 'infusing', 'crematorium', 'restatement', 'newcomer', 'masses', 'failed', 'sarah', 'jostles', \"'90s\", 'nail-biter', 'device', 'excess', 'baran', '72-year-old', 'halfwit', 'adept', 'gallic', 'elevates', 'lurid', 'province', 'tries-so-hard-to-be-cool', 'bluster', 'lays', 'brimming', 'khouri', 'beloved-major', 'clause', 'tremors', 'problematic', 'twice', 'soaked', 'fathers', 'items', 'exalts', 'bout', 'oscar-winning', 'franklin', 'perspicacious', 'snowman', 'bubbly', 'current', 'bare', 'snared', 'richard', 'biggie', 'predictability', 'minimal', 'advertisement', 'person', 'penn', 'online', 'observed', 'breakthrough', 'pianist', 'collision', 'rock-solid', 'continue', 'outline', 'explores', 'inconsequential', 'næss', 'perennial', 'jock', 'innumerable', 'london', 'advised', 'elegy', 'expense', 'camouflaging', 'expressive', 'lily', 'solaris', 'religious', 'blend', 'recording', 'delivering', 'large-frame', 'accommodate', 'teen-speak', 'fat', 'banged', 'assailants', 'fair', 'zeroes', 'reign', 'develops', 'relies', 'improvised', 'butt', 'passion', 'grasping', 'lengthy', 'veggies', 'lake', 'married', 'uncover', 'quiet', 'dull-witted', 'unleashes', 'tremendous', 'funk', 'inelegant', 'shamelessly', 'sappy', 'describing', 'slack', \"'60s\", 'happened', 'denial', 'warlord', 'fangoria', 'performances', 'treating', 'removed', 'you', 'omnibus', 'overpowered', 'telemarketers', 'cleansing', 'frissons', 'atmospherics', 'puppy', 'generate', 'blip', 'methodology', 'direct', 'tale', 'chimney', 'junior-high', 'horns', 'sara', 'leaning', 'busby', 'carpenter', 'life-at-arm', 'eccentric', 'smokers', 'science', 'ugh', 'wannabe-hip', 'aspired', 'twists', 'wedge', 'otherworldly', 'televised', 'farenheit', 'excruciating', 'scuzzy', 'comparing', 'charismatic', 'satisfyingly', 'inside-show-biz', 'not-so-divine', 'minutiae', 'hades', 'bursting', 'hooked', 'rose-tinted', 'outre', 'aboriginal', 'lukewarm', 'fun-seeking', 'painkillers', 'shmear', 'mourning', 'ethnography', 'either', 'casings', 'invite', 'copy', 'inimitable', 'worked', 'run-of-the-mill', 'cross-cultural', 'program', 'nails', 'divertissement', 'date-night', 'devils', 'underappreciated', 'friedman', 'on', 'advertised', 'strips', 'zaza', 'deportment', 'awe', 'relays', 'overwhelming', 'rejects', 'tryingly', 'provincial', 'waydowntown', 'merges', 'configurations', 'transformation', 'payami', 'examination', 'weissman', 'seagal', 'wickedly', 'anti-adult', 'mist', 'comedically', 'blonde', 'workplace', 'strung-together', 'hems', 'sampi', 'permeates', 'biggest', 'bit', 'allegiance', 'book-on-tape', 'any', 'trash-cinema', 'confront', 'powder', 'roads', 'brought', 'tug', 'flavors', 'giles', 'reflection', 'skittish', 'variations', 'enables', 'fatter', 'aladdin', 'touches', 'mccann', 'crowd', 'greenlight', 'seventy-minute', 'substantive', 'accumulate', 'feminist', 'lovers', 'jelinek', 'moral', 'accessible', 'amiable', 'self-discovery', 'asian', 'actions', 'manufactured', 'favor', 'groupies', 'quixotic', 'lark', 'workout', 'murphy', 'wears', 'westerners', 'well-conceived', 'morton', 'companion', 'resident', 'catching', 'generous', 'aftertaste', 'miscalculation', 'longer', 'psyche', 'whereas', 'rarest', 'withstand', '90-plus', 'watercolor', 'argentine', 'magic', 'millions', 'notes', 'slope', 'exhausted', 'overcooked', 'peanut', 'propelled', 'avid', 'sources', 'nietzsche-referencing', 'period', 'undramatic', 'guts', 'lambs', 'thuds', 'fifty', 'choosing', 'dicey', 'fuzzy', 'sparkling', 'hoffman', 'pollute', 'ed', 'trying', 'panorama', 'shawn', 'supremely', 'wasted', 'funniness', 'smeary', 'page', '60-second', 'marveled', 'natural-seeming', 'inexperienced', 'ultra-provincial', 'shellshock', 'longley', 'quirkiness', 'accomodates', 'lantern', 'beside', 'overblown', 'traveler', 'exceptional', 'norm', 'teen', 'hack-and-slash', 'throughout', 'wound', 'bond', 'eyelids', 'staggering', 'contemplation', 'that', 'noticing', 'raunch-fests', 'elizabeth', 'infuriatingly', 'cradles', 'authentically', 'fanboy', 'recount', 'beast-within', 'gutsy', 'passionate', 'rip', 'hip-hop', 'fruitful', 'humanistic', 'views', 'intrepid', 'bodily', 'patricio', 'enthusiasts', 'kibbitzes', 'dancing', 'resides', 'became', 'pickup', 'resentment', 'friggin', 'gorgeous', 'deem', 'drunken', 'imbued', 'fiery', 'pros', 'skilled', 'milder', '8th', 'burgeoning', 'existence', 'half-assed', 'august', 'distract', \"'70s\", 'awesome', 'wrong', 'novels', 'defense', 'brave', 'debilitating', 'rape-payback', 'occupied', 'cheery', 'affirms', 'smoking', 'saying', 'horse', 'walk', 'heedless', 'unsatisfied', 'auto', 'goldman', 'reasonable', 'systematically', 'schrader', 'judd', 'dramas', 'authentic', 'rodan', 'hyper-artificiality', 'directing', 'clash', 'unflinching', 'whirlwind', 'settle', 'ya-ya', 'hideously', 'astounding', 'flip-flop', 'sparked', 'brief', 'seem', 'discontent', 'investigation', 'so-five-minutes-ago', 'quaid', 'highlander', 'boyd', 'sham', 'grad', 'courageous', 'period-perfect', 'feral', 'intractable', 'emulates', 'grooved', 'conviction', 'clout', 'kahlories', 'incarnation', 'entertain', 'flog', 'spontaneous', 'whale', 'mixed-up', 'prologue', 'assured', 'moldering', 'antonia', 'beautifully', 'deliver', 'hellstenius', 'purgatory', 'echo', 'risks', 'kooky', 'pull', '19th', 'tank', 'opera', 'sequence', 'books', 'moody', 'special', 'outnumber', 'fairytale', 'stoner', 'volcano', 'modus', 'denying', 'japanimator', 'uncharismatically', 'garcía', 'ditched', 'imagines', 'need', 'sloppy', 'astonishingly', 'stabs', 'explored', 'amir', 'critiquing', 'log', 'well-edited', 'boldly', 'open-mouthed', 'coma', 'unpretentious', 'underscore', 'traditional', 'inside', 'live-action', 'imitating', 'ballsy', 'tonight', 'whodunit', 'known', 'silent', 'gaitskill', 'apparatus', 'rabbit-proof', 'planet', 'crummy', 'rembrandt', 'gullible', 'evil', 'plays', 'jumble', 'self-centered', 'downplays', 'uncle', 'italicized', 'gory', 'generating', 'videos', 'holographic', 'ground', 'thoughtfully', 'labored', 'barking-mad', 'squirming', 'yes', 'transparent', 'author', 'convinces', 'decommissioned', 'awards', 'butler', 'structured', 'finds', 'drumline', 'pinocchio', 'simplicity', 'caricature', 'cooler', 'bratt', 'widely', 'laser', 'wendigo', 'tom', 'concerned', 'career-best', 'howler', 'artnering', 'animaton', 'demanding', 'motifs', 'concentration', 'grateful', 'shivers', 'soundtrack', 'watered', 'infusion', 'eighties', 'asset', 'asylum', 'scouse', 'further', 'describe', 'jelly', 'documentaries', 'oo', 'intro', 'too-hot-for-tv', 'ultra-cheesy', 'shake', 'zipper', 'reside', 'styled', 'grenade', 'contributed', 'bio', 'rusted-out', 'alluring', 'shame', 'romantics', 'sing', 'hollywood-predictable', 'renewal', 'ambiguities', 'awfulness', 'paradoxically', 'poet', 'complexity', 'mixes', 'struggle', 'fear', 'radiates', 'geographical', 'filmmaker', 'victimized', 'unashamedly', 'badness', 'artist', 'atrocities', 'maintained', 'homo-eroticism', 'embellishment', 'conceptual', 'videotape', 'ryder', 'spent', 'treachery', 'journalism', 'dash', 'seal', 'imponderably', 'reduces', 'currently', 'invigorating', 'camp', '2000', 'female', 'jacobson', 'optimism', 'exceeds', 'fine', 'bible-study', 'subzero', 'self-aware', '10-year-old', 'merchant', 'gulpilil', 'fiddle', 'used', 'wizardry', 'mockumentary', 'runyon', 'moderately', 'bland', 'vivid', 'benevolent', 'doing', 'participatory', 'saved', 'seamless', 'fabricated', 'thing', 'recycle', 'horrified', 'instrument', 'rawness', 'exterminator', 'refracting', 'willingly', 'hugh', 'mourns', 'resulted', 'age', 'nicely', 'veering', 'forceful', 'pasta-fagioli', 'trusts', 'suggest', 'policy', 'self-mutilation', 'yard', 'belong', 'gong', 'classification', 'forced', 'dave', 'thought-provoking', 'self-aggrandizing', 'sandeman', 'democracie', 'camera', 'honeys', 'height', 'capable', 'well-thought', 'untalented', 'standout', 'lazily', 'flurries', 'invitingly', 'highways', 'disgracefully', 'metal', 'exceptions', 'uneventful', 'resembles', 'rendering', 'weave', 'forgoes', 'row', 'rehashes', 'ferment', 'live', 'murky', 'freddie', 'chinese', 'curmudgeon', 'paltrow', 'disreputable', 'disturb', 'introduces', 'spirituality', 'gator-bashing', 'horses', 'distinctive', 'perpetrated', 'danang', 'whippersnappers', 'operatic', 'romance-novel', 'self-promoter', 'dumbed-down', 'false', 'choice', 'comparison', 'john', 'berry', 'keenest', 'distinct', 'cut', 'uncanny', 'they', 'marvin', 'alternative', 'apart', 'imbecilic', 'richly', 'fertile', 'blab', 'companionship', 'exploitative', 'greasy', 'responses', 'gloomy', 'bourne', 'mannerisms', 'labeled', 'mcconaughey', 'siren', 'stunts', 'abridged', 'mattered', 'school-age', 'copout', 'peopled', 'play-doh', 'marinated', 'hooting', 'primal', 'stuffiest', 'doorstep', 'tossed', 'helluva', 'buoy', 'beat', 'clunky', 'entertaining', 'adrenalized', 'peak', 'decrepit', 'monty', 'p.o.w.', 'available', 'warner', 'spiffing', 'inadvertent', 'exquisite', 'crisis', 'shabby', 'michelle', 'offering', 'difficulty', 'negatives', 'negotiate', 'endured', 'suitably', 'notion', 'woodard', 'oozing', 'bumps', 'les', 'consumed', 'butterflies', 'pro', 'runteldat', 'voices', 'championship', 'stretched', 'beer-soaked', 'hawk', 'firth', 'required', 'egomaniac', 'dead-end', 'demographically', 'cross-section', 'principals', 'board', 'mcdowell', 'uninteresting', 'clothing', 'banter-filled', 'bollywood/hollywood', 'tso', 'gaze', 'tastelessness', 'baseball-playing', 'learns', 'dishonest', 'parrot', 'agitator', 'anatomical', 'ages', 'ambience', 'right-wing', 'storytelling', 'horror/action', 'box', 'shenanigans', 'avoid', 'river', 'near-fatal', 'them', 'gangs', 'denuded', 'wades', 'plot-lines', 'asked', 'superhero', 'pushing', 'morals', 'excursion', 'mojo', 'ice-t', 'polemic', 'underlay', 'police', 'bones', 'freshening', 'fumbles', 'revisionism', 'some', 'sappiness', 'objective', 'misogyny', 'indecent', 'kathryn', 'invasion', 'globetrotters-generals', 'collar', 'contact', 'picture', 'facet', 'derived', 'alter', 'aspect', 'histrionic', 'argento', 'revelatory', 'flatula', 'unforced', 'stress', 'memory', 'blandly', 'fame', 'economics', 'tov', 'stubbornly', 'falters', 'reincarnation', 'tosca', 'unfulfilling', 'tightrope', 'enriched', 'colorful', 'matthew', 'simone', 'retreats', 'liza', 'entranced', 'compelling', 'releases', 'hjelje', 'glizty', 'torments', 'stopped', 'accuracy', 'raw-nerved', 'smug', 'serving', 'nor', 'mask', 'kinda', 'extra-large', 'partnerships', 'listless', 'inspiring', 'populist', 'delicious', 'rates', 'psychedelia', 'malkovich', 'illness', '1933', 'inclusiveness', 'starving', 'jackass', 'connoisseurs', 'sketch', 'concentrating', 'closely', 'aiming', 'viewer', 'astounds', 'aan', 'stirring', 'matrix', 'glossy', 'playoff', 'portraiture', 'tinge', 'contrived', 'swung', 'teeny-bopper', 'nationwide', 'olympia', 'tight', 'reggio', 'oversimplification', 'confidently', 'relate', 'environmental', 'hallelujah', 'tolstoy', 'retail', 'college', 'crassness', 'thrilled', 'shu', 'ironic', 'hollowness', 'offbeat', 'combat', 'disguise', 'david', 'laurice', 'romanticization', 'figures', 'dutiful', 'protecting', 'wal-mart', 'afterschool', 'leery', 'determine', 'walled-off', 'diverges', 'showdown', 'publicity', 'laissez-passer', 'accomplishments', 'bile', 'pro-wildlife', 'star-studded', 'eat', 'facial', 'trailer-trash', 'extraordinarily', 'projectile', 'invaders', 'lows', 'hell', 'senses', 'superb', 'charmless', 'passes', 'punchline', 'self-control', 'multilayered', 'cold', 'adage', 'note', 'ladies', 'hallmark', 'modern-office', 'rediscover', 'well-realized', 'wiseacre', 'truly', 'doug', 'controversy', 'plaguing', 'amazement', 'weaponry', 'shoplifts', 'inescapably', 'mystic', 'expansion', 'adroit', 'than', 'engrossing', 'hiatus', 'tearful', 'kane', 'rooms', 'extravagantly', 'bread', 'bridget', 'finish', 'serves', 'push', 'métier', 'stimulate', 'franc', 'fire', 'ventura', 'drops', 'boiled', 'rally', 'twenty-first', '110', 'themes', 'fringe', 'm.i.t.', 'conventions', 'straining', 'near', 'rae', 'pre-credit', 'garden', 'um', 'changes', 'curtains', 'deflated', 'conrad', 'hypertime', 'conflict', 'mothers', 'bouquet', 'cue', 'fiascos', 'solomonic', 'divorce', 'whenever', 'record', 'depends', 'permission', 'turned', 'ashley', 'sons', 'king', 'pacing', 'breathe', 'grittily', 'thrillingly', 'independent', 'audacity', 'reclaiming', 'freeman', 'stadium-seat', 'give-me-an-oscar', 'banter', 'lonely', 'undermined', 'assuredly', 'shifted', 'operative', 'shimizu', 'fuhrman', 'wants', 'because', 'imparting', 'plagued', 'shape', 'messiness', 'staying', 'hide', 'guaranteed', 'jacqueline', 'satiric', 'escape', 'transcend', 'historic', 'enough', 'masterly', 'viveka', 'scooby-doo', 'cashing', 'psychic', 'numbered', 'border', 'bypass', 'partnership', 'waged', 'pedigree', 'overstating', 'abandon', 'addict', 'unnerving', 'cherish', 'jeong', 'amnesiac', 'aisles', 'factor', 'toward', 'eagle', 'blown-out', 'ticket', 'celebrity', 'subtler', 'sensational', 'trend', 'functions', 'carry', 'lack', 'motives', 'seizures', 'whir', 'bored', 'dysfunctional', 'seldahl', 'oversized', 'simpler', 'defiance', 'neither', 'ones', 'shootouts', 'activate', 'crooning', 'round', 'memories', 'tyson', 'rekindle', 'very', 'learning', 'segment', 'ugly-looking', 'blind', 'mcmullen', 'prescient', 'excels', 'closed-door', 'scriptwriters', 'fetishistic', 'escapist', 'shoe-loving', 'calm', 'admirers', 'zombie', 'obscured', 'access', 'pixilated', 'reigen', 'channel', 'fervently', 'butterfingered', 'worlds', 'stinks', 'underwhelming', 'collapse', 'subtitled', 'silences', 'contemplative', 'regain', 'vaunted', 'near-impossible', 'seigner', 'minus', 'boasting', 'sub', 'unrelentingly', 'edges', 'confused', 'fizzability', 'inquisitive', 'fred', 'cool', 'prepared', 'deviant', 'superhuman', 'one-star', 'whistle', 'caesar', 'unsatisfying', 'campy', 'tougher', 'thousands', 'slowly', 'reassure', 'comedian', 'boldface', 'loaded', 'singular', 'self-preservation', 'laid', 'about', 'plot', 'sixth-grade', 'tongues', 'vanity', 'violently', 'richer', 'uni-dimensional', 'breheny', 'meanderings', 'tens', 'lucia', 'severe', 'criticism', 'inoffensive', 'plucks', 'wes', 'halle', 'information', 'improvise', 'bart', 'morrison', 'puportedly', 'skins', 'increasingly', 'shapes', 'column', 'primarily', 'metaphors', 'ver', 'imitation', 'gag', 'developments', 'nourishing', 'road', 'advance', 'fiendish', 'fighting', 'float', 'trouble-in-the-ghetto', 'game', 'relevant', 'recommendation', 'kilt', 'dude', 'resurrecting', 'palpable', 'all-time', 'aided', 'dry', 'harrison', 'telescope', 'song-and-dance-man', 'oddity', 'charlie', 'fulford-wierzbicki', 'fluidity', 'blowing', 'incredibly', 'could', \"d'etre\", 'month', 'lisping', 'bergman', '52', 're-voiced', 'deliriously', 'possess', 'over-the-top', 'odor', 'wedgie', 'nonchalantly', 'delectable', 'exact', 'middle-age', 'grown-up', 'quest', 'guessable', 'caterer', 'skills', 'realization', 'maxim', 'belgium', 'astoundingly', 'focusing', 'tenderness', 'engages', 'months', 'gleefully', 'pee', 'workers', 'harks', 'cannibal', 'brass', 'impact', 'overlong', 'humanly', 'awfully', 'interest', 'luther', 'disintegrates', 'stealing', 'potato', 'alcatraz', 'revenge-of-the-nerds', 'harvard', 'lola', 'drags', 'parent', 'nary', 'rediscovers', 'excruciatingly', 'failings', 'combustible', 'knowing', 'follies', 'gliding', 'realizing', 'snoozer', 'shooting', 'pan-american', 'delicate', 'quite', 'prom', 'monday', 'amateurish', 'slap', 'history', 'male', 'overdue', 'exalted', 'telephone', 'ordeal', 'curlers', 'père-fils', 'brilliance', 'heat', 'palate', 'mounted', 'forgettably', 'ruffle', 'hoping', 'fashion', 'full-frontal', 'ringing', 'sub-formulaic', 'homeric', 'carl', 'plummets', 'bubble', 'lowly', 'barbershop', 'alternate', 'pleasing', 'passably', 'decision', 'ninth', 'attics', 'fabuleux', 'coping', 'invented', 'pop-induced', '51', 'puzzling', 'learned', 'convenient', 'emphatic', 'auspicious', 'moan', 'exploratory', 'jr.', 'excellent', 'been-there', 'gayton', 'formula', 'schizo', '84', 'moretti', 'fighter', 'corpse', 'leonine', 'anthropomorphic', 'occupation', 'perceptions', 'digitally', 'solipsistic', 'diesel', 'couch', 'haneke', 'fancy', 'viewers', 'resume', 'bio-pic', 'roland', 'calibrated', 'bielinsky', 'childlike', 'bigelow', 'locale', 'pedestal', 'wazoo', 'women', 'helpful', 'hoot', 'cipherlike', 'marathons', 'philosophy', 'fight', 'stiff', 'jarring', 'tunis', 'accountant', 'chiller', 'cold-fish', 'stretch', 'creating', 'pixar', 'youthful', 'everyday', 'recite', 'store', 'sooooo', 'perspective', 'thirteen', 'gullets', 'leaping', 'architect', 'through-line', 'grind', 'family-oriented', 'looseness', 'predisposed', 'destroy', 'bits', 'hints', 'goodness', 'pride', 'ralph', 'jaglomized', 'edition', 'bid', 'vivre', 'repellantly', 'regarding', 'theorist', 'cheerfully', 'bust', 'protagonists', 'exasperating', 'unexceptional', 'neo-noir', 'vary', 'unpleasantly', 'bard', 'nancy', 'windows', 'vulgar', 'postcard', 'afternoon', 'heralds', 'dewy-eyed', 'insecurity', 'eventually', 'morose', 'delirium', 'shopping', 'life', 'campaign', 'probation', 'trio', 'desolate', 'elephant', 'bolero', 'fondness', 'contribution', 'personality', 'vainly', 'crescendo', 'posterity', 'insinuating', 'gesturing', 'generally', 'depressed', 'gored', 'dad', 'entertains', 'sinuously', 'mesmerizing', 'shoots', 'silence', 'elder', 'hunter', 'sven', 'discerned', 'saigon', 'encounters', 'light-footed', 'funny', 'formalist', 'loathsome', 'louts', 'dependent', 'insignificant', 'funniest', 'rea', 'interpersonal', 'peralta', 'schoolboy', 'finch', 'was', 'slaps', 'cliche', 'piles', 'unspeakable', 'ramifications', 'slurs', 'folk', 'boorish', 'griffin', 'adherents', 'dispel', 'payoffs', 'pinks', 'ventures', 'woods', 'melodramatic', 'suggesting', 'biscuit', 'fourteen-year', 'spotlights', 'framework', 'expert', 'yourselves', 'sturdiest', 'extremist', 'invaluable', 'haynes', '13th', 'ut', 'hills', 'unaware', 'keel', 'tame', 'pocket', 'down-to-earth', 'coen', 'c.', 'provides', 'rouge', 'parking', 'nuttgens', 'chases', 'annual', 'lower', 'gear', 'pedestrian', 'famed', 'saucy', '22', 'indeed', 'cat-and-mouse', 'cracked', 'natural', 'mild-mannered', 'rattling', 'exemplify', 'catalyst', 'scotland', 'cartons', 'manhattan', 'entrée', 'substance', 'tv-movie', 'laughter', 'l.', 'logistically', 'compatible', 'rapes', 'goldberg', 'cranked', 'trash', 'drill', 'gotten', 'triumphantly', 'pokey', 'possibilities', 'residences', 'noir', 'usually', 'handling', 'caddyshack', 'sucked', 'hates', 'hammers', 'ugly-duckling', 'thrilling', 'undone', 'fussy', 'interestingly', 'destructive', 'anything', 'kicks', 'craftsmen', 'totally', 'kids', 'exceptionally', 'emotional', 'devotees', 'line', 'kissinger', 'ill-conceived', 'situation', 'pitfalls', 'deserves', 'mumbo', 'subplot', 'neutral', 'complaint', 'groupie/scholar', 'peroxide', 'quasi-documentary', 'imbue', 'myth', 'unhibited', 'devotion', 'harlem', 'leatherbound', '90', 'lee', 'asquith', 'stern', 'mummy', 'ebullient', 'gender-provoking', 'goofiness', 'extremes', 'walking-dead', 'napoli', 'mentioned', 'mafia', 'alabama', 'spy', 'abandoned', 'iota', 'customarily', 'afghan', 'swank', 'catalytic', 'skulls', 'ticking', 'courtroom', 'damn', 'exaggerated', 'roster', 'cuts', 'hereby', 'kingsley', 'competing', 'lighthearted', 'working-class', 'which', 'haul', 'classified', 'seller', 'cautionary', 'linearity', 'utterly', 'bons', 'low-wattage', 'deckhand', 'reflect', 'nicolas', 'perversely', 'compelled', 'bogdanovich', 'plague', 'quality', 'so-called', 'wistfully', 'narrow', 'sumptuous', 'precisely', 'sadly', 'achievements', 'sorry', 'bracingly', 'photo', 'shrewd', 'titans', 'wash', 'expressly', 'ghandi', 'efforts', 'basketball', 'dreadfully', 'meager', 'arriving', 'energetic', 'glides', 'church-wary', 'budding', 'anachronistic', 'dragged', 'obsessive', 'travails', 'apted', 'twentysomething', 'savoca', 'exploration', 'semimusical', 'flagrantly', 'doze', 'argue', 'preferably', 'proof', 'eludes', 'rarely', 'excite', 'conspiracy', 'flabby', 'risky', 'crash-and-bash', 'returns', 'image', 'niche', 'lifts', 'n.m.', 'everything', 'unholy', 'consciously', 'tolerable', 'tara', 'falsehoods', 'timid', 'psychology', 'pop', 'four-star', 'downright', 'golf', 'gender', 'peculiar', 'contours', 'annals', 'serpent', 'overwritten', 'frustrating', 'immaculate', 'encomia', 'enjoyably', 'by', 'scarifying', 'mr.', 'perspectives', 'hate', 'distracts', 'acidic', 'flawless', 'ugly', 'tend', 'maternal', 'present', 'mail-order', '1994', 'kindness', 'numbingly', 'justifies', 'fizz', 'lecter', 'humming', 'notable', 'potter', 'jonah', 'apollo', 'match', 'spy-thriller', 'campion', 'boatload', 'retiring', 'fable', 'fetishes', 'installments', 'aids', 'sake', 'meaty', 'banquet', 'eminently', 'brightly', 'flopped', 'limbo', 'fork', 'oodles', 'leaky', 'cryin', 'smarter-than-thou', 'generations', 'liability', 'gaye', '18', 'guises', 'nightmare', 'dismay', 'spreads', 'intellectually', 'action-movie', 'biologically', 'mid-to-low', 'sinks', 'irwins', 'everybody', 'bursts', 'modesty', 'standard', 'platter', 'sought', 'go', 'stand-up', 'harbour', 'recreating', 'chillingly', 'talking', 'julie', 'exhaustingly', 'unsung', 'corniest', 'middle', 'ringside', 'pinochet', 'going', 'affects', 'flower', 'plato', 'teeming', 'continually', 'shreve', 'digressions', 'shown', 'off-screen', 'new', 'then', 'overused', 'degree', 'white-knuckled', 'jay', 'crass', 'overkill', 'closer', 'pause', 'gathering', 'punny', 'inflammatory', 'wrapped', 'relying', 'hicks', 'victor', 'belinsky', 'considered', 'color', 'tension', 'cadence', 'healing', 'owes', 'gooding', 'grows', 'bean', 'head-trip', 'prurient', 'towards', 'wattage', 'albeit', 'big-budget/all-star', 'abrupt', 'long-running', 'penetrating', 'piccoli', 'cluelessness', 'star-making', 'animated', 'endure', 'themed', 'laughs', 'consigned', 'littered', 'large-screen', 'evolution', 'temptingly', 'ridicule', 'aldrich', 'riviera', 'oppositions', 'showcases', 'pearl', 'confluence', 'soft-porn', 'neophyte', 's/m', 'dialogue', 'elevate', 'skimpy', 'eisenstein', 'anywhere', 'image-mongering', 'song', 'flatulence', 'substitutes', 'sever', 'capacity', 'anciently', 'east', 'stumbles', 'populates', 'dark', 'phones', 'sink', 'impatient', 'salt', 'water-born', 'reporters', 'shakespearean', 'forwards', 'flexible', 'elements', 'politically', 'sophisticated', '140', 'nothing', 'underventilated', 'bridge', 'jazzy', 'represents', 'afterwards', 'depicts', 'startling', 'admitting', 'though', 'sharks', 'x-files', 'yoda', 'real-life', 'beliefs', 'detached', 'era', 'f', 'watchable', 'scripters', 'stone', 'various', 'cocky', 'stew', 'squad', 'land-based', 'renegade-cop', 'leon', 'emerge', 'nagging', 'vaporize', 'hill', 'backhanded', 'overnight', '2', 'rom-com', 'compressed', 'approaches', 'di', 'volletta', 'german', 'ah', 'defined', 'magician', 'gleaned', 'must-own', 'probes', 'tutorial', 'time-consuming', 'flows', 'sabara', 'synthetic', 'ennui-hobbled', 'subject', 'royals', 'target', 'giddy', 'humorous', 'swooping', 'q', 'aniston', 'aloof', 'dealer', 'eviction', 'lights', 'intimacy', 'dynamic', 'cheats', 'pasty', 'improbable', 'leanest', 'riled', 'tunnels', 'rampant', 'ricture', 'lawyers', 'cut-and-paste', 'insignificance', 'fool', 'worried', 'user-friendly', 'hustling', 'reminding', 'juxtaposition', 'complexly', 'fragment', 'grade', 'outpaces', 'bloated', 'meander', 'insatiable', 'heroine', 'longtime', 'lulls', 'method', 'complications', 'aaliyah', 'psycho', 'funeral', 'appreciate', 'stamina', 'ritter', 'chouraqui', 'elsewhere', 'enthusiasms', 'rainbows', 'appeal', 'prison', 'bike', 'festival', 'patronizing', 'sketches', 'winter', 'operates', 'yarn', 'crowds', 'anomie', 'promised', 'sleepless', 'i', 'morning', 'commander-in-chief', 'dazzle', 'instability', 'stylings', 'tailor', '19th-century', 'tolkien', 'santa', 'molly', 'inhabit', 'bold', 'dummies', 'paint-by-numbers', 'nostalgic', 'ritchie', 'lottery', 'eardrum-dicing', 'concocted', 'introspection', 'cartoonish', 'common', 'overachieving', 'puréed', 'sugary', 'sonnenfeld', 'eudora', 'collinwood', '94-minute', 'enjoyment', 'cuarón', 'junior', 'justice', 'entwined', 'whiffle-ball', 'fingered', 'arrived', 'at', 'fallible', 'lumpy', 'anti-erotic', 'undeniably', 'verisimilitude', 'loose', 'dreadful', 'venice/venice', 'frenzy', 'maddeningly', 'sensationalism', 'engage', 'beer-fueled', 'malarkey', 'unit', 'neurotic', 'tract', 'as-nasty', 'stab', 'chase', 'whiny', 'spectacle', 'voice', 'april', 'moves', 'belongs', 'study', 'vulgarities', 'nonbelievers', 'moisture', 'rampantly', 'old', 'sword', 'stiflingly', 'shaking', 'tang', 'beating', 'misanthropic', 'ayres', '72', 'heal', 'most', 'dusty', 'dispassionate', 'co-winner', 'overwhelmed', 'glum', 'dismissive', 'thinks', 'quicksand', 'don', 'dubious', 'bright', 'relieved', 'accurately', 'engagingly', 'ancillary', 'tufano', 'ethereal', 'lacey', 'informative', 'prevents', 'storm', 'suggestive', 'commended', 'charly', 'musical', 'thousand-times', 'saps', 'hollow', 'craft', 'despicable', 'sketchy', 'folktales', 'reflective', 'orgy', 'hurried', 'miller', 'wild', 'romancer', 'admittedly', 'disabled', 'hackery', 'basest', 'gamut', 'engaged', 'kafka-inspired', 'o2-tank', 'integrity', 'nonexistent', '99-minute', 'racist', 'shouting', 'kafka', 'homosexual', 'diversions', 'julianne', 'intimately', 'tian', 'begley', 'comeback', 'guarded', 'nyc', 'terror', 'subtext', 'leers', 'ten', 'willingness', 'dredge', 'clumsily', 'dalloway', 'forte', 'reverie', 'dr.', '1997', 'earmarks', 'strands', 'credited', 'hopped-up', 'adolescence', 'unexplained', 'blends', 'rethink', 'jagger', 'love-struck', 'searches', 'sica', 'unencouraging', 'exploitation', 'gondry', 'vacant', 'hyper-real', 'sports', 'hussein', 'damon', 'hashiguchi', 'classroom', 'elvis', 'clashing', 'mighty', 'return', 'crossed', 'kissing', 'conceptions', 'forever', 'dahmer', 'microscope', 'merits', 'reap', 'smoother', 'well-wrought', 'distress', 'mindless', 'heads', 'music', 'student', 'lodging', 'documentarian', 'fling', 'stroke', 'pregnancy', 'wiser', 'scooter', 'stammering', 'poise', 'secretions', 'fifteen-year-old', 'place', '#', 'none-too-funny', 'tit-for-tat', 'diverting', 'non-firsthand', 'sign', 'lackluster', 'survivable', 'heartening', 'populated', 'bind', 'deceptions', 'kosminsky', 'effortless', 'unread', 'skid-row', 'smartly', 'dazzling', 'folksy', 'berg', 'illuminates', 'critically', 'done', 'carlin', 'auto-critique', 'gut', 'speeds', 'rosario', 'gasp', 'augustine', 'episodes', 'evoking', 'contemplates', 'streaks', 'exposure', 'burn', 'trifling', 'falcon', 'intermingling', 'fi', 'beneath', 'bring', 'enforcement', 'pornography', 'dickens', 'stinging', 'celebrities', 'spectators', 'miike', 'captivatingly', 'peaks', 'nowadays', 'sexiness', 'minds', 'flashbacks', 'purge', 'plainly', '300', 'photographed', 'icon', 'needy', 'right-thinking', 'backdrops', 'julia', 'penotti', 'rollerball', 'presses', 'each', 'wimps', 'bravo', 'ready', 'werewolf', 'em', 'horror', 'uninflected', 'affability', 'titillating', 'bustling', 'unleashed', 'myers', 'gravity', 'tax', 'convoluted', 'virtues', 'the', 'wasp', 'burkina', 'otherness', 'becomes', 'solemn', 'logical', 'pathology', 'last-minute', 'preciseness', 'reese', 'grotesque', 'chop', 'reverent', 'preserves', 'bo', 'thinly-conceived', 'observation', 'complain', 'welcomes', 'pray', 'courageousness', 'sincerely', 'hot-blooded', 'happens', 're', 'binging', 'exists', 'california', 'peppered', 'vitality', 'soon-to-be-forgettable', 'act', 'lulled', 'hideousness', 'nadia', 'jar-jar', 'motorcycles', 'scant', 'decadent', 'expression', 'pique', 'nouvelle', 'ate', 'manager', 'maguire', 'best-known', 'coltish', 'doubles', 'compassionate', 'plotless', 'squashed', 'succeeded', 'skeleton', 'operandi', 'soap-opera', '*', 'cultures', 'succumbing', 'anybody', 'posey', 'anchor', 'artfully', 'horrifying', 'psychologizing', 'limply', 'musings', 'highway', 'resemblance', 'employ', 'obligatory', 'balance', 'monopoly', 'potent', 'tables', 'honorable', 'repugnant', 'looking', 'sloughs', 'pilot', 'madonna', 'unexpectedly', 'lear', 'soar', 'spine', 'setting', 'count', 'handheld', 'otar', 'undeniable', 'savor', 'chefs', 'affleck', 'entire', 'rosenthal', 'gaining', 'june', 'sanguine', 'twitchy', 'lisa', 'cohesive', 'stately', 'schools', 'jim', 'inactive', 'cgi', 'yours', 'drain', 'jonze', 'bug-eye', 'dozen', 'ethnicities', 'profound', '93', 'volumes', 'sprawling', 'drive', 'expressing', 'swirl', 'net', 'nimble', 'rekindles', 'department', '1970s', 'boosted', 'resonance', 'sacrifices', 'subtlest', 'wasabi', 'awakens', 'margin', 'whites', '87', 'lofty', 'graphically', 'myopic', 'tirade', 'teams', 'strangest', 'pc', '37-minute', 'slc', 'sights', 'came', 'launching', 'falling', 'fully', 'floria', 'events', 'lumbering', 'uncompromising', 'woozy', 'slog', 'average', 'wallet', 'soapy', 'blowout', 'arrangements', 'flying', 'wollter', 'shocks', 'reduced', 'gobble', 'worn-out', 'tootsie', 'subjected', 'future-world', 'giant-screen', 'common-man', 'underground', 'abiding', 'spikes', 'athlete', 'janszen', 'apocalypse', 'dances', 'scrutinize', 'sugar', 'tourists', 'power-lunchers', 'disease-of-the-week', 'absolute', 'cornball', 'therapeutic', 'independence', 'monologue', 'disrobed', 'integrating', 'molina', 'movie-industry', 'fourth-rate', 'attal', 'canadian', 'fighters', 'benefited', 'malapropisms', 'ill', 'lines', 'kiosks', 'build', 'distinguish', 'mood', 'unbearably', 'normally', 'employment', 'crushingly', 'spinoff', 'bettany/mcdowell', 'whether', 'tormented', 'blithe', 'tremble', 'tambor', 'top-billed', 'mary', 'oscars', 'forthright', 'conversational', 'stylized', 'simmering', 'cheered', 'spoofs', 'co-stars', 'trainspotting', 'dig', 'groundbreaking', 'traveled', 'nicest', \"'80s\", 'well-shaped', 'fatalism', 'delusional', 'tapping', 'chirpy', 'hands-off', 'maiden', 'given', 'focus', 'impart', 'urge', 'sole', 'catharsis', 'steve', '1986', 'rancorous', 'golden', 'crudity', 'renner', 'ring', 'conundrum', 'adorns', 'physician', 'contemptible', 'autopsy', 'essential', 'superstar', 'solid', 'pathetic', 'schmaltzy', 'abhorrent', 'rubber-face', 'tonto', 'librarian', 'downward', 'splash', 'apparent', 'sound', 'offended', 'flourish', 'vereté', 'slapdash', 'victim', 'attributable', 'fault', 'opportunists', 'centuries', 'pearce', 'angles', 'progressive', 'across', 'reminds', 'electrocute', 'hinges', 'novelty', 'hook', 'sneaky', 'crawling', 'phone', 'markers', 'fetid', 'winner', 'ballistic', 'milk', 'brogue', 'richness', 'katz', 'swallow', 'explicit', 'demographics', 'j', 'twist', 'self-parody', 'powerpuff', 'troubling', 'old-world', 'denis', 'kitschy', 'primitive', 'undergrad', 'boarders', 'impersonation', 'hazy', 'wen', 'straight', '100', 'bask', 'delivers', 'indisputably', 'forgivable', 'flaw', 'stalking', 'juan', 'private', 'antics', 'heathers', 'agnostic', 'misleading', 'mormon', 'accomplishment', 'solidly', 'mild', 'stoppard', 'jolted', 'inhuman', 'without', 'hobbled', 'heap', 'well-trod', 'forgiven', 'loyalty', 'out-to-change-the-world', 'epicenter', 'stains', 'teleprompter', 'mishandled', 'twinkling', 'exciting', 'spiral', 'experiment', 'wrists', 'while', 'unembarrassing', 'irreparable', 'narration', 'spielbergian', 'snap', 'globe', 'caviezel', 'delighted', 'late-night', 'cop-flick', 'angel', 'portrays', 'park', 'off', 'illumination', 'kumble', 'sword-and-sorcery', 'unlikely', 'demme', 'sugar-coated', 'cannon', 'melancholic', 'stuffed', 'prank', 'scruffy', 'resources', 'fistfights', 'ordered', 'hideous', 'trope', 'farts', 'coppola', 'artwork', 'probe', 'itself', 'anchors', 'pubescent', 'bottomlessly', 'szpilman', 'trade', 'education', 'quick-buck', 'historically', 'final', 'contemporary', 'devoted', 'glorious', 'explosions', 'coupling', 'paintings', 'humanity', 'play', 'brits', 'lit', 'sweetest', 'clone', 'explain', 'disobedience', 'portugal', 'sterile', 'stepmother', 'anti-', 'good-hearted', 'gorgeousness', 'pent', 'admire', 'thousand', 'powerful', 'jfk', 'seventeen', 'obscure', 'freight', 'venality', 'here', 'many', 'hitchens', 'fireballs', 'daniel', 'clean-cut', 'denouements', 'generational', 'florid', 'encumbers', '4/5ths', 'instructive', 'roll', 'dreamworks', 'weber', '1957', 'ismail', 'all', 'fai', 'soldiers', 'discovered', 'counter-cultural', 'advancing', 'luscious', 'guest', 'idiosyncratic', 'dotted', 'unevenly', 'shankman', 'international', 'suppose', 'judith', 'including', 'please', 'kafkaesque', 'quasi-shakespearean', 'definitive', 'respectable', 'expeditious', 'ham', 'swooning', 'cockettes', 'sydney', 'soullessness', 'bv', 'guitar', 'dime-store', 'sydow', 'rails', 'splashed', 'giggle', 'pitifully', 'hopefully', 'skilfully', 'mush', 'crude', 'masterpieces', 'wait', 'one-trick', 'forsaken', 'sermonize', 'propels', 'standing', 'oftentimes', 'underlined', 'disgusting', 'retains', '30', 'clothes', 'controversial', 'respect', 'rivals', 'crackles', 'genres', 'morsels', \"ol'\", 'endeavors', 'teeth', 'below', 'danger', 'bang-the-drum', 'appeals', 'banality', 'absolutely', 'legs', 'schwarzenegger', 'strict', 'disturbing', 'mother/daughter', 'clayburgh', 'dangerously', 'spring-break', 'stench', 'documentary', 'majors', 'guilt-trip', 'liotta', 'feature', 'mundane', 'bruised', 'substitutable', 'kicking', 'tedious', 'driving', 'parmentier', 'feeling', 'marcken', 'understatement', 'ruthless', 'guilty-pleasure', 'naive', 'lifted', 'oscar', 'visuals', 'queen', 'gasping', 'family', 'stand', 'ripe', 'time-switching', 'unmotivated', 'reading', 'roses', 'flops', 'smartest', 'emphasized', 'retitle', 'ms.', '1790', 'wretched', 'adjective', 'buffeted', 'wallop', 'grand-scale', 'clones', 'errors', 'fails', 'considers', 'amy', 'percolating', 'uk', 'sloppily', 'specific', 'transgressive', 'reviewers', 'gauge', 'generated', 'insulted', 'dodges', 'raucous', 'downsizing', 'sascha', 'stuart', 'celebratory', 'shriek', 're-release', 'conquer', 'hilarity', 'something-borrowed', 'discussion', 'haphazard', 'sent', 'dabbles', 'surviving', 'lobbyists', 'otherwise', 'schumacher', 'semi', 'trailer', 'crave', 'embraced', 'brady', 'indignant', 'glee', 'mail', 'hindered', 'advocacy', 'ragbag', 'decorous', 'tully', 'already', 'lessons', 'grandmother', 'rarity', 'year', 'tabloids', 'kendall', 'attack', 'diminishing', 'proficiently', 'deemed', 'within', 'angst', 'assassins', 'telenovela', 'saddens', 'simplistic', 'waterlogged', 'guilty', 'three-hour', 'dearth', 'bledel', 'jiang', 'tends', 'e-graveyard', 'anne-sophie', 'buckaroo', 'empathy', 'reality', 'movement', 'delineate', 'swift', 'consummate', 'sunset', 'egypt', 'archive', 'slo-mo', 'tar', 'neurotics', 'legal', 'sentimentalized', 'pervasive', 'harmon', 'tenth', 'blutarsky', 'emphasising', 'melanie', 'dullard', 'before', 'contest', 'sum', 'guru', 'surehanded', 'threadbare', 'sin', 'unsentimental', 'selves', 'maids', 'pander', 'reverberates', 'funnybone', 'feel-good', 'dug', 'lord', 'realm', 'angela', 'weddings', '25', 'inconclusive', 'chris', 'not-so-funny', 'attitude', 'post-production', 'draggy', 'grievous', 'trier', 'whiney', 'dadaist', 'blank', 'uninhibited', 'self-congratulation', 'pumpkin', 'bars', 'loved', 'verve', 'filmed', 'wanting', 'treats', 'squarely', 'sexually', '98', 'worship', 'vintage', 'greatness', 'subjects', 'profoundly', 'sensibilities', 'convey', 'handled', 'notting', 'coherent', 'shyamalan', 'chops', 'pollyana', 'salute', 'clumsiness', 'fraction', 'expect', 'menacing', 'lightest', 'gyllenhaal', 'nostra', 'byways', 'grant', 'territory', 'flourishes', 'chosen', 'rubin', 'doltish', 'simpleminded', 'order', 'be', 'appeared', 'devices', 'schneider', 'offer', 'mopes', 'captives', 'hardest', 'grouchy', 'brat', 'foreign', 'animated-movie', 'cope', 'dislikable', 'eyes', 'ennui', 'predictably', 'inevitable', '22-year-old', 'moralistic', 'boisterous', '80-minute', 'pants', 'romero', 'afford', 'hysterics', 'dips', 'marshall', 'c.h.o.', 'salacious', 'revealed', 'research', 'yvan', 'stevenson', 'parsing', 'overacted', 'enactments', 'admitted', 'outrageousness', 'pell-mell', 'cover', 'korea', 'pulse', 'well-executed', 'slyly', 'ways', 'discursive', 'gon', 'gluing', 'gaps', 'prettiest', 'empire', 'idiocy', 'high-minded', '20th', 'alienate', 'guilt-suffused', 'dirgelike', 'lucy', 'defeats', 'video-game-based', 'fact', 'unfortunately', 'big-screen', 'heavy-handed', 'gentlemen', 'superfluous', 'chatter', 'north', 'wedding', 'rymer', 'streets', 'old-fashioned', 'drawn', 'solo', 'torpedo', 'intermezzo', 'police-oriented', 'musset', 'distraction', 'transporter', 'unsettled', 'gere', 'sloppiness', 'pathetically', 'duplicate', 'unsolved', 'drug-induced', 'prevent', 'intoxicating', 'cabins', 'castro', 'foundering', 'turmoil', 'expectations', 'blender', 'plotting', 'middle-of-the-road', 'pseudo-intellectual', 'disingenuous', 'shambles', 'radioactive', 'lack-of-attention', 'unemployment', 'heels', 'zingers', 'michel', 'winged', 'jazz-playing', 'roger', 'nonjudgmental', 'confuse', 'illustrates', 'joshua', 'broad', 'rising', 'unmistakable', 'intricately', 'chore', 'respond', '!?', 'witlessness', 'rivalry', 'shamefully', 'stores', 'plunge', 'occasionally', 'politesse', 'baby', 'carried', 'outsiders', 'lesbian', 'constructed', 'headline-fresh', 'bartlett', 'sweet-and-sour', 'pore', 'operational', 'ticket-buyers', 'seamstress', 'morvern', 'supporting', 'defiantly', 'acceptance', 'bound', 'mistaken', 'kimmel', 'romantic/comedy', 'andrei', 'woolf', 'directorial', 'caliber', 'fingering', 'integrated', 'lilo', 'nurses', 'sun', 'iconic', 'adopt', 'fearlessness', 'naturalistic', 'daughters', 'cook', 'contradictory', 'stodgy', 'blow', 'two', 'quirky', 'singularly', 'bungle', 'smith', 'decisions', 'staged', 'hewitt', 'sentiment', 'sure-fire', 'nine-year-old', 'self-glorification', 'handy', 'cancer', 'jerry', 'as', 'slippery', 'stanzas', 'punishment', 'samira', 'once', 'now-cliched', 'badly', 'depth', 'la', 'compulsive', 'reruns', 'non-fan', 'spears', 'clever', 'encourages', 'eric', 'destination', 'nonethnic', 'sociological', 'hinge', 'occurs', 'oscar-worthy', 'novelist', 'columbus', 'truest', 'well-rounded', 'ninety', 'hallucinogenic', 'didacticism', 'trial', 'freshness', 'tepid', 'incompetent', 'pouty-lipped', 'ii', 'persuasive', 'f.', 'sprung', 'scripts', 'proceeds', 'cleverly', 'playfully', 'timing', 'petty', 'annie', 'flippant', 'perfect', 'zemeckis', '!', 'hot', 'crapulence', 'flawed', 'fleet-footed', 'singh', 'rejiggering', 'queasy', 'low', 'daredevils', 'wryly', 'labors', 'odyssey', 'trenchant', 'musclefest', 'eighth-grader', 'kilmer', 'striking', 'nicholas', 'fitting', 'abbass', 'credits', 'blarney', 'shootings', 'reworks', 'karim', 'guessing', 'kathie', 'resembling', 'blood', 'double-pistoled', 'fifteen', 'escapade', 'arguably', 'kurys', 'w', 'confusion', 'fireworks', 'self-satisfied', 'brio', 'culkin', 'piece', 'screen', 'validated', 'saddled', '19', 'unforgettable', 'crazed', 'garish', 'planned', 'bytes', 'license', 'gadzooks', 'pythonesque', 'hypnotically', 'composition', 'humble', 'failure', 'reasons', 'w.', 'rhetoric', 'ambrose', 'weinstein', 'boot', 'well-meaning', 'expository', 'thi', 'post-feminist', 'gun', 'idling', 'youth', 'perch', 'baboon', 'executive', 'bjorkness', 'repetitious', 'map', '+', 'knocks', 'fees', 'bottom-rung', 'cheap-shot', 'emptiness', 'mug', 'emaciated', 'sweetness', 'intermediary', 'technique', 'irresistibly', 'snail', 'defies', 'accomplishes', 'moments', 'abrasive', 'jaw-dropping', 'grenier', 'logically', 'honor', 'padded', 'old-fashioned-movie', 'showing', 'lunatic', 'guessed', 'standardized', 'were', 'surely', 'junk-calorie', 'wised-up', 'palestinian', 'marks', 'avarice', 'marry', 'producing', 'remake', 'yearning', 'expectant', 'maddening', 'resents', 'barbers', 'cynicism', 'perception', 'pic', 'appropriated', 'dreadfulness', 'thirty-three', 'frankie', 'unsophisticated', 'thornier', 'fillm', 'huge', 'hail', 'rigid', 'storytellers', 'sunk', 'film-culture', 'disturbed', 'rousing', 'separation', 'reopens', 'drifts', 'successes', 'weasels', 'dim', 'details', 'overstimulated', 'dictator-madman', 'onscreen', 'downtown', 'inevitably', 'kozmo', 'mode', 'bouts', 'tongue', 'abomination', 'dong', 'corcuera', 'floor', 'eventual', 'multi-layers', 'cheated', 'll', 'schmidt', 'ability', 'won', 'academic', 'shimmers', 'orlando', 'counterparts', 'tots', 'margaritas', 'unprecedented', 'true', 'gallo', 'endurance', 'm-16', 'lighting', 'frequently', 'single-handedly', 'cathartic', 'greta', 'thumbs', 'genius', 'claude', 'gone-to-seed', 'back', 'folds', 'upon', 'unengaging', 'neck', 'entries', 'affirming', 'inter-racial', 'inertia', 'unintended', 'ambiguous', 'crawl', 'lives', 'what-if', 'heist', 'distinctly', 'disconcertingly', 'bounds', 'process', 'shovel', 'hands', 'relish', 'rowling', 'brainless', 'understandable', 'accompanied', 'watched', 'outrageously', 'contrivance', 'real-time', 'thrills', 'decay', 'sleeve', 'registering', 'pile', 'identification', 'directors', 'jerking', 'debuts', 'susan', 'interests', 'redeem', 'thievery', 'somewhat', 'brit-com', 'area', 'panache', 'sad', 'and', 'cliché', 'symbolic', 'tartakovsky', 'forefront', 'piecing', 'playing', 'fills', 'careless', 'acquire', 'metaphor', 'dare', 'collection', 'standbys', 'literature', 'print', 'hackneyed', 'earnestness', 'brockovich', 'minutes', 'scott', 'construct', 'speaks', 'jabs', 'valley', 'broiling', 'ethan', 'recesses', 'back-story', 'darker', 'becalmed', 'portrait', 'worldly', 'filming', 'riot', 'thomas', 'glitz', 'contorting', 'unoriginal', 'bombay', 'accessibility', 'plasma', 'weighed', 'passive-aggressive', 'galinsky', 'inseparable', 'tuned', 'running', 'sisterhood', 'pleas', 'doting', 'surprised', 'praises', 'turf', 'crooks', 'mind-bending', 'daydreams', 'self-mocking', 'ankle-deep', 'iq', 'better', 'skinny', '270', 'walken', 'unifying', 'corny', 'corruption', 'wallflower', 'intelligibility', 'zings', 'technological', 'genre-curling', 'imamura', 'potshots', 'three-ring', 'orbit', 'imaginatively', 'alfonso', 'wrenching', 'biased', 'laborious', 'iris', 'featherweight', 'cia', 'toss', 'awareness', 'eternal', 'espite', 'ferris', 'wince', 'parade', 'genevieve', 'small-town', 'swaggers', 'acclaimed', 'momentum', 'website', 'presentation', 'costner', 'cardboard', 'jump', 'bagatelle', 'nia', 'feast', 'recipe', 'younger', 'memorial', 'brothers-style', 'nemesis', 'parrots', 'leap', 'election', 'squint', 'carey', 'years', 'treatise', 'business', 'well-defined', 'basis', 'k.', 'backlash', 'storyteller', 'bow', 'sophistication', 'sophomore', 'seriocomic', 'extent', 'bolt', 'full-length', 'submarine', 'certainly', 'sally', 'cautions', 'fragile', 'arty', 'yorker', 'breed', 'been', 'ocean', 'assigned', 'nonsense', 'males', 'clock', 'harmoniously', 'above', 'desire', 'colors', 'poem', 'sanctimoniousness', 'absurdities', 'tissues', 'wretchedly', '=', 'nightmarish', 'actor/director', 'finally', 'decorating', 'nurtured', 'material', 'reader', 'counterculture', 'fast-moving', 'walker', 'steam', 'parochial', 'tooled', 'suits', 'modest', 'michele', 'shapeless', 'centered', 'meaningful', 'shoot-em-up', 'bonus', 'todd', 'predicament', 'cinemantic', 'studio-produced', 'hole-ridden', 'recreation', 'earplugs', 'preachy-keen', 'after', 'since', 'davis', 'meetings', 'knucklehead', 'schultz', 'abilities', 'equipment', 'meaning', 'partly', 'exiled', 'employs', 'mehta', 'cram', 'dot', 'loud', 'wallace', 'nash', 'bai', 'outlandish', 'performed', 'insurance', '77', 'middle-agers', 'sleaziness', 'b-12', 'uptight', 'components', 'doing-it-for', 'depressing', 'driver', 're-invents', 'distances', 'strikes', 'two-dimensional', 'curling', 'ensnare', 'open', 'super-sized', 'text', 'daytime-drama', 'underdone', 'romance', 'dichotomy', 'embalmed', 'paraphrase', 'cling', 'mortal', 'creative', 'lullaby', 'shaken', 'latin', 'polite', 'oliver', 'ethos', 'modem', 'ke', 'zany', 'mergers', 'concoction', 'nonfiction', 'narrative', 'refreshes', 'football', 'pulled', 'tequila', 'effectiveness', 'subsequent', 'disbelief', 'pithy', 'putting', 'deliberate', 'juxtapositions', 'purdy', 'affection', 'indulged', 'oprah', 'peas', 'coupled', 'replaced', 'two-thirds', 'oliviera', 'conceptually', 'reveals', 'understands', 'orbits', 'brainpower', 'retreat', 'barbs', 'impish', 'setups', 'wonderment', 'intervention', 'megaplexes', 'purposeless', 'amusedly', 'spirals', 'spark', 'coheres', 'midway', 'haplessness', 'painstaking', 'denzel', 'tart', 'torn', 'edmund', 'participation', 'gunfight', 'applying', 'surveillance', 'stink', 'impatiently', 'maximum', 'review', 'bodies', 'useful', 'crafted', 'botched', 'bewildered', 'sticking', 'uniformly', 'zhang', 'surprisingly', 'thoughtlessly', 'reprieve', 'moldy-oldie', 'divisions', 'weaver', 'extreme-sports', 'nerve', 'frighteningly', 'verges', 'days', 'actioner', 'rah-rah', 'tall', 'temptations', 'noble', 'pryor', 'twisted', 'mtv', 'gestalt', 'hardly', 'loop', 'totalitarian', 'pokemon', 'served', 'tensions', 'backseat', 'slap-happy', 'lane', 'sunshine', 'laid-back', 'comics', 'maelstrom', 'champion', 'landscapes', 'january', 'babbitt', 'heartwarming', 'graphic', 'largest-ever', 'learn', 'freedom', 'unflattering', 'sway', 'over-familiarity', 'schticky', 'indigestion', 'gently', 'treading', 'catherine', 'mounting', 'deadly', 'scratching', 'slickness', 'improbability', 'diary', 'classicism', 'surface-effect', 'dimming', 'chooses', 'manchild', 'starship', 'surveys', 'despair', 'revelations', 'meal', 'brats', 'unmemorable', 'rival', 'veil', 'is', 'string', 'perry', 'jumbo', 'second', 'dangerous', 'connection', 'inhale', 'hibernation', 'atlantic', 'left', 'cruelty', 'contagious', 'vainglorious', 'minnie', 'rebel', 'reprehensible', 'lohman', 'deceit', 'already-shallow', 'aaa', 'gorgeously', '51st', 'us', 'flesh-and-blood', 'sessions', 'sexist', 'demise', 'jam', 'prejudice', 'laudable', 'uneven', 'thrown', 'deer', 'craftsmanship', 'annoyance', 'forgiveness', 'friendly', 'insecure', 'ingenious', 'gawky', 'unsympathetic', 'gestures', 'fallibility', 'leave', 'sly', 'borderline', 'exceeding', 'gamely', 'midlife', 'redone', 'give-and-take', 'miramax', 'unhappy', 'hence', 'shaggy', 'repulsive', 'chilling', 'marine/legal', 'boasts', 'strikingly', 'an', 'corner', 'finger', 'labels', 'style', 'properties', 'coast', 'shear', 'racing', 'collected', 'gangster/crime', 'blah', 'collective', 'tsai', 'threat', 'ruggero', 'sodden', 'extreme', 'peter', 'typical', 'cutoffs', 'considerably', 'shiner', 'surrealist', 'wearisome', 'coaster', 'tinny', 'unfaithful', 'exaggeration', 'jacket', 'flick-knife', 'confusing', '20', 'reviews', 'rhapsodize', 'post-camp', 'all-enveloping', 'corbett', 'rainbow', 'heartbreakingly', 'relating', 'transported', 'bear', 'amusing', 'overhearing', 'hybrid', 'kilt-wearing', 'jumbled', 'shades', 'nauseating', 'puts', 'inflate', 'handful', 'lip-non-synching', 'grease', 'galled', 'fun-loving', 'utilizes', 'system', 'shifting', 'implausible', 'nickleby', 'mainstream', 'accidental', 'influenced', 'father', 'playlist', 'withholds', 'hero', 'surf', 'hungry', 'cascade', 'palma', 'idiotically', 'lean', 'ensure', 'waters', 'outrage', 'favored', 'ringu', 'opportunities', 'mouglalis', 'thrillers', 'referred', 'raffish', 'gas', 'powerfully', 'kaige', 'groan', 'rigor', 'tick-tock', 'grandeur', 'stockwell', 'pacino', 'gambles', 'dumbo', 'grab', 'collectively', 'longest', 'hundred', 'pleasurable', 'baggage', 'tad', 'girlfriend', 'demonstrating', 'unslick', 'matinee-style', 'touchstone', 'derivativeness', 'spiritual', 'conspicuous', 'arbitrarily', 'soggy', 'winds', 'shunji', 'conveyor', 'called', 'practical', 'comedy', 'numbness', 'riddles', 'ashamed', 'misbegotten', 'con', 'ascends', 'copycat', 'aspire', 'pelosi', 'yuen', 'situates', 'wondrously', 'feel', 'omniscient', 'indication', 'phenomenon', 'intensity', 'lingering', 'intergalactic', 'staggered', 'extensive', 'morgan', 'seriously', 'classy', 'commands', 'discerning', 'acid', 'uphill', 'brash', 'tortured', 'nuts', 'thriller', 'pains', 'wise', 'coasting', 'weakness', 'bathos', 'pungent', 'uma', 'uncinematic', 'hinton', 'producers', 'bollywood', 'holds', 'contempt', 'minutely', 'acceptable', 'signals', 'career', 'managing', 'conjures', 'dodger', 'teenagers', 'tasty', 'unknowable', 'spied', 'sizzle', 'circles', 'citizen', 'oddly', 'self-righteousness', 'creepy-scary', 'unseemly', 'napoleon', 'daring', 'bubba', 'exxon', 'clyde', 'underworld', 'based', 'outage', 'trivializing', 'nakata', 'infidelity', 'overcome', 'affecting', 'reactionary', 'dolly', 'flood', 'outward', 'fidel', 'smuggling', 'seinfeld', 'fishy', 'romanticism', 'echelons', 'adobo', 'transcendent', 'classes', 'create', 'disappoint', 'cheesier', 'none-too-original', 'joined', 'same', 'loses', 'difficult', 'foul', 'page-turning', 'retrospective', 'clarify', 'self', 'guiding', 'show', '1980', 'self-delusion', 'millisecond', 'spy-savvy', 'permits', 'berlin', 'hooliganism', 'watery', 'arduous', 'sending', 'rooted', 'statements', 'wayward', 'plodding', 'depending', 'grown-ups', 'kibosh', 'motorized', 'multiplex', 'thinness', '1998', 'darkest', 'caught', 'streamed', 'relief', 'beyond', 'absorbing', 'remotely', 'maid', 'unconvincing', 'responsible', 'prolific', 'demonstrate', 'distance', 'took', 'revelation', 'matinee', 'leaks', 'insiders', 'sparkles', 'woodman', 'punched', 'product', 'boundaries', 'hayek', 'sucks', 'chalk', 'rick', 'bled', 'pessimism', 'uwe', 'embrace', 'dullness', 'tuck', 'nettelbeck', 'insult', 'uniqueness', 'confident', 'reyes', 'vertical', 'cushion', 'decent', 'geeked', 'lewd', 'intentionally', 'checkout', 'recently', 'barrels', 'dear', 'agendas', 'creep', 'englishmen', 'handed', 'warriors', 'clicks', 'hour-and-a-half-long', 'deposited', 'rental', 'grade-school', 'pass', 'shorter', 'swear', 'chew', 'philip', 'pathos-filled', 'dust', 'burlap', 'church', 'did', 'sermon', 'heart-string', 'cliche-ridden', 'fabulous', 'sixth', 'transparently', 'plympton', 'flame', 'proposal', 'side', 'puritanical', 'chen', 'lyricism', 'ear-splitting', 'yelling', 'echoes', 'slights', 'impersonal', 'shapiro', 'd.', 'jose', 'cremaster', 'lifelong', 'tv', 'mountain', 'surfer', 'self-indulgent', 'roughly', 'replete', 'toys', 'well-deserved', 'instances', 'sale', 'jugglers', 'techno-tripe', 'disgusted', 'naught', 'duds', 'freundlich', 'reassures', 'folly', 'outdoes', 'scorcher', 'frame', 'subjective', 'breathes', 'watches', 'wall-to-wall', 'deniro', 'unafraid', 'ben', 'goose', 'bride', 'species', 'swirling', 'marcus', 'faint', 'to', 'cheatfully', 'prostitute', 'race', 'bottom', 'camaraderie', 'astronauts', 'intrusive', 'vexing', 'yawner', 'edward', 'accumulated', 'hossein', 'unstinting', '163', 'afloat', 'kick', 'walter', 'ensues', 'roussillon', 'aimlessness', 'small-budget', 'joseph', 'quashed', 'rejigger', 'forth', 'discover', 'creaky', 'elegance', 'middling', 'ill-fitting', 'surrendering', 'unbalanced', 'cloak', 'deblois', 'unfocused', 'party-hearty', 'medium', 'frustratingly', 'source', 'hunk', 'massacres', '26-year-old', 'vicious', 'condescending', 'besotted', 'intellectuals', 'stabbing', 'aftermath', 'rain', 'gelati', 'unimaginatively', 'brendan', 'sketched', 'cleverest', 'equlibrium', 'together', 'laugther', 'titular', 'twenty-three', 'joel', 'infantilized', 'liberation', 'snapshot', 'mythic', 'knockabout', 'lone', 'medem', 'humanizing', 'nervy', 'void', 'intermittently', 'duties', 'indulges', 'unbelievably', 'actorish', 'cinema', 'temperamental', '86', 'considerable', '1', 'imaginable', 'alive', 'rejected', 'homogenized', 'epic', 'dickensian', 'sweetly', 'nihilistic', 'fewer', 'bushels', 'adventurous', 'miracles', 'hugely', 'argentinian', 'force', 'bogged', 'dunno', 'occur', 'company', 'mordant', 'kirkegaard', 'optimistic', 'serenely', 'overeager', 'grave', 'pre-teen', 'routes', 'shrapnel', 'quarter', 'georgian-israeli', 'spending', 'lynch', 'wet', 'aching', 'artifice', 'juliet', 'screenplays', 'inject', '1.8', 'deliberately', 'quentin', 'skateboards', 'aimed', 'maggots', 'imagination', 'weirdo', 'low-key', 'encounter', 'point', 'stitched', 'first-timer', 'sat', 'unhidden', 'clicking', 'handsomely', 'refreshingly', 'piffle', 'trey', 'dick', '8-10', 'reeses', 'slam-bang', 'morph', 'climbing', 'run-of-the-filth', 'monkeys', 'invokes', 'creation', 'naval', 'goes', 'marilyn', 'internal', 'maker', 'clear-cut', 'far-flung', 'roberto', 'high-end', 'eating', 'lawn', 'saddest', 'surfacey', 'provoke', 'obnoxious', 'often', 'comments', 'irrelevancy', 'schneidermeister', 'cumbersome', 'thrives', 'boy-meets-girl', 'pootie', 'covers', 'prefer', 'pyrotechnics', 'mugging', 'rapidly', 'duty', 'apartments', 'catastrophic', 'stunningly', 'static', 'blockbuster', 'formidable', 'eisenhower', 'three-minute', 'titled', 'half', 'messages', 'gai', 'evans', 'movie-biz', 'languorous', 'lin', 'possibly', 'savory', 'large', 'campbell', 'artworks', 'neo-realist', 'contributions', 'notably', 'overture', 'purposeful', 'jason', 'studio', 'disappointment', 'dawns', 'résumé', 'fisk', 'feature-length', 'dance', 'worthless', 'princess', 'embarrassment', 'businesses', 'critics', 'rashomon-for-dipsticks', 'stephen', 'fudges', 'classic', 'croatia', 'dentist', 'kirsten', 'motivated', 'wonder', 'b', 'turkey', 'starts', 'fragmented', 'slapping', 'vicente', 'surprise', 'smitten', 'climactic', 'inadequate', 'nuance', 'revived', 'nijinsky', 'dishonesty', 'raunchy', 'nighttime', 'vonnegut', 'delightful', 'bothered', 'has', 'mysteries', 'indulge', 'buy', 'alexandre', 'laugh-free', 'tried-and-true', 'tanovic', 'expressiveness', 'needles', 'absorb', 'flashing', 'distillation', 'clint', 'throwaway', 'controlling', 'constantly', 'akin', 'camouflage', 'atmospheric', 'handbag-clutching', 'thurman', 'oscar-caliber', 'pleasantly', 'kunis', 'worshipful', 'aesthetically', 'bolado', 'measure', 'brutally', 'prominently', 'defensive', 'highly-praised', 'hypothesis', 'comes', 'conditions', 'alternating', 'technical', 'unhinged', 'dramatic', 'adorable', 'charmer', 'harsh', 'gooeyness', 'cube', 'taxicab', 'baked', 'kinetic', 'ian', 'teenaged', 'roller', 'lurches', 'spin', 'machine', 'hard-to-predict', 'car', 'half-baked', '.', 'roundelay', 'chocolate', 'candidate', 'ex-marine', 'kidnapper', 'qualities', 'imperfect', 'experienced', 'unsatisfactorily', 'dramedy', 'flakeball', 'chick', 'conceit', 'provocative', 'moviemakers', 'priceless', 'coke', 'underway', 'chatty', 'caricatures', 'virtuosic', 'all-male', 'creepiest', 'geriatric', 'pain', 'flopping', 'mid', 'steal', 'bang-up', 'plastered', 'nine-tenths', 'self-flagellation', 'wrought', 'seven', 'odorous', 'webcast', 'charming', 'persistence', 'encountered', 'chou', 'ultimately', 'detention', 'sexual', 'hard-bitten', 'safely', 'savagely', 'pure', 'laughing', 'differently', 'too-conscientious', 'reconstruction', '11', 'werner', 'orgasm', 'hispanic', 'walks', 'fields', 'yakusho', \"'ll\", 'life-altering', 'büttner', 'critic-proof', 'almost', 'ensuing', 'candles', 'cracks', 'reel', 'positive', 'workable', 'bio-doc', 'war-torn', 'bother', 'executives', 'become', 'instantly', 'disintegrating', 'perceptiveness', 'reid', 'resonant', 'near-future', 'feels', 'neat', 'justine', 'fun-for-fun', 'transformed', 'writer-producer-director', 'junkie', 'muttering', 'shoddy', 'eee', 'ton', 'action-comedy', 'quibble', 'kennedy', 'populace', 'concession', 'hooks', 'twinkle', 'salle', 'annex', 'tu', 'novel', 'celebration', 'yu', 'aurelie', 'reserved', 'newcomers', 'yale', 'philosophically', 'tick', 'professor', 'domestic', 'usual', 'irritates', 'peace', 'catches', 'halloween', 'under-10', 'attractions', 'forum', 'zzzzzzzzz', 'space', 'sorcerer', 'globalizing', 'genre', 'auteuil', 'provoked', 'misguided', 'significant', 'hypermasculine', 'gilmore', 'concrete', 'interweaves', 'rapids', 'little', 'rewritten', 'retro', 'enemies', 'mystification', 'apparently', 'twinkie', 'numbers', 'tanks', 'been-told-a', 'insular', 'near-masterpiece', \"''\", '80', 'fluid', 'sanders', 'awed', 'oomph', 'else', 'flick', 'wing', 'bombshell', 'self-empowering', 'intelligence', 'tightly', 'courtesy', 'passing', 'governance', 'overweight', 'desperately', 'actress', 'indignation', 'keep', 'regrets', 'l.a.', 'plane', 'oh', 'snagged', 'non-bondish', 'skidding', 'cameo', 'attendant', '5', 'undying', 'schepisi', 'healthy', 'iben', 'pasts', 'lovebirds', 'freud', 'chapter', 'meeting', 'fit', 'pieces', 'honest', 'wake', 'grim', 'tactics', 'even-flowing', 'billing', 'lugubrious', 'chou-chou', 'version', 'detractors', 'action-packed', 'southern', 'conversation', 'captured', 'modernizes', 'find', 'barlow', 'summer', 'hard-core', 'personnel', 'r.', 'colored', 'burke', 'glance', 'creativity', 'bait-and-switch', 'drink', 'unfilmable', 'edits', 'crisp', 'introduction', 'inexplicably', 'anarchist', 'drown', 'knight', 'veins', 'mib', 'kurt', 'strong', 'mira', 'vicarious', 'spells', 'always', 'asia', 'deserving', 'impassive', 'justifying', 'rifkin', 'cooker', 'reacting', 'violence', 'mill', 'das', 'opposites', 'hammily', 'transforms', 'remarkable', 'impressively', 'up', 'sub-tarantino', 'martha', 'dive', 'correctness', 'glosses', 'boll', 'ana', '1952', 'definite', 'disease', 'bowser', 'hungry-man', 'burnt-out', 'slot', 'dorkier', 'vacation', 'gump', 'phrase', 'mel', 'approximation', 'tornatore', 'overcoming-obstacles', 'reaction', 'drivel', 'sanctimonious', 'beaches', 'purposes', 'bravado', 'oh-those-wacky-brits', 'chief', 'baffled', 'cow', 'heyday', 'fahrenheit', 'ub', 'jumps', 'parent-child', 'doses', 'uncut', 'happily', 'impudent', 'struggles', 'orientation', 'thought', 'professionals', 'amused', 'careers', 'vietnam', 'byron', 'uninventive', 'undertaking', 'glimmer', 'suggestion', 'native', 'sheer', 'captions', 'neo-hitchcockianism', 'luckiest', 'spring', 'subplots', 'burstein', 'dreaded', 'lizard', 'paths', 'lothario', 'leather', 'afghani', 'her', 'turbulent', 'amble', 'sillier', 'gordy', 'landau', 'marina', 'vocalized', 'male-ridden', 'similar', 'unrepentant', 'shockwaves', 'donald', 'wide-awake', 'xiaoshuai', 'artistically', 'pale', 'urgent', 'marker', 'gymnastics', 'impresses', 'video', 'seductive', 'traced', 'recklessness', 'tres', 'hypocritical', 'backgrounds', 'sailor', 'rake', 'sweeping', 'verete', 'half-hearted', 'town', 'enlivens', 'fullness', 'aristocracy', 'couture', 'dubbed', 'bet', 'distort', 'uncouth', 'hotels', 'ultimate', 'assets', 'capturing', 'mercy', 'sundance', 'miss', 'panoramic', 'expanse', 'buried', 'room', '1958', 'pours', 'seconds', '94', 'infamy', 'hoult', 'ado', 'blood-splattering', 'detailed', 'intolerable', 'realism', 'charisma', 'glued', 'extracting', 'anniversary', 'thud', 'toilet-humor', 'pitch-perfect', 'jagged', 'urgency', 'flat-out', 'number', 'antic', 'imax', 'hurry', 'taiwanese', 'visionary', 'scottish', 'credibility', 'indoors', 'minded', 'redeems', 'cry', 'populating', 'mainly', 'undisciplined', 'rambles', 'pbs', 'lot', 'outside', 'affectingly', 'nifty', 'interview', 'meat', 'cardoso', 'fearless', 'warn', 'vivi', 'partners', 'ahola', 'preliminary', 'autistic', 'spout', 'phoniness', 'lux', 'grown', 'reminders', 'wilde', 'alan', '66', 'traffic', 'meticulously', 'matched', 'self-reflexive', 'walked', 'whatsoever', 'worst', 'a-list', 'be-all-end-all', 'mrs.', 'observer', 'meticulous', 'profundity', 'matron', 'composer', 'madcap', 'welcome', 'appears', 'creatures', 'fell', 'cellular', 'hellish', 'soothe', 'wide-eyed', 'prevalent', 'credulity', 'update', 'castrated', 'initially', 'cable', 'jargon', 'swill', 'aisle', 'excitement', 'juicy', 'insomnia', 'amuses', 'immensely', 'pool', 'stifling', 'subordinate', 'introspective', 'touch', 'terrorism', 'hit', 'miyazaki', 'rightly', 'dramatizing', 'controlled', 'late-inning', 'girls', 'calculus', 'civilization', 'commitment', 'faso', 'scorpion', 'adversity', 'cusack', 'commend', 'facile', 'igby', 'gem', 'bluescreen', 'super-dooper-adorability', 'measured', 'follow', 'nonstop', 'believe', 'cure', 'grade-grubbers', 'lovably', 'grow', 'virulently', 'panic', 'quietly', 'invested', 'disappearing/reappearing', 'india', 'perpetual', 'metaphysical', 'zeus', 'medicine', 'overly-familiar', 'dimness', 'spare', 'ever-growing', 'stones', 'cliffhanger', 'hard-partying', 'warm-milk', 'coughed', 'frailty', 'assassin', 'gesture', 'retooled', 'mixing', 'absurdist', 'squandering', 'abc', 'recognizably', 'clubs', 'missed', 'cocoon', 'undoubtedly', 'dizzy', 'clear', 'bullwinkle', 'possesses', 'interminably', 'surprises', 'action-adventure', 'accent', 'inconsistencies', 'time-killer', 'romances', 'slather', 'adhering', 'references', 'smallness', 'exercise', 'born', \"o'fallon\", 'refugees', 'baffling', 'flatman', 'chips', 'uplifter', 'berkley', 'truth-telling', 'innate', 'suffering', 'shocking', 'purity', 'reunion', 'eroticized', 'check', 'viewed', 'slickly', 'hayao', 'granger', 'write', 'dour', 'trained', 'forged', 'best', 'proclaim', 'religion', 'thesps', '75-minute', 'winningly', '112-minute', 'diverse', 'insultingly', 'miscalculations', 'replacing', 'capability', 'fosters', 'sparks', 'freaks', 'excesses', 'janine', 'morbid', 'incarnations', 'widowmaker', 'overladen', 'inexcusable', 'ultra-loud', 'reno', 'remote', 'fade', 'principal', 'returning', 'covered', 'impenetrable', 'hidebound', 'climate', 'dogma', 'sorts', 'packed', 'gandalf', 'motivations', 'dripping', 'naïf', '1980s', 'stability', 'kirshner', 'dullingly', 'spell', 'stuck', 'shockingly', 'thornberry', 'grossly', 'waste', 'involved', 'ramble', 'unconcerned', 'artful', 'flickering', 'couple', 'jokester', 'chitchat', 'megaplex', 'fundamentals', 'jet', 'compendium', 'lint', 'condition', 'birmingham', 'advantage', 'exchanges', 'patience', 'hype', 'twenty-some', 'conclusions', 'affect', 'draw', 'foibles', 'somehow', 'dogtown', 'splendid-looking', 'inane', 'tear-jerking', 'terrorist', 'swims', 'retaining', 'zero', 'enchantment', 'majestic', 'purr', 'mamá', 'athletic', 'emphasizes', 'overinflated', 'travel', 'aims', 'squanders', 'invincible', 'bypassing', 'italicizes', 'western', 'pretentious', 'implications', 'houses', 'glitter', 'loco', 'assembles', 'belief', 'scooped', 'treat', 'full', 'tattoo', 'dilutes', 'depraved', 'snatch', 'reefs', 'receives', 'toothless', 'torrent', 'imitator', 'cherished', 'meaningless', 'lookin', 'sept.', 'expectation', 'effects', 'impulses', 'e.t.', 'doubling', 'conflicts', 'shrek', 'devos', 'gut-wrenching', 'mattei', 'palette', 'dogs', 'holm', 'fantasti', 'dilettante', 'chemically', 'behan', 'shaw', 'implodes', 'worries', 'salton', 'competence', 'displays', 'must-see', 'uncertainties', 'ode', 'quitting', 'poo', 'tremendously', 'blood-curdling', 'belly-dancing', 'simple', 'plutonium', 'sides', 'conceive', 'disguising', 'churlish', 'doc', 'remind', 'manic', 'dismissed', 'high-concept', 'drooling', 'seedy', 'mumbles', 'splashy', 'discipline', 'fiend', 'chicken', 'zeal', 'kitchen', 'stylistically', 'exoticism', 'exposed', 'sunbaked', 'leaving', 'bonds', 'manoel', 'crew', 'boffo', 'special-interest', 'mystical', 'revels', 'humanist', 'respecting', 'andré', 'arrive', 'overripe', 'discernible', 'luis', 'xtc', 'clown', 'shudder', 'shape-shifting', 'duel', 'pitted', 'strongman', 'repulse', 'emphasis', 'selection', 'ilk', 'characterized', 'ease', 'beers', 'grin', 'wonders', 'lagaan', 'fabric', 'sympathies', 'journalistically', 'scummy', 'sleeper', 'de', 'speedy', 'recessive', 'drawn-out', 'runner', 'sacrificing', 'co-operative', 'underbelly', 'coming-of-age', 'ivory', 'low-brow', 'deepest', 'remarkably', 'direction', 'well-intentioned', 'befuddling', 'strip-mined', 'lift', 'abused', 'carmen', 'fears', 'horribly', 'mother', 'deteriorates', 'poke-mania', 'soothing', 'co.', 'artsy', 'eye-popping', 'narcissistic', 'l', 'gosling', 'egregious', 'flatly', 'light-heartedness', 'victorious', 'heroism', 'glass', 'muck', 'diver', 'economic', 'carter', 'depiction', 'spoof', 'redeemed', 'milks', 'contenders', 'tavernier', 'like', 'infinitely', 'suspect', 'realities', 'decidedly', 'breathtakingly', 'rafael', 'perils', 'mending', 'fuse', 'chomps', 'reenacting', 'louis', 'futility', 'significantly', 'romoli', 'reasonably', 'admit', 'chafing', 'zinger-filled', 'precise', 'vague', 'name', '9/11', 'glamorous', 'comprise', 'somnambulant', 'hands-on', 'crossing-over', 'faltering', 'conversations', 'fix', 'puberty', 'having', 'transvestite', 'doris', 'the-night', 'last-place', 'canvas', 'pollution', 'outshined', 'cross', 'endeavor', 'bisset', 'barbed', 'scene', 'conventional', 'paradigm', 'commune', 'term', 'foremost', 'shoot', 'trappings', 'angelina', 'win', 'well-told', 'cattaneo', 'christine', 'veiling', 'theology', 'transfixes', 'shakesperean', 'robotically', 'trusted', 'rewards', 'manages', 'dolby', 'helpings', 'super-stupid', 'interminable', 'unexpected', 'duly', 'bewitched', 'boomer', 'punk', 'interesting', 'pulling', 'whiff', 'proceed', 'plunges', 'corporate', 'anew', 'cause', 'efficiently', 'cleavage', 'shakespeare', 'witnesses', 'plods', 'confessional', 'girlish', 'arbitrary', 'instead', 'smeared', 'jettisoned', 'chimes', 'house', 'vu', 'weaned', 'symptom', 'conforms', 'rigors', 'infuse', 'favorite', 'substitute', 'mad', 'hawn', 'formuliac', 'jiri', 'suppression', 'nation', 'co-writer', 'slew', 'happening', 'swings', 'throwback', 'moulin', 'kids-and-family-oriented', 'officially', 'motivate', 'conceal', 'arguing', 'sinister', 'unintentionally', 'result', 'memento', 'e', 'seeming', 'stepped', 'galvanize', 'robustness', 'convolutions', 'relationships', '70s', 'mornings', 'makeup', 'powered', 'convince', '12-year-old', 'cultivation', 'semen', 'disguised', 'tranquil', 'four', 'melancholia', 'monster/science', 'begrudge', 'elm', 'screwy', 'concepts', 'provide', 'avant-garde', 'relic', 'soufflé', 'gap', 'proposes', 'downhill', 'achieving', 'bloodletting', 'buscemi', 'effort', 'fart', 'repeated', 'accompanying', 'hormonal', 'candy', 'self-reflection', 'hilariously', 'artistry', 'kinetically-charged', 'profession', 'frozen', 'ideological', 'tadpole', 'appreciated', 'rapport', 'every', 'sharpener', 'old-hat', 'inner', 'regret', 'bullock', 'fiji', 'kwan', 'hallmarks', 'advice', 'atypically', 'field', 'medium-grade', 'nevertheless', 'noticeably', 'nowheresville', 'commercial', 'maggie', 'secondhand', 'savvy', 'collide', 'goal', 'iles', 'malik', 'delightfully', 'sophomoric', 'stereotype', 'giant', 'large-scale', 'dreary', 'chaos', 'myself', 'down-home', 'cases', 'outrageous', 'remarks', 'aesthetics', 'ghosts', 'decipherable', 'purer', 'nudity', 'crowd-pleaser', 'lyrics', 'heartland', 'than-likely', 'authority', 'ended', 'caine', 'reaches', 'insanity', 'comparatively', 'da', 'lightly', 'concubine', 'traditions', 'majid', 'compulsively', 'borders', 'slipperiness', 'mends', 'possible', 'inspire', 'lan', 'ingredient', 'olives', 'sandler', 'masseur', 'na', 'griffiths', 'sitcom', 'rings', 'stepmom', 'evenings', 'scrooge', 'pseudo-philosophic', 'moratorium', 'lovingly', 'overrides', 'hitchcockian', 'swept', 'namesake', 'sixties-style', 'holes', 'sadness', 'sexy', 'versions', 'overtake', 'fly', 'dependable', 'tasteful', 'court', 'actors', 'chair', 'labute', 'stacks', 'parlance', 'anyway', 'rob', 'holy', 'above-average', 'watch', 'tagline', 'provocations', 'debris', 'follow-up', 'introducing', 'sip', 'shows', 'cutesy', '451', 'weepy', 'allows', 'tomorrow', 'topple', 'players', 'bravura', 'existential', 'cutes', 'where', 'joão', 'calamity', 'reigns', 'x', 'voting', 'water-bound', 'beavis', 'cell', 'evocation', 'evening', 'hotsies', 'opened', 'omits', 'moving', 'constraints', 'genesis', 'tradition', 'gel', 'pryce', 'evoke', 'wintry', 'justify', 'stupid', 'punctuation', 'burns', 'UNK']\n",
      "The vocabulary size: 14818\n"
     ]
    }
   ],
   "source": [
    "current_path = os.getcwd()\n",
    "train_path = os.path.join(current_path, 'glue_data/SST-2/train.tsv')\n",
    "\n",
    "train_words = list()\n",
    "train_words_with_duplication = None\n",
    "\n",
    "train_data = pd.read_csv(train_path, sep='\\t')\n",
    "train_sentence = train_data['sentence']\n",
    "\n",
    "for i in range(len(train_sentence)):\n",
    "  temp = train_sentence[i].split(' ')\n",
    "  train_words.extend(temp)\n",
    "\n",
    "  if i == (len(train_sentence)-1):\n",
    "    train_words_with_duplication = copy.deepcopy(train_words)\n",
    "    train_words = list(set(train_words))\n",
    "    # train_words.remove('')\n",
    "    train_words.append('UNK') \n",
    "\n",
    "print('The vocabulary for training data: \\n{}'.format(train_words))\n",
    "print('The vocabulary size: {}'.format(len(train_words)))"
   ]
  },
  {
   "cell_type": "markdown",
   "metadata": {
    "id": "sqVv57zy1OZ0"
   },
   "source": [
    "**Problem 2.2** *(10 points)* Using all words in the training data will make the vocabulary very big. Reduce its size by only including words that occur at least 2 times. How does the size of the vocabulary change?\n",
    "\n",
    "---\n",
    "\n",
    "**Answer** From 14818 as stated above, when I exclude the words which appear less than 2 times, the size reduces to 14310. Of course, I didn't exclude the punctations or blanks because it is not demanded on the example code."
   ]
  },
  {
   "cell_type": "code",
   "execution_count": null,
   "metadata": {
    "colab": {
     "base_uri": "https://localhost:8080/"
    },
    "id": "MUTKVYGAcHZ2",
    "outputId": "e0cf65f8-f9bb-4fb8-b621-31d6d2e0a5d9"
   },
   "outputs": [
    {
     "name": "stdout",
     "output_type": "stream",
     "text": [
      "14310\n",
      "['hide', 'new', 'secretions', 'from', 'the', 'parental', 'units', '', 'contains', 'no', 'wit', ',', 'only', 'labored', 'gags', 'that', 'loves', 'its', 'characters', 'and', 'communicates', 'something', 'rather', 'beautiful', 'about', 'human', 'nature', 'remains', 'utterly', 'satisfied', 'to', 'remain', 'same', 'throughout', 'on', 'worst', 'revenge-of-the-nerds', 'clichés', 'filmmakers', 'could', 'dredge', 'up', \"'s\", 'far', 'too', 'tragic', 'merit', 'such', 'superficial', 'treatment', 'demonstrates', 'director', 'of', 'hollywood', 'blockbusters', 'as', 'patriot', 'games', 'can', 'still', 'turn', 'out', 'a', 'small', 'personal', 'film', 'with', 'an', 'emotional', 'wallop', '.', 'saucy', 'depressed', 'fifteen-year-old', 'suicidal', 'poetry', 'are', 'more', 'deeply', 'thought', 'through', 'than', 'in', 'most', '`', 'right-thinking', \"'\", 'films', 'goes', 'absurd', 'lengths', 'for', 'those', 'moviegoers', 'who', 'complain', 'they', 'do', \"n't\", 'make', 'movies', 'like', 'used', 'anymore', 'part', 'where', 'nothing', 'happening', 'saw', 'how', 'bad', 'this', 'movie', 'was', 'lend', 'some', 'dignity', 'dumb', 'story', 'greatest', 'musicians', 'cold', 'his', 'usual', 'intelligence', 'subtlety', 'redundant', 'concept', 'swimming', 'is', 'above', 'all', 'young', 'woman', 'face', 'by', 'casting', 'actress', 'whose', 'projects', 'doubts', 'yearnings', 'it', 'succeeds', 'equals', 'original', 'ways', 'even', 'betters', 'if', 'anything', 'see', 'karen', 'black', 'storm', 'fringe', 'feminist', 'conspiracy', 'theorist', 'named', 'dirty', 'dick', 'smile', 'your', 'comes', 'brave', 'uninhibited', 'performances', 'excruciatingly', 'unfunny', 'pitifully', 'unromantic', 'enriched', 'imaginatively', 'mixed', 'cast', 'antic', 'spirits', 'which', 'half', 'dragonfly', 'worse', ':', 'or', 'world', 'cinema', 'very', 'good', 'viewing', 'alternative', 'plot', 'but', 'boilerplate', 'start', 'finish', 'action', 'stilted', 'cylinders', 'will', 'find', 'little', 'interest', 'often', 'preachy', 'poorly', 'acted', 'year', 'sit', 'another', '``', 'best', 'man', \"''\", 'clone', 'weaving', 'theme', 'funny', 'issues', 'adults', 'have', 'marriage', 'i', 'think', 'what', 'liked', '--', 'real', 'tucked', 'between', 'silly', 'crude', 'storyline', 'heroes', 'oblivious', 'existence', 'sharply', 'entire', 'point', 'shaggy', 'dog', 'course', 'nowhere', 'classic', 'nowheresville', 'every', 'sense', 'sometimes', 'dry', 'come', 'already', 'having', 'been', 'recycled', 'times', \"'d\", 'care', 'count', 'covers', 'territory', 'originality', 'suggesting', 'fourth', 'feature', '$', '40', 'million', 'version', 'game', 'gorgeous', 'deceptively', 'minimalist', 'cross', 'swords', 'them', 'proves', 'once', 'again', 'he', 'has', 'lost', 'touch', 'bringing', 'off', 'superb', 'performance', 'admittedly', 'middling', 'disappointments', 'horrors', 'muddle', 'splashed', 'bloody', 'beauty', 'vivid', 'any', 'scorsese', 'ever', 'given', 'us', 'many', 'pointless', 'beautifully', 'contrived', 'well-worn', 'situations', 'doa', 'poor', 'ben', 'stardom', 'mapquest', 'emailed', 'him', 'point-to-point', 'driving', 'directions', 'be', 'subtle', 'touching', 'son', 'room', 'starts', 'legend', 'less', 'sophisticated', 'rich', 'veins', 'stuff', 'apparent', 'joy', 'shot', 'ugly', 'digital', 'video', '...', 'sour', 'at', 'core', ';', 'exploration', 'emptiness', 'underlay', 'relentless', 'gaiety', '1920', 'ending', '?', 'though', 'ford', 'neeson', 'capably', 'hold', 'our', 'just', 'not', 'thrilling', 'pretty', 'damned', 'we', 'never', 'feel', 'these', 'lousy', 'one', 'corporate', 'circus', 'recording', 'industry', 'current', 'climate', 'mergers', 'downsizing', 'storylines', 'woven', 'together', 'skilfully', 'magnificent', 'swooping', 'aerial', 'shots', 'breathtaking', 'overall', 'experience', 'awesome', 'highly-praised', 'sounds', 'cruel', 'deception', 'carried', 'men', 'marginal', 'reactionary', 'ideas', 'women', 'total', 'lack', 'empathy', 'seem', 'fresh', 'dustbin', 'history', 'eastwood', 'pays', 'earnest', 'homage', 'turntablists', 'weak', 'skip', 'dreck', 'few', 'laughs', 'surprises', 'affirm', 'love', 'power', 'help', 'people', 'endure', 'almost', 'unimaginable', 'horror', 'absolute', 'generates', 'life', 'much', 'fun', 'without', 'highs', 'lows', 'based', 'true', 'historically', 'significant', 'well-rounded', 'tribute', 'actors', 'throw', 'spark', 'two', 'when', 'first', 'appear', 'ca', 'generate', 'enough', 'heat', 'vacuum', 'comedy', 'reaction', 'so', 'robert', 'deniro', 'manages', 'terrific', 'flair', 'keep', 'extremes', 'screwball', 'farce', 'blood-curdling', 'family', 'intensity', 'continuum', 'fashioning', 'engrossing', 'entertainment', 'spiffy', 'animated', 'sloppily', 'written', 'you', 'believe', 'anyone', 'central', 'creation', 'bugsy', 'caterer', 'alternating', 'facetious', 'comic', 'parody', 'pulp', 'melodrama', 'smart-aleck', 'tosses', 'around', 'intriguing', 'questions', 'difference', 'android', 'strung-together', 'moments', 'generous', 'subversive', 'artworks', 'does', 'follow', 'stale', 'standard', 'connect-the-dots', 'become', 'commonplace', 'explore', 'seamy', 'underbelly', 'criminal', 'yet', 'overbearing', 'over-the-top', 'duvall', '!', 'sudden', 'wisdom', 'directed', 'clear', 'washington', 'certainly', 'career', 'ahead', 'memory', 'respectable', 'grating', 'showcase', 'hate', 'tear', 'eyes', 'away', 'images', 'long', 'read', 'subtitles', 'addition', 'sporting', 'titles', 'recent', 'cinematic', 'gender-bending', 'generally', 'quite', 'build', 'robots', 'haul', \"'em\", 'theater', 'late', 'show', 'put', 'own', 'mystery', 'science', 'theatre', '3000', 'going', 'go', 'down', 'killer', 'website', 'other', 'work', 'concert', 'direction', 'fluid', 'no-nonsense', 'authority', 'harris', 'phifer', 'cam', 'ron', 'seal', 'deal', 'would', 'had', 'gone', 'step', 'further', 'harsh', 'piece', 'storytelling', 'hawaiian', 'shirt', 'takes', 'casts', 'attractive', 'talented', 'uses', 'landscape', 'create', 'wickedly', 'watch', 'provide', 'keenest', 'pleasures', 'altogether', 'slight', 'called', 'kind', 'masterpiece', 'grievous', 'after', 'laugh', '(', 'maybe', 'twice', ')', 'completely', 'forgotten', 'time', 'get', 'back', 'car', 'parking', 'lot', 'hopeless', 'unpretentious', 'charming', 'quirky', 'nicks', 'match', 'their', 'creations', 'pure', 'venality', 'giving', 'old', 'college', 'try', 'well-written', 'well-acted', 'conclusive', 'answers', 'clumsy', 'dialogue', 'heavy-handed', 'phoney-feeling', 'sentiment', 'lovely', 'trifle', 'unfortunately', 'cuteness', 'bring', 'tissues', 'mid-to-low', 'budget', 'betrayed', 'surprisingly', 'shoddy', 'makeup', 'brings', 'proper', 'conviction', 'role', 'jason', 'bourne', 'great', 'charm', 'generosity', 'diplomacy', 'there', 'poignant', 'artist', '90-plus', 'years', 'taking', 'effort', 'share', 'impressions', 'loss', 'art', 'bon', 'bons', 'supremely', 'unentertaining', 'middle-age', 'lively', 'engaging', 'examination', 'similar', 'obsessions', 'dominate', 'irritates', 'collapse', 'challenges', 'poses', 'itself', 'forgive', 'flaws', 'serves', 'workable', 'primer', 'region', '10th-grade', 'learning', 'tool', 'wide-awake', 'way', 'vainly', 'big', 'excuse', 'play', 'lewd', 'scene', 'effective', 'stick', 'underscore', 'importance', 'tradition', 'familial', 'community', 'delivers', 'promises', 'look', 'wild', 'ride', 'ensues', 'brash', 'set', 'conquer', 'online', 'laptops', 'cell', 'phones', 'sketchy', 'business', 'plans', 'watching', 'digital-effects-heavy', 'supposed', 'family-friendly', 'absolutely', 'ridiculous', 'tasteful', 'rock', 'roll', 'lacking', 'suspense', 'surprise', 'consistent', 'realistic', 'portrayal', 'trying', 'grab', 'lump', 'play-doh', 'harder', 'liman', 'tries', 'squeeze', 'well-thought', 'stunts', 'reveals', 'important', 'special', 'talents', 'service', 'others', 'lika', 'da', 'welcome', 'relief', 'promise', 'filmmaking', 'easily', 'wait', 'pay', 'per', 'view', 'dollar', 'justify', 'theatrical', 'simulation', 'death', 'camp', 'auschwitz', 'ii-birkenau', 'extraordinary', 'faith', 'seen', 'willing', 'champion', 'fallibility', 'heart', 'adaptation', 'interesting', 'caruso', 'descends', 'into', 'sub-tarantino', 'makes', 'sure', 'salton', 'sea', 'works', 'noir', 'should', 'keeping', 'tight', 'nasty', 'overlong', 'bombastic', 'derivative', 'hammily', 'audacious', 'outrageous', 'disney', 'ransacks', 'archives', 'quick-buck', 'sequel', 'final', 'suck', 'despite', 'eats', 'meddles', 'argues', 'kibbitzes', 'fights', 'problem', 'whether', 'ambitions', 'laudable', 'themselves', 'compelling', 'infectiously', 'picture', 'runs', 'mere', '84', 'minutes', 'remarkable', 'procession', 'sweeping', 'pictures', 'reinvigorated', 'romance', 'genre', 'so-so', 'better', 'passable', 'date', 'imax', 'short', 'pleasant', 'oozing', 'involved', 'save', 'dash', 'shows', 'slightest', 'aptitude', 'acting', 'wildly', 'uneven', 'pokes', 'provokes', 'expressionistic', 'license', 'spears', 'music', 'videos', 'content', 'except', 'least', '90', 'want', 'color', 'depth', 'ingenious', 'being', 'able', 'hit', '15-year', \"'re\", 'over', '100', 'trouble', 'day', 'amounts', 'preliminary', 'notes', 'science-fiction', 'fragmentary', 'narrative', 'style', 'piecing', 'frustrating', 'difficult', 'unpredictable', 'running', 'screaming', 'ii', 'achieves', 'ultimate', 'insignificance', 'sci-fi', 'spectacle', 'whiffle-ball', 'epic', 'elvira', 'fans', 'hardly', 'ask', 'plodding', 'character', 'dramas', 'reach', 'satisfying', 'conclusions', 'translation', 'speak', 'while', 'forces', 'ponder', 'anew', 'enables', 'shafer', 'navigate', 'spaces', 'both', 'large', 'considerable', 'aplomb', 'cobbled', 'largely', 'flat', 'uncreative', 'inane', 'awful', 'told', 'scattered', 'fashion', 'chances', 'bold', 'studio', 'standards', 'actually', 'backseat', 'effects', 'thing', 'fear', 'dot', 'com', 'whole', 'mess', 'infuse', 'rocky', 'path', 'sibling', 'reconciliation', 'flashes', 'warmth', 'gentle', 'humor', 'working', 'sensitive', 'script', 'co-written', 'gianni', 'romoli', 'ozpetek', 'avoids', 'pitfalls', 'expect', 'potentially', 'sudsy', 'set-up', 'résumé', 'loaded', 'credits', 'girl', 'bar', '#', '3', 'enjoy', 'add', 'beyond', 'dark', 'visions', 'relayed', 'predecessors', 'yes', 'snail-like', 'pacing', 'extremely', 'unpleasant', 'entirely', 'persuasive', 'give', 'exposure', 'performers', 'affair', 'feels', 'incredibly', 'hokey', 'things', \"'ve\", 'before', 'leavened', 'breathless', 'anticipation', 'significantly', 'predictable', 'tides', 'bewilderingly', 'brilliant', 'entertaining', 'smooth', 'professional', 'unassuming', 'subordinate', 'technically', 'positive', 'change', 'tone', 'here', 'seems', 'recharged', 'beat', 'jugglers', 'schoolers', 'innovators', 'dim', 'vicious', 'because', 'acts', 'goofy', 'kinetic', 'teeming', 'cranky', 'may', 'rediscover', 'quivering', 'kid', 'inside', 'laughable', 'compulsively', 'watchable', '103-minute', 'length', 'value', 'respect', 'term', 'dentist', 'waiting', 'showing', 'honest', 'emotions', 'amazingly', 'lame', 'confessions', 'straightforward', 'bio', 'disappointingly', 'thin', 'slice', 'lower-class', 'london', 'title', 'bogus', 'gem', 'delightful', 'spare', 'wildlife', 'shabby', 'photography', 'understand', 'plain', 'traditionally', 'structured', 'frida', 'different', 'adventurous', 'indian', 'toward', 'crossover', 'nonethnic', 'markets', 'worth', 'price', 'admission', 'gory', 'mayhem', 'idea', 'produced', 'jerry', 'bruckheimer', 'joel', 'schumacher', 'reflects', 'shallow', 'styles', 'overproduced', 'inadequately', 'motivated', 'demographically', 'targeted', 'please', 'carnage', 'degraded', 'handheld', 'blair', 'witch', 'video-cam', 'footage', 'second', 'fiddle', 'folly', 'superficiality', 'auto-critique', 'clumsiness', 'damning', 'censure', 'tedious', 'norwegian', 'offering', 'somehow', 'snagged', 'oscar', 'nomination', 'esther', 'kahn', 'unusual', 'also', 'irritating', 'stylish', 'exercise', 'halfway', 'beginning', 'setup', 'easy', 'borders', 'facile', 'thoroughly', 'grips', 'hard', 'smeary', 'blurry', 'distraction', 'fascinating', 'byways', 'guns', 'cheatfully', 'filmed', 'martial', 'arts', 'disintegrating', 'bloodsucker', 'computer', 'jagged', 'camera', 'moves', 'breezy', 'distracted', 'rhythms', 'evanescent', 'seamless', 'sumptuous', 'stream', 'slick', 'manufactured', 'claim', 'street', 'credibility', 'take', 'nicely', 'performed', 'quintet', 'actresses', 'valuable', 'messages', 'thanks', 'lau', 'guys', 'desperately', 'quentin', 'tarantino', 'grow', 'conceptions', 'essentially', 'collection', 'bits', 'bode', 'well', 'rest', 'elevated', 'hugh', 'grant', 'line', 'arrive', 'early', 'stay', 'pan-american', 'genuine', 'insight', 'urban', 'my', 'hours', 'john', 'malkovich', 'artful', 'watery', 'tones', 'blue', 'green', 'brown', 'unorthodox', 'organized', 'crime', 'includes', 'strangest', 'diane', 'lane', 'richard', 'gere', 'scant', 'ludicrous', 'fighting', 'skills', 'steven', 'seagal', 'full', 'warm', 'water', 'under', 'red', 'bridge', 'celebration', 'feminine', 'energy', 'heal', 'sensational', 'real-life', '19th-century', 'metaphor', 'home', 'leave', 'wanting', 'mention', 'leaving', 'retains', 'ambiguities', 'ultra-cheesy', 'added', 'resonance', 'huge-screen', 'format', 'old-fashioned', 'educates', 'viewers', 'words', 'handsome', 'unfulfilling', 'drama', 'either', 'her', 'charmless', 'pleasantly', 'haunting', 'debut', 'behind', 'fine', 'rousing', 'g-rated', 'aimed', 'mainly', 'kids', 'plenty', 'grown-ups', 'squirming', 'seats', 'everything', 'girls', 'swim', 'passages', 'observation', 'secondhand', 'familiar', 'spot', 'players', 'fore', 'gifted', 'beings', 'still-inestimable', 'contribution', 'made', 'shared', 'choppy', 'becomes', 'high', 'school', 'sex', 'prom', 'dates', 'demands', 'receives', 'excellent', 'xxx', 'blast', 'adrenalin', 'escapism', 'merely', 'kicking', 'undead', '***', 'culture', 'horrifying', 'mourns', 'tragedies', 'private', 'scenes', 'delivered', 'dabbles', 'gaining', 'momentum', 'juliette', 'binoche', 'sand', 'pale', 'characteristic', 'jaglom', 'honestly', 'affecting', 'marivaux', 'mira', 'sorvino', 'limitations', 'classical', 'successful', 'levels', 'seeing', 'intelligent', 'moving', 'appears', 'miserable', 'swaggers', 'accomplish', 'sequels', 'clunky', 'tv-movie', 'approach', 'detailing', 'chapter', 'celebrated', 'irish', 'playwright', 'poet', 'drinker', \"'m\", 'exhilarating', 'bound', 'appeal', 'looking', 'howlingly', 'trashy', 'grade', 'tawdry', 'trash', 'right', 'summer', 'sustain', 'end', 'endearing', 'caring', 'looks', 'danny', 'aiello', 'days', 'enactments', 'however', 'serve', 'especially', 'ambitious', 'escapade', 'coppola', 'along', 'sister', 'sofia', 'filmmaker', 'dehumanizing', 'ego-destroying', 'process', 'taboo', 'subject', 'matter', 'incompetent', 'conclusion', 'always', 'wilde', 'droll', 'whimsy', 'helps', 'overcome', 'weaknesses', 'parker', 'creative', 'interference', 'yourself', 'rooting', 'gai', 'avoid', 'fate', 'befallen', 'carmen', 'run', 'cover', 'low', 'casual', 'ode', 'walked', 'muttering', 'horrible', 'terrible', 'chicago', 'transition', 'stage', 'screen', 'intact', 'ellen', 'pompeo', 'sitting', 'next', 'giant', 'backward', 'copies', 'exciting', 'luminous', 'interviews', 'evocative', 'three', 'decades', 'ago', 'lynch', 'jeunet', 'von', 'trier', 'failing', 'caught', 'thrill', 'company', 'astonishing', 'growth', 'frozen', 'tundra', 'soap', 'opera', 'showdown', 'simply', 'overdone', 'greatly', 'free', 'species', 'evade', 'scherfig', 'tv', 'leaves', 'giddy', 'chooses', 'tamer', 'outrageously', 'purely', 'enjoyable', 'evenings', 'question', 'open', 'wounds', 'suffering', 'sense-of-humour', 'failure', 'hoffman', 'powerful', 'clinic', 'wonderful', 'cinematography', 'naturalistic', 'high-concept', 'sleepwalk', 'vulgarities', 'refuse', 'reason', 'confusing', 'level', 'making', 'ararat', 'demanding', 'needs', 'invigorating', 'surreal', 'resonant', 'chateau', 'light-heartedness', 'passion', 'material', 'formula', 'wrong', 'well-crafted', 'sufficient', 'distance', 'leroy', 'romanticized', 'rendering', 'rachel', 'gamut', 'cheesy', 'cheesier', 'cheesiest', 'since', 'valley', 'dolls', 'awe', 'joyous', 'romp', 'nonstop', 'hoot', 'partisans', 'sabotage', 'torture', 'self-mutilation', 'argentine', 'bride', 'reminded', 'feel-good', 'equally', 'spoofs', 'celebrates', 'outre', 'aspects', 'dorkier', 'white', 'points', 'inseparable', 'package', 'timely', 'wrapped', 'generic', 'obscenely', 'crass', 'naomi', 'watts', 'petite', 'frame', 'vulnerable', 'persona', 'emphasising', 'plight', 'isolation', 'schticky', 'flamboyant', 'female', 'comics', 'squareness', 'darling', 'kids-and-family-oriented', 'cable', 'channel', 'appalling', 'odoriferous', 'amazing', 'spider-man', 'stomach-turning', 'violence', 'use', 'humanity', 'acquires', 'undeniable', 'mr.', 'broomfield', 'continues', 'force', 'himself', 'lesser', 'slow-moving', 'police-procedural', 'thriller', 'sweaty-palmed', 'joke', 'volletta', 'wallace', 'maternal', 'fury', 'complex', 'atop', 'wooden', 'progresses', 'low-key', 'manner', 'risks', 'monotony', 'burns', 'strongest', 'brothers', 'mcmullen', 'miss', 'dover', 'kosashvili', 'outstanding', 'potent', 'writing', 'seeks', 'excitement', 'feeble', 'insult', 'empty', 'problems', 'fat', 'greek', 'wedding', 'apartheid', 'achieve', 'popularity', 'auto', 'focus', 'biopic', 'document', 'male', 'swingers', 'playboy', 'era', 'now', 'signposts', 'marking', 'slow', 'lingering', 'imagination', 'appealing', 'quirks', 'serious', 'lingers', 'irrelevant', 'gradually', 'turns', 'describe', 'then', 'korean', '2002', 'largest-ever', 'historical', 'canvas', 'solid', 'assured', 'complete', 'modern', 'irony', 'comatose', 'ballerinas', 'oh-so-important', 'road', 'thematic', 'ironies', 'obvious', 'sexual', 'politics', 'smug', 'formulaic', 'equations', 'captures', 'interestingly', 'lived', 'deserve', 'passing', 'gon', 'na', 'stupid', 'weaves', 'elements', 'powerfully', 'mood', 'combining', 'heated', 'sexuality', 'malaise', 'indictment', 'failings', 'felt', 'across', 'board', 'weird', 'distanced', 'finally', 'offensive', 'santa', 'clause', '2', 'purportedly', 'children', 'engage', 'emotionally', 'intimate', \"'ll\", 'wishing', 'were', 'dishonesty', 'bestial', 'loose', 'not-so-funny', 'lazy', 'prove', 'distressing', 'suspenseful', 'crackles', 'fairly', 'revealing', 'study', 'main', 'disney-style', 'genial', 'gets', 'job', 'done', 'pace', 'bully', 'husband', 'gaghan', 'thrown', 'cliché', 'book', 'nonsensical', 'darker', 'misogyny', 'unprovoked', 'suffocate', 'illumination', 'created', 'daughters', 'chilling', 'heart-warming', 'retread', 'filming', 'reefs', 'boils', 'seeking', 'existent', 'anti-virus', 'fewer', 'break', 'tedium', 'deep', 'deceptions', 'okay', 'paranoid', 'claustrophobia', 'submarine', 'unsettling', 'spookiness', 'supernatural', 'grand', 'good-natured', 'found', 'tremors', 'transfixes', 'audience', 'dope', 'avid', 'blessed', 'nuanced', 'lead', 'star', 'hampered', 'paralyzed', 'self-indulgent', 'expressly', 'idiots', 'sewage', 'shovel', 'mental', 'gullets', 'simulate', 'sustenance', 'punk', 'medium', 'spirit', 'perception', 'nurses', 'holes', 'gaping', 'pilot', 'olympic', 'team', 'blend', 'guy-in-a-dress', 'claude', 'chabrol', 'master', 'innuendo', 'riveting', 'war', 'inuit', 'cliché-laden', 'screenplay', 'girlfriends', 'wives', 'bored', 'abc', 'wish', 'mesmerizing', 'thoughtful', 'unapologetically', 'raw', 'coming-of-age', 'tale', 'drugs', \"'n'\", 'testament', 'playing', 'feature-length', 'sitcom', 'replete', 'stereotypical', 'quandaries', 'lacks', 'charisma', 'ability', 'carry', 'broad', 'shoulders', 'report', 'spousal', 'abuse', 'fake', 'backdrops', 'stately', 'diverse', 'astonishingly', 'articulate', 'palestinian', 'israeli', 'suffers', 'strong', 'humanism', 'touches', 'dragon', 'loses', 'fire', 'midway', 'nearly', 'flickering', 'perfunctory', 'rodriguez', 'purpose', 'finesse', 'england', 'roger', 'mitchell', 'handily', 'move', 'pleasing', 'relatively', 'lightweight', 'commercial', 'fare', 'notting', 'hill', 'heft', 'probably', 'stores', 'christmas', 'triumphant', 'underachiever', 'wry', 'plots', 'dime-store', 'ruminations', 'reality', 'god', 'sake', 'whatever', 'sentimental', 'hypocritical', 'lessons', 'sexism', 'colors', 'various', 'wet', 't-shirt', 'shower', 'cry', 'money', 'enthralling', 'max', 'rothman', 'future', 'thrown-together', 'summer-camp', 'talent', 'hastily', 'underrehearsed', 'arbitrarily', 'plotted', 'kahlo', 'living', 'drown', 'lake', 'afterwards', 'searching', 'bombs', 'balances', 'traditional', 'stories', 'overwhelms', 'surface', 'histrionics', 'compensate', 'paper-thin', 'characterizations', 'plumbs', 'uncharted', 'depths', 'stupidity', 'incoherence', 'sub-sophomoric', 'banter', 'taste', 'mouth', 'decent', '4/5ths', 'might', 'xerox', 'machine', 'writer-director', 'franc', 'headline-fresh', 'among', 'orthodox', 'jews', 'west', 'bank', 'joseph', 'cedar', 'favor', 'dramatic', 'means', 'addressing', 'situation', 'compromising', 'complexity', 'responsible', 'shamelessly', 'manipulative', 'darkness', 'exploiting', 'molestation', 'loud', 'shout', 'insults', 'orwell', 'warning', '1984', 'cartoonish', 'sneering', 'provides', 'type', 'perfect', 'ardently', 'waste', 'gobbler', 'oscar-sweeping', 'franchise', 'predecessor', 'sets', 'pretensions', 'radical', 'sentence', 'unexpectedly', 'insightful', 'allen', 'romantic', 'comedies', 'pertinent', 'enduring', 'doubt', 'maudlin', 'subjects', 'party-hearty', 'teen', 'flick', 'scalds', 'acid', 'wan', 'thinly', 'sketched', 'funniest', 'oddly', 'sweet', 'jokester', 'highway', 'patrolmen', 'romantic/comedy', 'asks', 'souvlaki', 'indigestion', 'dazzle', 'delight', 'beneath', 'bigger', 'meaningful', 'earth', 'harvesting', 'purposes', 'aspires', 'impresses', 'skillfully', 'assembled', 'highly', 'polished', 'manhunter', 'construct', 'trace', 'laziness', 'arrogance', 'knows', 'won', 'frightful', 'vanity', 'debt', 'miramax', 'owed', 'benigni', 'laughed', 'lizard', 'endeavors', 'need', 'adhere', 'closely', 'laws', 'laughter', 'philosophical', 'void', 'unlikable', 'self-conscious', 'invention', 'hot', 'hardwood', 'drag', 'hopelessly', 'juvenile', 'shakespearean', 'breadth', 'unique', 'directing', 'required', 'slugfest', 'non-stop', 'attention', 'hip', 'hop', 'literary', 'conceits', 'flesh-and-blood', 'humans', 'explanation', 'chilly', 'remote', 'distant', 'dull', 'tagline', 'witty', 'bargain-basement', 'european', 'pickup', 'really', 'apart', 'debrauwer', 'refusal', 'push', 'buttons', 'shines', 'intelligently', 'accomplished', 'taps', 'primal', 'fears', 'cope', 'mysterious', 'brutal', 'group', 'friends', 'astray', 'weirdness', 'ingratiating', 'portrait', 'conceit', 'rare', 'root', 'draws', 'unexplainable', 'pain', 'eccentricities', 'attached', 'spliced', 'pieces', 'midnight', '48', 'shrek', 'busy', 'reference', 'fails', 'mind', 'compassion', 'eyre', 'sleeper', 'success', 'handles', 'unexpected', 'devoted', 'insanity', 'intermittently', 'devastatingly', 'imitation', 'bard', 'excites', 'tickles', 'bone', 'strengths', 'dream', 'hispanic', 'teeth-clenching', 'gusto', 'stiff', 'lives', 'jolts', 'stimulus', 'frustration', 'winning', 'antics', 'perverse', 'pleasure', 'scrape', 'bottom', 'cracker', 'barrel', 'feeling', 'guilty', 'miracle', 'miracles', 'flip-flop', 'lewis', 'why', 'bother', 'remembering', 'bogdanovich', 'puts', 'perspective', 'via', 'kirsten', 'dunst', 'showcases', 'davies', 'father', 'domestic', 'tension', 'unhappiness', 'sincere', 'results', 'bleak', 'doing', 'each', 'holiday', 'box', 'office', 'pie', 'inexpressible', 'drab', 'wannabe', 'hail', 'bullets', 'none', 'extended', 'open-ended', 'poem', 'convincing', 'arnie', 'musclefest', 'events', 'mesmerised', 'loved', '1989', 'paradiso', 'prefer', 'patient', 'viewer', 'tattoo', 'borrows', 'heavily', 'seven', 'silence', 'lambs', 'maintain', 'intrigue', 'human-scale', 'turned', 'tongue-in-cheek', 'undramatic', 'pile', 'useless', 'actioners', 'morton', 'deserves', 'weirdly', 'efficiency', 'affection', 'period', 'tell', 'vietnam', 'pathology', 'irrigates', 'souls', 'hint', 'rollicking', 'adventure', 'mateys', 'regardless', 'ages', 'immediate', 'aplenty', 'bonus', 'worry', 'subjected', 'farts', 'urine', 'feces', 'semen', 'foul', 'substances', 'overrun', 'modern-day', 'convince', 'everyone', 'intro', 'documentary', 'racism', 'homophobia', 'edge', 'kills', 'believability', 'beyond-lame', 'satire', 'teddy', 'bears', 'picnic', 'ranks', 'pitiful', 'debuts', 'esteemed', 'writer-actor', 'seesawing', 'courage', 'top', 'target', 'graduated', 'junior', 'intricately', 'well-realized', 'embracing', 'celluloid', 'litmus', 'test', 'intellectual', 'pedigree', 'admire', 'meditation', 'madness', 'frailty', 'listless', 'growing', 'believes', 'must', 'addams', 'freddy', 'molested', 'moody', 'hustler', 'uselessly', 'money-grubbing', 'third-rate', 'filled', 'humorous', 'observations', 'general', 'absurdity', 'outsiders', 'deftly', 'condescending', 'stereotypes', 'plague', 'dealing', 'mentally', 'ill', 'mostly', 'bore', 'mix', 'flat-out', 'suspect', 'morvern', 'callar', 'universal', 'involving', 'efforts', 'kline', 'naught', 'scruffy', 'sands', 'titular', 'liberal', 'doses', 'exterior', 'stable-full', 'badly', 'edited', 'awkwardly', 'wholly', 'unnecessary', 'pre-credit', 'sequence', 'designed', 'smoothly', 'creepy', 'dead-on', 'check', 'ticket', 'simone', 'consider', 'dvd', 'rental', 'instead', 'placed', 'pantheon', 'swashbucklers', 'satisfyingly', 'smart', 'complicated', 'unguarded', 'folks', 'live', 'homes', 't', 'deals', 'hot-button', 'comedic', 'context', 'barbershop', 'rip', 'aware', 'accentuating', 'quarter', 'pull', 'cohesive', '1/2', '-', 'hour', 'ensemble', 'endear', 'truly', 'painful', 'american', 'reeks', 'clotted', 'symbolism', 'psychology', 'endless', 'scenic', '105', 'cat', 'meow', 'wonderland', 'stalker', 'renowned', 'allows', 'americans', 'revel', 'splendor', 'winners', 'underrated', 'professionals', 'rarely', 'receive', 'ourselves', 'surprised', 'all-time', 'enjoyed', 'reacting', 'locations', 'colorful', 'vibrant', 'introduction', 'parade', 'fascinates', 'famuyiwa', 'forcing', 'contrivance', 'cliché-riddled', 'offer', 'sneaks', 'photographic', 'marvel', 'shockingly', 'pulls', 'deft', 'ally', 'mcbeal-style', 'fantasy', 'sequences', 'result', 'well-intentioned', 'ironically', 'sort', 'disposable', 'kitchen-sink', 'illustrates', 'sum', 'parts', 'today', 'collegiate', 'gross-out', 'restoring', 'luster', 'national', 'lampoon', 'reduced', 'direct-to-video', 'irrelevancy', 'wow', 'factor', 'hashiguchi', 'released', 'u.s.', 'major', 'emerging', 'brazil-like', 'hyper-real', 'payoff', 'scathing', 'entity', 'strangling', 'audiences', 'tax', 'einstein', 'brain', 'sign', 'buy', 'moonlight', 'mile', 'strike', 'nerve', 'dependable', 'botched', 'execution', 'bit', 'anachronistic', 'revelatory', 'pianist', 'surgeon', 'mends', 'broken', 'meticulously', 'detached', 'represented', 'nifty', 'premise', 'vein', 'wonderfully', 'lush', 'existentialism', 'ship', 'leaky', 'chase', '10,000', 'scary', 'martha', 'stewart', 'decorating', 'program', 'amok', 'rapid', 'virtually', 'unwatchable', 'undeniably', 'exceedingly', 'clever', 'mcculloch', 'production', 'looked', 'destination', 'public', 'constantly', 'pulling', 'rug', 'underneath', 'sides', 'plunging', 'deeper', 'getting', 'intense', 'faithful', 'numerous', 'exaggerated', 'dreary', 'improved', 'upon', 'k-19', 'widowmaker', 'yarn', 'humorless', 'thank', 'walk', 'remember', 'bite', 'punishment', 'recognizably', 'plympton', 'likeable', 'cuisine', 'tunes', 'hero', 'innocence', 'soon', 'questionable', 'inexcusable', 'keeps', 'hooked', 'delicious', 'pulpiness', 'lurid', 'fiction', 'whimsical', 'relevant', 'tackles', 'grief', 'grotesque', 'narcissism', 'sad', 'arguably', 'hong', 'kong', 'versatile', 'stanley', 'kwan', 'wore', 'me', 'refreshing', 'feardotcom', 'clive', 'barker', 'motion', 'food', 'entrée', 'instantly', 'recognizable', 'passive-aggressive', 'co-dependence', 'ends', 'perfection', 'liza', 'urgent', 'kinda', 'propelled', 'presents', 'goofball', 'overplayed', 'capable', 'masses', 'pop-induced', 'score', 'spielberg', 'trademark', 'visceral', 'dangerously', 'revelations', 'machines', 'curtains', 'planet', 'contest', 'out-bad-act', 'mug', 'barbarism', 'ethnic', 'cleansing', 'layered', 'stylistic', 'daring', 'wo', 'cheated', 'infidelity', 'unfaithful', 'haute', 'convey', 'environment', 'journey', 'spanning', 'bittersweet', 'camaraderie', 'know', 'holly', 'marina', 'tick', 'burdened', 'actor', 'offbeat', 'sensibilities', 'emerge', 'degree', 'accessibility', 'passionate', 'tumultuous', 'under-inspired', 'overblown', 'enterprise', 'gives', 'name', 'dare', 'say', 'thematically', 'bowel', 'movements', 'long-on-the-shelf', 'point-and-shoot', 'gimmicky', 'greater', 'parents', 'particularly', 'fateful', 'fathers', 'evolution', 'bewitched', 'adolescents', 'cram', 'earplugs', 'tired', 'nuances', 'perhaps', 'escape', 'mark', 'romanek', 'scrutiny', 'happen', 'skin', 'radiant', 'emaciated', 'jim', 'treats', 'credulous', 'explode', 'flame', 'heralds', 'escaped', 'rut', 'dug', 'last', 'verite', 'speculation', 'assassination', 'f.', 'kennedy', 'inspired', 'techniques', 'unsuccessful', 'attempt', 'superlative', 'soundtrack', 'soap-opera', 'quality', 'twist', '20', 'kibosh', 'otherwise', 'b-movie', 'hackneyed', 'concepts', 'dreaming', 'lumbering', 'load', '95-minute', 'nba', 'properties', 'adorable', 'peels', 'layers', 'existed', 'paper', 'deadly', 'inferior', 'big-hearted', 'frequently', 'striking', 'chords', 'sadness', 'schaeffer', 'impressive', 'sights', 'wondrous', 'beats', 'scorpion', 'king', 'ably', 'lags', 'middle', 'lurches', 'not-very-funny', 'unconvincing', 'dramatics', 'last-minute', 'strongly', 'reminiscent', 'lola', 'combination', 'act', 'narrator', 'jewish', 'grandmother', 'biography', 'bill', 'animation', 'impossible', 'task', 'faster', 'idol', 'detail', 'church', 'meetings', 'creating', 'dramatically', 'heroine', 'compassionate', 'foibles', 'timeless', 'hugely', 'featuring', 'fall', 'grace', 'shockwaves', 'ebullient', 'humane', 'side', 'eastern', 'genuinely', 'sustains', 'neither', 'entertain', 'provocative', 'literally', 'stops', 'dime', 'tries-so-hard-to-be-cool', 'clockstoppers', 'mean', 'longest', 'movie-going', 'sharp', 'edges', 'godard', 'distinctive', 'discourse', 'reserved', 'existential', 'poignancy', 'sopranos', 'dated', 'demonstrate', 'desperate', 'makers', 'doing-it-for', 'the-cash', \"'n\", 'safe', 'milquetoast', 'week', 'blown', 'buffs', 'discipline', 'samuel', 'l.', 'jackson', 'saying', '12-year-old', 'boy', 'aims', 'sounding', 'close', 'visual', 'monty', 'assaults', 'america', 'knee-jerk', 'moral', 'sanctimony', 'par', 'accuracy', 'frank', 'novak', 'grounded', 'social', 'realism', 'place', 'plea', 'democracy', 'civic', 'ilk', 'spy', 'island', 'dreams', 'adorns', 'family-film', 'elegance', 'maturity', 'contemporary', 'adult', 'kevin', 'rendered', 'devotees', 'trek', 'wrath', 'khan', 'nagging', 'deja', 'vu', 'grandeur', 'generation', 'episodes', 'first-rate', 'turd', 'squashed', 'truck', 'preferably', 'semi', 'bile', 'faulty', 'haphazardness', 'grows', 'beloved-major', 'refreshingly', 'forthright', 'crossing-over', 'mumbo', 'jumbo', 'amused', 'entertained', 'unfolding', 'bielinsky', 'cleverly', 'constructed', 'scenario', 'impressed', 'skill', 'determined', 'duplicate', 'bela', 'lugosi', 'now-cliched', 'vampire', 'accent', 'light-hearted', 'heavy', 'flabby', 'rolls', 'typical', 'toback', 'machinations', 'slapdash', 'disaster', 'fierce', 'dance', 'crippled', 'crap', 'lady', 'duke', 'boring', 'rohmer', 'chinese', 'ah', 'york', 'city', 'replace', 'past', 'tragedy', 'submerging', 'unfolds', 'predictably', 'adventures', 'repetitive', 'fill', 'providing', 'taiwanese', 'auteur', 'tsai', 'ming-liang', 'news', 'fallen', 'melancholy', 'spell', 'previous', 'drain', 'tolerate', 'insipid', 'brutally', 'clueless', 'dose', 'painkillers', 'historic', 'scandal', 'steeped', 'ravishing', 'baroque', 'cool', 'packed', 'espn', 'x.', 'middle-aged', 'handled', 'lamentations', 'self-centered', 'kid-pleasing', 'bigelow', 'vision', 'propels', 'upper', 'echelons', 'unhibited', 'enthusiasm', 'spite', 'clearly', 'evident', 'poverty', 'hardship', 'taken', 'protagonists', 'determine', 'order', 'kill', 'zombie', 'shoot', 'head', 'laramie', 'following', 'murder', 'matthew', 'shepard', 'cheese', 'earnestness', 'remarkably', 'chosen', 'topic', 'movie-goers', 'embarking', 'insistent', 'nausea', 'survival', 'heart-pounding', 'psychological', 'exist', 'climactic', 'setpiece', 'coherent', 'tartly', 'extracting', 'bare', 'bones', 'byatt', 'bland', 'underdeveloped', 'jokes', 'heartening', 'victories', 'bizarre', 'robberies', 'gritty', 'police', 'dysfunctional', 'dynamics', 'routine', 'struggles', 'class', 'nonetheless', 'appreciates', 'transcends', 'race', 'disadvantage', 'cheap', 'churn', 'mediocre', 'started', 'hanging', 'wanted', 'phlegmatic', 'vs.', 'starring', 'affleck', 'downright', 'hitchcockian', 'cheapo', 'saturday', 'morning', \"'60s\", 'sword-and-sorcery', 'round', 'japanese', 'names', 'begins', 'brightly', 'fell', 'maddeningly', 'sedate', 'top-notch', 'british', 'playful', 'nevertheless', 'off-putting', 'bogged', '140', 'nicholas', 'nickleby', 'finds', 'circumstances', 'optimistic', 'coming', 'pack', 'dogs', 'smarter', 'heartwarming', 'biggest', 'couple', 'saps', 'stuck', 'inarticulate', 'measured', 'against', 'practically', 'like-themed', 'members', 'plainly', 'larger-than-life', 'figure', 'behold', 'devos', 'cassel', 'tremendous', 'chemistry', 'depictions', 'caretakers', 'variety', 'eddie', 'murphy', 'aged', 'permits', 'marked', 'acute', 'host', 'splendid', 'waster', 'eerily', 'absorbing', 'treatise', 'spirituality', 'door', 'liberation', 'credited', 'selection', 'exceptional', 'impression', 'pseudo-educational', 'stand', 'muddled', 'simplistic', 'pretentious', 'dreamy', 'perfectly', 'childhood', 'qualities', 'losers', 'attitude', 'flashy', 'writer', 'burr', 'steers', 'michael', 'caine', 'whipping', 'punching', 'stomach', 'sweetheart', 'slam-dunk', 'ultimately', 'disappoint', 'moved', 'dynamic', 'dude', 'uh', 'zaidan', 'paced', 'begin', 'resolutely', 'unamusing', 'unrewarding', 'reckless', 'squandering', 'four', 'dopey', 'endlessly', 'grotesquely', 'inventive', 'wrenching', 'helped', 'chasing', 'amy', 'changing', 'lanes', 'falls', 'thinking', 'cia', 'agent', 'jack', 'ryan', 'escapes', 'precious', 'trappings', 'infusing', 'dead', 'quickly', 'tiresome', 'unlike', 'perceptive', 'slaloming', 'ease', 'forgettable', 'nice', 'piscopo', 'low-brow', 'gratuitous', 'strain', 'gripping', 'tunisian', 'startling', 'transformation', 'tradition-bound', 'widow', 'drawn', 'exotic', 'belly', 'dancing', 'stab', 'soccer', 'hooliganism', 'double-barreled', 'rip-off', 'shootout', 'festival', 'consumed', 'billy', 'ray', 'terry', 'george', 'desired', 'one-sidedness', 'thought-provoking', 'properly', 'totally', 'tried', 'genre-curling', 'revives', 'free-wheeling', 'french', 'goodness', 'signpost', 'worthless', 'wonder', 'spotlight', 'devoid', 'waterlogged', 'fatal', 'attraction', 'teeny-bopper', 'glossy', 'brittle', 'desperation', 'off-beat', 'fanciful', 'exquisite', 'meandering', 'sketch', 'waters', 'todd', 'solondz', 'fully', 'developed', 'vincent', 'r.', 'nebrida', 'gutless', 'laurice', 'guillen', 'time-consuming', 'charlotte', 'surprising', 'reasonable', 'skeeved', 'outgag', 'whippersnappers', 'ponderous', 'remotely', 'incisive', 'qualify', 'monsoon', 'whet', 'appetite', 'bollywood', 'nationwide', 'blight', 'fresh-faced', 'profoundly', 'devastating', 'healing', 'followed', 'wake', 'nelson', 'worthy', 'desire', 'undermines', 'possibility', 'thornier', 'nature/nurture', 'argument', 'regards', 'homosexuality', 'recommendation', 'achievements', 'sandra', 'bullock', 'poetic', 'sadly', 'caffeinated', 'sloppy', 'brilliance', 'sparkling', 'anti-semitism', 'far-fetched', 'banger', 'sisters', 'mildly', 'leonine', 'quiet', 'tenacious', 'lopez', 'gaps', 'relationships', 'hippie-turned-yuppie', 'norma', 'rae', 'am', 'baffled', 'cannes', 'smoother', 'focused', 'relegated', 'background', 'forward', 'sally', 'jesse', 'raphael', 'atmosphere', 'philadelphia', 'zealand', 'dramatize', 'messiness', 'strange', 'p.t.', 'anderson', 'understands', 'grandness', 'equalizer', 'calm', 'daily', 'ills', 'joys', 'knew', 'possible', 'rises', 'geriatric', 'harry', 'loyal', 'suits', 'wherein', 'roughshod', 'cops', 'retooling', 'masterful', 'ian', 'holm', 'hearts', 'minds', 'conventional', 'lots', 'talking', 'heads', 'etc.', 'justice', 'deemed', 'someone', 'hired', 'portray', 'dawson', 'blab', 'forget', 'responsibilities', 'alone', 'toddler', 'monumental', 'achievement', 'zippy', '96', 'hoary', 'fluxing', 'accents', 'silly-looking', 'morlocks', 'logic', 'misuse', 'morgan', 'freeman', 'ashley', 'judd', 'robin', 'tunney', 'smith', 'laughing', 'guilty-pleasure', 'daytime-drama', 'grey', 'zone', 'attempts', 'grandiloquent', 'grisly', 'generated', 'shadowy', 'lighting', 'macabre', 'rain', 'offset', 'sheer', 'ugliness', 'else', 'graceful', 'uninspired', 'clichéd', 'frantic', 'virulent', 'foul-natured', 'season', 'pics', 'strenuous', 'expression', 'gooding', 'energetic', 'frontman', 'resist', 'slapstick', 'promisingly', 'disintegrates', 'amusing', 'happy', 'exploitive', 'array', 'obligatory', 'pulse', 'lifted', 'gilliam', 'subconscious', 'pressed', 'kafka', 'meat', 'grinder', 'buñuel', 'casings', 'sleaziness', 'too-long', 'spoofy', 'update', 'cynical', 'puppies', 'legs', 'attract', 'upscale', 'hungry', 'nostalgic', 'twisty', 'guessing', 'knock', 'beer', 'excited', 'ought', 'stirring', 'cattle', 'prod', 'struggling', 'paean', 'benjamins', 'evokes', 'tier', 'blaxploitation', 'flicks', '1970s', 'docu-drama', 'builds', 'multi-character', 'flourish', 'dickens', 'sprawling', 'dreadfulness', 'rocket', 'scientist', 'mormon', 'sappy', 'all-around', 'anemic', 'intolerable', 'morbidity', 'touched', 'spoof', 'fit', 'chan', '99', 'saddest', 'witnessed', 'pointed', 'tender', 'reflection', 'smartly', 'grown-up', 'problematic', 'show-stoppingly', 'hilarious', 'scathingly', 'lothario', 'biographical', 'fantasia', 'indoor', 'sacrifice', 'christian', 'political', 'corruption', 'ghost', 'below', 'spooky', 'net', 'atlantic', 'ocean', 'spits', 'grizzled', 'charred', 'somewhere', 'northwest', 'bermuda', 'triangle', 'drowned', 'unattractive', 'odorous', 'leon', 'haneke', 'novel', 'unmotivated', 'psychologically', 'unpersuasive', 'inconclusive', 'rent', 'parable', 'scoob', 'shag', 'eat', 'during', 'screwed-up', 'rumblings', 'meditative', 'monster', 'atmospherics', 'satirical', 'depressing', 'ruthlessly', 'pained', 'depraved', 'equivalent', 'staring', 'wound', 'bracing', 'truth', 'phoniness', 'female-bonding', 'divine', 'secrets', 'ya-ya', 'sisterhood', 'heartbreakingly', 'minor', 'singular', 'fuddled', 'motives', 'drains', 'substance', 'shake', 'boots', 'sexy', 'beast', 'gloriously', 'flippant', 'lock', 'stock', 'smoking', 'barrels', 'legendary', 'professor', 'magnetic', 'graham', 'honor', 'nanook', 'landmark', 'barney', 'heartfelt', 'legacy', 'evil', 'monstrous', 'lunatic', 'smoky', 'inviting', 'potential', 'inherent', 'mixture', 'bubble', 'goo', 'redemption', 'intoxicating', 'fumes', 'ghosts', 'freshly', 'painted', 'rembrandt', 'sleep-inducing', 'coen', 'mediocrity', 'intended', 'swinging', 'trees', 'hooting', 'praises', 'definitely', 'destiny', 'pokemon', 'diverting', 'suitable', 'matinee', 'message', 'cautions', 'disturbing', 'delicate', 'ecological', 'balance', 'patchy', 'low-tech', 'magic', 'ploddingly', 'sociological', 'commentary', 'meanspirited', 'meal', 'innovation', 'pizazz', 'teenagers', 'mckay', 'embarrassed', 'rush', 'intermediary', 'apparently', 'hoping', 'notice', 'glaring', 'triteness', 'device', 'unacceptable', 'violent', 'vulgar', 'forgettably', 'mill', 'super-sized', 'dosage', 'misanthropic', 'claims', 'surrealism', 'spies', '4ever', 'sledgehammer', 'laugh-a-minute', 'crowd', 'pleaser', 'opulent', 'lushness', 'breathe', 'somewhat', 'soggy', 'went', 'peevish', 'finely', 'attentive', 'canny', 'straight', 'cartoons', 'light', 'elbowed', 'aside', 'one-liners', 'incorporates', 'rotoscope', 'dying', 'retail', 'clerk', 'contrast', 'murky', 'decipherable', 'transporting', 'smartest', 'gong', 'li', 'personality', 'bowling', 'columbine', 'moore', 'starting', 'conversation', 'vaporize', 'inimitable', 'diaz', 'holding', 'decrepit', 'yelling', 'sterile', 'eventful', 'director/co-writer', 'jacques', 'audiard', 'known', 'country', 'belongs', 'rank', 'suffocating', 'stink', 'good-bad', 'eight', 'legged', 'freaks', 'diversion', 'milieu', 'annoying', 'pitch', 'edit', 'bonds', 'linger', 'ended', 'simple', 'goddammit', 'b', 'address', 'signature', 'rely', 'anatomical', 'cliches', 'elegant', 'barely', 'registering', 'blip', 'radar', 'majors', 'reek', 'governments', 'lie', 'admirable', 'reconstruction', 'ritter', 'glory', 'fight', 'floating', 'eloquent', 'memorial', 'trade', 'center', 'implausible', 'behavior', 'kramer', 'guest', 'appearance', 'liven', 'plays', 'overripe', 'episode', 'creek', 'dumbed-down', 'message-mongering', 'moralism', 'fast', 'asleep', 'aftertaste', 'unimaginative', 'self-absorbed', 'forest', 'talky', 'artificial', 'opaque', 'splendidly', 'pair', 'mountain', 'borrowed', 'undermining', 'stifling', 'creator', 'voice', 'blank', 'demons', 'impeccable', 'driven', 'fantastic', 'dual', 'insightfully', 'lark', 'horror/action', 'hybrid', 'finest', 'faces', 'flow', 'pipeline', 'hitch', 'paul', 'cox', 'abstract', 'nijinsky', 'diaries', 'stimulating', 'needed', 'jones', 'snipes', 'courtship', 'reel', 'participation', 'smell', 'grease', 'screenwriting', 'courtesy', 'pogue', 'yale', 'grad', 'previously', 'gave', 'skulls', 'impulses', 'grew', 'hideously', 'twisted', 'spiteful', 'friendship', 'salvaged', 'blips', 'overwritten', 'demand', 'hankies', 'down-to-earth', 'one-hour', 'bond', 'constant', 'bloodshed', 'offers', 'grandkids', 'grandparents', 'overwhelmingly', 'tastelessness', 'gall', 'action-movie', 'leads', 'companionable', 'stuffy', 'give-me-an-oscar', 'connection', 'identification', 'frustratingly', 'caliber', 'balanced', 'run-of-the-mill', 'profanity', 'built', 'laughably', 'hotels', 'highways', 'smaller', 'wastes', 'cut', 'swathe', 'mainstream', 'retaining', 'integrity', 'refusing', 'compromise', 'mind-numbingly', 'indescribably', 'charge', 'river', 'pours', 'menacing', 'incessantly', 'resemblance', 'experiences', 'battered', 'spent', 'existing', 'photos', 'helmer', 'hudlin', 'nor', 'gangs', 'excels', 'funk', 'got', 'creates', 'vocalized', 'palpable', 'succumb', 'call', 'edgy', 'crassly', 'comedically', 'caper', 'thrills', 'demonstrating', 'vividly', 'fluffy', 'marks', 'encouraging', 'la', 'salle', 'inflammatory', 'note', 'recommend', 'semimusical', 'rendition', 'despicable', 'friend', 'dinner', 'chris', 'columbus', 'hat-in-hand', 'rowling', 'stifles', 'creativity', 'amiable', 'evergreen', 'exuberant', 'openness', 'expresses', 'basic', 'markedly', 'inactive', 'saves', 'nervy', 'memorable', 'sham', 'workshops', 'affected', 'distractions', 'nail', 'spirit-crushing', 'ennui', 'denuded', 'practitioners', 'ancient', 'practice', 'enigmatic', 'insanely', 'foundation', 'relative', 'modesty', 'remove', 'herring', 'surroundings', 'satisfies', 'good-hearted', 'elizabeth', 'hurley', 'graceless', 'inhale', 'gutter', 'romancer', 'pastry', 'violated', 'objective', 'polemic', 'journalistic', 'reassuring', 'sung', 'carol', 'intricate', 'dupe', 'product', 'westerners', 'verging', 'mumbo-jumbo', 'impossibly', 'fulfill', 'goals', 'neighborhood', 'project', 'humor-seeking', 'dollars', 'elsewhere', 'italian', 'beginners', 'crimes', '20th', 'century', 'france', 'competent', 'destined', 'after-school', 'slot', 'shopping', 'mall', 'theaters', 'impersonal', 'glorious', 'd.w.', 'griffith', 'silent', 'fan', 'series', 'misses', 'opportunity', 'psyche', 'artifice', 'chefs', 'fussing', 'recipe', 'classy', 'sprightly', 'spin', 'bags', 'sneeze', 'ms.', 'paltrow', 'employs', 'authenticate', 'allow', 'suit', 'degrading', 'strangely', 'liberating', 'leading', 'revealed', 'dispassionate', 'gantz', 'ordinary', 'pasty', 'lumpen', 'brought', 'widget', 'cranked', 'assembly', 'kick', 'brits', 'cute', 'performing', 'ages-old', 'tricks', 'encounter', 'savaged', 'liberties', 'dispossessed', 'cheat', 'rote', 'talked', 'prickly', 'indie', 'ethics', 'animal', 'fiascos', 'antwone', 'fisher', 'emperor', 'club', 'mcgrath', 'trimmed', 'odyssey', 'cowering', 'happiness', 'sanctimonious', 'self-righteous', 'hopkins/rock', 'collision', 'onscreen', 'personas', 'acceptable', 'occasionally', 'second-guess', 'establishes', 'durable', 'james', 'anybody', 'picked', 'vibrantly', 'colored', 'metropolis', 'feast', 'seriously', 'dashing', 'resourceful', 'lisping', 'reptilian', 'villain', 'hair', 'lavish', 'scenery', 'let', 'bask', 'cleverness', 'slightly', 'wised-up', 'consistently', 'ignored', 'discovering', 'acknowledging', 'places', 'whence', 'came', 'piano', 'teacher', 'trick', 'seeming', 'reassuringly', 'daft', 'natured', 'increasingly', 'features', 'plotting', 'served', 'sophomoric', 'shenanigans', 'offend', 'reduces', 'complexities', 'bromides', 'slogans', 'specimen', 'usually', 'dread', 'encountering', 'fanboy', 'worked', 'five', 'fizz', 'lulled', 'coma', 'rapport', 'inadvertently', 'sidesplitting', 'ridicule', 'commercialism', 'neglecting', 'development', 'minute', 'cutting-edge', 'inspire', 'visit', 'mcdonald', 'shrill', 'soporific', 'sinister', 'modem', 'disconnects', '10', 'seconds', 'aground', 'triumphantly', 'sermonize', 'painfully', 'brosnan', 'counting', 'phrase', 'affirming', 'airless', 'prepackaged', 'julia', 'roberts', 'well-mounted', 'lesson', 'lovers', 'crawls', 'resemble', 'shapeless', 'grasping', 'workshop', 'tediously', 'grabs', 'shakes', 'vigorously', 'duration', 'lonely', 'certain', 'experimentation', 'improvisation', 'realize', 'helpings', 'false', 'dawns', 'separate', 'crises', 'ceremonies', 'cotswolds', 'melodramatic', 'structure', 'forged', 'still-raw', 'captivates', 'weight', 'pootie', 'tang', 'punchlines', 'filling', 'peculiar', 'angelina', 'jolie', 'self-deprecating', 'queasy-stomached', 'ick', 'monosyllabic', 'psychedelic', 'devices', 'backgrounds', 'fundamentally', 'maid', 'manhattan', 'locales', 'rage', 'dumplings', 'exactly', 'skies', '9', 'prevents', 'firing', 'self-consciously', 'market', 'research', 'stomach-knotting', 'legal', 'testimony', 'witnesses', 'lends', 'undertone', 'authentic', 'account', 'event', 'revolutionary', 'crowd-pleaser', 'drives', 'chance', 'unlikely', 'inescapable', 'air', 'obstacles', 'outcome', 'glosses', 'rafael', 'melange', 'moment', 'turgid', 'peppering', 'pages', 'zingers', 'eloquence', 'spiritual', 'challenge', 'centuries', 'truths', 'salma', 'hayek', 'stages', 'improbability', 'inspiring', 'tossed', 'shocking', 'neo-fascism', 'holiday-season', 'made-for-movie', 'unflinching', 'lifestyle', 'studios', 'stunt', 'food-spittingly', 'nohe', 'sympathetic', 'gullible', 'unrecoverable', 'invest', 'laboratory', 'concerned', 'risk', 'schemes', 'consequences', 'actions', 'later', 'xmas', 'scam', 'sadistic', 'tendencies', 'left', 'remaining', 'savagely', 'critics', 'jonathan', 'swift', 'falling', 'trap', 'paints', 'explains', 'zeitgeist', 'x', 'longer', 'muccino', 'likable', 'competence', 'sorely', 'wal-mart', 'angst', 'irreparably', 'drags', 'clarity', 'myriad', 'signs', 'idiocy', 'visually', 'sappiness', 'produce', 'adequate', 'drug', 'turpin', 'chuckle', 'david', 'jacobson', 'dawdle', 'deliberate', 'inadvertent', 'ones', 'stunningly', 'trite', 'songs', 'model', 'bloated', 'low-budget', 'uhf', 'scarifying', 'proved', 'text', 'lick', 'wallet', 'dodge', 'low-rent', 'lower-wit', 'farrelly', 'oeuvre', 'played', 'twists', 'idiotic', 'court', 'maneuvers', 'case', 'kissinger', 'benefit', 'enormously', 'cockettes', 'craziness', 'sugar', 'admirably', 'committed', 'gulpilil', 'commanding', 'presence', 'tends', 'plate', 'comprehension', 'clumsily', 'staged', 'overshadows', 'including', 'cannibal', 'lust', 'spinning', 'web', 'dazzling', 'overstating', 'remind', 'alive', 'spectacularly', 'conjures', 'ridiculousness', 'well-done', 'inhuman', 'scope', 'pretends', 'truthful', 'timid', 'gosford', 'park', 'assume', 'brit', 'b-12', 'cq', 'shimmers', 'figured', 'flawless', 'dismissed', 'forced', 'fabricated', 'pacino', 'williams', 'upping', 'ante', 'second-rate', 'patchwork', 'uneasy', 'louis', 'begley', 'source', 'schmidt', 'payne', 'indifference', 'spanish', 'workers', 'system', 'towards', 'child', 'tootsie', 'knockoff', 'tim', 'mccann', 'revolution', 'no.', 'britney', 'compared', 'precisely', 'arthur', 'dong', 'fundamentals', 'wise-beyond-her-years', 'spring', 'demented', 'two-way', 'time-switching', 'myopic', 'stalls', 'lackluster', 'gear', 'blandness', 'huge', 'gap', 'footnote', 'loneliness', 'anonymity', 'environments', 'spend', 'albeit', 'cautionary', 'technology', 'search', 'gut-clutching', 'voyeuristic', 'subjugate', 'sensationalism', 'finished', 'unshapely', 'disappointing', 'comparison', 'bristles', 'maintains', 'buoyant', 'notwithstanding', 'writers', 'sporadic', 'dips', 'pop', 'freudianism', 'challenging', 'pat', 'inspirational', 'status', 'cumbersome', 'identity', '*', 'corpus', 'jerking', 'food-for-thought', 'instructive', 'murder-on-campus', 'low-grade', 'inept', 'pathetic', 'dubbed', 'visible', 'boom', 'mikes', 'besson', 'rough-around-the-edges', 'constraints', 'sole', 'outside', 'conditioning', 'effect', 'ignoring', 'translating', 'novels', 'essence', 'none-too-original', 'stultifyingly', 'turkey', 'turntablism', 'hang', 'fleshed-out', 'conjured', 'prior', 'tear-jerking', 'documented', 'cruelty', 'pump', 'overworked', 'dismiss', 'sorry', 'aaliyah', 'fetid', 'fame', 'choose', 'expected', 'enjoys', 'popcorn', 'silliness', 'war-torn', 'croatia', 'nadia', 'russian', 'mail-order', 'speaking', 'word', 'english', 'randall', 'flag-waving', 'decency', 'pushes', 'insights', 'tensions', 'dissecting', 'highest', 'holds', 'midst', 'mushy', 'families', 'becoming', 'spike', 'lee', 'incessant', 'said', 'she', 'trust', 'talk', 'witless', 'uplifting', 'examine', 'interior', 'docs', 'party', 'telling', 'considers', 'arguments', 'immortal', 'pomposity', 'raw-nerved', 'catches', 'missing', 'big-screen', 'blowout', 'charismatic', 'rising', 'jake', 'gyllenhaal', 'susan', 'sarandon', 'dustin', 'hunter', 'newcomer', 'feat', 'rusted-out', 'ruin', 'restored', 'third', 'recompense', 'unintentional', 'rocks', 'artistry', 'little-remembered', 'alabama', 'harmless', 'dean', 'mannerisms', 'self-indulgence', 'sweetness', 'vulnerability', 'miraculous', 'dreamworks', 'adequately', 'fills', 'stirs', 'offerings', 'long-faced', 'sack', 'studied', 'dependent', 'm.', 'night', 'shyamalan', 'weave', 'eerie', 'negativity', 'brian', 'tufano', 'widescreen', 'grabowsky', 'battle', 'uncertain', 'shapable', 'present', 'dreamed', 'blatant', 'sickening', 'placement', 'insulting', 'jostling', 'late-inning', 'uncompromising', 'morally', 'bankrupt', 'terribly', 'monotonous', 'shine', 'gloomy', 'veil', 'releases', 'limbo', 'truth-telling', 'latest', 'gimmick', 'comedian', 'position', 'undeterminable', 'sexist', 'racist', 'coldest', 'crumb', 'comfort', 'song', 'example', 'all-enveloping', 'rhapsodizes', 'editing', 'cheaper', 'values', 'extreme', 'ops', 'downplays', 'raunch', 'strength', 'opposed', 'extent', 'outrageousness', 'summertime', 'confident', 'pleasingly', 'cutting', 'directors', 'abandon', 'scripts', 'wretchedly', 'terms', 'operates', 'improbable', 'fact', 'idiotically', 'feardotcom.com', 'improperly', 'hammy', 'stephen', 'rea', 'richer', 'freshman', 'welles', 'groupie/scholar', 'peter', 'took', 'provided', 'broadside', 'publishing', 'william', 'randolph', 'hearst', 'tricky', 'tightrope', 'wicked', 'busts', 'comfy', 'hollow', 'beginnings', 'tops', 'pros', 'cons', 'unconditional', 'leaden', 'aggrieved', 'unturned', 'list', 'ice-t', 'boho', 'art-house', 'burning', 'sensation', 'definitive', 'counter-cultural', 'useful', 'decidedly', 'unoriginal', 'utter', 'sincerity', 'therapy', 'passes', 'hysterics', 'hilarity', 'unless', 'raving', 'wars', 'junkie', 'sympathy', 'unchanged', 'dullard', 'shocker', 'weirdo', 'compassionately', 'portrayed', 'ring', 'groundbreaking', 'endeavor', 'spectacular', 'tiresomely', 'simpleminded', 'revelled', 'shallows', 'wewannour', 'verisimilitude', '30', 'musicals', 'sensual', 'credit', 'updated', 'dickensian', 'sensibility', 'craig', 'bartlett', 'well-made', 'crammed', 'vistas', 'unrelentingly', 'grim', 'cerebral', 'cinemantic', 'oodles', 'awkwardness', 'diesel', 'creature', 'table', 'manners', 'churns', 'flagrantly', 'thunderstorms', 'flows', 'forwards', 'themes', 'strands', 'prism', 'noble', 'embraces', 'strict', 'code', 'innocent', 'childlike', 'inherently', 'crushed', 'betrayal', 'sodden', 'glum', 'panic', 'interested', 'sucking', 'sweat', 'did', 'glued', 'faults', 'manage', 'salient', 'defuses', 'campanella', 'accuse', 'kung', 'pow', 'misfiring', 'wants', 'atrociously', 'full-bodied', 'urgency', 'culture-clash', 'sick', 'african', 'tipped', 'range', 'reputedly', 'unfilmable', 'bucked', 'odds', 'narratively', 'starving', 'untalented', 'crackle', 'weeks', 'indecent', 'proposal', 'lyne', 'stolid', 'remake', 'lolita', 'bleed', 'verve', 'rise', 'disgusting', 'jolly', 'fun-for-fun', 'communal', 'broadway', 'german', 'occupation', 'express', 'inner', 'selves', 'distracting', 'disappoints', 'cares', 'melted', 'mesmerize', 'astonish', 'misplaced', 'spirited', 'awakening', 'ripening', 'extravagantly', 'redeems', 'obscure', 'complaint', 'insultingly', 'impacts', 'survivors', 'monkeys', 'flinging', 'vapid', 'mystification', 'blade', 'shock', 'wear', 'soul-stirring', 'plumbing', 'arrangements', 'erotic', 'sensuous', 'uncanny', 'danger', 'juwanna', 'mann', 'conspicuously', 'seams', 'access', 'massoud', 'cultivation', 'devotion', 'readily', 'damn', '80', 'virtuosity', 'naqoyqatsi', 'banal', 'choice', 'tornatore', 'paid', 'raised', 'notches', 'kiddie', 'pablum', 'astringent', 'godfrey', 'reggio', 'beacon', 'overstays', 'natural', 'clinically', 'abandoned', 'slim', 'hopes', 'engagingly', 'quixotic', 'finale', 'impenetrable', 'retard', '101', 'introducing', 'alluring', 'rode', 'zipper', 'eating', 'corn', 'extra-large', 'cotton', 'candy', 'beware', 'penance', 'reflective', 'blazingly', 'baaaaaaaaad', 'settle', 'assayas', 'gallic', 'blood', 'screenwriter', 'twenty-some', 'reflect', 'stylishly', 'ruined', 'journalism', 'threat', 'wishful', 'fessenden', 'nurtured', 'metaphors', 'expense', 'nonsense', 'rope', 'snaps', 'tuxedo', 'miscalculates', 'longley', 'struggle', 'well-deserved', 'reputation', 'stylists', 'enhances', 'critical', 'craftsmanship', 'convinced', 'tens', 'lucky', 'outage', 'screening', 'humbuggery', 'typed', 'anthony', 'hopkins', 'terrorists', 'univac-like', 'allegedly', 'marketable', 'blind', 'eye', 'teach', 'ash', 'wednesday', 'reminds', 'enter', 'accept', 'scratch', 'geniality', 'fanatical', 'adherents', 'ghetto', 'chick-flicks', 'treating', 'follies', 'loaf', 'explodes', 'sugar-coated', 'trombone', 'sin', 'attributable', 'appreciated', 'igby', 'possess', 'rotten', 'single', 'facet', 'crawl', 'embarrassment', 'inelegant', 'unrelated', 'shorts', 'adjective', 'applies', 'crazy', 'grandfather', 'uncomfortably', 'strained', 'moronic', 'screenplays', 'disappointment', 'deliver', 'figures', 'reading', 'lines', 'teleprompter', 'disregard', 'stoked', 'imaginative', 'akin', 'reader', 'digest', 'condensed', 'tatters', 'mounting', 'expert', 'obscenity', 'stitched', 'viewed', 'composition', 'form', 'angle', 'somber', 'inventing', 'tepid', 'studio-produced', 'bothers', 'hand', 'suitcase', 'willies', 'credible', 'mature', 'highlighted', 'unsung', 'number', 'pro', 'con', 'stars', 'ensuing', 'complications', 'streetwise', 'mclaughlin', 'well-contructed', 'mired', 'piles', 'layer', 'shifting', 'peculiarly', 'amorality', 'woo', 'oversimplification', 'half-an-hour', 'furious', 'ninety', 'scratches', 'awash', 'droning', 'house', 'stasis', 'stunning', 'rumination', 'commerce', 'cuts', 'dilemma', 'combines', 'gored', 'bullfighters', 'subtly', 'kinky', 'bedside', 'vigils', 'denouements', 'twohy', 'yarn-spinner', 'compels', 'well-meant', 'coffee', 'thirst', 'horrendously', 'avarice', 'nobody', 'talkiness', 'ballistic', 'ecks', 'sever', 'ignore', 'cookie-cutter', 'waltz', 'lawrence', 'over-indulgent', 'tirade', 'withered', 'pass', 'thirteen-year-old', 'wind-tunnel', 'astounding', 'cor-blimey-luv-a-duck', 'cockney', 'skewed', 'provoke', 'older', 'sends', 'sun-drenched', 'parlor', 'smorgasbord', 'soliloquies', 'former', 'drew', 'barrymore', 'folds', 'thinness', 'collapses', 'inhalant', 'blackout', 'maintaining', 'consciousness', 'callow', 'pretension', 'conceptual', 'dahmer', 'pandering', 'porno', 'accident', 'somebody', 'devote', 'cynicism', 'costner', 'steady', 'character-driven', 'writer/director', 'raunchy', 'seemingly', 'fart', 'back-story', 'hamming', 'huppert', 'puzzle', 'sorority', 'boys', 'fetishistic', 'decisions', 'unsatisfactorily', 'naturally', 'cliche', 'kid-empowerment', 'unnerving', 'siege', 'alcatraz', 'corpse', 'springs', 'brilliantly', 'gravity', 'plummets', 'arcane', 'area', 'popular', 'imagined', 'pasts', 'tadpole', 'climax', 'scarily', 'sorrowfully', 'damage', 'surveys', 'neil', 'burger', 'jealousy', 'tenderly', 'observant', 'aristocrat', 'tattered', 'finery', 'excessively', 'underconfident', 'delivery', 'christopher', 'walken', 'romanced', 'cyndi', 'lauper', 'opportunists', 'classify', 'undisputed', 'scores', 'direct', 'oppressively', 'proud', 'warrior', 'bumbling', 'tongue-tied', 'quitting', 'autobiographical', 'sincerely', 'crafted', 'rant', 'aging', 'thumbing', 'nose', 'convention', 'closing', 'bout', 'wins', 'urgently', 'struggled', 'mercy', 'inventiveness', 'gasping', 'delights', 'soderbergh', 'kubrick', 'workings', 'spontaneity', 'gaza', 'heightened', 'well-shaped', 'virtues', 'person', 'survive', 'harm', '15', 'imagine', 'outing', 'stamina', 'vitality', 'madonna', 'cameo', 'sinks', 'abyss', 'depression', 'eroded', 'clown', 'funnier', 'corny', 'helluva', 'singer', 'ear', 'undistinguished', 'rhythm', 'flawed', 'comprehend', 'snore', 'tripe', 'treat', 'fallible', 'caricatures', 'hunger', 'tasty', 'gallo', 'lifts', 'gloss', 'within', 'regain', 'ground', 'bitter', 'stoops', 'manipulation', 'conventions', 'optimism', 'tarantula', 'helga', 'high-end', 'hughes', 'elder', 'bueller', 'quashed', 'afraid', 'introspection', 'video-game-based', 'believable', 'blasphemous', 'woozy', 'sheds', 'one-dimensional', 'buffoons', 'musical', 'praise', 'lord', 'terror', 'suggestion', 'overuse', 'horrific', 'stop', 'obviously', 'intentions', 'occasional', 'smiles', 'surfacey', 'fitting', 'soulless', 'owes', 'genesis', 'animatronic', 'display', 'disneyland', 'everyday', 'naval', 'personnel', 'san', 'diego', 'heartbreaking', 'tears', 'welled', 'sayles', 'developers', 'chamber', 'tourism', 'pageants', 'frightening', 'astronomically', 'shorter', 'surely', 'resulted', 'sacrificing', 'cultural', 'spotty', 'amid', 'populist', 'hard-pressed', 'fatter', 'trailer', 'super', 'super-serious', 'super-stupid', 'gorgeously', 'heaven', 'morality', 'refuses', 'elaborate', 'futuristic', 'autopsy', 'exploitative', 'wacky', '2-day', 'coke', 'memento', 'worldly-wise', 'buck', 'greasy', 'vidgame', 'pit', 'lobby', 'corner', 'friendly', 'bravery', 'staying', 'circuit', 'nymphette', 'salt-of-the-earth', 'mommy', 'minnie', 'travel', 'incognito', 'wig', 'halloween', 'costume', 'shop', 'sell', 'allowing', 'desert', 'spontaneous', 'co-operative', 'interaction', 'miyazaki', 'swept', 'wavers', 'hallmark', 'card', 'sentimentality', 'life-affirming', 'cellular', 'phone', 'palette', 'on-camera', 'convenient', 'hole-ridden', 'cad', 'instructs', 'younger', 'lad', 'zen', 'laid', 'misanthropy', 'quietly', 'sports', 'mindless', 'peak', 'gaunt', 'silver-haired', 'dimension', 'savage', 'cunning', 'sandeman', 'distorts', 'luridly', 'graphic', 'mike', 'aggressively', 'gender-provoking', 'philosophy', 'submerged', 'hell', 'brim', 'surrounded', '86', 'overly-familiar', 'poorly-constructed', 'handling', 'chills', 'wasted', 'tiny', 'nary', 'spectator', 'participant', 'rushed', 'garcía', 'bernal', 'talancón', 'immensely', 'rancorous', 'curiosity', 'fees', 'technological', 'concentrating', 'alienation', 'hostile', 'recklessness', 'retaliation', 'putrid', 'burn', 'print', 'copy', 'depict', 'homosexual', 'relationship', 'laced', 'boozy', 'seek', 'reasonably', '1994', 'flash', 'afterschool', 'costumes', 'versace', 'mad', 'wise', 'wizened', 'visitor', 'faraway', 'anime', 'clooney', 'accused', 'undisciplined', 'a-list', '22', 'respite', 'grind', 'refresh', 'misfire', 'therapy-dependent', 'flakeball', 'distinguished', 'scarier', 'woodland', '170', 'blah', 'unlikeable', 'welt', 'johnny', 'knoxville', 'riot-control', 'projectile', 'tortured', 'gangster', '1', 'worthwhile', 'moviegoing', 'books', 'seizing', 'haplessness', 'lucy', 'tics', 'subtlest', 'milk', 'cow', 'holofcener', 'curtsy', 'likely', 'good-looking', 'thousand', 'artificiality', 'centering', 'garcia', 'portrays', 'insecure', 'gratitude', 'sucks', 'dragons', 'reign', 'disappointed', 'low-wattage', 'lingerie', 'models', 'dancers', 'warmed', 'high-wattage', 'brainpower', 'coupled', 'pitch-perfect', 'unfakable', 'shamefully', 'strolls', 'grin', 'inexplicably', 'wearing', 'kilt', 'carrying', 'bag', 'golf', 'clubs', 'shoulder', 'managed', 'marry', 'inquiry', 'wang', 'corrupt', 'hedonistic', 'weasels', 'sobering', 'realization', 'myself', 'corniest', 'contrivances', 'satan', 'throwing', 'hands', 'surrender', 'r&d', 'decided', 'disguise', '24/7', 'records', 'disguising', 'justifies', 'scare', 'sane', 'under-7', 'span', 'odd', 'midwest', 'held', 'sound', 'uniformly', 'sassy', 'exceptionally', 'settles', 'contours', 'expectation', 'compressed', 'characterisations', 'profound', 'slimed', 'marvelously', 'catalyst', 'manhood', 'restrictive', 'chaotic', 'slap-happy', 'journalistically', 'dubious', 'postcard', 'neat', 'pin-like', 'verdict', 'bodies', 'quinn', 'leather', 'clad', 'grunge-pirate', 'hairdo', 'gandalf', 'carousel', 'cheer', 'several', 'entrapment', 'maze', 'secretary', 'spader', 'teenage', 'stepmother', 'ten', 'indians', 'meets', 'friday', '13th', 'clean', 'sober', 'carpenter', 'inevitable', 'incarnation', 'boat', 'forming', 'chain', 'circle', 'pick', 'admirers', 'distinguishing', 'crucifixion', 'schwarzenegger', 'stallone', 'truest', 'shaken', 'nesbitt', 'cooper', 'flying', 'transparency', 'enormous', 'amount', 'engross', 'antsy', 'youngsters', 'afternoon', 'cause', 'taylor', 'ill-considered', 'notion', 'hitler', 'shaped', 'random', 'animals', 'implied', 'pokémon', 'terrifying', 'schütte', 'snapshot', 'soon-to-be-forgettable', 'candles', 'cake', 'fret', 'calories', 'birthday', 'naipaul', 'possesses', 'languorous', 'bergmanesque', 'rating', 'zero', 'spice', 'rat', 'technical', 'proficiency', 'long-winded', 'heist', 'crucial', 'lip-reading', 'mopping', 'gadgets', 'considered', 'career-best', 'davis', 'brand', 'tart', 'breath', 'issue', 'moratorium', 'immediately', 'treacly', 'prep-school', 'professors', 'heartwarmingly', 'motivate', 'gutsy', 'hairier', 'immature', 'whom', '110', 'claustrophobic', 'frighteningly', 'contradiction', 'cheery', 'searing', 'dearly', 'cliche-ridden', 'nonjudgmental', 'lifetime', 'whimsicality', 'morgen', 'nanette', 'burstein', 'graze', 'tap-dancing', 'rhino', 'sensuality', 'african-american', 'schnitzler', 'reigen', 'desirable', 'delectable', 'played-out', 'letting', 'standout', 'absurdities', 'fearless', 'travis', 'bickle', 'carved', 'comfortable', 'niche', 'overly', 'woody', 'guarantee', 'limps', 'squirm-inducing', 'fish-out-of-water', 'slowly', 'cattaneo', 'sophomore', 'slump', 'beaten', 'necessarily', 'tug', 'transcend', 'gender', 'gary', 'fleder', 'frightfest', 'slack', 'italicizes', 'shanghai', 'dana', 'janklowicz-mann', 'amir', 'rests', 'voices', '1940s', 'individual', 'prophet', 'steam', 'you-are-there', 'immediacy', 'graffiti', 'nervous', 'gates', 'takashi', 'miike', 'pushing', 'envelope', 'contained', 'conflict', 'larger', 'hmmm', 'telegraphed', 'advance', 'vital', 'ingredient', 'quirkily', 'enthusiastic', 'argentinean', 'dramedy', 'recalls', 'classics', 'neorealism', 'drive-by', 'sweetly', 'craft', '4', 'indication', 'mother-daughter', 'dough', 'ears', 'infectious', 'centered', 'sport', 'draggy', 'brooding', 'salvos', 'hitting', 'discernible', 'tainted', 'modest', 'straight-ahead', 'denied', 'mount', 'cogent', 'defense', 'although', 'marveling', 'superhuman', 'capacity', 'withstand', 'shooting', 'inflate', 'mundane', 'metaphorical', 'wave', 'wherever', 'surf', 'crush', 'thrillingly', 'petri', 'dish', 'well-characterized', 'walking', 'student', 'unaccountable', 'appetizing', 'asparagus', 'develop', 'language', 'conspicuous', 'timing', 'has-been', 'shred', 'bottom-feeder', 'drooling', 'connect', 'require', 'toss', 'dungeons', 'military', 'weaponry', 'imaginary', 'onto', 'intrepid', 'exploring', 'crosses', 'antonia', 'definitions', 'discuss', 'supposedly', 'floor', 'thud', 'adage', 'unknowable', 'interpretation', 'sloppiness', 'represent', 'exemplify', 'middle-of-the-road', 'represents', 'laziest', 'kidman', 'using', 'tykwer', 'kieslowski', 'lyrical', 'pessimism', 'exhausted', 'desiccated', 'blockbuster', 'hopefully', 'exploitation', 'peppered', 'populated', 'self-revealing', 'emotion', 'hitchens', 'obsession', 'flower', 'purge', 'tooth', 'claw', 'so-called', 'lighthearted', 'glow', 'impudent', 'snickers', 'humankind', 'triumph', 'scrooge', 'mixes', 'pathos', 'moron', 'spends', 'cocky', 'pseudo-intellectual', 'intentionally', 'killed', 'bunch', 'late-twenty-somethings', 'natter', 'interminable', 'shame', 'marvelous', 'combined', 'misconceived', '5', 'puzzling', 'stooping', 'base', 'luck', 'immaturity', 'shifted', 'water-bound', 'land-based', 'ving', 'rhames', 'wesley', 'asia', 'shu', 'institution', 'proposes', 'self-satisfied', '22-year-old', 'girlfriend', '18-year-old', 'mistress', 'elicit', 'cheering', 'breakthrough', 'flies', 'window', 'television', 'travails', 'rustic', 'disjointed', 'assumes', 'bright', 'separation', 'recovery', 'hated', 'confection', 'bearing', 'unmistakable', 'stamp', 'frat-boy', 'capture', 'chaos', '1790', 'imagines', 'penetrating', 'fascination', 'weightless', 'draft', 'auditorium', 'blow', 'vague', 'operational', 'mechanics', 'memories', 'happened', 'yesterday', 'cult', 'favorite', 'undone', 'quick', 'edits', 'jarring', 'glimpses', 'unfold', 'smack', 'hall', 'letter', 'heard', 'inspiration', 'category', 'mawkish', 'nicholson', 'brush', 'restless', 'possibilities', 'recognize', 'fragile', 'masterpeice', 'juicy', 'wondrously', 'artists', 'relies', 'petter', 'næss', 'axel', 'hellstenius', 'ache', 'mortal', 'awareness', 'unexplored', 'opportunities', 'punch-drunk', 'maker', 'intent', 'swear', 'creeping', 'economical', 'cloying', 'luckiest', 'seated', 'ignorant', 'spider', 'invasion', 'chiller', 'distinctly', 'bursts', 'bliss', 'namesake', 'breaks', 'absurdly', 'inappropriate', 'establishing', 'awed', 'sportsmen', 'design', 'hospital', 'pushiness', 'decibel', 'volume', 'rejigger', 'setting', 'bad-movie', 'scott', 'ideal', 'outlet', 'flick-knife', 'diction', 'swanson', 'uniqueness', 'goose-pimple', 'bruised', 'body', 'unbelievable', 'monologues', 'stretch', 'wildean', 'travail', 'thousands', 'vietnamese', 'theories', 'influence', 'derrida', 'inquisitive', 'invaluable', 'virtuoso', 'throat-singing', 'nuance', 'ferrara', 'uneventful', 'hipness', 'ominous', 'unbearably', 'unusually', 'unimpressively', 'fussy', 'gorgeousness', 'dragged', 'accepting', 'leniency', 'costly', 'divorce', 'earthly', 'stoop', 'sorrowful', 'hidden', 'impulsive', 'niches', 'uncommonly', 'myers', 'buying', 'tickets', 'variant', 'nincompoop', 'campaign', 'publicity', 'department', 'charmer', 'land', 'irony-free', 'washed', 'twentysomething', 'hotsies', 'hard-driving', 'argento', 'counterparts', 'visualize', 'schizophrenia', 'captured', 'conflagration', 'one-of-a-kind', 'aspire', 'equal', 'hobbled', 'half-baked', 'setups', 'sluggish', 'simpler', 'leaner', 'espoused', 'actory', 'concoctions', 'defined', 'dimness', 'handful', 'realizing', 'serving', 'sara', 'overused', 'warfare', 'gallery', 'impart', 'bludgeoning', 'closed', 'lets', 'reside', 'primarily', 'faltering', 'half-step', 'brendan', 'brogue', 'fantastically', 'gimmicks', 'tuned', 'wholesome', 'fail', 'vehicle', 'combustible', 'affable', 'raises', 'delivering', 'haphazard', 'release', 'putters', 'astute', 'immigrant', 'brink', 'changes', 'detract', 'thick', 'plotless', 'meanderings', 'longing', 'anguish', 'elusive', 'awarded', 'mythic', 'scares', 'unsaid', 'unbearable', 'roughly', 'movement', 'information', 'small-town', 'competition', 'mother', 'featured', 'hits', 'bullseye', 'dissing', 'cost', 'evaluate', 'undergo', 'portuguese', 'manoel', 'de', 'oliviera', 'exact', 'hundred', 'personalities', 'drowsy', 'infatuated', 'self-examination', 'overwrought', 'sterling', 'tells', 'thrusts', 'uneasily', 'swimfan', 'brain-deadening', 'hangover', 'backbone', 'hook', '1993', 'courageous', 'scottish', 'invited', 'allegiance', 'chekhov', 'cacoyannis', 'displays', 'cherry', 'orchard', 'vexing', 'handicap', 'derivativeness', 'tiring', 'sunshine', 'state', 'unbelievably', 'tom', 'sense-spinning', 'one-trick', 'pony', 'streamlined', 'serenity', 'transporter', 'ut', 'parachutes', 'syrup', 'backlash', 'pasolini', 'classroom', 'prospect', 'volcano', 'overflowing', 'septic', 'tank', 'prominently', 'rosemary', 'baby', 'well-conceived', 'exceeds', 'expectations', 'uninspiring', 'immersed', 'theory', 'imagery', 'reincarnation', 'hostage', 'hermetic', 'treasured', 'wall', 'michell', 'tick-tock', 'duck', 'trickery', 'devolves', 'vaguely', 'overkill', 'fanatics', 'suited', 'catch', 'poetics', 'savor', 'ethical', 'intersect', 'dedicated', 'quaking', 'pitted', 'shimmering', 'ethereal', 'asian', 'painting', 'reasons', 'pizza', 'adolescent', 'regular', 'shocks', 'bouts', 'defensible', 'bought', 'telemarketers', 'numbered', 'desolate', 'affectation', 'tumbleweeds', 'blowing', 'protective', 'cocoon', 'ego', 'war-weary', 'marine', 'padded', 'standardized', 'flirts', 'propaganda', 'agreed', 'seat', 'shape-shifting', 'perils', 'brushes', 'calamity', 'matched', 'wife', 'incredible', 'acumen', 'bothered', 'delightfully', 'martin', 'obnoxiously', '2,500', 'screens', 'bubba', 'ho-tep', 'languishing', 'shelf', 'granted', 'mishandled', 'whip-smart', 'bluffs', 'soulful', 'zips', 'adding', 'details', 'go-for-broke', 'visuals', 'erotically', 'meeting', 'exceeding', 'empire', 'strikes', 'majestic', 'resident', 'redundancies', 'experienced', 'inexpressive', 'mctiernan', 'lighter', 'feet', 'sober-minded', 'cliched', 'upbeat', 'diabolical', 'cows', 'frosting', 'bowl', 'directorial', 'treasure', 'rivals', 'animations', 'vintage', 'pungent', 'stinker', 'worship', 'compelled', 'high-buffed', 'high-octane', 'lifelong', 'concern', 'thinks', 'repeated', 'ennui-hobbled', 'slog', 'advantage', 'bear', 'puppets', 'aimlessness', 'futile', 'month', 'loopy', 'voting', 'meager', 'backhanded', 'compliment', 'victimized', 'happens', 'opening', 'wintry', '1899', 'realized', 'misery', 'unsentimental', 'good-time', 'pixar', 'innovative', 'willingness', 'wander', 'areas', 'parent-child', 'flinching', 'angry', 'pity', 'waif', 'applying', 'smear', 'lip-gloss', 'rubbo', 'tactics', 'warped', 'positively', 'shakesperean', 'gross', 'campus', 'bertrand', 'tavernier', 'oft-brilliant', 'conduct', 'laissez-passer', 'wears', 'sleeve', 'comic-book', 'half-lit', 'intimacy', 'dorm', 'rooms', 'coda', 'blanket', 'statements', 'worries', 'sermon', 'kiss', 'catharsis', 'evening', 'multiplex', 'saving', 'graces', 'brisk', 'bordering', 'fuzzy', 'surefire', 'beloved', 'genres', 'abysmally', 'effortless', 'self-important', 'logical', 'unforced', 'continuation', 'awkward', 'goosebumps', 'discord', 'wiseman', 'warmest', 'yard', 'bullwinkle', 'speed', 'assumption', 'lethargic', 'bravura', 'fairy', 'enveloping', 'look-see', 'pro-wildlife', 'sentiments', 'received', 'excesses', 'witherspoon', 'wasting', 'legally', 'blonde', 'abomination', 'affords', 'executive', 'producer', 'shrewd', 'abroad', 'winking', 'bling-bling', 'machismo', 'estranged', 'breathtakingly', 'encourage', 'alike', 'whale', 'even-handedness', 'pathetically', 'dull-witted', 'disquietingly', 'consummate', 'incapable', 'assurance', 'international', 'acclaim', 'boost', 'traveled', 'devastated', 'famine', 'gratingly', 'self-congratulation', 'disguised', 'impact', 'troubled', 'sketchiest', 'sly', 'popped', 'drivel', 'emerges', 'expands', 'millions', 'eager', 'pessimists', 'prime', 'major-league', 'alterations', 'smash', 'tales', 'preciseness', 'deaths', 'bump', 'cannon', 'vat', 'ice', 'cream', 'snow', 'frames', 'exudes', 'urbane', '1950', 'doris', 'cultivated', 'greene', 'induces', 'headaches', 'careers', 'julie', 'taymor', 'preposterous', 'titus', 'undo', 'computer-generated', 'fish', 'photo', 'vastly', 'resents', 'mib', 'doze', 'concession', 'and/or', 'restroom', 'missed', 'espionage', 'lan', 'yu', 'refugees', 'surrealistic', 'age', 'deathly', 'hos', 'unmentionable', 'splashing', 'muck', 'failed', 'understanding', 'presented', 'unintentionally', 'superbly', 'import', 'anteing', 'alien', 'mimics', 'quest', 'substantial', 'labute', 'careful', 'misdemeanor', 'cooks', 'sizzle', 'varying', 'coughed', 'fidgeted', 'romped', 'aisles', 'bathroom', 'schlock', 'merchant', 'hooks', 'slickly', 'flaw', 'wallowing', 'frustrations', 'woefully', 'whiff', 'iwai', 'vaunted', 'carries', 'guffaw', 'pageantry', 'quaint', 'oliver', 'stone', 'jfk', 'promising', 'indeed', 'spill', 'projector', 'lens', 'rambling', 'dressed', 'irresistible', 'privileged', 'hanna-barbera', 'linklater', 'saddam', 'hussein', 'ready', 'u.n.', 'permission', 'preemptive', 'straight-up', 'old-school', 'operative', 'servicable', 'calls', 'unrealized', 'greatness', 'irrational', 'filter', 'eyelids', 'landbound', 'exposition', 'patience', 'compendium', 'indulgent', 'two-hour-and-fifteen-minute', 'losing', 'lunch', 'hear', 'says', 'handle', 'directly', 'monitor', 'extensive', 'blossom', 'war-movie', 'monologue', 'incorporate', 'well-balanced', 'ralph', 'fiennes', 'plus', 'scribe', 'wade', 'workmanlike', 'conquers', 'bottom-rung', 'concludes', 'crisp', 'dawn', 'unimpeachable', 'mel', 'gibson', 'gasp', 'shudder', 'tremble', 'meaning', 'aimless', 'skidding', 'control', 'patch', 'absurdist', 'over-blown', 'bruce', 'willis', 'morrison', 'decasia', 'win', 'auteuil', 'option', 'slap', 'creators', 'wrestling', 'veneer', 'forcefulness', 'elysian', 'fields', 'doomed', 'smallness', 'weep', 'edward', 'norton', 'gosling', 'numbers', 'nation', 'pithy', 'illuminating', 'scream', 'camouflage', 'carvey', 'considering', 'recognized', 'bilked', 'unsuspecting', 'sanctimoniousness', 'interlocked', 'punch', 'caesar', 'stepped', 'jonah', 'gratefully', 'laugh-out-loud', 'lunacy', 'pronounced', 'pythonesque', 'flavor', 'garden', 're-hash', 'entranced', 'snl', 'freud', 'sade', 'wimps', 'pg-13', 'off-screen', 'tub-thumpingly', 'grumble', 'measure', 'bait-and-switch', 'fair', 'complacency', 'strings', 'tinny', 'self-righteousness', 'shining', 'serenely', 'self-discovery', 'picaresque', 'static', 'cliffhanger', 'photographed', 'mendes', 'likes', 'digs', 'society', 'unprecedented', 'return', 'battlefield', 'showgirls', 'resurrecting', 'drawing', 'flavorful', 'mistake', 'criticizes', '112-minute', 'absorb', 'intergalactic', 'recovers', 'arduous', 'arbitrary', 'extravaganza', 'labeled', 'implies', 'intractable', 'irreversible', 'piercing', 'true-to-life', 'limpid', 'sees', 'mishmash', 'stranded', 'appetites', 'switch', 'naked', '1980s', 'shadow', 'quietude', 'noise', 'bottomlessly', 'handed', 'gods', 'drumming', 'routines', 'lightness', 'two-dimensional', 'pathos-filled', 'easier', 'n.m.', 'interchangeable', 'actioner', 'imbecilic', 'mafia', 'toolbags', 'botching', 'assignment', 'western', 'backwater', 'enters', 'realm', 'non-porn', 'venture', 'darkly', 'allowed', 'siuation', 'bloodbath', 'aircraft', 'carrier', 'sentimentalized', 'kate', 'janine', 'molly', 'all-woman', 'fencing', 'goofily', 'well-lensed', 'gorefest', 'scared', 'admit', 'fool', 'gold', 'accurate', 'texture', 'relevance', 'jackie', 'doubles', 'daytime', 'owen', 'wilson', 'knowing', 'well-put-together', 'minutiae', 'grownups', 'appreciate', 'ambivalent', 'pink', 'jammies', 'rambles', 'aimlessly', 'delusions', 'numbing', 'yuen', 'stare', 'derived', 'recommended', 'tormented', 'heritage', 'faceless', 'victims', 'pervasive', 'unknown', 'lurks', 'proceedings', 'adds', 'mindset', 'humble', 'first-class', 'solemn', 'regret', 'spy-savvy', 'siblings', 'vega', 'anchor', 'give-and-take', 'yorker', '9/11', 'understandable', 'motivation', 'supporting', 'proverbial', 'paint', 'improvement', 'poster', 'well-behaved', 'gangster/crime', 'canadian', 'ramblings', 'amélie', 'audrey', 'tautou', 'fabuleux', 'destin', 'i.e.', 'amish', 'soldiers', 'spiked', 'listening', 'four-year-old', 'exaggeration', 'kids-cute', 'improvise', 'die', 'reliable', 'textbook', 'sulky', 'overcoming-obstacles', 'sports-movie', 'ailments', 'barbed', 'poo-poo', 'riot', 'well-developed', 'loosely', 'tied', 'vignettes', 'zany', 'robotically', 'italicized', 'mind-numbing', 'operatic', 'common', 'bodacious', '51', 'gaï', 'limbs', 'conspiratorial', 'prevent', 'thuds', 'distracts', 'suspend', 'disbelief', 'realistically', 'notch', 'belt', 'renegade-cop', 'compulsive', 'retold', 'joe', 'dante', 'similarly', 'styled', 'gremlins', 'honesty', 'iota', 'protect', 'revitalize', 'clung-to', 'traditions', 'efficient', 'curling', 'helpful', 'dramatized', 'pbs', 'medicine', 'merits', 'ayurveda', 'field', 'favors', 'elephant', 'dreadful', 'clean-cut', 'jeremy', 'renner', 'fiendish', 'psychologizing', 'imbue', 'staggeringly', 'contradictory', 'investigation', 'turning', 'endings', 'earmarks', 'tongue', 'dialog', 'oh-so', 'rated', 'eee', 'smashing', 'wendigo', 'bergman', 'approaches', 'swedish', 'fatalism', 'larson', 'cgi', 'effortlessly', 'ushered', 'straining', 'wertmuller', 'mores', 'jargon', '50', 'mother/daughter', 'boobs', 'unmentionables', 'follows', 'degenerates', 'hallmarks', 'strictly', 'insatiable', 'absorbs', '3-year-olds', 'students', 'analyze', 'ignite', 'sparks', 'in-depth', 'iconoclastic', 'closest', 'kurys', 'intimidated', 'befuddled', 'well-meaning', 'pent', 'anger', 'enticing', 'cumulative', 'repulsive', 'mordantly', 'intimately', 'liking', 'visionary', 'brother', 'translate', 'hammer', 'creed', 'solace', 'abel', 'dangerous', 'rapt', 'confused', 'smoochy', 'murk', 'reliance', 'scooby', 'ethos', 'idealism', 'weighted', 'uninvolving', 'deem', 'necessary', 'headed', 'toilet', 'ferocity', 'burrito', 'all-night', 'tequila', 'bender', 'unintended', 'complexly', 'uncle', 'dead-end', 'painstaking', 'academy', 'anti-feminist', 'equation', '=', 'romantic-comedy', 'duds', 'molina', 'yong', 'kang', 'letdown', 'salt', 'hatred', 'crudup', 'anchoring', 'trumpet', 'mexican', 'a-bornin', 'flailing', 'saved', 'dey', 'detractors', 'arresting', 'labels', 'wladyslaw', 'szpilman', 'prevention', 'blame', 'adams', 'sources', 'worshipful', 'craven', 'nightmare', 'ditsy', 'mamet', 'shell', 'sanguine', 'darned', 'until', 'soul', 'boasting', 'cackles', 'religion', 'dares', 'warriors', 'cheap-looking', 'conversational', 'confessional', 'independent', 'incongruous', 'far-flung', 'transparent', 'mick', 'jagger', 'relate', 'accidental', 'squander', 'jennifer', 'hewitt', 'overtly', 'disagreeable', '90-minute', 'postmodern', 'voyage', 'inadequate', 'giggle', 'adrenaline', 'lowered', 'sunk', 'indulgence', 'scene-chewing', 'teeth-gnashing', 'actorliness', 'gang', 'hanukkah', 'veiling', 'preserving', 'kitschy', 'goodwill', 'pique', 'disgust', 'elegiac', 'must-see', 'tendency', 'slip', 'hokum', 'uni-dimensional', 'superior', 'appealingly', 'manic', 'uncluttered', 'relays', 'lectures', 'confrontations', 'enact', 'inter-species', 'vh1', 'regarding', 'sympathizing', 'terrorist', 'motivations', 'chore', 'larry', 'newfangled', 'variation', 'succumbs', 'tearful', 'gaze', 'chuckles', 'album', 'uninventive', 'genial-rogue', 'shtick', 'krawczyk', 'sheridan', 'stylized', 'by-the-numbers', 'downfall', 'self-awareness', 'padding', 'unashamedly', 'appropriated', 'teen-exploitation', 'playbook', 'passions', 'square', 'unadorned', 'rural', 'first-timer', 'hilary', 'birmingham', 'dumped', 'disagree', 'rules', 'expecting', 'hijinks', 'dishonest', 'detention', '89', 'three-dimensional', 'average', 'sensitivity', 'muddy', 'guy', 'mojo', 'fires', 'samira', 'makhmalbaf', 'described', 'awry', 'flight', 'revisionist', 'fancy', 'crappy', 'deliberately', 'insomnia', 'virulently', 'israel', 'on-screen', 'smile-button', 'objectivity', 'sympathies', 'shoots', 'sticks', 'bmw', 'haranguing', 'solidly', 'crushingly', 'precocious', 'power-lunchers', 'utilizing', 'unabashed', 'ticks', 'milestones', 'dutiful', 'precision', 'accountant', 'michel', 'humanistic', 'pulpy', 'probe', 'interdependence', 'accomodates', 'practical', 'possibly', 'front', 'thirty', 'regalia', 'constructs', 'aspirations', 'charms', 'irreconcilable', 'conservative', 'gay', 'lesbian', 'joyful', 'racing', 'suspected', 'thrillers', 'purports', 'herzog', 'reverie', 'garnered', 'condition', 'privy', 'misconstrued', 'weakness', 'sooner', 'incoherent', 'morbid', 'underlying', 'achingly', 'kenneth', 'branagh', 'snail', 'proclaim', 'love-struck', 'somebodies', 'space', 'veering', 'sought', 'item', 'pastiche', 'superhero', 'drudgery', 'intellect', 'self-hating', 'self-destructive', 'hurry', 'harrowing', 'chomp', 'ants', 'arrow', 'fluff', 'ravel', 'bolero', 'sam', 'simultaneously', 'heart-breaking', 'kissing', 'jessica', 'stein', 'injects', 'freshness', 'sleepless', 'seattle', 'bang', 'cluelessness', 'sordid', 'stuffing', 'electric', 'pencil', 'sharpener', 'defiance', 'four-star', 'sickly', 'mind-destroying', 'pollution', 'limp', 'fellowship', 'obnoxious', 'didactic', 'burlesque', 'retooled', 'achieving', 'crowd-pleasing', 'josh', 'koury', 'profile', 'bluescreen', 'fogging', 'cheapen', 'begrudge', 'receiving', 'consolation', 'famous', 'prima', 'donna', 'floria', 'tosca', 'roberto', 'alagna', 'lover', 'mario', 'cavaradossi', 'ruggero', 'villainous', 'lecherous', 'chief', 'scarpia', 'delighted', 'chomps', 'impress', 'e.t.', 'irredeemably', 'sorrow', 'laugther', 'cascade', 'ne', 'watered', 'reverent', 'best-sustained', 'dodges', 'screenful', 'gamesmanship', 'agreeably', 'close-ups', 'sitcom-worthy', 'solutions', 'intensely', 'object', 'shadyac', 'kicks', 'spookily', 'abrupt', 'glucose', 'cho', 'surrenders', 'bang-bang', 'shoot-em-up', 'career-defining', 'revelation', 'contemptible', 'imitator', '8-year-old', 'channeling', 'crew', 'believed', 'small-budget', 'atmospheric', 'life-changing', 'encounters', 'horizons', 'boredom', 'hole', 'dullness', 'unrelenting', 'insistence', 'opting', 'finding', 'buries', 'choices', 'accurately', 'titled', 'chips', 'block', 'baseball', 'nights', 'quickie', 'handsomely', 'earn', 'turmoil', 'rude', 'douglas', 'cinematically', 'marinated', 'sickeningly', 'irksome', 'tyco', 'ad', 'adobo', 'palate', 'provocations', 'succeed', 'cheapening', 'yours', 'extra-dry', '83', 'hartley', 'numbingly', 'pill', 'swallow', 'reminder', 'resembling', 'returns', 'significance', 'temperamental', 'begging', 'reprieve', 'whining', 'what-if', 'restatement', 'validated', 'outright', 'bodice-ripper', 'recite', 'mandy', 'fun-loving', 'libertine', 'handbag-clutching', 'attuned', 'anarchist', 'maxim', 'urge', 'destroy', 'seductive', 'arrives', 'margin', 'learn', 'wistful', 'testosterone-charged', 'wizardry', 'productions', 'big-budget/all-star', 'meaningless', 'goldbacher', 'unruly', 'garbage', 'near-fatal', 'yvan', 'attal', 'writes', 'small-scale', 'responsibility', 'unreligious', 'fascinate', 'sascha', 'pleasurable', 'sink', 'sub', 'sardonic', 'crudities', 'lagaan', 'overweight', 'shape', 'rescue', 'curse', 'bid', 'hidebound', 'movie-making', 'uncut', 'sergio', 'leone', 'detailed', 'newcomers', 'chump', 'self-flagellation', 'bucks', 'hard-to-predict', 'essential', 'nonchalant', 'organic', 'blithe', 'rebel', 'insouciance', 'embedded', 'demise', 'pic', 'losses', 'ours', 'awfully', 'allison', 'lohman', 'identity-seeking', 'foster', 'cloudy', 'becalmed', 'hope', 'hickenlooper', 'documentaries', 'peas', 'bone-chilling', 'labyrinthine', 'delhi', 'specialized', 'grouchy', 'ayatollah', 'mosque', 'black-and-white', 'glimpse', 'sits', 'better-focused', 'incomprehensible', 'anne', 'rice', 'queen', 'goth-vampire', 'woe-is-me', 'hindered', 'idealistic', 'loser', 'dominated', 'aliens', 'revigorates', 'concentrates', 'sway', 'sylvie', 'testud', 'icily', 'chillingly', 'politically', 'charged', 'sugarman', 'saccharine', 'straight-to-video', 'bigger-name', 'befuddling', 'dud', 'eponymous', '1980', 'mysteries', 'lingered', 'gondry', 'extraordinarily', 'inoffensive', 'drifts', 'lodging', 'cracks', 'ever-growing', 'unembarrassing', 'unmemorable', 'writer-producer-director', 'adam', 'watstein', 'finishing', 'harps', 'media-constructed', 'tunnels', 'anonymous', 'attackers', 'surveillance', 'technologies', 'primitive', 'technique', 'laurence', 'olivier', 'calculus', 'm.i.t.', 'cletis', 'tout', 'groan', '88-minute', 'confined', 'slo-mo', 'gun', 'glass-shattering', 'prevalent', 'impassive', 'captivating', 'foreman', 'barking-mad', 'thewlis', 'freddie', 'bettany/mcdowell', 'hard-eyed', 'harvard', 'crescendo', 'encompasses', 'paths', 'contender', 'moviemaking', 'newfoundland', 'reynolds', 'self-assured', 'shapes', 'extends', 'supple', 'expertly', 'downbeat', 'aboriginal', 'aspect', 'large-format', 'flimsy', 'nonexistent', 'depleted', 'brand-new', 'tomorrow', 'decomposition', 'captivatingly', 'beat-the-clock', 'gently', 'swaying', 'forth', 'cradles', 'ounce', 'accompanying', 'stunt-hungry', 'dimwits', 'collected', 'pranks', 'pratfalls', 'injuries', 'must-own', 'strategic', 'dramatizing', 'define', 'helm', 'surrendering', 'rigor', 'composure', 'hawke', 'chelsea', 'hotel', 'whiny', 'artistes', 'philosophers', 'ritchie', 'occasion', 'doofus', 'extra', 'checking', 'perdition', 'elevate', 'bibbidy-bobbidi-bland', 'blueprint', 'hundreds', 'renders', 'flaccid', 'inconsistent', 'bonding', 'paying', 'miniseries', 'undergrad', 'gotten', 'governmental', 'disciplined', 'grade-grubbers', 'counterculture', 'savvy', 'reminding', 'ironic', 'three-hour', 'endurance', 'well-paced', 'thesps', 'slumming', 'unearth', 'huston', 'laborious', 'tightened', 'passe', 'chopsocky', 'collaborative', 'apollo', '13', 'techno-tripe', 'ai', 'menu', 'continuity', 'errors', 'unit', 'sent', 'tailor', 'unfulfilled', 'deserving', 'ambrose', 'leaps', 'boundaries', 'unleashes', 'er', 'barf', '300', 'liveliness', \"'til\", 'tried-and-true', 'pb', '&', 'j', 'sandwich', 'unnamed', 'substitutable', 'sight', 'stretched', 'cold-hearted', 'curmudgeon', 'elling', 'sequel-for-the-sake', 'rival', 'looney', 'brief', 'dimming', 'ambition', 'niro', 'caton-jones', 'bomb', 'abdul', 'malik', 'abbott', 'ernest', 'tron', 'improvised', 'colorfully', 'tapestry', 'stubbornly', 'refused', 'gel', 'sandler', 'uninteresting', 'well-edited', 'prettiest', 'noticeably', 'goodfellas', 'dozen', 'trouble-in-the-ghetto', 'roles', 'reaching', 'heights', 'heels', 'laughingly', 'mischievous', 'cherish', 'honorable', 'chabrolian', 'ambiguity', 'suggest', 'shriveled', 'knack', 'kinetically-charged', 'contemplation', 'focuses', 'stronger', 'putting', 'particular', 'rewarding', 'symbolic', 'comically', 'energized', 'fearlessness', 'enlivens', 'dampened', 'substandard', 'slides', 'downhill', 'macho', 'assert', 'executed', 'gaudy', 'contenders', 'undermined', 'presentation', 'stagy', 'lean', 'tough', 'feathers', 'stellar', 'done-to-death', 'grateful', 'freedom', 'russell', 'mask', 'blob', 'donovan', 'squanders', 'asset', 'exit', 'irwin', 'pleas', 'environs', 'procedural', 'wanders', 'strip', 'excess', 'debris', 'train', 'schneider', 'steve', 'evaporates', 'crypt', 'mist', 'peek', 'glitter', 'wisegirls', 'protagonist', 'celebrate', 'rah-rah', 'patriotic', 'unpleasantly', 'hardened', 'indie-heads', 'flavorless', 'rapes', 'homework', 'soaked', 'jazzy', 'origins', 'nazi', 'aesthetics', 'completion', 'decade', 'rife', 'rueful', 'springing', 'yiddish', 'satiric', 'bouncing', 'bravado', 'burst', 'practiced', 'crack', 'weary', 'complaining', 'clocks', 'rightly', 'lustrous', 'cup', 'annals', 'bluster', 'greenfingers', 'joie', 'forceful', 'imply', 'amuse', 'wobbly', 'town', 'hard-sell', 'image-mongering', 'evolves', 'intolerant', 'actorly', 'despair', 'boundary-hopping', 'formal', 'innovations', 'accessible', 'pardon', 'pun', 'sucked', 'replaced', 'goth', 'goofiness', 'mattel', 'executives', 'lobbyists', 'tinsel', 'ineptly', 'tongues', 'boasts', 'virtuosic', 'advertised', 'hoped', 'motherhood', 'mothers', 'shameless', 'self-caricature', '1999', 'pride', 'miscalculation', 'distinction', 'connected', 'devils', 'chronicles', 'whatsoever', 'trip', 'store', 'paint-by-number', 'beavis', 'butthead', 'sip', 'wines', 'ivory', 'ripoff', 'fifty', 'pileup', 'directionless', 'clint', 'overladen', 'procedure', 'deep-seated', 'coordinated', 'dv', 'morsels', 'indispensable', 'agony', 'modestly', 'definition', 'jams', 'prefabricated', 'ungainly', 'ill-fitting', 'elbows', 'sticking', 'knees', 'commended', 'illustrating', 'matters', 'showtime', 'send-up', 'cop', 'savory', 'christian-themed', 'michele', 'brainless', 'flibbertigibbet', 'bitterly', 'forsaken', 'lower', 'i.q.', 'entered', 'ashamed', 'admitting', 'enjoyment', 'athlete', 'image', 'indomitability', 'splash', 'arnold', 'jean-claud', 'van', 'damme', 'segal', 'rodrigues', 'beast-within', 'ambiguous', 'exude', 'cutesy', 'combat', 'infuriating', 'expose', 'banality', 'hypocrisy', 'kid-vid', 'mean-spirited', 'lashing', 'sheerly', 'snide', 'prejudice', 'apted', 'enigma', 'kazan', 'reversal', 'fortune', 'drive', 'chiefly', 'inspires', 'lion', 'winner', 'yearning', 'captain', 'jump', 'pyrotechnics', 'sublimely', 'lofty', 'hefty', 'eternity', 'hype', 'celebrity', 'advice', 'raise', 'singing', 'lifeless', 'scale', 'near', 'framing', 'sons', 'throws', 'herself', 'faint', 'francisco', 'spreads', 'rumor', 'angels', 'dispel', 'emerged', 'brooks', \"'70s\", 'heyday', 'element', 'condescension', 'make-believe', 'soars', 'opposite', 'magical', 'refreshed', 'schmaltzy', 'impersonation', 'enjoying', 'alternately', 'melancholic', 'hopeful', 'affectingly', 'stacked', 'flowers', 'flag', 'fly', 'potshots', 'w.', 'bush', 'henry', 'et', 'al', '12th', 'satisfy', 'boom-bam', 'elizabethans', 'passably', 'opts', 'overlook', 'mechanical', 'apparatus', 'travel-agency', 'bikes', 'compatible', 'interminably', 'naïveté', 'depiction', 'dropped', 'artwork', 'animaton', 'japan', 'panache', 'resolution', 'lack-of-attention', 'nine-tenths', 'old-fashioned-movie', 'acerbic', 'repartee', 'embraced', 'kilt-wearing', 'outbursts', 'flatulence', 'so-five-minutes-ago', 'brimming', 'coltish', 'neurotic', 'plethora', 'aids', 'subtext', 'skims', 'realities', 'wilco', 'morrissette', 'collective', 'attack', 'conceive', 'reached', 'puberty', 'slackers', 'glorified', 'contributed', '1986', 'harlem', 'anywhere', 'humanizing', 'percentages', 'un-bear-able', 'bona', 'fide', 'groaners', 'disorientated', 'pitched', 'born', 'exuberance', '65-minute', 'slanted', 's/m', 'exasperating', 'firmly', 'girl-on-girl', 'berkley', 'flopping', 'dolphin-gasm', 'glows', 'conniving', 'gifts', 'vibe', 'hug', 'needing', 'trailer-trash', 'repetition', '1.8', 'solaris', 'opinion', 'knowledge', 'imparted', 'rivalry', 'elevates', 'singles', 'blender', 'doubtful', 'etched', 'agile', 'proficient', 'rodan', 'league', 'sweetest', 'tuck', 'everlasting', 'victim', 'conundrum', 'symbols', 'denial', 'life-at-arm', 'irritatingly', 'factors', 'brent', 'hanley', 'paxton', 'meander', 'worn-out', 'awards', 'teen-sleaze', 'resistance', 'artistic', 'transcendence', 'goofiest', 'pleased', 'travesty', 'transvestite', 'sturdiest', 'cheapened', 'armed', 'forster', 'meara', 'levy', 'fondness', 'championship', 'rock-solid', 'seriousness', 'unabashedly', 'overexposed', 'redolent', 'employment', 'wafer-thin', 'boldly', 'stroked', 'strokes', 'eyeballs', 'four-hour', 'cricket', 'vin', 'mcconaughey', 'bale', 'batting', 'self-styled', 'athletes', 'banged', 'brains', 'furiously', 'explain', 'instinct', 'self-preservation', 'trash-cinema', 'roots', 'investment', 'labor', 'harmoniously', 'joined', 'fuhrman', 'posthumously', 'published', 'le', 'carré', 'burnt-out', 'escort', 'megaplex', 'screenings', 'life-altering', 'outnumber', 'three-to-one', 'overwhelmed', 'in-your-face', 'conveying', 'head-turner', 'thoughtfully', 'cherished', 'fumbled', 'canon', 'frustrates', 'insulted', 'grown', 'flesh', 'lucid', 'genteel', 'unsurprising', 'cloyingly', 'informative', 'radiates', 'star-power', 'iconic', 'dozens', 'hue', 'drastic', 'iconography', 'capturing', 'comforting', 'fantasies', 'illness', 'defies', 'metaphysical', 'claptrap', 'reviewers', 'reviews', 'collectively', 'undeserved', 'echoes', 'jordan', 'phonce', 'dogtown', 'comeback', 'curlers', 'brooms', 'canadians', 'tendentious', 'intervention', 'who-wrote-shakespeare', 'controversy', 'calculated', 'winds', 'discomfort', 'europe', 'monsters', 'speedy', 'swan', 'dive', 'landing', 'squarely', 'bartleby', 'rally', 'trotting', 'threadbare', 'standbys', 'malarkey', 'hellish', 'sarah', 'dedication', 'psychotic', 'pissed', 'suffer', 'generating', 'top-billed', 'spiced', 'academic', 'skullduggery', 'duly', 'dimensions', 'astronauts', 'cabins', 'backmasking', 'stepdad', 'adjusting', 'silver', 'platter', '93', 'rigid', 'evasive', 'erin', 'brockovich', 'eleven', 'portraying', 'devastation', 'disease', 'shrug', 'annoyance', 'chatty', 'classification', 'closer', 'revenge', 'nerds', 'ham', 'cheek', 'justifying', 'sundance', 'skins', 'missive', 'smirk', 'phillip', 'noyce', 'allegory', 'calibre', 'convincingly', 'specifically', 'disassociation', 'amalgam', 'returning', 'rob', 'minkoff', 'rubin', 'split-screen', 'stuttering', 'pompous', 'references', 'wittgenstein', 'kirkegaard', 'large-scale', 'afloat', 'stagey', 'succeeded', 'springboard', 'autopilot', 'concoction', 'skyscraper', 'jersey', 'lowbrow', 'uma', 'guess', 'unlimited', 'phony', 'clouds', 'namely', 'archetypal', 'narration', 'heathers', 'prolonged', 'barn-burningly', 'promised', 'monopoly', 'opened', 'publicists', 'neatly', 'impressively', 'mileage', 'rolling', 'stray', 'phonograph', 'record', 'junk', 'parmentier', 'whodunit', 'pairing', 'clayburgh', 'tambor', 'unifying', 'faked', 'uproarious', 'anticipated', 'princess', 'adversity', 'composed', 'crudely', 'literal', 'rejected', 'settled', 'lugubrious', 'brats', 'standoffish', 'smugly', 'suggests', 'almodovar', 'toughest', 'consistency', 'richly', 'neck', 'perform', 'cohesion', 'foreign', 'flatly', 'kendall', 'principles', 'unhappy', 'crowds', 'stylistically', 'smackdown', 'atrocities', 'overinflated', 'mythology', 'recognizes', 'otherworldly', 'freaky', 'château', 'benefited', 'sharper', 'cleaner', 'crowdpleaser', 'joyless', 'directs', 'embroils', 'drips', 'infrequently', 'fifth', 'beer-soaked', 'predictability', 'snap', 'unapologetic', 'plato', 'therefore', 'childish', 'extravagant', 'distort', 'unburdened', 'treading', 'swings', 'jostles', 'flower-power', 'poise', 'romanticization', 'delusional', 'basically', 'appeared', '1938', 'margarita', 'auspicious', 'chaiken', 'kieran', 'culkin', 'holden', 'purr', 'wince', 'leaping', 'kosminsky', 'slivers', 'traits', 'lying', 'ribcage', 'oppressive', 'gore', 'lily', 'chou-chou', 'plaintiveness', 'nicolas', 'cage', 'ruffle', 'erratic', 'luis', 'confronting', 'paranoia', 'slash-fest', 'alienated', 'subliminally', 'phenomenon', 'chops', 'eventually', 'strong-minded', 'viewpoint', 'dog-paddle', 'pool', 'inner-city', 'streets', 'rawness', 'diary', 'mild', 'kingdom', 'punitive', 'stays', 'mcdormand', 'leap', 'unscathed', 'raging', 'fuels', 'self-destructiveness', 'freighter', 'fist', 'backdrop', 'stretches', 'deadpan', 'guts', 'expressing', 'imaginable', 'enthusiasts', 'violently', 'gang-raped', 'six', 'crystallize', 'key', 'minutely', 'wonders', 'dreamlike', 'ecstasy', 'quotations', 'outshined', 'll', 'j.', 'dilutes', 'creepy-crawly', 'bug', 'emphasizes', 'q', 'sessions', 'high-adrenaline', 'disquieting', 'gore-free', 'allusions', 'serial', 'murders', 'bratty', 'conception', 'broadcast', 'breathing', 'catapulting', 'masterly', 'wonderous', 'accomplishment', 'aggravating', 'skillful', 'patiently', 'unwavering', 'rapid-fire', 'embrace', 'evelyn', 'sonny', 'station', 'delicately', 'hearing', 'media', 'fire-breathing', 'whirlwind', 'forum', 'resume', 'page-turning', 'seinfeld', 'producers', 'behan', 'memoir', 'rowdy', 'brawny', 'household', 'basis', 'evidence', 'high-minded', 'slam-bang', 'sleazy', 'moralizing', 'agenda', 'awe-inspiring', 'sublime', 'rubbish', 'unsubtle', 'hollywood-predictable', 'double-cross', 'infuses', 'twinkie', 'scarcely', 'nourishing', 'discussed', 'rose-tinted', 'glasses', 'unholy', 'howard', 'daydreams', 'trope', 'built-in', 'dramaturgy', 'bundling', 'perversity', 'tempting', 'bouquet', 'clams', 'broiling', 'sun', 'forms', 'lascivious-minded', 'topless', 'tutorial', 'palma', \"'80s\", 'ravaging', 'civilization', 'cure', 'expressive', 'provoked', 'roses', 'breaking', 'unsettled', 'tenor', 'explosion', 'overpowered', 'whiney', 'bugged', 'mourning', 'spiritualism', 'unspeakable', 'calvin', 'jr.', 'south', 'debate', 'wreaked', 'compromised', 'heart-felt', 'florid', 'queens', 'obsessive', 'rampant', 'adultery', 'wind', 'majority', 'distaste', 'fusion', 'kingsley', 'everlyn', 'sampi', 'modeled', 'beasts', 'stalking', 'illuminates', 'narc', 'folk', 'loveable', 'irwins', 'death-defying', 'puff', 'nonchalantly', 'thankfully', 'ditched', 'bicentennial', 'successor', 'rewards', 'successfully', 'star-studded', '60', 'overcooked', 'ham-fisted', '8', 'shear', 'hack', 'fest', 'hairs', 'chest', 'purposeless', 'bitten', 'chew', 'snappy', 'volatile', 'fiery', 'whine', 'bellyaching', 'dearth', 'well-formed', 'literarily', 'notorious', 'sealed', 'jar', 'indefinitely', 'salvation', 'disdain', 'extension', 'resolutions', 'ritual', 'choreographed', 'kitchen', 'ballet', 'jay', 'roach', 'taxicab', 'dismally', 'nonbelievers', 'rethink', 'attitudes', 'skeptics', 'september', 'joint', 'promotion', 'basketball', 'association', 'teenaged', 'rap', 'poster-boy', 'lil', 'bow', 'resorting', 'haynes', 'sirk', 'differently', 'transformed', 'rhetoric', 'profits', 'notable', 'overwhelming', 'creepiness', 'eagerness', 'gracefully', 'dour', 'taxi', 'driver', 'instance', 'stench', 'bubbly', 'seeping', 'daughter', 'integrates', 'thoughtfulness', 'pasta-fagioli', 'wartime', 'maladjusted', 'teens', 'downward', 'narcotized', 'spiral', 'guaranteed', 'l.a.', 'show-biz', 'nutty', 'exists', 'capitalize', 'inclination', 'hannibal', 'lecter', 'hallucinogenic', 'buzz', 'terrified', 'irreverent', 'scotches', 'élan', 'mopes', 'tract', 'whimper', 'exalted', 'tea', 'stuffiest', 'goers', 'hour-and-a-half', 'too-conscientious', 'halfhearted', 'zeal', '8th', 'delving', 'dire', 'baseball-playing', 'monkey', 'rigidly', 'paradigm', 'permitting', 'repeatedly', 'placing', 'one-sided', 'self-glorified', 'lovefest', 'well-wrought', 'serviceable', 'nosedive', 'cartoon', 'wind-in-the-hair', 'gawky', 'contagious', 'braveheart', '66', 'stopped', 'hands-on', 'stereotype', 'omitted', 'great-grandson', 'splitting', 'valiantly', 'biting', 'whoop', 'tragically', 'belgium', 'sag', 'self-control', 'guide', 'redundancy', 'etc', 'dispatching', 'elicits', 'employ', 'fontaine', 'isabelle', 'severe', 'insufferable', 'underscoring', 'ingenuity', 'double-pistoled', 'ballistic-pyrotechnic', 'unsympathetic', 'policy', 'bungle', 'brazen', 'ferrera', 'unnoticed', 'underappreciated', 'unconventional', 'razzie', 'solomonic', 'decision', 'facing', 'turbulent', 'imperious', 'katzenberg', 'prince', 'egypt', '1998', 'self-parody', 'entry', 'twenty', 'racial', 'insensitivity', 'african-americans', 'she-cute', 'baggage', 'homicide', 'soft-core', 'twaddle', 'motorcycles', 'due', 'levity', 'expressiveness', 'orchestrating', 'appropriately', 'cinderella', 'drop', 'pants', 'mistaken-identity', '91-minute', 'harrison', 'enlightened', '10-course', 'banquet', 'evolve', 'jumps', 'novelty', 'webcast', 'thurman', 'amateurish', 'engages', 'p.o.w.', 'inexplicable', 'walt', 'willie', 'heart-wrenching', 'gift', 'dies', 'tenderness', 'discontent', 'deepest', 'stoppard', 'advised', 'squint', 'noticing', 'egregious', 'lip-non-synching', 'physical', 'büttner', 'earned', 'evans', 'tremendously', 'benefits', 'overlapping', 'primary', 'collateral', 'lapping', 'targets', 'raunch-fests', 'neverland', 'straddle', 'celebi', 'trivializing', 'chouraqui', 'vainglorious', 'wondering', 'skinny', 'accompanied', 'captions', 'paranormal', 'loathe', 'dunno', 'disabilities', 'enhanced', 'surplus', 'archive', 'thumbs', 'friggin', 'refracting', 'specific', 'conditions', 'trudge', 'suggested', 'stills', 'mattered', 'grasp', 'rattling', 'sub-par', 'washout', 'maiden', 'flops', 'hungry-man', 'portions', 'insignificant', 'twinkling', 'repressed', 'introduce', 'ricture', 'horribly', 'trots', 'vacation', 'stonehenge', 'pooper-scoopers', 'superfluous', 'higher', 'maintained', 'feel-bad', 'unbridled', 'captive', 'schrader', 'examines', 'crane', 'decline', 'unblinking', 'candor', 'aloof', 'gut', 'jar-jar', 'binks', 'priceless', 'band', '21st', 'multi-layers', 'tense', 'trapped', 'glinting', 'bidder', 'rekindle', 'poo', 'recruiting', 'bands', 'playlist', 'costuming', 'personable', 'revisiting', 'sidekicks', 'ate', 'reeses', 'peanut', 'butter', 'dismay', 'explores', 'rapidly', 'beijing', 'rhapsodic', 'addictive', 'shimmeringly', 'large-screen', 'string', 'scooping', 'horse', 'sleep', 'bewildered', 'artsy', 'self-hatred', 'instilled', 'torpedo', 'clancy', 'accepts', 'ill-conceived', 'steals', 'activate', 'girlish', 'ducts', '11', 'latin', 'hears', 'remained', 'fixating', 'reinforcement', 'distinguish', 'lionize', 'exploit', 'infomercial', 'ruins', 'confidence', 'laid-back', 'instincts', 'malcolm', 'd.', 'ridley', 'roman', 'polanski', 'perfected', 'self-aggrandizing', 'documentary-making', 'balm', 'ideology', 'twinkly-eyed', 'cheap-shot', 'penchant', 'tearing', 'cue', 'wide-eyed', 'holocaust', 'freaking', 'probes', 'iran', 'afghani', 'streamed', 'enjoyably', 'retro', 'deuces', 'rough-trade', 'homo-eroticism', 'dismantle', 'facades', 'veracity', 'quaid', 'anchors', 'ballplayer', 'self-reflexive', 'expects', 'flowery', 'gloom', 'car-wreck', 'dizzy', 'hideous', 'yellow', 'bitchy', 'frolic', 'expressively', 'rose', 'updating', 'alarms', 'throbbing', 'elderly', 'propensity', 'patting', 'talks', 'yielded', 'high-powered', 'documentarian', 'action-packed', 'pellington', 'kooky', 'overeager', 'myth', 'sorcerer', 'heroic', 'hatfield', 'hicks', 'oddest', 'couples', 'gambles', 'ramifications', 'stevens', 'lovingly', 'golden', 'sprung', 'funky', 'thrives', 'shootings', 'california', 'buoy', 'let-down', 'tail', 'hip-hop', 'inauspicious', 'humidity', 'facial', 'expressions', '3d', 'goggles', 'award', 'appearing', 'secretly', 'unhinged', 'president', 'accomplishes', 'jaunt', 'televised', 'scooby-doo', 'reruns', 'expository', 'struck', 'chord', 'warm-milk', 'economic', 'morals', 'downplaying', 'earthy', 'napoleon', 'terminally', 'complicate', 'clear-eyed', 'chronicle', 'trifling', 'opposites', 'manically', 'vaudeville', 'cared', 'grayish', 'disturbed', 'beguiling', 'non-narrative', 'strangers', 'meaty', 'freshening', 'couch', 'dr.', 'masterfully', 'sweet-tempered', 'forgoes', 'flatter', 'flowering', 'throes', 'flush', 'testosterone', 'jacquot', 'sitcomishly', 'best-known', 'deranged', 'hard-edged', 'persistent', 'undercuts', 'personified', 'evolved', 'serials', \"'30s\", \"'40s\", 'disappearing/reappearing', 'redeeming', 'jolted', 'gourd', 'ichi', 'china', 'world-renowned', 'cousin', 'runner', 'wayward', 'slender', '80-minute', 'tables', 'diamond', 'self-critical', 'behind-the-scenes', 'navel-gazing', 'kaufman', 'orleans', 'marketing', 'fincher', 'above-average', 'fellow', 'piffle', 'mothman', 'prophecies', 'bedevilling', 'masculine', 'well-told', 'money-oriented', 'laugh-free', 'lecture', 'omission', 'demeaning', 'full-length', 'biscuit', 'depressingly', 'retrograde', 'multi-layered', 'humanist', 'education', 'off-puttingly', 'und', 'drung', 'liar', 'riveted', 'plummer', 'adaptations', 'rick', 'crummy-looking', 'videotape', '+', 'softheaded', 'multilayered', 'ahem', 'foolish', 'canada', 'arctic', 'borscht', 'schtick', 'fosters', 'atrocious', 'synergistic', 'impulse', 'doltish', 'satin', 'rouge', 'dim-witted', 'teen-speak', 'gibberish', 'skirts', 'ripe', 'ingredients', 'uncovers', 'trail', 'concealment', 'consigned', 'integrated', 'speculative', 'hilariously', 'schizo', 'moldering', 'caustic', 'successes', 'baird', 'editor', 'welcomed', 'stylings', 'stockwell', 'unwary', 'live-action', 'lapses', 'deliberative', 'typifies', 'delirium', 'post', 'pre', 'extant', 'stayed', 'viscerally', 'begun', 'bronze', 'lukewarm', 'cardiac', 'imposter', 'formed', 'chemically', 'teen-driven', 'toilet-humor', 'codswallop', 'physician', 'muy', 'loco', 'waterboy', 'naturalism', 'concocted', 'near-impossible', 'marquis', 'phantom', 'menace', 'nerves', 'nonconformist', 'assuredly', 'tickled', 'lovable-loser', 'euphoria', 'relying', 'tropes', 'grand-scale', 'choke', 'leash', 'nick', 'cassavetes', 'yank', 'whenever', 'concerning', 'chronically', 'signals', 'overachieving', 'loquacious', 'escapist', 'needlessly', 'disingenuous', 'sufficiently', 'tackling', 'wonderment', 'manifesto', 'vagueness', 'topical', 'unfocused', 'saddled', 'unwieldy', 'angles', 'gedeck', 'analgesic', 'overstimulated', 'fruition', 'relating', 'subculture', 'outdated', 'clothes', 'plastic', 'knickknacks', 'neighbor', 'garage', 'sale', 'buffeted', 'sputters', 'stew', 'prognosis', 'mournful', 'undercurrent', 'verbal', 'duel', 'swiftly', 'traffic', 'biased', 'prepare', 'shoplifts', 'farewell-to-innocence', 'wanderers', 'bronx', 'comedy-drama', 'buddy', 'bridget', 'rampantly', 'equilibrium', 'pay-off', 'negligible', 'shown', 'projection', 'shortcomings', 'freakshow', 'slovenly', 'smokers', 'curves', 'worlds', 'hiding', 'heck', 'porridge', 'chewy', 'lucratively', 'engaged', 'threatened', 'damaged-goods', 'listen', 'extremist', 'name-calling', 'calculating', 'fiend', 'slippery', 'self-promoter', 'critiquing', 'criticizing', 'commiserating', 'infused', 'paintings', 'months', '295', 'preview', '20-car', 'turf', '1958', 'brooklyn', 'fingered', 'races', 'beckons', 'first-time', 'denzel', 'loving', 'amassed', 'vast', 'literature', 'razzle-dazzle', 'inconsequential', 'shift', 'curiously', 'thorough', 'unforgivingly', 'byron', 'luther', 'characterization', 'rehash', 'one-room', 'frequent', 'offended', 'confidently', 'orchestrated', 'aesthetically', 'sexually', 'doctorate', 'boorish', 'telescope', 'attracts', 'didacticism', 'macdowell', 'anguished', 'eclipses', 'sinuously', 'recycling', 'mid', 'pollute', 'drink', 'piss', 'b.s.', 'bedeviled', 'stillborn', 'harshness', 'oscar-worthy', 'screenwriters', 'oily', 'arms', 'dealer', 'squad', 'pile-ups', 'requisite', 'analytical', 'illogic', 'playwriting', 'minimal', 'appreciation', 'woolf', 'clarissa', 'dalloway', 'singer-turned', 'send', 'populating', 'cardboard', 'cash', 'indignant', 'departure', 'astoundingly', 'widely', 'debated', 'appropriate', 'plug', 'conspirators', 'averting', 'american-russian', 'armageddon', 'answered', 'siegel', 'inhabit', 'cleaving', 'arc', 'debts', 'captivated', 'irresponsible', 'sandlerian', 'manchild', 'undercut', 'zeroes', 'paycheck', 'dullest', 'disturbance', 'acquire', 'fast-paced', 'all-inclusive', 'uptight', 'bores', 'sun-splashed', 'whites', 'jokers', 'pulled', 'kidnappings', 'replacing', 'objects', 'glides', 'traveler', 'anyplace', 'ya-yas', 'everywhere', 'intoxication', 'swooning', 'anarchy', 'icky', 'tacky', 'fashioned', 'spooks', 'trimmings', 'tapping', 'tardier', 'reveal', 'lies', \"o'fallon\", 'pyschological', 'knocks', 'develops', 'drunken', 'bespeaks', 'expiration', 'passed', 'superstar', 'picture-perfect', 'beach', 'sunset', 'butt', 'shoes', 'hoofing', 'crooning', 'welsh', 'curious', 'learns', 'believing', 'youthful', 'out-to-change-the-world', 'aggressiveness', 'hard-bitten', 'journalists', 'philip', 'glass', 'cd', 'conceivable', 'pouty-lipped', 'poof', 'forefront', 'sixth', 'nauseating', 'shiver-inducing', 'all-over-the-map', 'pared', 'subtler', 'slickest', 'law', 'enforcement', 'hallucinatory', 'dreamscape', 'numbness', 'verdu', 'fused', 'nair', 'discovery', 'reaches', 'oomph', 'librarian', 'orlando', 'infantilized', 'infantile', 'page', 'drumline', 'tangents', 'portraits', 'notably', 'metal', 'fireballs', 'fleet-footed', 'wide', 'word-of-mouth', 'outtakes', 'earnhart', 'healthy', 'eccentric', 'cloak', 'creaky', 'milked', 'lengthy', 'punchline', 'buried', 'tend', 'understated', 'fable', 'artless', 'sytle', 'exiled', 'aristocracy', 'entertainingly', 'raucously', 'undoubtedly', 'influenced', 'brow', 'keen', 'insinuation', 'awfulness', 'scarface', 'carlito', 'section', 'prison', 'jolt', 'rifkin', 'fancies', 'hubert', 'selby', 'illogical', 'prevails', 'nachtwey', 'hates', 'empathizes', 'guiltless', 'necessity', 'surface-effect', 'pokey', 'floyd', 'companion', 'north', 'korea', 'definite', 'effectively', 'debilitating', 'half-hour', 'affluent', 'damsel', 'distress', 'decides', 'torn', 'fax', 'knockaround', 'raison', \"d'etre\", 'young-guns', 'bio-pic', 'icon', 'excruciating', 'forgiven', 'enthrall', 'charles', 'iii', 'repetitious', 'barbs', 'populace', 'moaning', 'spied', 'temptations', 'unleashed', 'crazed', 'one-night', 'sparked', '50s', 'powers', 'embodies', 'piccoli', 'reparations', 'flails', 'limply', 'pallid', 'neo-nazism', 'nuclear', 'terrorism', 'serry', 'indifferent', 'austin', 'goldmember', 'wreck', 'catastrophic', 'clamoring', 'sorriest', 'kiddie-oriented', 'gum', 'sneak', 'schepisi', 'aided', 'include', 'mirren', 'downtown', 'shoestring', 'unevenly', 'lynch-like', 'rotting', 'cross-dressing', 'inside-show-biz', 'embody', 'nouvelle', 'systematically', 'dear', 'split', 'mtv', 'schmucks', 'family-oriented', 'non-disney', 'infusion', 'extreme-sports', 'idiosyncratic', 'pluto', 'nash', 'parochial', 'yourselves', 'conned', 'pristine', 'adhering', 'united', 'states', 'middle-class', 'arkansas', 'consists', 'truck-loving', \"ol'\", 'peroxide', 'blond', 'honeys', 'worldly', 'supermarket', 'tabloids', 'abundant', 'supply', 'kalvert', 'mary', 'unclear', 'feisty', 'principled', 'jane', 'member', 'established', 'insane', 'blanchett', 'ribisi', 'compellingly', 'tap', 'gleefully', 'stultifying', 'snoozer', 'grueling', 'illusion', 'actual', 'crisper', 'punchier', 'weaver', 'lapaglia', 'head-trip', 'misogynist', 'criticism', 'iranian', 'perspectives', 'ideological', 'differences', 'refreshes', 'artistically', 'fabric', 'rough', 'join', 'monster/science', 'prurient', 'ver', 'wiel', 'full-fledged', 'addict', 'slop', 'rarity', 'barlow', 'installment', 'invulnerable', 'arrived', 'playoff', 'throwback', 'cooly', 'scheming', 'hollowness', 'conjure', 'unengaging', 'long-lived', 'friendships', 'lose', 'track', 'relaxed', 'natural-seeming', 'unforgettable', 'two-thirds', 'overtake', 'derring-do', 'dead-undead', 'shrieky', 'pretention', 'architect', 'janice', 'eileen', 'walsh', 'teeth', 'catching', 'griffiths', 'mockumentary', 'crushing', 'long-suffering', 'masochistic', 'theatrically', 'kid-movie', 'ooze', 'frissons', 'crummy', 'wannabe-hip', 'refers', 'simple-minded', 'valiant', 'humanize', 'merchandised-to-the-max', 'heap', 'gone-to-seed', 'lushly', 'recorded', 'unsolved', 'unresolved', 'jockey', 'elegy', 'convoluted', 'fun-seeking', 'stimulate', 'discussion', 's&m', 'route', 'amidst', 'forbidden', 'presenting', 'twisting', 'brat', 'improve', 'palatable', 'permeates', 'movie-esque', 'pub', 'effecting', 'idemoto', 'kim', 'transparently', 'alert', 'building', '1957', 'smokey', 'robinson', 'pinocchio', 'perennial', 'cross-section', 'bounds', 'rat-a-tat', 'percolating', 'well-executed', 'farcical', 'letterman', 'onion', 'proven', 'fertile', 'raindrop', 'secret', 'triangles', 'precise', 'discordant', 'topple', 'hysteria', 'efficiently', '2455', 'crossed', 'hey', 'messenger', 'afterthought', 'neo-noir', 'recreates', 'fiji', 'diver', 'rusi', 'vulakoro', 'married', 'michelle', 'examples', 'poke-mania', 'preceded', 'conflicts', 'heartbreak', 'walter', 'co-writer', 'koepp', 'frenetic', 'punny', '6', 'fuel', 'crafty', 'yawn-provoking', 'farm', 'wasp', 'matron', 'argentinian', 'glib', 'j.k.', 'shock-you-into-laughter', 'immaculate', 'depending', 'audacity', 'shakespeare', 'playfully', 'crazier', 'nursery', 'windows', 'bug-eyed', 'mugging', 'gay-niche', 'uncomfortable', 'enlightenment', 'stinks', 'messing', 'slob', 'reductions', 'damon', 'runyon', 'crooks', 'bogging', 'barrage', 'denis', 'unsatisfying', 'eviction', 'yawner', 'bucket', 'genius', 'antonio', 'banderas', 'liu', 'drumbeat', 'authenticity', 'pornographic', 'revels', 'swank', 'apartments', 'parties', 'mom', 'dad', 'unfortunate', 'column', 'jacket', 'bolt', 'white-knuckled', 'unable', 'often-funny', 'fragment', 'underdone', 'potato', 'proof', 'anniversary', 'edition', 'snow-and-stuntwork', 'rape-payback', 'mob', 'foremost', 'workplace', 'shreve', 'tube', 'fusty', 'attempted', 'café', 'overhearing', 'self-determination', 'unsophisticated', 'vices', 'impressionistic', 'point-of-view', 'slow-motion', 'quick-cut', 'athleticism', 'redone', 'horses', 'bryan', 'languid', 'romanticism', 'byler', 'sultry', 'beer-fueled', 'retiring', 'bracingly', 'antidote', 'slather', 'clearasil', 'blemishes', 'youth', 'chafing', 'grandiosity', 'characterize', 'arliss', 'backstage', 'bytes', 'anciently', 'métier', 'rigged', 'indoctrinated', 'abridged', 'transgressive', 'limited', 'embellished', 'action-comedy', 'jia', 'powerhouse', 'dress', 'feelings', 'evoked', 'screams', 'lungs', 'well-timed', 'knockout', 'answer', 'babies', 'truth-in-advertising', 'hounds', 'millennium', 'moods', 'amateur', 'rooted', 'undergoing', 'midlife', 'crisis', 'preachy-keen', 'globetrotters-generals', 'convictions', 'borrow', 'behalf', 'endangered', 'dues', 'unread', 'straddles', 'fence', 'formalism', 'austerity', 'fade', 'conversion', 'asiaphiles', 'fuss', 'shambles', 'elves', 'pimps', 'ho', 'east', 'retelling', 'democracie', 'apocalypse', 'agape', 'punched', \"'50s\", 'sociology', 'lore', 'minded', 'stress', 'safely', 'video/dvd', 'babysitter', 'autistic', 'approached', 'row', 'sydney', 'harbour', 'seater', 'plane', 'australia', 'gliding', 'banking', 're-working', 'shouting', 'relentlessly', 'folksy', 'binary', 'oppositions', 'angst-ridden', 'druggy', 'spring-break', 'orgy', 'joão', 'pedro', 'unwillingness', 'kiddies', 'cheeky', 'globalizing', 'newness', 'psychopathic', 'funnybone', 'narrated', 'landau', 'high-profile', 'wasabi', 'selling', 'leguizamo', 'internalized', 'energizes', 'ok', 'abbass', 'revision', 'jealous', 'jam', 'agitprop', 'longtime', 'tolkien', 'neophyte', 'personally', 'outer-space', 'shmear', 'eardrum-dicing', 'gunplay', 'screeching-metal', 'smashups', 'odd-couple', 'sniping', 'dungpile', 'jangle', 'publicist', 'alleged', 'veered', 'exxon', 'imbued', 'principal', 'tits', 'reno', 'al.', 'hourlong', 'neo-hitchcockianism', 'simpering', 'defiantly', 'grain', 'punchy', 'olympia', 'wash.', 'marcken', 'marilyn', 'chen', 'kaige', 'reward', 'confront', 'openly', 'inhabitants', 'strains', 'fueled', 'zhao', 'benshan', 'jie', 'non-fan', 'coping', 'endgame', 'fragmented', 'plagued', 'germanic', 'discreet', 'mini', 'breathes', 'monday', 'fiercely', 'precarious', 'victorious', 'revolutionaries', 'serbs', 'network', 'right-wing', 'extremists', 'fabulously', 'substantive', 'eternal', 'empowerment', 'undernourished', 'lina', '1975', 'eroti-comedy', 'husband-and-wife', 'alienating', 'witness', 'entertains', 'universe', 'wreckage', 'iced', 'invitingly', 'overture', 'juxtapositions', 'ordeal', 'amusement', 'demme', 'charade', 'spiffing', 'leftovers', 'trusted', 'fourteen-year', 'ferris', 'glamorous', 'recreation', 'resonate', 'salvage', 'dwells', 'romances', 'tackled', 'irresistibly', 'ambience', 'die-hard', 'connoisseurs', 'steadily', 'magi', 'relocated', 'scuzzy', 'nyc', 'boll', 'step-printing', 'goose', 'manager', 'pregnant', 'papin', 'candy-coat', 'e-graveyard', 'demographics', 'unaware', 'guilt-trip', 'lieutenant', 'les', 'vampires', 'opens', 'maggots', 'crawling', 'imposed', 'underplays', 'unflappable', 'wyman', 'june', 'cleaver', '60-second', 'surfing', 'massive', 'waves', 'collect', 'severely', 'tested', 'wedgie', 'gratify', 'acknowledges', 'upfront', 'lear', 'mugs', 'mercilessly', 'avert', 'requiring', 'masters', 'self-sacrifice', 'adopt', 'generational', 'elegantly', 'enhancing', 'ministers', 'bible-study', 'groups', 'mythologizing', 'sacrifices', 'heroism', 'abject', 'pearce', 'by-the-book', 'scripting', 'moist', 'kumble', '21/2', 'discerned', 'non-firsthand', 'capability', 'potboiler', 'not-nearly', 'as-nasty', 'as-it', 'cribbing', 'barry', 'assassin', 'merited', 'gooeyness', 'dumbness', 'residents', 'copenhagen', 'senses', 'robust', 'israeli/palestinian', 'globe', 'panoramic', 'nails', 'orlean', 'eudora', 'welty', 'doles', 'jump-in-your-seat', 'otar', 'iosseliani', 'factory', 'worker', 'venice', 'bedfellows', 'riding', 'ganesh', 'ladder', 'distinct', 'outpaces', 'contemporaries', 'dislikable', 'sociopathy', 'last-place', 'teams', 'brecht', 'faced', 'plateau', 'grungy', 'friel', 'melancholia', 'inauthentic', 'resembles', 'soft', 'porn', 'followers', 'unbalanced', 'romantics', 'tryingly', 'hotter', 'stark', 'purposefully', 'reductive', 'strikingly', 'devious', 'prepared', 'cling', 'action-adventure', 'prisoners', 'loads', 'magician', 'boisterous', 'bang-up', 'balto', 'hawk', 'groggy', 'succumbing', 'expensive', 'cars', 'rocawear', 'clothing', 'heartache', 'scripted', 'dodger', 'fast-moving', 'cheerfully', 'careless', 'unfussily', 'vivre', 'hypnotically', 'painless', 'time-killer', 'startled', 'dozing', 'catholic', 'annex', 'newcastle', 'and-miss', 'proportions', 'amusements', 'glee', 'lobotomy', 'scooped', 'discarded', 'interludes', 'repeating', 'gain', 'grittily', 'eminently', 'ram', 'dass', 'cardoso', 'concrete', 'lovably', 'amaze', 'reginald', 'slurs', 'squirts', 'cut-and-paste', 'derek', 'luke', 'jaw', 'houses', 'old-world', 'comments', 'participants', 'gabbiest', 'giant-screen', 'veers', 'withholds', 'knockabout', 'hazy', 'lit', 'impostor', 'plod', 'haunted', 'inextricably', 'entwined', 'cleverest', 'hurt', 'single-minded', 'lumpy', 'two-day', 'figuring', 'marshall', 'humming', 'moulin', 'purposeful', 'overdoing', 'goods', 'terrifically', 'spielbergian', 'fourth-rate', 'carrey', 'made-for-tv', 'probing', 'experiment', 'soar', 'triumphs', 'c.h.o.', 'clash', 'believer', 'secular', 'negated', 'overstylized', 'puréed', 'mélange', 'commands', 'impatient', 'campaign-trail', 'press', 'defensive', 'framework', 'toss-up', 'lethally', 'skid-row', 'eric', 'flabbergasting', 'principals', '14-year-old', 'macnaughton', '6-year-old', '10-year-old', 'thomas', 'matches', 'frenzy', 'consumerist', 'studiously', 'describing', 'badness', 'conversations', 'checkout', 'runteldat', 'orange', 'county', 'exoticism', 'pax', 'super-powers', 'super-simple', 'super-dooper-adorability', 'piercingly', 'homogenized', 'prominent', 'brio', 'lamer', 'saddle', 'searches', 'fighters', '146', 'babak', 'payami', 'ballot', 'evoking', 'ditty', 'viterelli', 'right-hand', 'goombah', 'quirkiness', 'argue', 'head-on', 'doug', 'colleagues', 'grade-school', 'moldy-oldie', 'parapsychological', 'phenomena', 'frothy', 'diminishing', 'stature', 'oscar-winning', 'lowly', 'enthusiastically', 'bodily', 'functions', 'becker', 'twin', 'peaks', 'often-hilarious', 'purer', 'mibii', 'dislocation', 'spry', '2001', 'of-a-sequel', 'hell-bent', 'frankenstein-monster', 'reyes', 'mattei', 'circular', 'shainberg', 'even-flowing', 'atypically', 'hypnotic', 'fast-edit', 'hopped-up', 'modicum', 'tooled', 'scented', 'bath', 'phenomenal', 'misguided', 'afghan', 'warlord', 'teachers', 'increase', 'self-esteem', 'peace', 'march', 'drum', 'parent', 'irreparable', 'analysis', 'fix', 'road-trip', 'mutates', 'focusing', 'eccentricity', 'scrapbook', 'oddballs', 'guilt', 'self-expression', 'thoughts', 'shiri', 'conspiracies', 'critic-proof', 'juice', 'fresh-squeezed', 'repellent', 'nada', 'norm', 'chicken', 'transcendent', 'alfred', 'hitchcock', 'defines', 'sharks', 'player', 'skewering', 'cipherlike', 'spine', 'yields', 'ensure', 'unparalleled', 'punctuated', 'semi-amusing', 'jet', 'jumbled', 'ruse', 'tactic', 'vulgarity', 'cussing', 'consume', 'falcon', 'tabloid', 'embalmed', 'pastel', 'landscapes', 'nancy', 'savoca', 'no-frills', '9-11', 'trenchant', 'reminders', 'ties', 'bind', 'demonstrated', 'mixing', '2000', 'noon', 'fondly', 'remembered', 'generalities', 'transform', 'heedless', 'undertaken', 'hot-blooded', 'specifics', 'renaissance', 'spain', 'introduces', 'fervently', 'thinkers', 'bled', 'confusion', 'unappealing', 'daniel', 'contemptuous', 'population', 'mixed-up', 'paint-by-numbers', 'agonizing', 'catch-22', 'wrote', 'benchmark', 'lameness', 'laundry', 'whirling', 'distract', 'support', 'april', 'independence', 'bushels', 'zhang', 'ziyi', 'stakes', 'smitten', 'troubadour', 'acolytes', 'contemplative', 'actress-producer', 'collaboration', 'congeniality', 'impetus', 'fabulous', 'noteworthy', 'hour-and-a-half-long', \"'53\", 'exception', 'scooter', 'lucia', 'environmental', 'mine', 'verges', 'counterproductive', 'provocateur', 'jon', 'purdy', 'sap', 'correctness', 'enchanting', 'strays', 'fleeing', 'mass', 'drug-induced', 'evacuations', 'none-too-funny', 'distinctions', 'rudd', 'spouting', 'malapropisms', 'clashing', 'cultures', 'regard', 'scuttled', 'crossroads', 'teenybopper', 'ed', 'wood', 'pubescent', 'scandalous', 'high-strung', 'merges', 'wire', 'fu', 'chin', 'muted', 'freak-out', 'earns', 'churlish', 'catcher', 'rye', 'dyslexia', 'lessen', 'reporting', 'lilo', 'tear-stained', 'shirley', 'temple', 'seduce', 'topics', 'peerlessly', 'riled', 'eh', 'simplicity', 'wheezy', 'mermaid', 'aladdin', 'controversial', 'australian', 'fork', 'precedent', 'half-asleep', 'suddenly', 'denouement', 'morph', 'scorn', 'enervating', 'deadeningly', 'drawn-out', 'pedestrian', 'chimes', 'grieving', 'inertia', 'arrest', 'themed', 'yi', 'dense', 'repetitively', 'packages', 'strangeness', 'excellence', 'temptingly', 'subplots', 'reagan', 'zellweger', 'spindly', 'ingenue', 'infirmity', 'naive', 'kurt', 'wimmer', 'assuming', 'sixth-grade', 'height', 'prostitute', 'self-satisfaction', 'worm', 'shrewdly', 'well-structured', '99-minute', 'girl-meets-girl', 'uninflected', 'frustrated', 'became', 'abhorrent', 'ran', 'wondered', 'housing', 'options', 'light-footed', 'enchantment', 'stuart', 'candid', 'smothered', 'avary', 'awake', 'byzantine', 'incarnations', 'pleasuring', 'uncompelling', 'dwindles', 'paradoxically', 'illuminated', 'disposible', 'guru', 'birot', 'whopping', 'shootouts', 'italics', 'nudity', 'cary', 'katherine', 'markers', 'preordained', 'entering', 'synagogue', 'raymond', 'wildest', 'fighter', 'batman', 'giggles', 'pulchritude', 'seemed', 'negative', 'pretend', 'clout', 'doc', 'vile', 'separates', 'oddity', 'uncharismatically', 'indulge', 'beard', 'vacant', 'appeals', 'carlos', '1937', 'titillating', 'bettany', 'backed', 'princesses', 'happily', 'avoiding', 'contact', 'bluer', 'biologically', 'enacted', 'motions', 'exposes', 'unconcerned', 'unstinting', 'threw', 'mimetic', 'approximation', 'blended', 'bloodletting', 'jaw-droppingly', 'gaitskill', 'tiniest', 'segment', 'demographic', 'baran', 'scum', 'preciousness', 'blarney', 'calling', 'demonstration', 'funniness', 'rorschach', 'mush-hearted', 'lays', 'interweaves', 'linking', 'halfwit', 'ace', 'japanimator', 'hayao', 'survives', 'bv', 're-voiced', 'sub-formulaic', 'nonconformity', 'old-time', 'out-sized', 'fine-looking', 'bouncy', 'clutch', 'punctuation', 'fits', 'adorably', 'twinkle', 'darkest', 'rewarded', 'absent', 'mordant', 'detective', 'cowardly', 'redeemed', 'marching', 'pact', 'grenade', 'rewrite', 'garner', 'cooler', 'gut-wrenching', 'in-jokes', '3/4th', 'removed', 'mika', 'anna', 'mouglalis', 'boiled', 'argot', 'spellbinding', 'deliciously', 'dominant', 'valentine', 'arty', 'reduce', 'stickiness', 'amoral', 'pursuing', 'versus', 'socially', 'encompassing', 'non-bondish', 'serrault', 'lawn', 'chair', 'future-world', 'holographic', 'revulsion', 'stodgy', 'opera-ish', 'interrogation', 'naturalness', 'revolting', 'highlight', 'smacks', 'exhibitionism', 'cathartic', 'heady', 'jumble', 'returned', 'warn', 'senseless', 'mobius', 'school-age', 'preferable', 'insufferably', 'relish', 'delinquent', 'paperbacks', 'switchblade', 'sexpot', 'plotline', 'invested', 'undergraduate', 'doubling', 'subtexts', 'stabs', 'wizard', 'spot-on', 'glitz', 'assault', 'rollerball', 'libretto', 'ideally', 'lyricism', 'indignation', 'transforms', 'little-known', 'native', 'acidic', 'all-male', 'eve', 'intermezzo', 'abrasive', 'boatload', 'standing', 'stud', 'chases', 'pete', 'unsuccessfully', 'excursion', 'collaborators', 'resources', 'establish', 'cantet', 'fingering', 'brussels', 'sprouts', 'ourside', 'spending', 'hardass', 'unhidden', 'reality-snubbing', 'hodgepodge', 'defeated', 'toes', 'nemesis', 'glumly', 'mishandle', 'unveil', 'wheedling', 'reluctant', 'pointing', 'smeared', 'windshield', 'shades', 'much-needed', 'pot', 'besides', 'wretched', 'marred', 'steamy', 'gunfight', 'unrealistic', 'margolo', 'profane', 'carefully', 'partners', 'certified', 'maximum', 'familiarity', 'scotland', 'itch', 'boiling', 'ghastly', 'absence', 'destruction', 'pledge', 'cagney', 'lacey', 'torments', 'caricature', 'radioactive', 'mornings', 'emergence', 'hit-and-miss', 'manual', 'flavors', 'swung', 'off-center', 'pressure', 'cooker', 'horrified', 'jimmy', '94', 'solo', 'oh-those-wacky-brits', 'towering', 'siren', 'too-hot-for-tv', 'direct-to-video/dvd', 'episodic', 'choppiness', 'thrust', 'pushed', 'fudges', 'blanks', 'formidable', 'ton', 'realizes', 'fullness', 'negate', 'fairies', 'suggestive', 'zishe', 'hanussen', 'yawning', 'real-time', 'self-mocking', 'storyteller', 'susceptible', 'toothless', 'forcefully', 'leys', 'climb', 's1m0ne', 'thirteen', 'resorts', 'chaplin', 'negotiate', 'evocation', 'flimsier', 'logically', 'porous', 'mouthpieces', 'motifs', 'flashbacks', 'liability', 'chocolate', 'charlie', 'chokes', 'rehashes', 'slapping', 'foot', 'individuals', 'experimental', '?!?', 'betting', 'good-naturedly', 'hormonal', 'smarts', 'adrian', 'sewing', 'documenting', 'fairy-tale', 'produces', 'humanly', 'affectionately', 'indoors', 'settings', 'motionless', 'pauly', 'shore', 'taut', 'reprehensible', 'manipulating', 'bestowing', 'unequivocally', 'avant-garde', 'pop-up', 'film-culture', 'referential', 'anakin', 'thoughtless', 'commend', 'jaded', 'vicente', 'aranda', 'fluent', 'flatula', 'advises', 'denlopp', 'exchange', 'deckhand', 'activities', 'wild-and-woolly', 'wall-to-wall', 'hands-off', 'numb', 'lips', 'discover', 'tian', 'meticulous', 'enforced', 'hiatus', 'face-to-face', 'sven', 'wollter', 'stricken', 'composer', 'viveka', 'seldahl', 'violinist', 'sturm', 'suitably', 'iben', 'hjelje', 'pumpkin', 'seventeen', 'waydowntown', 'tear-drenched', 'quicksand', 'felinni', 'psychedelia', 'cube', 'serene', 'banter-filled', 'copout', 't.', 'someday', 'viva', 'geared', 'sniffle', 'gut-busting', 'diverges', 'andrei', 'oozes', 'computerized', 'yoda', 'ascends', 'weighty', 'nostalgia', 'crapulence', 'o', 'fantasma', 'hardest', 'trained', 'yarns', 'naughty', 'just-above-average', 'discloses', 'marveled', 'flames', 'shadows', 'hand-drawn', 'releasing', 'traced', 'deceit', 'creep', 'corners', 'indistinct', 'millisecond', 'rounded', 'overview', 'holistic', 'iteration', 'creepiest', 'developmentally', 'disabled', 'gas', 'snobbery', 'middle-america', 'semi-surrealist', 'appetizer', 'deflated', 'cutoffs', 'through-line', 'crematorium', 'chimney', 'stacks', 'all-powerful', 'pop-cyber', 'feeds', 'bjorkness', 'ardent', 'clear-cut', 'elm', 'hills', 'lucks', 'inexperienced', 'greenlight', 'anti-erotic', 'eloquently', 'symbiotic', 'drowns', '19', 'drama/action', 'learned', 'rubber-face', 'goldberg', 'potter', 'resurrection', 'exclamation', 'tonal', 'groove', 'moodiness', 'reopens', 'spin-off', 'rings', 'wai', 'ka', 'fai', 'interests', 'twitchy', 'boorishness', 'musketeer', 'dumas', 'appointed', 'incident', 'forgets', 'coincidence', 'uniquely', 'loneliest', 'spots', 'virtuous', 'limits', 'lending', 'ordered', 'nuts', 'cold-fish', 'campfire', 'fortify', 'live-wire', 'welcomes', 'narrow', 'royals', 'moon', 'el', 'crimen', 'del', 'padre', 'amaro', 'anti-catholic', 'protestors', 'integrating', 'foreground', 'unerring', 'seventy-minute', 'pawn', 'jackass', 'worried', 'pillages', 'incinerates', 'capra', 'holmes', 'sparking', '163', 'chimps', 'goodall', 'deploys', 'nerve-rattling', 'z-boys', 'facade', 'movie-biz', 'wending', 'epiphany', 'trials', 'portraiture', 'joins', 'perry', 'blondes', 'diggs', 'educational', 'lacked', 'respectively', 'ledger', 'vain', 'movie-star', 'surrounding', 'hyper-artificiality', 'louiso', 'disaffected-indie-film', 'mode', 'troubling', 'desecrations', 'partnership', 'theological', 'poking', 'genitals', 'fruit', 'pies', 'zzzzzzzzz', 'water-camera', 'operating', 'don', 'miller', 'ownership', 'redefinition', 'hard-core', 'slasher', 'aficionados', 'sting', 'spikes', 'retitle', 'pivotal', 'upends', 'satisfactory', 'creatures', 'flourishes', 'adroit', 'squeezed', 'liotta', 'rom', 'wanton', 'slipperiness', 'anyway', 'tease', 'distasteful', 'sing', 'lyrics', 'tonight', '10-year', 'delay', 'leblanc', 'bogs', 'investigate', 'surfeit', 'no-surprise', 'explosions', 'doors', 'accumulates', 'prose', 'kraft', 'macaroni', 'temptation', 'skipping', 'overrides', 'vicarious', 'abused', 'decide', 'annoyed', 'chicago-based', 'ill-timed', 'antitrust', 'cutting-room', 'reworking', 'sweet-and-sour', 'insider', 'gelati', 'needy', 'clients', 'sword', 'retrospective', 'contradicts', 'aspired', 'prescient', 'tranquil', 'slathered', 'rogue', 'assassins', 'agency', 'boss', 'amnesiac', 'damon/bourne', 'predicament', 'labors', 'pinnacle', 'wayne', 'stroke', 'ventura', 'stinging', 'psycho', 'accumulated', 'counter', 'crudity', 'classicism', 'exasperated', 'noticeable', 'adapted', 'from-television', 'grossest', 'verete', 'comprise', 'fulfilling', 'gestalt', 'trifecta', 'clarify', 'trickster', 'cremaster', 'affluence', 'dazed', 'pornography', 'rhapsodize', 'dirgelike', 'fang-baring', 'lullaby', 'deviant', 'bubbles', 'c.', 'pipe', 'murray', 'prolific', 'stuffs', 'comfortably', 'schlocky', 'sidewalks', 'articulates', 'flood', 'unblinkingly', 'good-naturedness', 'champagne', 'deeds', 'anthropomorphic', 'eventual', 'italian-language', 'literate', 'versions', 'petty', 'thievery', 'bars', 'addiction', 'junk-calorie', 'uglier', 'scoring', 'freak-outs', 'remembrance', 'picpus', 'lucas', 'risky', 'altman-esque', 'spins', 'multiple', 'invokes', 'percussion', 'brass', 'football', 'rabbit-proof', 'celebratory', 'scenarios', 'embellishment', 'kids-in-peril', 'theatrics', 'bray', 'wholesale', 'ineptitude', 'common-man', 'scientists', 'w', 'circa', '1960', 'sellers', 'prostituted', 'muse', 'nihilistic', 'summons', 'quadrangle', 'thesis', 'bible', 'morose', 'pregnancy', 'rape', 'surrealist', 'discerning', 'ten-year-old', 'steadfast', 'dualistic', 'flurries', 'self-amused', 'ghandi', 'discovered', 'indulged', 'water-born', 'bean', 'drops', 'ball', 'ever-watchful', 'placid', 'aching', 'throwaway', 'decommissioned', 'badder', 'explosive', 'overboard', 'shattering', 'timeout', 'eye-popping', 'sixties', 'rockumentary', 'admitted', 'roiling', 'trembling', 'disastrous', 'balancing', 'deafening', 'quieter', 'telegrams', 'dramatization', 'windtalkers', 'ransacked', 'depicts', 'sucker', 'portrayals', 'scratching', 'amazement', 'robustness', 'marginally', 'animated-movie', 'watered-down', 'captors', 'captives', 'pender', 'suckers', 'contriving', 'producing', 'pocket', 'keel', 'serendipity', 'outweigh', 'positives', 'barriers', 'amble', 'heavyweights', 'zemeckis', 'bustling', 'coolness', 'clue', 'littered', 'predominantly', 'julianne', 'zings', 'pan', 'nalin', 'conflicted', '88', 'everybody', 'gamble', 'loopholes', 'christianity', 'chesterton', 'hart', 'communicating', 'grave', 'sillier', 'teaming', 'crystal', 'rapturous', 'harmon', 'less-is-more', 'bump-in', 'the-night', 'crawlies', 'affectation-free', 'eludes', 'india', 'gulzar', 'jagjit', 'singh', 'reel/real', 'dichotomy', 'pursued', 'determination', 'venice/venice', 'brothers-style', 'down-and-dirty', 'laugher', 'niblet', 'aim', 'southern', 'adolescence', 'walks', 'pinochet', 'managing', 'steal', 'squaddie', 'decay', 'negatives', 'conducted', 'catalytic', 'holy', 'phoenix', 'servitude', 'aesthetic', 'presiding', 'majidi', 'shoe-loving', 'self', 'orgasm', 'suspects', 'wanes', 'omniscient', 'voice-over', 'burkina', 'faso', 'no-brainer', 'dark-as-pitch', 'pop-influenced', 'prank', 'shrugging', 'acceptance', 'needless', 'swordfights', 'cleavage', 'trial', 'perkiness', 'surge', 'swirling', 'rapids', 'rouses', 'filler', 'fumbles', 'kindness', 'survivable', '168-minute', 'thoroughfare', 'weepy', 'juliet', 'stevenon', 'pamela', 'roller', 'coaster', 'timelessness', 'lemon', 'partly', 'bombshell', 'uk', 'carter', 'coarse', 'sleight-of-hand', 'ill-wrought', 'hypothesis', 'constricted', 'humbling', 'improves', 'graphics', 'therapeutic', 'zap', 'occupied', '72', 'cracked', 'buckaroo', 'banzai', 'stacy', 'peralta', 'jell', 'sean', 'penn', 'monotone', 'creeps', 'ensnare', 'sustained', 'male-ridden', 'blockage', 'accompanies', 'intoxicatingly', 'maddening', 'non-exploitive', 'airs', 'splashy', 'despairing', 'soothe', 'less-compelling', 'hermitage', 'subzero', 'inc.', 'latter', 'uncertainties', 'all-too-familiar', 'narcissistic', 'italy', 'affect', 'kurds', 'owe', 'swipe', 'spiritually', 'harvey', 'weinstein', 'bluff', 'dolorous', 'trim', 'kindred', 'ineffable', 'accomplishments', 'ugh', 'densely', 'normal', 'divisions', 'nonfiction', 'kilmer', 'undertaking', 'coheres', '1950s', 'powerpuff', 'philippe', 'sturdiness', 'solidity', 'associated', 'saddens', 'tantamount', 'sept.', 'unslick', 'aniston', 'clock', 'ticking', 'larky', 'belong', 'earlier', 'copycat', 'rate', 'annie', 'rekindles', 'choosing', 'insurance', 'actuary', 'slide', 'slope', 'attending', 'silences', 'rainbow', 'pre-teen', 'stripped', 'tools', 'epiphanies', 'temporal', 'burden', 'lightly', 'gentlemen', 'jesus', 'fling', 'cutter', 'eclair', '18', 'asphalt', 'coma-like', 'velocity', 'understatement', 'guessable', 'dicey', 'ramble', 'civics', 'classes', 'would-be', 'servants', 'hal', 'function', 'misleading', 'forgiveness', 'stitch', 'assets', 'crocodile', 'molehill', 'bike', 'hustlers', 'undercover', 'hurts', 'copious', 'hints', 'imitative', 'innumerable', 'derisions', 'solipsistic', 'descriptions', 'besotted', 'broke', 'choreography', 'lazily', 'insufficiently', 'grip', 'fraction', 'proceeds', 'stumbles', 'outrage', 'pre-9', '/', 'cross-country', 'homeric', 'messy', 'uncouth', 'knucklehead', 'swill', 'tall', 'pryor', 'carlin', 'alias', 'betty', 'hélène', 'angel', 'dared', 'glizty', 'suppose', 'cal', 'irrepressible', 'helms', 'anti-', 'castro', 'included', 'founding', 'partner', 'kozmo', 'downer', 'over-dramatic', 'well-directed', 'initial', 'anomie', 'working-class', 'promenade', 'myrtle', 's.c.', 'diner', 'formalist', 'nolan', 'deportment', 'attracting', 'standup', 'scummy', 'cronenberg', 'videodrome', 'advancing', 'rewritten', 'unified', 'hard-hearted', 'january', 'seedy', 'generations', 'holland', 'burgeoning', 'boosted', 'size', 'outer', 'invite', 'laser', 'draw', 'walls', 'flexible', 'luscious', 'soothing', 'muzak', 'no-holds-barred', 'restraint', 'goodly', 'open-mouthed', 'gag', 'upheaval', 'pet', 'killing', 'equate', 'hibernation', 'wryly', 'disconnection', 'joshua', 'attendant', 'loyalty', 'duty', 'comical', 'thinly-conceived', 'maggie', 'hard-partying', 'sabotaged', 'hollywood-action', 'fred', 'sags', 'transported', 'chitchat', 'self-aware', 'neurotics', 'tame', 'a.e.w.', 'mason', 'plucks', 'loathsome', 'recently', 'cat-and-mouse', 'tissue-thin', 'alexandre', 'run-of-the-filth', 'leers', 'hogwash', 'exasperatingly', 'brawn', 'upstaged', 'avalanche', 'suicide', 'slights', 'exchanges', 'flinch', 'perpetual', 'fairness', 're-invents', 'slowed', 'involve', 'drill', 'baffling', 'subplot', 'smuggling', 'danish', 'larded', 'divided', 'genevieve', 'leplouff', 'pearl', 'harbor', 'rugrats', 'overmanipulative', 'practices', 'zinger-filled', 'restage', 'bathtub', 'assaultive', 'introspective', 'payoffs', 'noticed', 'encourages', 'courtroom', 'keg', 'profanities', 'storytellers', 'scripters', 'oscars', 'behave', 'aggressive', 'self-glorification', 'whitewash', 'enthusiasms', 'shockers', 'spinoff', 'mummy', 'credulity', 'hennings', 'confirms', 'lynne', 'ramsay', 'blues', 'pinks', 'sewer', 'rats', 'courageousness', 'illustrated', 'y', 'tu', 'mamá', 'también', 'georgia', 'puerile', 'garish', 'blacked', 'relic', 'canned', 'q.', 'archibald', 'ninth', 'indecipherable', 'squabbling', 'spouses', 'cinematographer', 'doyle', 'stoner', 'deconstruction', 'tully', 'derailed', 'post-production', 'males', 'trio', 'mounted', 'gays', 'community-college', 'advertisement', 'chick', 'waking', 'adept', 'collar', 'looseness', 'judgment', 'work-in-progress', 'megaplexes', 'bledel', 'boomer', 'prologue', 'distinguishes', 'thoughtlessly', 'beg', 'immune', 'serpent', 'finger', 'snapping', 'stands', 'kept', 'ventures', 'abilities', 'disarmingly', 'broader', 'prey', 'flck', 'camerawork', 'tolerable', 'nowadays', 'usher', '!?', 'life-embracing', 'amateurishly', 'handiwork', 'intacto', 're-creation', 'bathos', 'critically', 'orders', 'vittorio', 'sica', 'lectured', 'tech-geeks', 'frankly', 'fruitful', 'acres', 'couture', 'conceal', 'currently', 'underway', 'x-files', 'medical', 'equipment', 'aisle', 'walker', 'oh-so-hollywood', 'rejiggering', 'leaning', 'badly-rendered', 'preaching', 'damaged', 'continue', 'off-kilter', 'sleeping', 'stress-reducing', 'snared', 'tangled', 'fleeting', 'recesses', 'abound', 'jacobi', 'writings', 'dullingly', 'competing', 'lawyers', 'normally', 'woods', 'hailed', 'underutilized', 'massacres', 'erupt', 'cavorting', 'ladies', 'underwear', '2/3', 'quick-witted', 'modernizes', 'hiss', 'stevenson', 'screwy', 'under-10', 'randomness', 'sooooo', 'chill', 'examining', 'top-heavy', 'blazing', 'label', 'milder', 'giants', 'subscriber', 'jabs', 'egocentricities', 'breed', 'founders', 'rates', 'open-minded', 'elvis', 'favored', 'obscured', 'millennial', 'brusqueness', 'undying', 'politesse', 'bloodwork', 'overwhelm', 'comedy/drama', 'intermingling', 'naiveté', 'sophistication', 'opportunism', 'enamored', 'introverted', 'fetishes', 'cuter', 'unreachable', 'grinning', 'lasting', 'traces', 'seeds', 'one-star', 'attach', 'steaming', 'cartons', 'distinguishable', 'iris', 'paved', 'hoopla', 'lackadaisical', 'tots', 'masterpieces', 'congratulate', 'writer/directors', 'sheets', 'old-hat', 'province', 'bottom-of-the-bill', 'ambivalence', 'plastered', 'nettelbeck', 'available', 'bias', 'campy', 'metro', 'strategies', 'substitute', '75-minute', 'sample', 'hang-ups', 'dictator-madman', 'effectiveness', 'assigned', 'neo-augustinian', 'theology', 'fault', 'lax', 'been-there', 'done-that', 'sameness', 'rebellion', 'diva', 'surrounds', 'scrap', 'pop-music', 'sticky', 'induce', 'fright', 'out-of-kilter', '77', 'peopled', 'devito', 'referred', 'pre-wwii', 'pointedly', 'kittenish', 'intrusive', 'reporters', 'willingly', 'posterity', 'waltzed', 'decisively', 'extrusion', 'benevolent', 'zelda', 'tearjerker', 'traps', 'ransom', 'cringe', 'half-hearted', 'fluke', 'hideousness', 'smallest', 'sensitivities', 'clamorous', 'airy', 'chatter', 'parrots', 'oprah', 'counts', 'peril', 'disservice', 'hews', 'open-hearted', 'true-blue', 'saga', 'ups', 'downs', 'back-stabbing', 'inter-racial', 'jettisoned', 'surehanded', 'skunk', 'castles', 'bombards', 'vertical', 'limit', 'tie', 'facts', 'cuban', 'boardwalk', 'underventilated', 'père-fils', 'meshes', 'burnt', 'marathons', 'anchored', 'fuses', 'humility', 'camouflaging', 'teenager', 'resentment', 'government', 'marine/legal', 'ambitiously', 'continually', 'perceptions', 'utilizes', 'controlled', 'sleek', 'advert', 'societal', 'predisposed', 'deserved', 'co-winner', 'ineffective', 'oral', 'bumper', 'lathan', 'pseudo-bio', 'imamura', 'imitations', 'subsided', 'judge', 'daredevils', 'views', 'rainbows', 'plant', 'lasker', 'distances', 'hyped', 'wilder', 'snooze', 'evenly', 'milks', 'unimaginatively', 'foul-mouthed', 'jazz', 'civil', 'disobedience', 'anti-war', 'hubristic', 'loop', 'wrought', 'mystique', 'electrocute', 'dismember', 'sugary', 'pell-mell', 'vary', 'humdrum', 'strutting', 'posturing', 'reworks', 'ingeniously', 'charitable', 'castrated', 'quibble', 'scar', 'cameos', 'freundlich', 'beachcombing', 'verismo', 'muscles', 'lone', 'whereas', 'interview', 'leafing', 'mankind', 'honored', 'veteran', 'affects', 'geographical', 'displacement', 'write', 'liner', 'detachment', 'fluttering', 'description', 'hard-hitting', 'feral', 'halle', 'berry', 'not-at-all-good', 'strip-mined', '1997', 'teetering', 'sanity', 'afford', 'serious-minded', 'concerns', 'year-end', 'alienate', 'ringing', 'chai', 'guitar', 'amp', 'apply', 'riddle', 'astounds', 'spicy', 'collinwood', 'ankle-deep', 'dry-eyed', 'drying', 'defend', 'frothing', 'ex-girlfriend', 'sneaky', 'impish', 'divertissement', 'day-lewis', 'roars', 'polemical', 'self-defeatingly', 'decorous', 'excepting', 'dadaist', 'medium-grade', 'hard-won', 'gainsbourg', 'ayres', 'fudged', 'gigantic', 'build-up', 'restate', 'schaefer', 'inject', 'mexico', 'calibrated', 'affectionate', 'variations', 'feed', 'galled', 'puddle', 'uninitiated', 'glancing', 'hibiscus', 'grandly', 'exalts', 'marxian', 'telanovela', 'glimmer', 'fantasti', 'infinite', 'insecurity', 'ringside', 'tough-man', 'recycles', 'uproar', 'mpaa', 'elicited', 'puppy', 'seas', 'archly', 'budding', 'amours', 'sneers', 'tons', 'oedekerk', 'depress', 'unambitious', 'schindler', '75', 'columbia', 'automatically', 'ill-equipped', 'grinds', 'imponderably', 'shatner', 'kunis', 'infants', 'blood-splattering', 'semi-stable', 'alter', 'progression', 'error', 'arch', 'cold-blooded', 'whir', 'disgusted', 'moan', 'yakusho', 'melodramas', 'commitment', 'tonto', 'charting', 'proceed', 'implodes', 'hunky', 'nerve-raked', 'stagings', 'hardware', 'defeats', 'edged', 'tome', 'solely', 'tartakovsky', 'freakish', 'tailor-made', 'cliff-notes', 'mora', 'hitler-study', 'bollywood/hollywood', 'bombay', 'totalitarian', 'farenheit', '451', 'tougher', 'kafka-inspired', 'alice', 'underwhelming', 'lazier', 'circumstantial', 'confluence', 'compass', 'keenly', 'apple', 'misbegotten', 'true-crime', 'tanks', 'pollak', 'wrestler', 'chyna', 'dolly', 'parton', 'mentioned', 'schedule', 'paws', 'bless', 'aversion', 'cashing', 'scouse', 'respecting', 'spreading', 'puritanical', 'describes', 'pauline', 'paulette', 'wrap', \"'90s\", 'plunge', 'flashbulb', 'deviously', 'adopts', 'guise', 'ready-made', 'galvanize', 'fishy', 'botches', 'schultz', 'genre-busting', 'pro-serbian', 'reenacting', 'flakiness', 'exploratory', 'ruthless', 'dreaded', 'snake', 'emphasis', 'hallelujah', 'sidey', 'perplexing', 'austrian', 'suppression', 'rails', 'forte', 'laden', 'musset', 'hollywood-itis', 'heart-string', 'plucking', 'box-office', 'huskies', 'border', 'collie', 'songbird', 'components', 'combine', 'sillified', 'stop-and-start', 'treated', 'augmented', 'hawn', 'oscar-size', 'well-defined', 'preserves', 'ardor', 'ye', 'pabulum', '129-minute', 'balk', 'dip', 'raucous', 'stealing', 'chicanery', 'self-delusion', 'mire', 'communicate', 'unremittingly', '1960s', 'sandbox', 'map', 'categorize', 'smutty', 'gray', 'antiseptic', 'alexander', 'everyman', 'monument', 'snuck', 'all-out', 'happenstance', 'goliath', 'exhibits', 'explicit', 'cheats', 'retreats', 'bloodstream', 'shiner', 'provincial', 'bourgeois', 'herrings', 'routes', 'linearity', 'skimpy', 'clare', 'peploe', 'misunderstanding', 'immersive', 'hyper-realistic', 'omits', 'oftentimes', 'richness', 'chiaroscuro', 'palm', 'gushing', 'edifying', 'repellantly', 'cocktail', 'olives', '1962', 'garnish', 'not-so-divine', 'recovering', 'customarily', 'jovial', 'deficit', 'flim-flam', 'locusts', 'horde', 'pander', 'basest', 'desires', 'payback', 'groaner', 'zero-dimensional', 'grossly', 'untrained', 'lulls', 'thornberrys', 'villainess', 'acquainted', 'author', 'every-joke-has', 'been-told-a', 'thousand-times', 'reassembled', 'macbeth', 'bowser', 'ripper', 'conscious', 'underestimated', 'flashback', 'invented', 'schneidermeister', 'makin', 'losin', 'crash-and-bash', 'borderline', 'unadulterated', 'mined', 'gestures', 'unhurried', 'scientific', 'heed', 'speeds', 'subtitled', 'internal', 'combustion', 'engine', 'thump', 'stones', 'shameful', 'sunny', 'disposition', 'organizing', '3-d', 'orbit', 'suspended', 'unclean', 'repulse', 'neglects', 'brainy', 'mrs.', 'greed', 'materalism', 'health', 'dresses', 'islanders', 'ballroom', 'new-agey', 'ugly-looking', 'junior-high', 'apex', 'misunderstood', 'actorish', 'notations', 'bilingual', 'unsatisfied', 'moisture', 'undiminished', 'fireworks', 'surround', 'frankie', 'pryce', 'stiflingly', 'deliriously', 'lingual', 'wiggling', 'kitten', 'signing', 'father-and-son', 'faux-urban', 'hotter-two-years-ago', 'r&b', 'winningly', 'groan-to-guffaw', 'ratio', 'addresses', 'slave', 'marcus', 'brazenly', 'klein', 'salute', 'reap', 'arithmetic', 'cameras', 'hard-to-swallow', 'period-piece', 'movie-of-the-week', 'mush', 'horns', 'hence', 'zhuangzhuang', 'decent-enough', 'nail-biter', 'baked', 'triviality', 'enlightening', 'linear', 'makeup-deep', 'shedding', 'floundering', 'prone', 'rarest', 'kinds', 'kiosks', 'jaw-dropping', 'villains', 'highlander', 'frei', 'informed', 'wireless', 'degrades', 'overacted', 'filmgoers', 'horrifyingly', 'unsurprisingly', 'trove', 'boy-meets-girl', 'bull', 'leigh', 'speaks', 'volumes', 'torrent', 'smoke', 'hardhearted', 'respond', 'bread', 'dipped', 'preaches', 'shackles', 'alternatives', 'wildcard', 'goodies', 'histrionic', 'respites', 'ki-deok', 'duking', 'werner', 'purity', 'gobble', 'dolby', 'stereo', 'pedestal', 'lifting', 'moat', 'peaked', 'clinch', 'schoolboy', 'scorcher', 'creepy-scary', 'expanse', 'stanzas', 'indicative', 'anne-sophie', 'profiling', 'trend', 'overdue', 'vibrance', 'disreputable', 'difficulty', 'tolerance', 'diversity', 'inquisitiveness', 'truffaut', 'pray', 'tour', 'girls-behaving-badly', 'fringes', 'underground', 'splendid-looking', 'fathom', 'graves', 'perch', 'metropolitan', 'diatribes', 'uncool', 'gadzooks', 'falters', 'implausibility', 'high-spirited', 'doorstep', 'kouyate', 'shaky', 'preteen', 'biggie', 'tupac', 'hunk', 'beliefs', 'prejudices', 'parallel', 'defiant', 'pessimistic', 'capped', 'obligations', 'schnieder', 'bounces', 'wrists', 'tummy', 'huggers', 'twirling', 'indisputably', 'dicaprio', 'infinitely', 'wittier', 'pursuers', 'singularly', 'knitting', 'needles', 'convolution', 'pa', 'clones', 'noisy', 'clyde', 'barrow', 'initially', 'requiem', 'be-bop', 'nighttime', 'videologue', 'reclaiming', 'recreating', 'idiom', 'tv-insider', 'infamy', 'screed', 'exhaustion', 'affirms', 'companionship', 'competently', 'breasts', 'achieved', 'reshaping', 'post-feminist', 'stiletto-stomps', 'shivers', 'prim', 'belly-dancing', 'livelier', 'french-produced', 'glamour', 'coming-of-age/coming-out', 'asquith', 'acclaimed', '1952', 'kuras', 'regrets', 'paramount', 'imprint', 'day-old', 'location', 'tracking', 'developments', 'arrogant', 'aristocrats', 'graced', 'predict', 'ample', 'shekhar', 'kapur', 'supplies', 'astronaut', 'rigors', 'beating', 'lagging', 'playstation', 'bang-the-drum', 'confuse', 'togetherness', 'inter-family', 'melanie', 'carmichael', 'meet', 'propulsive', 'fluidity', 'flog', 'obligation', 'quasi-shakespearean', 'english-language', 'scariest', 'implicitly', 'businesses', 'documentarians', 'slummer', 'reeked', 'reassure', 'proving', 'presses', 'nine-year-old', 'telephone', 'uncinematic', 'gathering', 'dust', 'chilled', 'patronizing', 'busby', 'berkeley', 'aldrich', 'warmed-over', 'live-style', 'dishes', 'critique', 'capitalism', 'wide-smiling', 'franklin', 'discursive', 'structures', 'cheeks', 'suspecting', 'day-to-day', 'disoriented', 'disarming', 'howler', 'painterly', 'blatantly', 'humiliated', 'straight-faced', 'derive', 'rash', 'bots', 'period-perfect', 'hammers', 'mystical', 'avant', 'garde', 'invites', 'unflattering', 'comparisons', 'installments', 'wisely', 'stylist', 'gracious', 'beaches', 'heller', 'vonnegut', 'billing', 'curtain', 'retro-refitting', 'recall', 'nickelodeon-esque', 'dog-tag', 'm-16', 'mock', 'bernard', 'ivans', 'street-smart', 'rerun', 'masochism', 'danang', 'testing', 'indulges', 'matinee-style', 'soul-searching', 'fictional', 'recycle', 'dave', 'chasm', 'made-up', 'sat', '120', 'soapy', 'stomps', 'hobnail', 'natalie', 'babbitt', 'filmgoing', 'even-toned', 'prowess', 'three-minute', 'kathy', 'baker', 'boston', 'augustine', 'lds', 'undemanding', 'armchair', 'tourists', 'contemplates', 'heartland', 'fearlessly', 'modus', 'goyer', 'ultra-loud', 'space-based', 'plasma', 'conduits', 'repugnant', 'roland', 'joffé', 'demi', 'hackery', 'anecdote', 'seizures', 'shriek', 'robbed', 'mistaken', 'eschews', 'panorama', 'mannered', 'destructive', '****', 'colin', 'hanks', 'toys', 'paeans', 'brutality', 'follow-your-dream', 'belinsky', 'helping', 'weissman', 'weber', 'cadence', 'bladerunner', 'sci', 'fi', 'video-shot', 'consequence', 'staggers', 'audience-pleaser', 'elemental', 'lilia', 'malleable', 'lector', 'questioning', 'in-between', 'burlap', 'spiritless', 'contributions', 'howling', 'cringing', 'margins', 'too-frosty', 'imperfect', 'love-hate', 'boxes', 'moviegoer', 'emphasized', 'fresher', 'unaffected', 'influential', 'boldface', 'bo', 'shearer', 'conveys', 'heaped', 'paunchy', 'midsection', 'f', 'conceited', 'pap', 'wiser', 'tommy', 'peep', 'booths', 'short-story', 'rake', 'half-bad', 'treads', 'hippopotamus', 'ballerina', 'slyly', 'anti-adult', 'emphatic', 'disconcertingly', 'endured', 'workout', 'presume', 'murderous', 'pretence', 'bolster', 'ear-pleasing', 'injustice', 'pondering', 'fingers', 'meant', 'enhance', 'self-image', 'road-and-buddy', 'aid', 'altar', 'endorses', 'dudsville', 'all-star', 'reunions', 'nubile', 'depravity', 'nimble', 'paraphrase', 'freewheeling', 'vivacious', 'soufflé', 'journalist', 'single-handedly', 'funeral', 'pummel', 'butterflies', 'passionately', 'uncover', 'wallflower', 'desplat', 'danis', 'driver-esque', 'a.c.', 'setpieces', 'juiced', 'university', 'departments', 'compare', 'silent-movie', 'twilight', 'inescapably', 'skyscraper-trapeze', 'hell-jaunt', 'spall', 'conceptually', 'living-room', 'self-knowledge', 'frontal', 'classified', 'movie-industry', 'inclusiveness', 'psychic', 'anomaly', 'semi-autobiographical', 'simmering', 'laggard', 'ragbag', 'trims', 'considerably', 'pixilated', 'rappers', 'suge', 'knight', 'roads', 'catherine', 'boffo', 'sy', 'queasy', 'infatuation', 'flopped', 'decisive', 'glazed', 'approaching', 'goldie', 'morphs', 'disease-of-the-week', 'small-screen', 'densest', 'distillation', 'unsalvageability', 'kaos', 'miserably', 'kafkaesque', 'overnight', 'persecuted', 'desultory', 'franco', 'walled-off', 'awakens', 'unendurable', 'ultra-provincial', '26-year-old', 'reese', 'swims', 'di', 'napoli', 'melville', 'merrily', 'villeneuve', 'maelstrom', 'interplay', 'jungle', 'surest', 'bet', 'treachery', 'favorably', 'das', 'boot', 'silbersteins', 'decadent', 'malls', 'mastering', 'dismal', 'characteristically', 'brims', 'prescribed', 'cushion', 'less-than-thrilling', 'blacklight', 'lioness', 'participate', 'ill-advised', 'frittered', 'guilt-free', 'thinks-it-is', 'moralistic', 'mighty', 'raffish', 'unpaid', 'intern', 'sharing', 'icy', 'tucker', 'aurelie', 'christelle', 'nightmarish', 'fairytale', 'navel', 'plaguing', 'vowing', 'guarded', 'virgin', 'chastity', 'adrift', 'insular', 'refined', 'urbanity', 'everett', 'firth', 'seamstress', 'date-night', 'distressingly', 'gluing', '25', 'iq', 'retrospectively', 'concentration', 'spout', 'barris', 'updates', 'neutral', 'yorkers', 'garth', 'progressed', 'prozac', 'amusedly', 'impatiently', 'strenuously', 'mud', 'independent-community', 'guiding', 'lights', 'election', 'motorized', 'affability', 'someplace', 'consuming', 'self-absorption', 'insistently', 'otherness', 'variable', 'post-camp', 'slopped', 'arthouse', 'murderer', 'high-tech', 'pandora', 'log', 'user-friendly', 'dogme', '95', 'auteil', 'sentimentalizing', 'tidal', 'quasi-improvised', 'microscope', 'puzzled', 'unlaughable', 'tasteless', 'roster', 'kathryn', 'fantasized', 'reverence', 'gregory', 'hinton', 'fustily', 'reams', 'schmaltz', 'assess', 'engineering', 'sydow', 'ryder', 'oversized', 'bedtime', 'conrad', 'nominated', 'bolstered', 'economics', 'fabulousness', 'secondary', 'claws', 'deferred', 'sure-fire', 'prescription', 'coupling', 'disgracefully', 'artfully', 'restrained', '65-year-old', 'outward', 'toro', 'reeking', 'library', 'control-alt-delete', 'stand-up', 'portent', 'incurably', 'polite', 'gained', 'underlies', 'self-reflection', 'clownish', 'ultra-violent', 'touchstone', 'chardonne', 'masquerade', 'superficially', 'pollyana', 'near-masterpiece', 'pains', 'shapiro', 'goldman', 'bolado', 'sleep-inducingly', 'slow-paced', 'carl', 'bygone', 'convolutions', 'gleaned', 'headbanger', 'turks', 'angling', 'laconic', 'misty-eyed', 'observed', 'outline', 'property', 'encumbers', 'majid', 'craftsmen', 'gesture', 'shindler', 'shaw', 'melting', 'phocion', 'attentions', 'bumps', 'tumult', 'formuliac', 'denying', 'floats', 'tacked', 'exhibit', 'minority', 'cesspool', 'symptom', 'ana', 'breheny', 'lensing', 'lift', 'converts', 'mgm', 'oh', 'exhaustingly', 'decades-spanning', 'epics', 'strives', 'not-so-small', 'spawned', 'pinheads', 'big-fisted', 'jez', 'butterworth', 'weighs', 'profundities', 'heidegger', 'nietzsche-referencing', 'drinking', 'twelve', 'beers', 'clicks', 'salacious', 'telenovela', 'wrecks', 'weakly', 'titans', 'vivi', 'angela', 'gheorghiu', 'raimi', 'cool-j', 'entree', 'spy-thriller', 'attractions', 'sacrificed', 'fillm', 'critic', 'staggered', 'travelogue', 'breitbart', 'invincible', 'avalanches', 'fuzziness', 'agitator', 'energizing', 'coherence', 'causes', 'character-who-shall', 'remain-nameless', 'guessed', 'sketches', 'authentically', 'psychodramatics', 'perceptiveness', 'juiceless', 'winger', '1995', 'paris', 'chou', 'sc2', 'skit-com', 'deposited', 'oscar-caliber', 'eisenstein', 'uhhh', 'achronological', 'unexplained', 'baboon', 'ear-splitting', 'grit', 'coral', 'reef', 'heavyweight', 'kitsch', 'jelly', 'movie-specific', 'lin', 'chung', 'unexceptional', 'nicole', 'holofcenter', 'walking-dead', 'cop-flick', 'subgenre', 'media-soaked', 'self-promotion', 'cuaron', 'embarrassingly', 'mystic', 'hypermasculine', 'ontiveros', 'humorously', 'shoe', 'tenth', 'pin', 'method', 'discoveries', 'sulking', 'overstated', 'preoccupations', 'activism', 'architecture', 'blandly', 'shaking', 'careening', 'eighth-grader', 'achival', 'ladles', 'local', 'intrigued', 'overcomes', 'envelops', 'masked', 'daringly', 'co-writer/director', 'dreadfully', 'suburban', 'forewarned', 'redeem', 'texan', 'ratliff', 'marker', 'essayist', 'conscience', 'pause', 'madcap', 'pseudo-rock-video', 'splatter', 'screwing', 'tinged', 'undertones', 'comparatively', 'americanized', 'waited', 'doctor', 'emergency', 'bed', 'satisfaction', 'sugarcoated', 'cheech', 'chong', '7th', 'song-and-dance-man', 'assign', 'implications', 'joan', 'prefeminist', 'minac', 'individuality', 'occur', 'handy', 'crassness', 'geeked', 'solemnity', 'aaa', 'demonic', 'doings', 'launch', 'wiseacre', 'self-empowering', 'big-wave', 'pig', 'terminal', 'oo', 'giggly', 'purgatory', 'foundering', 'hypertime', 'reverse', 'hades', 'toy', 'households', 'martial-arts', 'posing', 'tara', 'reid', 'six-time', 'tropic', 'pageant', 'stripe', 'poky', 'items', 'matrix', 'odor', '94-minute', 'steinis', 'sexiness', 'conan', 'barbarian', 'sommers', 'title-bout', 'belittle', 'dylan', 'ethan', 'tempted', 'threatens', 'intellectually', 'logistically', 'drang', 'jock', 'béart', 'berling', 'video-viewing', 'womanhood', 'gander', 'amuses', 'disapproval', 'co-writers', 'lo', 'perpetually', 'bypassing', 'trivialize', 'romero', 'mind-bending', 'qatsi', 'trilogy', 'battles', 'wishy-washy', 'buscemi', 'rosario', 'bravo', 'adventues', 'terri', 'pseudo-philosophic', 'romeo', 'juliet/west', 'instruct', 'fastballs', 'alas', 're-fried', 'dignified', 'ceo', 'retreat', 'pee', 'tree', 'christ', 'tad', 'fahrenheit', 'coasting', 'slapped', 'follow-up', 'caddyshack', 'ivan', 'react', 'characterizes', 'clips', 'aftermath', 'consciously', 'grub', 'hookers', 'oversexed', 'mission', 'righteousness', 'register', 'pillowcases', '87', 'moderately', 'indieflick', 'surveyed', 'revisionism', 'streaks', 'em', 'derisive', 'clunker', 'fixated', 'methodology', 'loosely-connected', 'acting-workshop', 'exercises', 'nurtures', 'hymn', 'already-shallow', 'corcuera', 'meyjes', 'underdogs', 'tar', 'lawmen', 'miscalculations', 'sullivan', 'entries', 'cross-cultural', 'touchingly', 'mending', 'communication', 'eighties', 'wrapping', 'sunbaked', 'summery', 'ahola', '52', 'decoder', '1933', 'insiders', 'encyclopedia', 'inversion', 'heartily', 'uncommitted', 'special-interest', 'bearable', 'bisset', 'simmer', 'gussied', 'renewal', 'epicenter', 'instability', 'boarders', 'intellectuals', 'assures', 'idling', 'wearisome', 'punishable', 'chainsaw', 'electoral', 'mind-bender', 'usurp', 'instrument', 'reportedly', 'harmed', 'truckzilla', 'cryin', 'dimensional', 'venturesome', 'profundity', 'subjective', 'barrie', 'wispy', 'star-making', 'machinery', 'sensationalize', 'keener', 'wistfully', 'according', 'scrutinize', 'propriety-obsessed', 'pc', 'stability', 'affinity', 'eroticism', 'somnambulant', 'transfigures', 'engorged', 'late-summer', 'surfer', 'woe', 'marveilleux', 'cheered', 'hit-man', 'fried', 'pork', 'denmark', 'dogma', 'updatings', 'parrot', 'epitaph', 'dismissive', 'blimp', 'omnibus', 'mobility', '50-year-old', 'reflected', 'constrictive', 'eisenhower', 'shatters', 'skilled', 'moviemakers', 'crashing', 'lunar', 'thrilled', 'ireland', 'sixties-style', 'slickness', 'interpreting', 'phantasms', 'optic', 'i-heard-a-joke', 'at-a-frat-party', 'comprehensible', 'dummies', 'non-techies', 'underworld', 'stupefying', 'kathie', 'gifford', 'arriving', 'resonances', 'self-inflicted', 'plausible', 'skeleton', 'minor-league', 'contempt', 'traffics', 'respects', 'roy', '1973', 'amiss', 'undogmatic', 'neurosis', 'watercolor', 'dumbo', 'tighter', 'editorial', 'firmer', 'post-war', 'expectant', 'adoring', 'reception', 'outdoes', 'circles', 'obsessively', 'bagatelle', 'dilettante', 'h', 'virtue', 'leery', 'contentedly', 'acidity', 'reaffirms', 'relied', 'bestowed', 'gordy', 'waldo', 'mountains', 'fuse', 'louts', 'climbing', 'steps', 'stadium-seat', 'drawings', 'schiffer', 'hossein', 'amini', 'modernize', 'reconceptualize', 'tinge', 'confuses', 'protecting', 'cub', 'controlling', 'cornball', 'hustling', 'guardian', 'avon', 'graphically', 'fledgling', 'democracies', 'soullessness', 'fizzability', 'be-all-end-all', 'modern-office', 'execrable', 'catsup', 'dogged', 'schools', 're-imagining', '1930s', 'requires', 'sending', 'perfervid', 'dusty', 'leatherbound', 'action/thriller', 'spirals', 'meatier', 'accident-prone', 'candidate', 'valid', 'plex', 'futility', 'purists', 'crispin', 'glover', 'coriat', 'coinage', 'unthinkable', 'regimen', 'mcwilliams', 'mail', 'errol', 'morris', 'emphasizing', 'unstable', 'delineate', 'urges', 'sanitised', 'blown-out', 'adrenalized', 'residences', 'strips', 'church-wary', 'zoning', 'ordinances', 'criminals', 'coos', 'beseechingly', 'fillers', 'collide', 'trusts', 'germany', 'democratic', 'weimar', 'republic', 'orbits', 'inevitably', 'pore', 'slowness', 'amc', 'tape', 'readings', 'types', 'chuckling', 'overflows', 'kubrick-meets-spielberg', 'jury', 'honoring', 'seldhal', 'claustrophic', 'attics', 'liana', 'dognini', 'alan', 'warner', 'irvine', 'trainspotting', '8-10', 'wazoo', 'confession', 'stumble', 'engulfed', 'tweener', 'plods', 'methodically', 'resuscitate', 'freight', 'gurus', 'doshas', 'moral-condundrum', 'priggish', 'half-dozen', 'stallion', 'cimarron', 'accommodate', 'trot', 'accumulate', 'lint', 'expanded', 'j.r.r.', 'middle-earth', 'style-free', 'zombie-land', 'giggling', 'down-home', 'schoolgirl', 'leanest', 'meanest', 'rough-hewn', 'andie', 'echo', 'warned', 'freely', 'insinuating', 'ragged', 'plunges', 'simpson', 'perversely', 'hurried', 'kidnapper', 'dwarfs', 'elect', 'grumbling', 'revived', 'disparate', 'congrats', 'exquisitely', 'dripping', 'hermocrates', 'leontine', 'industrial-model', 'freezers', 'wades', 'recessive', 'werewolf', 'nicest', 'flop', 'commune', 'ferment', 'praying', 'wail', 'dynamism', 'copmovieland', 'sparse', 'archival', 'prints', '19th', 'powder', 'quasi-documentary', 'karim', 'dridi', 'hardy', 'operandi', 'juxtaposition', 'bust', 'coy', 'observe', 'deleting', 'advanced', 'stammering', 'exposé', 'dictates', 'outweighs', 'domineering', '1959', 'godzilla', 'commenting', 'd', 'kudos', 'co-stars', 'mary-louise', 'sailor', 'blush', 'outlandish', 'jeff', 'compositions', 'finn', 'chaykin', 'headly', 'wounded', 'wounding', 'exceptions', 'till', 'deteriorates', 'ensures', 'cruelly', 'mulan', 'tarzan', 'progressive', 'slaps', 'liberalism', 'coal', 'stockings', 'creatively', 'threads', 'led', 'woodman', 'unspeakably', 'doting', 'garbled', 'parables', 'contribute', 'unfairly', 'reassures', 'towers', 'exuberantly', 'delves', 'twenty-three', 'bai', 'imparting', 'medem', 'disrobed', 'exposed', 'nationalism', 'persistence', 'audacious-impossible', 'unencouraging', 'threefold', 'expansion', 'afterlife', 'communications', 'tov', 'advocacy', 'weddings', 'complaints', 'substitutes', 'agnostic', 'carnivore', 'sprinkled', 'ranges', 'mortality', 'greengrass', 'intelligibility', 'berlin', 'ethnography', 'wonton', 'vardalos', 'corbett', 'infuriatingly', 'clinical', 'delete', 'suffered', 'ia', 'roussillon', 'buff', 'eye-catching', 'lottery', 'plutonium', 'contentious', 'configurations', 'contain', 'remarks', 'engendering', 'punches', 'curve', 'oscar-nominated', 'digitally', 'altered', 'milking', 'depicted', 'pearls', 'clicking', 'thirty-three', 'n', 'gilmore', 'fiendishly', 'relieved', 'r', 'ongoing', 'construction', 'disturbingly', 'too-spectacular', 'lab', 'farcically', 'bawdy', 'muster', 'drek', 'gauge', 'shimizu', 'aragorn', 'arwen', 'third-person', 'anarchists', 'extremities', 'winter', 'grenoble', 'geneva', 'thereafter', 'lumps', 'juan', 'jose', 'splatterfests', 'flounders', 'dotted', 'rosenthal', 'flashing', 'wash', 'watched', 'side-by-side', 'ringu', 'participatory', 'orientation', 'inconsistencies', 'brady', 'prosaic', 'hood', 'consoled', 'springer', 'attacks', 'ingest', 'alternate', 'ripping', 'malle', 'exploits', 'abiding', 'p', 'blasting', 'stabbing', 'no-bull', 'cellophane-pop', 'stains', 'covered', 'artsploitation', 'tinseltown', 'criterion', 'balzac', 'reunion', 'underlines', 'bruckheimeresque', 'emulates', 'electronic', 'cyber', 'butler', 'oleander', 'dan', 'shawn', 'irrevocable', 'bentley', 'hudson', 'closure', 'underdog', 'preposterousness', 'triple', 'unstoppable', 'superman', 'finch', 'not-so-bright', 'perspicacious', 'autocritique', 'drunk', 'psychodrama', 'sparkles', 'crave', 'goal', '1987', 'immense', 'forty', 'double', 'maguire', 'tolerable-to-adults', 'scary-funny', 'reaffirming', 'misfortune', 'snatch', 'scored', 'powered', 'possession', 'jiang', 'wen', 'ugly-duckling', 'stepmom', 'dutifully', 'heartstrings', 'unafraid', 'proficiently', 'trounce', 'capricious', 'penotti', 'zoe', 'clarke-williams', 'enemies', 'potty-mouthed', 'tnt', 'establishment', 'tonally', 'cloaked', 'euphemism', 'weighed', 'contrasting', 'comparing', 'uplifter', 'spectrum', 're-creations', 'rackets', 'crash', 'bypass', 'ong', 'regeneration', 'conveyor', 'grounding', 'famed', 'sleekness', 'ado', 'amicable', 'inert', 'under-rehearsed', 'rediscovers', 'spoken', 'patricio', 'guzman', 'bulk', 'centers', 'faded', 'skipped', 'inconceivable', 'voices-from-the-other-side', 'rancid', 'instances', 'deblois', 'sanders', 'late-night', 'probation', 'officer', 'singer/composer', 'contributes', 'slew', 'remakes', 'avengers', 'well-trod', 'boomers', 'wattage', 'leonard', 'uphill', 'full-frontal', 'stuffed', 'instigator', 'ghostbusters', 'upsetting', 'agendas', 'melds', 'ignites', 'serviceability', 'cancer', 'connections', 'libido', 'arteta', 'witlessness', 'twenty-first', 'conjuring', 'lethargically', 'seller', 'dependence', 'assembles', 'self-pitying', 'waged', 'predators', 'frighten', 'disturb', 'converted', 'eye-boggling', 'englishmen', 'rejection', 'dissipated', 'saigon', 'jiri', 'menzel', 'trains', 'tanovic', 'shortness', 'in-jokey', 'maids', 'phoned-in', 'gesturing', 'maryam', 'daddy', 'lisa', 'rinzler', 'whoopee-cushion', 'mumbles', 'margaritas', 'donald', 'jonze', 'plan', 'governance', 'hierarchy', 'broaches', 'judaism', '127', 'asylum', 'encountered', 'reverberates', 'alternates', 'pierce', 'troopers', 'sloughs', 'encomia', 'render', 'hush', 'mitch', 'yeah', 'leader', 'fidel', 'get-go', 'lightest', 'minimum', 'hinges', 'enabling', 'than-likely', 'celebrities', 'happily-ever', 'mediterranean', 'expand', 'countless', 'hammering', 'post-september', 'weaned', 'half-assed', 'telegraphs', 'convenience', 'muting', 'bailiwick', 'illiterate', 'jackal', 'musty', 'eagle', 'carpets', 'blustery', 'dystopian', 'hare', 'cunningham', 'seasonal', 'derives', 'situates', 'p.c.', 'satisfactorily', 'capitalizes', 'trading', 'tarkovsky', 'distill', 'tomatoes', 'devotedly', 'self-serious', 'importantly', 'veggies', 'marvin', 'gaye', 'supremes', 'unbreakable', 'lived-in', 'gidget', 'cases', 'festers', 'jacqueline', 'plimpton', 'book-on-tape', 'kane', 'fitfully', 'recalling', 'excite', 'essay', 'specter', 'religious', 'deny', 'award-winning', 'physique', 'throat', 'salaries', 'tit-for-tat', 'retaliatory', 'responses', 'self-exploitation', 'merge', 'soft-porn', 'powerment', 'rip-roaring', 'esoteric', 'musings', '71', 'egomaniac', 'fizzle', 'anton', 'teasing', 'breakdown', 'binging', 'wheels', 'iles', 'harangues', 'patent', 'over-familiarity', 'hit-hungry', 'whistle', 'janey', 'ke', 'itinerant', 'samurai', 'amari', 'guilt-suffused', 'nailbiter', 'unemployment', 'pasach', 'commander-in-chief', 'raimondi', 'ghoulish', 'innate', 'flattened', 'hack-and-slash', 'unseemly', 'romance-novel', 'platitudes', 'motown', 'kinnear', 'adrien', 'brody', 'resumes', 'bug-eye', 'dead-eye', 'skittish', 'middle-agers', 'scriptwriters', 'hereby', 'processed', 'rashomon-for-dipsticks', 'fuelled', 'wing', 'prayer', 'castle', 'sky', 'zwick', 'documentary-like', 'spells', 'jeffrey', 'jazz-playing', 'exterminator', 'deliberateness', 'collage', 'occurs', 'muckraking', 'waits', 'ah-nuld', 'spangle', 'matchmaking', 'estela', 'hagiographic', 'johnnie', 'occupational', 'subsequent', 'reinvention', 'harks', 'lusty', 'correctly', 'cutes', 'kidd', 'populates', 'altman', 'drama/character', 'sorts', 'vacuous', 'fresnadillo', 'mehta', 'roundelay', 'partnerships', 'gator-bashing', 'cynic', 'cuba', 'elite', 'immaculately', 'gamely', 'seldom', 'ticket-buyers', 'kjell', 'bjarne', 'naïf', 'cello', 'mein', 'tso', 'breach', 'posey', 'in-joke', 'dig', 'bazadona', 'woodard', 'entitled', 'skateboarder', 'tony', 'bmx', 'rider', 'mat', 'butterfingered', 'fabian', 'rejects', '98', 'ballsy', 'horrid', 'penned', 'ame', 'interviewees', 'blushing', 'eccentrics', 'shoot-outs', 'halftime', 'fifteen', 'computer-animated', 'forgot', 'giles', 'nuttgens', 'tattoos', 'straight-shooting', 'blends', 'shum', 'honorably', 'kahlories', 'neo-realist', 'profession', 'eroticized', 'georgian-israeli', 'smarter-than-thou', 'soured', 'asked', 'belief', 'ethnicities', 'contorting', 'os', 'imitating', 'parsing', 'german-expressionist', 'stranger']\n"
     ]
    }
   ],
   "source": [
    "word_counts = Counter(train_words_with_duplication)\n",
    "word_for_2times = []\n",
    "\n",
    "for (key, value) in word_counts.items():\n",
    "  if key == 'UNK':\n",
    "      continue\n",
    "  elif value >= 2:\n",
    "    word_for_2times.append(key)\n",
    "\n",
    "# For later usage {word: id} dictionary\n",
    "word2id_train = {word: id_ for id_, word in enumerate(word_for_2times)}\n",
    "\n",
    "print(len(word_for_2times))\n",
    "print(word_for_2times)"
   ]
  },
  {
   "cell_type": "markdown",
   "metadata": {
    "id": "y8tpSL_0s-UU"
   },
   "source": [
    "Explanation about 'train_data_final_data':\n",
    "\n",
    "- I read the raw data with the filename, 'train_data.' \n",
    "- However, problem claimed not to consider the words with frequency less than 2. \n",
    "- So, before embedding, I replaced all the less-frequent words with 'Less_than_2' to clearly identify them. "
   ]
  },
  {
   "cell_type": "code",
   "execution_count": null,
   "metadata": {
    "colab": {
     "base_uri": "https://localhost:8080/",
     "height": 437
    },
    "id": "7AZsXKXYpY44",
    "outputId": "8f963ef6-7ba1-4b2f-b77f-8713da742bbc"
   },
   "outputs": [
    {
     "name": "stderr",
     "output_type": "stream",
     "text": [
      "100%|██████████| 67349/67349 [02:16<00:00, 493.91it/s]\n"
     ]
    },
    {
     "data": {
      "text/html": [
       "<div>\n",
       "<style scoped>\n",
       "    .dataframe tbody tr th:only-of-type {\n",
       "        vertical-align: middle;\n",
       "    }\n",
       "\n",
       "    .dataframe tbody tr th {\n",
       "        vertical-align: top;\n",
       "    }\n",
       "\n",
       "    .dataframe thead th {\n",
       "        text-align: right;\n",
       "    }\n",
       "</style>\n",
       "<table border=\"1\" class=\"dataframe\">\n",
       "  <thead>\n",
       "    <tr style=\"text-align: right;\">\n",
       "      <th></th>\n",
       "      <th>sentence</th>\n",
       "      <th>label</th>\n",
       "    </tr>\n",
       "  </thead>\n",
       "  <tbody>\n",
       "    <tr>\n",
       "      <th>0</th>\n",
       "      <td>hide new secretions from the parental units</td>\n",
       "      <td>0</td>\n",
       "    </tr>\n",
       "    <tr>\n",
       "      <th>1</th>\n",
       "      <td>contains no wit , only labored gags</td>\n",
       "      <td>0</td>\n",
       "    </tr>\n",
       "    <tr>\n",
       "      <th>2</th>\n",
       "      <td>that loves its characters and communicates som...</td>\n",
       "      <td>1</td>\n",
       "    </tr>\n",
       "    <tr>\n",
       "      <th>3</th>\n",
       "      <td>remains utterly satisfied to remain the same t...</td>\n",
       "      <td>0</td>\n",
       "    </tr>\n",
       "    <tr>\n",
       "      <th>4</th>\n",
       "      <td>on the worst revenge-of-the-nerds clichés the ...</td>\n",
       "      <td>0</td>\n",
       "    </tr>\n",
       "    <tr>\n",
       "      <th>...</th>\n",
       "      <td>...</td>\n",
       "      <td>...</td>\n",
       "    </tr>\n",
       "    <tr>\n",
       "      <th>67344</th>\n",
       "      <td>a delightful comedy</td>\n",
       "      <td>1</td>\n",
       "    </tr>\n",
       "    <tr>\n",
       "      <th>67345</th>\n",
       "      <td>anguish , anger and frustration</td>\n",
       "      <td>0</td>\n",
       "    </tr>\n",
       "    <tr>\n",
       "      <th>67346</th>\n",
       "      <td>at achieving the modest , crowd-pleasing goals...</td>\n",
       "      <td>1</td>\n",
       "    </tr>\n",
       "    <tr>\n",
       "      <th>67347</th>\n",
       "      <td>a patient viewer</td>\n",
       "      <td>1</td>\n",
       "    </tr>\n",
       "    <tr>\n",
       "      <th>67348</th>\n",
       "      <td>this new jangle of noise , mayhem and stupidit...</td>\n",
       "      <td>0</td>\n",
       "    </tr>\n",
       "  </tbody>\n",
       "</table>\n",
       "<p>67349 rows × 2 columns</p>\n",
       "</div>"
      ],
      "text/plain": [
       "                                                sentence  label\n",
       "0           hide new secretions from the parental units       0\n",
       "1                   contains no wit , only labored gags       0\n",
       "2      that loves its characters and communicates som...      1\n",
       "3      remains utterly satisfied to remain the same t...      0\n",
       "4      on the worst revenge-of-the-nerds clichés the ...      0\n",
       "...                                                  ...    ...\n",
       "67344                               a delightful comedy       1\n",
       "67345                   anguish , anger and frustration       0\n",
       "67346  at achieving the modest , crowd-pleasing goals...      1\n",
       "67347                                  a patient viewer       1\n",
       "67348  this new jangle of noise , mayhem and stupidit...      0\n",
       "\n",
       "[67349 rows x 2 columns]"
      ]
     },
     "execution_count": 12,
     "metadata": {
      "tags": []
     },
     "output_type": "execute_result"
    }
   ],
   "source": [
    "# train_final_data: for 'Baseline' model\n",
    "\n",
    "word_less_than_2times = list(set(train_words) - set(word_for_2times))\n",
    "word_less_than_2times.remove('UNK')\n",
    "\n",
    "train_final_data = copy.deepcopy(train_data)\n",
    "\n",
    "# Replace the words that appear less than 2 times with 'Less_than_2'. \n",
    "for i in tqdm(range(len(train_final_data))):\n",
    "  temp = train_final_data.loc[i, 'sentence'].split(' ')\n",
    "  word_length = len(temp)\n",
    "  for j in range(word_length):\n",
    "    if temp[j] in word_less_than_2times:\n",
    "      temp[j] = 'Less_than_2'\n",
    "  temp_concat = ' '.join(temp)\n",
    "  train_final_data.loc[i, 'sentence'] = temp_concat\n",
    "\n",
    "word_for_2times.append('Less_than_2') \n",
    "word_for_2times.append('UNK')\n",
    "word2id_train['Less_than_2'] = [*word2id_train.values()][-1]+1\n",
    "word2id_train['UNK'] = [*word2id_train.values()][-1]+1\n",
    "\n",
    "train_final_data"
   ]
  },
  {
   "cell_type": "markdown",
   "metadata": {
    "id": "nDQbmM3W2Im3"
   },
   "source": [
    "## 3. Text Classification Baselines\n",
    "\n",
    "You can now use the vocabulary constructed from the training data to create an embedding matrix. You will use the embedding matrix to map each input sequence of tokens to a list of embedding vectors. One of the simplest baseline is to go through one layer of neural network and then average the outputs, and finally classify the average embedding: "
   ]
  },
  {
   "cell_type": "markdown",
   "metadata": {
    "id": "aiRdLY0SCjlM"
   },
   "source": [
    "### Code for Baselines (Given)"
   ]
  },
  {
   "cell_type": "code",
   "execution_count": null,
   "metadata": {
    "colab": {
     "base_uri": "https://localhost:8080/"
    },
    "id": "zFIAvGS5pQXC",
    "outputId": "919d691c-e229-41d0-f9e0-3fe95d3432dd"
   },
   "outputs": [
    {
     "name": "stdout",
     "output_type": "stream",
     "text": [
      "tensor([[0, 1]])\n"
     ]
    }
   ],
   "source": [
    "input_ = \"hi world!\"\n",
    "input_tokens = input_.split(' ')\n",
    "input_ids = [word2id[word] if word in word2id else 0 for word in input_tokens]\n",
    "input_tensor = torch.LongTensor([input_ids]) # the first dimension is minibatch size\n",
    "print(input_tensor)"
   ]
  },
  {
   "cell_type": "markdown",
   "metadata": {
    "id": "kjUjqkwkgBGJ"
   },
   "source": [
    "**A little bit modification on original code**\n",
    "\n",
    "On the code below, 'Baseline', I changed `vocab` to `train_words` because I tried not to use the object name that professor previoiusly used, not to be confused :) Of course I could make that part as an argument of class, but I didn't do it not to edit too much from original code. "
   ]
  },
  {
   "cell_type": "code",
   "execution_count": null,
   "metadata": {
    "colab": {
     "base_uri": "https://localhost:8080/"
    },
    "id": "3vUmITCFqMit",
    "outputId": "1cd47708-fd75-478a-d039-39e00075c654"
   },
   "outputs": [
    {
     "name": "stdout",
     "output_type": "stream",
     "text": [
      "tensor([[0.5565, 0.4435]], grad_fn=<SoftmaxBackward>)\n"
     ]
    }
   ],
   "source": [
    "# One layer, average pooling and classification\n",
    "class Baseline(nn.Module):\n",
    "  def __init__(self, d):\n",
    "    super(Baseline, self).__init__()\n",
    "    self.embedding = nn.Embedding(len(word_for_2times), d) # I changed 'vocab' to 'train_words' \n",
    "    self.layer = nn.Linear(d, d, bias=True)\n",
    "    self.relu = nn.ReLU()\n",
    "    self.class_layer = nn.Linear(d, 2, bias=True)\n",
    "\n",
    "  def forward(self, input_tensor):\n",
    "    emb = self.embedding(input_tensor)\n",
    "    out = self.relu(self.layer(emb))\n",
    "    avg = out.mean(1)\n",
    "    logits = self.class_layer(avg)\n",
    "    return logits\n",
    "\n",
    "d = 3 # usually bigger, e.g. 128\n",
    "baseline = Baseline(d)\n",
    "logits = baseline(input_tensor)\n",
    "softmax = nn.Softmax(1)\n",
    "print(softmax(logits)) # probability for each class"
   ]
  },
  {
   "cell_type": "markdown",
   "metadata": {
    "id": "G9UuMWCG9YNs"
   },
   "source": [
    "Now we will compute the loss, which is the negative log probability of the input text's label being the target label (`1`), which in fact turns out to be equivalent to the cross entropy (https://en.wikipedia.org/wiki/Cross_entropy) between the probability distribution and a one-hot distribution of the target label (note that we use `logits` instead of `softmax(logits)` as the input to the cross entropy, which allow us to avoid numerical instability). "
   ]
  },
  {
   "cell_type": "code",
   "execution_count": null,
   "metadata": {
    "colab": {
     "base_uri": "https://localhost:8080/"
    },
    "id": "6nxgYNzQqaPJ",
    "outputId": "688d3566-11de-4f33-9acd-e76eadfdb86a"
   },
   "outputs": [
    {
     "name": "stdout",
     "output_type": "stream",
     "text": [
      "tensor(0.8131, grad_fn=<NllLossBackward>)\n"
     ]
    }
   ],
   "source": [
    "cel = nn.CrossEntropyLoss()\n",
    "label = torch.LongTensor([1]) # The ground truth label for \"hi world!\" is positive.\n",
    "loss = cel(logits, label) # Loss, a.k.a L\n",
    "print(loss)"
   ]
  },
  {
   "cell_type": "markdown",
   "metadata": {
    "id": "IKR99jZ2-wZW"
   },
   "source": [
    "Once we have the loss defined, only one step remains! We compute the gradients of parameters with respective to the loss and update. Fortunately, PyTorch does this for us in a very convenient way. Note that we used only one example to update the model, which is basically a Stochastic Gradient Descent (SGD) with minibatch size of 1. A recommended minibatch size in this exercise is at least 16. It is also recommended that you reuse your training data at least 10 times (i.e. 10 *epochs*)."
   ]
  },
  {
   "cell_type": "code",
   "execution_count": null,
   "metadata": {
    "id": "w8JjhgQ071d6"
   },
   "outputs": [],
   "source": [
    "# Here is the code introduction part from professor. \n",
    "# Don't need to care about this section.\n",
    "\n",
    "# optimizer = torch.optim.SGD(baseline.parameters(), lr=0.1)\n",
    "# optimizer.zero_grad() # reset process\n",
    "# loss.backward() # compute gradients\n",
    "# optimizer.step() # update parameters"
   ]
  },
  {
   "cell_type": "markdown",
   "metadata": {
    "id": "mwUIZmMrSV8B"
   },
   "source": [
    "### **Code for minibatch problem**\n",
    "\n",
    "`Problems 3.1~3.4 are in here`\n",
    "\n",
    "- d = 128\n",
    "- epochs = 10\n",
    "- minibatch size = 16"
   ]
  },
  {
   "cell_type": "code",
   "execution_count": null,
   "metadata": {
    "id": "xTzrFZRkilMR"
   },
   "outputs": [],
   "source": [
    "global_embedding = None\n",
    "\n",
    "def minibatch_dataloader(data, n_mini, batch_idx, model, model_name):\n",
    "  \"\"\"\n",
    "  data: data to process\n",
    "  n_mini: size of minibatches\n",
    "  batch_idx: index of minibatch being iterated\n",
    "  model: the model declared from outside\n",
    "  model_name: 'baseline' or 'rnn'\n",
    "  \"\"\"\n",
    "  # Didn't use external library such as nltk deliberately. \n",
    "  minibatch_X = data.loc[batch_idx * n_mini:(batch_idx+1)*n_mini-1,'sentence'].str.split(' ') \n",
    "  minibatch_y = data.loc[batch_idx * n_mini:(batch_idx+1)*n_mini-1,'label']\n",
    "  \n",
    "  output_tensor = torch.zeros(n_mini, 2).to(device)\n",
    "  minibatch_y = torch.from_numpy(minibatch_y.to_numpy()).to(device)\n",
    "\n",
    "  if model_name == 'rnn':\n",
    "    cutoff = sentence_length[batch_idx * n_mini:(batch_idx+1)*n_mini-1]\n",
    "    minibatch_list = []\n",
    "\n",
    "  for i in range(n_mini):\n",
    "    \n",
    "    mapping_list = minibatch_X.to_list()[i]\n",
    "    \n",
    "    if model_name == 'baseline':\n",
    "      input_ids = [word2id_train[word] if word in word2id_train else 0 for word in mapping_list]\n",
    "      input_tensor = torch.LongTensor([input_ids]).to(device)\n",
    "      output_tensor[i,:] = model(input_tensor)\n",
    "\n",
    "    elif model_name == 'rnn':\n",
    "      embedding_list = model.embedding\n",
    "      embedding_index = list(map(lambda x: word2id_train[x], mapping_list))\n",
    "      mini_el = embedding_list(torch.LongTensor([embedding_index]).to(device))\n",
    "      minibatch_list.append(mini_el)\n",
    "\n",
    "      if i == n_mini-1:\n",
    "        minibatch = torch.stack(minibatch_list, dim=1)\n",
    "        cutoff = max(sentence_length[batch_idx*n_mini:(batch_idx+1)*n_mini-1])\n",
    "        output_tensor = model(minibatch, cutoff)\n",
    "      \n",
    "        global_embedding = model.embedding # to use at test time\n",
    "\n",
    "        return output_tensor, minibatch_y, global_embedding  \n",
    "\n",
    "  return output_tensor, minibatch_y"
   ]
  },
  {
   "cell_type": "code",
   "execution_count": null,
   "metadata": {
    "colab": {
     "base_uri": "https://localhost:8080/"
    },
    "id": "fYroC2C9qjxW",
    "outputId": "18b33eaf-9174-4cc9-c041-5f243d49c52c"
   },
   "outputs": [
    {
     "name": "stderr",
     "output_type": "stream",
     "text": [
      "  0%|          | 1/4209 [00:00<08:50,  7.93it/s]"
     ]
    },
    {
     "name": "stdout",
     "output_type": "stream",
     "text": [
      "Present Epoch: 1/10: \n"
     ]
    },
    {
     "name": "stderr",
     "output_type": "stream",
     "text": [
      "100%|██████████| 4209/4209 [00:39<00:00, 106.47it/s]\n",
      "  0%|          | 11/4209 [00:00<00:39, 107.49it/s]"
     ]
    },
    {
     "name": "stdout",
     "output_type": "stream",
     "text": [
      "Training Accuracy: 0.7022672942434186\n",
      "Present Epoch: 2/10: \n"
     ]
    },
    {
     "name": "stderr",
     "output_type": "stream",
     "text": [
      "100%|██████████| 4209/4209 [00:39<00:00, 107.12it/s]\n",
      "  0%|          | 11/4209 [00:00<00:38, 107.87it/s]"
     ]
    },
    {
     "name": "stdout",
     "output_type": "stream",
     "text": [
      "Training Accuracy: 0.7997297658465604\n",
      "Present Epoch: 3/10: \n"
     ]
    },
    {
     "name": "stderr",
     "output_type": "stream",
     "text": [
      "100%|██████████| 4209/4209 [00:39<00:00, 107.29it/s]\n",
      "  0%|          | 11/4209 [00:00<00:39, 106.73it/s]"
     ]
    },
    {
     "name": "stdout",
     "output_type": "stream",
     "text": [
      "Training Accuracy: 0.8328260256277005\n",
      "Present Epoch: 4/10: \n"
     ]
    },
    {
     "name": "stderr",
     "output_type": "stream",
     "text": [
      "100%|██████████| 4209/4209 [00:39<00:00, 107.19it/s]\n",
      "  0%|          | 11/4209 [00:00<00:39, 107.22it/s]"
     ]
    },
    {
     "name": "stdout",
     "output_type": "stream",
     "text": [
      "Training Accuracy: 0.8513563675778408\n",
      "Present Epoch: 5/10: \n"
     ]
    },
    {
     "name": "stderr",
     "output_type": "stream",
     "text": [
      "100%|██████████| 4209/4209 [00:38<00:00, 107.94it/s]\n",
      "  0%|          | 11/4209 [00:00<00:39, 106.97it/s]"
     ]
    },
    {
     "name": "stdout",
     "output_type": "stream",
     "text": [
      "Training Accuracy: 0.8648383791890005\n",
      "Present Epoch: 6/10: \n"
     ]
    },
    {
     "name": "stderr",
     "output_type": "stream",
     "text": [
      "100%|██████████| 4209/4209 [00:39<00:00, 107.36it/s]\n",
      "  0%|          | 12/4209 [00:00<00:37, 112.55it/s]"
     ]
    },
    {
     "name": "stdout",
     "output_type": "stream",
     "text": [
      "Training Accuracy: 0.8743708147114285\n",
      "Present Epoch: 7/10: \n"
     ]
    },
    {
     "name": "stderr",
     "output_type": "stream",
     "text": [
      "100%|██████████| 4209/4209 [00:39<00:00, 107.75it/s]\n",
      "  0%|          | 11/4209 [00:00<00:38, 107.89it/s]"
     ]
    },
    {
     "name": "stdout",
     "output_type": "stream",
     "text": [
      "Training Accuracy: 0.8815721094596801\n",
      "Present Epoch: 8/10: \n"
     ]
    },
    {
     "name": "stderr",
     "output_type": "stream",
     "text": [
      "100%|██████████| 4209/4209 [00:39<00:00, 106.97it/s]\n",
      "  0%|          | 11/4209 [00:00<00:39, 106.26it/s]"
     ]
    },
    {
     "name": "stdout",
     "output_type": "stream",
     "text": [
      "Training Accuracy: 0.8879270664746322\n",
      "Present Epoch: 9/10: \n"
     ]
    },
    {
     "name": "stderr",
     "output_type": "stream",
     "text": [
      "100%|██████████| 4209/4209 [00:39<00:00, 107.42it/s]\n",
      "  0%|          | 12/4209 [00:00<00:37, 112.35it/s]"
     ]
    },
    {
     "name": "stdout",
     "output_type": "stream",
     "text": [
      "Training Accuracy: 0.8924111716580796\n",
      "Present Epoch: 10/10: \n"
     ]
    },
    {
     "name": "stderr",
     "output_type": "stream",
     "text": [
      "100%|██████████| 4209/4209 [00:39<00:00, 107.64it/s]\n"
     ]
    },
    {
     "name": "stdout",
     "output_type": "stream",
     "text": [
      "Training Accuracy: 0.8967467965374393\n"
     ]
    },
    {
     "data": {
      "text/plain": [
       "Baseline(\n",
       "  (embedding): Embedding(14312, 128)\n",
       "  (layer): Linear(in_features=128, out_features=128, bias=True)\n",
       "  (relu): ReLU()\n",
       "  (class_layer): Linear(in_features=128, out_features=2, bias=True)\n",
       ")"
      ]
     },
     "execution_count": 18,
     "metadata": {
      "tags": []
     },
     "output_type": "execute_result"
    }
   ],
   "source": [
    "num_minibatch = 16\n",
    "num_batch = math.floor(len(train_final_data)/num_minibatch) # Abandoned the leftover\n",
    "\n",
    "baseline = Baseline(128).to(device) # As mentioned once from above\n",
    "optimizer = torch.optim.SGD(baseline.parameters(), lr=0.1)\n",
    "\n",
    "train_accuracy = []\n",
    "\n",
    "for epoch in range(10):\n",
    "  print('Present Epoch: {}'.format(str(epoch+1) + '/' + str(10) + ': '))\n",
    "  correct = 0\n",
    "\n",
    "  for batch_idx in tqdm(range(num_batch)): \n",
    "    logit, y_train = minibatch_dataloader(train_final_data, num_minibatch, batch_idx, baseline, 'baseline')\n",
    "\n",
    "    loss = cel(logit, y_train)\n",
    "    optimizer.zero_grad()\n",
    "    loss.backward()\n",
    "    optimizer.step()\n",
    "\n",
    "    y_pred = logit.argmax(dim=-1)\n",
    "    correct += (y_pred == y_train).sum().item()\n",
    "    \n",
    "  train_accuracy.append(correct / len(train_data))\n",
    "  print('Training Accuracy: {}'.format(train_accuracy[-1]))\n",
    "\n",
    "baseline.to('cpu')"
   ]
  },
  {
   "cell_type": "code",
   "execution_count": null,
   "metadata": {
    "colab": {
     "base_uri": "https://localhost:8080/",
     "height": 299
    },
    "id": "rf7xMFVQ7muy",
    "outputId": "ff756175-80ad-48a4-fc7a-0947ef98722a"
   },
   "outputs": [
    {
     "data": {
      "text/plain": [
       "Text(0.5, 1.0, 'Training Accuracy')"
      ]
     },
     "execution_count": 19,
     "metadata": {
      "tags": []
     },
     "output_type": "execute_result"
    },
    {
     "data": {
      "image/png": "[encoded data removed]",
      "text/plain": [
       "<Figure size 432x288 with 1 Axes>"
      ]
     },
     "metadata": {
      "needs_background": "light",
      "tags": []
     },
     "output_type": "display_data"
    }
   ],
   "source": [
    "plt.plot(train_accuracy)\n",
    "plt.title('Training Accuracy')"
   ]
  },
  {
   "cell_type": "markdown",
   "metadata": {
    "id": "t8M0fhFf_LbG"
   },
   "source": [
    "Once you have done this, all weight parameters will have `grad` attributes that contain their gradients with respect to the loss."
   ]
  },
  {
   "cell_type": "code",
   "execution_count": null,
   "metadata": {
    "colab": {
     "base_uri": "https://localhost:8080/"
    },
    "id": "TpwOavsD8mpn",
    "outputId": "f4ca4d6f-465d-44c9-a29d-4275cb060552"
   },
   "outputs": [
    {
     "name": "stdout",
     "output_type": "stream",
     "text": [
      "tensor([[-0.0304, -0.0199,  0.0073,  ..., -0.0137,  0.0085,  0.0374],\n",
      "        [ 0.0337, -0.0003, -0.0062,  ...,  0.0168, -0.0016, -0.0233],\n",
      "        [ 0.0132, -0.0142,  0.0330,  ...,  0.0118,  0.0114,  0.0186],\n",
      "        ...,\n",
      "        [ 0.0456, -0.0061,  0.0365,  ...,  0.0164,  0.0020, -0.0294],\n",
      "        [ 0.0036, -0.0235,  0.0115,  ...,  0.0016,  0.0013,  0.0118],\n",
      "        [ 0.0134,  0.0091, -0.0083,  ...,  0.0048, -0.0212, -0.0018]])\n"
     ]
    }
   ],
   "source": [
    "print(baseline.layer.weight.grad) # dL/dw of weights in the linear layer"
   ]
  },
  {
   "cell_type": "markdown",
   "metadata": {
    "id": "W-O9D26U_aEB"
   },
   "source": [
    "**Problem 3.1** *(10 points)* Properly train this average-pooling baseline model on SST-2 and report the model's accuracy on the dev data.\n",
    "\n",
    "---  \n",
    "**Answer**\n",
    "At first, I trained the one layer, really simple model using training data. Its performance kept increased, but stuck below accuracy of 90%. Anyway, when I tested on dev set for the assessment of performance, I got accuracy value between 70 and 75%. For the last trial, I got about 73% accuracy. Performed worse than on the training set. (It's natural a result.)\n",
    "\n",
    "---\n",
    "\n",
    "**Problem 3.2** *(10 points)* Implement a recurrent neural network (without using PyTorch's RNN module) where the output of the linear layer not only depends on the current input but also the previous output. Report the model's accuracy on the dev data. Is it better or worse than the baseline? Why?\n",
    "\n",
    "---\n",
    "\n",
    "**Answer** RNN was definitely better. On baseline model, accuracy against dev set was about 73%. However, in case of RNN, accuracy was about 78%. And, in convenience, I just padded a sentence per minibatch. For example, let's suppose I took the minibatch with size 100. I take the length of the longest sentence's token size among a minibatch as standard point to pad. If I have the sentence with the number of tokens being 10, and if the longest sentence in minibatch has length 30 tokens, I padded 20 tokens. At the training stage of RNN, I restrained the maximum length by minibatch unit. However, on the test time, the standard point was 53 which is the longest token size among whole batch. So the number of meaningless <Padding> token in training set was much less than that of test time's. Though, there was a penalty at the test time, neverthless, the accuracy of dev set was definitely better that that of baseline. \n",
    "\n",
    "---  \n",
    "\n",
    "**Problem 3.3 (bonus)** *(10 points)* Show that the cross entropy computed above is equivalent to the negative log likelihood of the probability distribution.\n",
    "\n",
    "---\n",
    "**Answer**\n",
    "The format of cross entropy is $\\sum_i p_i log_2 \\frac{1}{q_i}$ = $-\\sum_i p_i log_2 q_i$. For the binary classification case, cross entropy can be represented as like this: $-y log \\hat{y} - (1-y)log(1-\\hat{y})$, where $\\hat{y}$ is probability to predict as label1.\n",
    "\n",
    "Anyway, likelihood can be represented as like this: $\\hat{y}^y (1-\\hat{y}^{1-y}\n",
    ").$ If I take the log, the log likelihood is $ylog \\hat{y} + (1-y)log(1-\\hat{y})$. If I take minus as the 'negative loglikelihood' means, it can be expressed as $-ylog\\hat{y} - (1-y)log(1-\\hat{y})$. Amazingly, they are exactly same. \n",
    "\n",
    "---  \n",
    "\n",
    "**Problem 3.4 (bonus)** *(10 points)* Why is it numerically unstable if you compute log on top of softmax?\n",
    "\n",
    "---\n",
    "\n",
    "**Answer** If I take softmax, then all the elements in a vector might have values between 0 and 1. In log function, when domain is between 0 and 1, the codomain value lies between negative infinity and 0. It is undesirable to have values toward infinity for learning. It is better to use built-in pytorch function `F.log_softmax` function at once, instead of applying log after the softmax in sequence.\n",
    "\n",
    "---  "
   ]
  },
  {
   "cell_type": "markdown",
   "metadata": {
    "id": "wakahjd-7gX7"
   },
   "source": [
    "### **Code for Problem 3.1**"
   ]
  },
  {
   "cell_type": "code",
   "execution_count": null,
   "metadata": {
    "id": "TlgG0de04qmb"
   },
   "outputs": [],
   "source": [
    "def UNK_or_Less_than_2_check(interest):\n",
    "  \"\"\"\n",
    "  interest: data being scrutinized\n",
    "  \"\"\"\n",
    "  index = 0\n",
    "\n",
    "  for word in interest:\n",
    "    if word not in word2id_train.keys():\n",
    "      interest[index] = 'UNK'\n",
    "    elif word in word_less_than_2times:\n",
    "      interest[index] = 'Less_than_2'\n",
    "\n",
    "    index += 1\n",
    "\n",
    "  return interest"
   ]
  },
  {
   "cell_type": "code",
   "execution_count": null,
   "metadata": {
    "colab": {
     "base_uri": "https://localhost:8080/"
    },
    "id": "Vf0DSOvB01fA",
    "outputId": "013f2f24-faf7-45b1-d598-492cd7fbacb9"
   },
   "outputs": [
    {
     "name": "stdout",
     "output_type": "stream",
     "text": [
      "Dev set Accuracy: 0.7373853211009175\n"
     ]
    }
   ],
   "source": [
    "dev_path = os.path.join(current_path, 'glue_data/SST-2/dev.tsv')\n",
    "dev_data = pd.read_csv(dev_path, sep='\\t')\n",
    "\n",
    "dev_sentence = dev_data.loc[:, 'sentence'].str.split(' ')\n",
    "dev_label = dev_data.loc[:, 'label']\n",
    "dev_nrow = len(dev_data)\n",
    "\n",
    "coincide = []\n",
    "\n",
    "with torch.no_grad():\n",
    "  for i in range(dev_nrow):\n",
    "    temp = dev_sentence[i]\n",
    "    temp = UNK_or_Less_than_2_check(temp)\n",
    "\n",
    "    input_ids = [word2id_train[word] if word in word2id_train else 0 for word in temp]\n",
    "    input_tensor = torch.LongTensor([input_ids])\n",
    "\n",
    "    pred = baseline(input_tensor).argmax(-1)\n",
    "    coincide.append(pred == dev_label[i])\n",
    "\n",
    "accuracy = sum(coincide).item() / dev_nrow\n",
    "print('Dev set Accuracy: {}'.format(accuracy))"
   ]
  },
  {
   "cell_type": "markdown",
   "metadata": {
    "id": "PWUc2T1eSFsl"
   },
   "source": [
    "### **Code for Problem 3.2**"
   ]
  },
  {
   "cell_type": "code",
   "execution_count": null,
   "metadata": {
    "colab": {
     "base_uri": "https://localhost:8080/",
     "height": 437
    },
    "id": "CJkFlefj9baG",
    "outputId": "7fefca02-a7f6-4c65-c9c5-afc8cbdf6f30"
   },
   "outputs": [
    {
     "name": "stderr",
     "output_type": "stream",
     "text": [
      "100%|██████████| 67349/67349 [02:07<00:00, 526.20it/s]\n"
     ]
    },
    {
     "data": {
      "text/html": [
       "<div>\n",
       "<style scoped>\n",
       "    .dataframe tbody tr th:only-of-type {\n",
       "        vertical-align: middle;\n",
       "    }\n",
       "\n",
       "    .dataframe tbody tr th {\n",
       "        vertical-align: top;\n",
       "    }\n",
       "\n",
       "    .dataframe thead th {\n",
       "        text-align: right;\n",
       "    }\n",
       "</style>\n",
       "<table border=\"1\" class=\"dataframe\">\n",
       "  <thead>\n",
       "    <tr style=\"text-align: right;\">\n",
       "      <th></th>\n",
       "      <th>sentence</th>\n",
       "      <th>label</th>\n",
       "    </tr>\n",
       "  </thead>\n",
       "  <tbody>\n",
       "    <tr>\n",
       "      <th>0</th>\n",
       "      <td>hide new secretions from the parental units  &lt;...</td>\n",
       "      <td>0</td>\n",
       "    </tr>\n",
       "    <tr>\n",
       "      <th>1</th>\n",
       "      <td>contains no wit , only labored gags  &lt;Padding&gt;...</td>\n",
       "      <td>0</td>\n",
       "    </tr>\n",
       "    <tr>\n",
       "      <th>2</th>\n",
       "      <td>that loves its characters and communicates som...</td>\n",
       "      <td>1</td>\n",
       "    </tr>\n",
       "    <tr>\n",
       "      <th>3</th>\n",
       "      <td>remains utterly satisfied to remain the same t...</td>\n",
       "      <td>0</td>\n",
       "    </tr>\n",
       "    <tr>\n",
       "      <th>4</th>\n",
       "      <td>on the worst revenge-of-the-nerds clichés the ...</td>\n",
       "      <td>0</td>\n",
       "    </tr>\n",
       "    <tr>\n",
       "      <th>...</th>\n",
       "      <td>...</td>\n",
       "      <td>...</td>\n",
       "    </tr>\n",
       "    <tr>\n",
       "      <th>67344</th>\n",
       "      <td>a delightful comedy  &lt;Padding&gt; &lt;Padding&gt; &lt;Padd...</td>\n",
       "      <td>1</td>\n",
       "    </tr>\n",
       "    <tr>\n",
       "      <th>67345</th>\n",
       "      <td>anguish , anger and frustration  &lt;Padding&gt; &lt;Pa...</td>\n",
       "      <td>0</td>\n",
       "    </tr>\n",
       "    <tr>\n",
       "      <th>67346</th>\n",
       "      <td>at achieving the modest , crowd-pleasing goals...</td>\n",
       "      <td>1</td>\n",
       "    </tr>\n",
       "    <tr>\n",
       "      <th>67347</th>\n",
       "      <td>a patient viewer  &lt;Padding&gt; &lt;Padding&gt; &lt;Padding...</td>\n",
       "      <td>1</td>\n",
       "    </tr>\n",
       "    <tr>\n",
       "      <th>67348</th>\n",
       "      <td>this new jangle of noise , mayhem and stupidit...</td>\n",
       "      <td>0</td>\n",
       "    </tr>\n",
       "  </tbody>\n",
       "</table>\n",
       "<p>67349 rows × 2 columns</p>\n",
       "</div>"
      ],
      "text/plain": [
       "                                                sentence  label\n",
       "0      hide new secretions from the parental units  <...      0\n",
       "1      contains no wit , only labored gags  <Padding>...      0\n",
       "2      that loves its characters and communicates som...      1\n",
       "3      remains utterly satisfied to remain the same t...      0\n",
       "4      on the worst revenge-of-the-nerds clichés the ...      0\n",
       "...                                                  ...    ...\n",
       "67344  a delightful comedy  <Padding> <Padding> <Padd...      1\n",
       "67345  anguish , anger and frustration  <Padding> <Pa...      0\n",
       "67346  at achieving the modest , crowd-pleasing goals...      1\n",
       "67347  a patient viewer  <Padding> <Padding> <Padding...      1\n",
       "67348  this new jangle of noise , mayhem and stupidit...      0\n",
       "\n",
       "[67349 rows x 2 columns]"
      ]
     },
     "execution_count": 23,
     "metadata": {
      "tags": []
     },
     "output_type": "execute_result"
    }
   ],
   "source": [
    "sentence_length = list(map(lambda x: len(x), train_final_data.loc[:,'sentence'].str.split(' ')))\n",
    "sentence_maximum_length = max(sentence_length)\n",
    "seq_padding_length = list(map(operator.sub,\n",
    "                              list(repeat(sentence_maximum_length, len(sentence_length))), \n",
    "                              sentence_length))\n",
    "\n",
    "for i in tqdm(range(len(train_final_data))):\n",
    "  temp = train_final_data.loc[i, 'sentence'].split(' ')\n",
    "  temp.append('<Padding> '*seq_padding_length[i])\n",
    "  temp_concat = ' '.join(temp)[:-1]  # to exclude ' ' made at the very last. \n",
    "  train_final_data.loc[i, 'sentence'] = temp_concat\n",
    "\n",
    "word_for_2times.append('<Padding>')\n",
    "word2id_train['<Padding>'] = [*word2id_train.values()][-1]+1\n",
    "\n",
    "train_final_data"
   ]
  },
  {
   "cell_type": "code",
   "execution_count": null,
   "metadata": {
    "colab": {
     "base_uri": "https://localhost:8080/",
     "height": 419
    },
    "id": "yfu90oDJXHej",
    "outputId": "8663ba65-e330-45c2-f998-6c880d0f8fa7"
   },
   "outputs": [
    {
     "data": {
      "text/html": [
       "<div>\n",
       "<style scoped>\n",
       "    .dataframe tbody tr th:only-of-type {\n",
       "        vertical-align: middle;\n",
       "    }\n",
       "\n",
       "    .dataframe tbody tr th {\n",
       "        vertical-align: top;\n",
       "    }\n",
       "\n",
       "    .dataframe thead th {\n",
       "        text-align: right;\n",
       "    }\n",
       "</style>\n",
       "<table border=\"1\" class=\"dataframe\">\n",
       "  <thead>\n",
       "    <tr style=\"text-align: right;\">\n",
       "      <th></th>\n",
       "      <th>sentence</th>\n",
       "      <th>label</th>\n",
       "    </tr>\n",
       "  </thead>\n",
       "  <tbody>\n",
       "    <tr>\n",
       "      <th>0</th>\n",
       "      <td>it 's a charming and often affecting journey .</td>\n",
       "      <td>1</td>\n",
       "    </tr>\n",
       "    <tr>\n",
       "      <th>1</th>\n",
       "      <td>UNK bleak and desperate</td>\n",
       "      <td>0</td>\n",
       "    </tr>\n",
       "    <tr>\n",
       "      <th>2</th>\n",
       "      <td>allows us to hope that nolan is UNK to UNK a m...</td>\n",
       "      <td>1</td>\n",
       "    </tr>\n",
       "    <tr>\n",
       "      <th>3</th>\n",
       "      <td>the acting , costumes , music , cinematography...</td>\n",
       "      <td>1</td>\n",
       "    </tr>\n",
       "    <tr>\n",
       "      <th>4</th>\n",
       "      <td>it 's slow -- very , very slow .</td>\n",
       "      <td>0</td>\n",
       "    </tr>\n",
       "    <tr>\n",
       "      <th>...</th>\n",
       "      <td>...</td>\n",
       "      <td>...</td>\n",
       "    </tr>\n",
       "    <tr>\n",
       "      <th>867</th>\n",
       "      <td>has all the depth of a UNK pool .</td>\n",
       "      <td>0</td>\n",
       "    </tr>\n",
       "    <tr>\n",
       "      <th>868</th>\n",
       "      <td>a movie with a real UNK flair .</td>\n",
       "      <td>1</td>\n",
       "    </tr>\n",
       "    <tr>\n",
       "      <th>869</th>\n",
       "      <td>a subject like this should inspire reaction in...</td>\n",
       "      <td>0</td>\n",
       "    </tr>\n",
       "    <tr>\n",
       "      <th>870</th>\n",
       "      <td>... is an UNK attempt at directing by UNK UNK .</td>\n",
       "      <td>0</td>\n",
       "    </tr>\n",
       "    <tr>\n",
       "      <th>871</th>\n",
       "      <td>looking UNK , luminous yet UNK in jane UNK 's ...</td>\n",
       "      <td>1</td>\n",
       "    </tr>\n",
       "  </tbody>\n",
       "</table>\n",
       "<p>872 rows × 2 columns</p>\n",
       "</div>"
      ],
      "text/plain": [
       "                                              sentence  label\n",
       "0      it 's a charming and often affecting journey .       1\n",
       "1                             UNK bleak and desperate       0\n",
       "2    allows us to hope that nolan is UNK to UNK a m...      1\n",
       "3    the acting , costumes , music , cinematography...      1\n",
       "4                    it 's slow -- very , very slow .       0\n",
       "..                                                 ...    ...\n",
       "867                 has all the depth of a UNK pool .       0\n",
       "868                   a movie with a real UNK flair .       1\n",
       "869  a subject like this should inspire reaction in...      0\n",
       "870   ... is an UNK attempt at directing by UNK UNK .       0\n",
       "871  looking UNK , luminous yet UNK in jane UNK 's ...      1\n",
       "\n",
       "[872 rows x 2 columns]"
      ]
     },
     "execution_count": 24,
     "metadata": {
      "tags": []
     },
     "output_type": "execute_result"
    }
   ],
   "source": [
    "for i in range(dev_nrow):\n",
    "  temp = dev_sentence[i]\n",
    "  temp = UNK_or_Less_than_2_check(temp)\n",
    "  temp = ' '.join(temp)\n",
    "  dev_data.loc[i, 'sentence'] = temp\n",
    "\n",
    "dev_data"
   ]
  },
  {
   "cell_type": "code",
   "execution_count": null,
   "metadata": {
    "id": "uGkA9b3as_m3"
   },
   "outputs": [],
   "source": [
    "class RNNCell(nn.Module):\n",
    "  # def __init__(self, input_dim, hidden_dim, output_dim=2):\n",
    "  def __init__(self, input_dim, hidden_dim, output_dim):\n",
    "    super(RNNCell, self).__init__()\n",
    "\n",
    "    self.input_dim = input_dim\n",
    "    self.hidden_dim = hidden_dim\n",
    "    self.output_dim = output_dim \n",
    "\n",
    "    self.weight_ih = nn.Linear(input_dim, hidden_dim)\n",
    "    self.weight_hh = nn.Linear(hidden_dim, hidden_dim)\n",
    "    # self.output = nn.Linear(hidden_dim, output_dim)\n",
    "\n",
    "  # def forward(self, x, previous_hidden, last_layer=False): \n",
    "  def forward(self, x, previous_hidden):\n",
    "\n",
    "    input_cal = self.weight_ih(x)\n",
    "    hidden_cal = self.weight_hh(previous_hidden)\n",
    "    hidden_state = torch.tanh(input_cal + hidden_cal)\n",
    "   \n",
    "    return hidden_state\n",
    "\n",
    "    ################################################################################\n",
    "    # My first draft: Using only last layer's hidden state for text classification #\n",
    "    ################################################################################\n",
    "\n",
    "    # if last_layer == False:\n",
    "    #   output_cal = None\n",
    "    # else:\n",
    "    #   output_cal = self.output(hidden_state)\n",
    "    #   hidden_state = None\n",
    "\n",
    "    # return hidden_state, output_cal"
   ]
  },
  {
   "cell_type": "code",
   "execution_count": null,
   "metadata": {
    "id": "bvG3Ej5vlMqN"
   },
   "outputs": [],
   "source": [
    "class VanillaRNN(nn.Module):\n",
    "  def __init__(self, input_dim, hidden_dim, output_dim=2):\n",
    "    super(VanillaRNN, self).__init__()\n",
    "\n",
    "    \"\"\"\n",
    "    input_dim: one-hot vector의 dimension\n",
    "    hidden_dim: hidden vector의 dimension\n",
    "    output_dim: output vector의 dimension ( Judge whether positive, negative )\n",
    "    \"\"\"\n",
    "\n",
    "    self.input_dim = input_dim\n",
    "    self.hidden_dim = hidden_dim\n",
    "    self.output_dim = output_dim\n",
    "    self.embedding = nn.Embedding(len(word_for_2times), self.input_dim, word2id_train['<Padding>']) \n",
    "\n",
    "    RNN_unit = RNNCell(self.input_dim, self.hidden_dim, self.output_dim)\n",
    "    layers = []\n",
    "    layers = [RNN_unit]*sentence_maximum_length\n",
    "    self.rnn_extreme = nn.ModuleList(layers)\n",
    "    self.output = nn.Linear(hidden_dim, 2)\n",
    "\n",
    "  def forward(self, x, cutoff):\n",
    "    self.rnn = self.rnn_extreme[0:cutoff]\n",
    "    x = x.squeeze()\n",
    "\n",
    "    hidden = None\n",
    "    hidden_sum = None\n",
    "    output = None\n",
    "\n",
    "    ################################################################################\n",
    "    # My first draft: Using only last layer's hidden state for text classification #\n",
    "    ################################################################################\n",
    "\n",
    "    # for index, layer in enumerate(self.rnn):\n",
    "    #   if index == 0:\n",
    "    #     hidden, output = layer(x[:,index,:], torch.zeros(1, self.hidden_dim).to(device))\n",
    "    #   elif index < len(self.rnn)-1:\n",
    "    #     hidden, output = layer(x[:,index,:], hidden)\n",
    "    #   else:\n",
    "    #     _, output = layer(x[:,index,:], hidden, last_layer=True)\n",
    "        \n",
    "    ######################################################################\n",
    "    # My second draft: Averaging all the hidden layer outputs & classify #\n",
    "    ######################################################################\n",
    "\n",
    "    for index, layer in enumerate(self.rnn):\n",
    "      if index == 0:\n",
    "        hidden = layer(x[:,index,:], torch.zeros(1, self.hidden_dim).to(device))\n",
    "        hidden_sum = hidden\n",
    "      else:\n",
    "        hidden = layer(x[:,index,:], hidden)\n",
    "        hidden_sum = torch.add(hidden_sum, hidden)\n",
    "        if index == cutoff-1:\n",
    "          output = hidden_sum / cutoff\n",
    "          output = self.output(output)\n",
    "\n",
    "    return output"
   ]
  },
  {
   "cell_type": "code",
   "execution_count": null,
   "metadata": {
    "colab": {
     "base_uri": "https://localhost:8080/",
     "height": 645
    },
    "id": "LuX2nMEDvudr",
    "outputId": "dcf9619b-bef2-49a1-fc53-9c4b4b5c410d"
   },
   "outputs": [
    {
     "name": "stdout",
     "output_type": "stream",
     "text": [
      "Present Epoch: 1/10\n",
      "└Average Loss: 0.0008788850230857997, Training Accuracy: 0.7774725682638198\n",
      "Present Epoch: 2/10\n",
      "└Average Loss: 0.0005216874897645508, Training Accuracy: 0.893524773938737\n",
      "Present Epoch: 3/10\n",
      "└Average Loss: 0.00046832495864886347, Training Accuracy: 0.9042302038634575\n",
      "Present Epoch: 4/10\n",
      "└Average Loss: 0.00036909071163203035, Training Accuracy: 0.9249580543140953\n",
      "Present Epoch: 5/10\n",
      "└Average Loss: 0.0003491207138853304, Training Accuracy: 0.9299172964706232\n",
      "Present Epoch: 6/10\n",
      "└Average Loss: 0.00034257339457966147, Training Accuracy: 0.9307042420822877\n",
      "Present Epoch: 7/10\n",
      "└Average Loss: 0.00036075727092012424, Training Accuracy: 0.925418343256767\n",
      "Present Epoch: 8/10\n",
      "└Average Loss: 0.00035213015736937993, Training Accuracy: 0.9285215816121991\n",
      "Present Epoch: 9/10\n",
      "└Average Loss: 0.00039121558800609405, Training Accuracy: 0.9170143580454053\n",
      "Present Epoch: 10/10\n",
      "└Average Loss: 0.000363038405077971, Training Accuracy: 0.9239483882462991\n"
     ]
    },
    {
     "data": {
      "text/plain": [
       "[<matplotlib.lines.Line2D at 0x7f73ac380c90>]"
      ]
     },
     "execution_count": 27,
     "metadata": {
      "tags": []
     },
     "output_type": "execute_result"
    },
    {
     "data": {
      "image/png": "[encoded data removed]",
      "text/plain": [
       "<Figure size 432x288 with 1 Axes>"
      ]
     },
     "metadata": {
      "needs_background": "light",
      "tags": []
     },
     "output_type": "display_data"
    }
   ],
   "source": [
    "global_embedding = None # To use at test time\n",
    "\n",
    "num_minibatch = 512\n",
    "num_batch = math.floor(len(train_data)/num_minibatch) # Abandoned the leftover\n",
    "input_dim = 128\n",
    "hidden_dim = 128\n",
    "out_dim = 2\n",
    "\n",
    "RNN_Model = VanillaRNN(input_dim, hidden_dim, out_dim).to(device)\n",
    "cel = nn.CrossEntropyLoss()\n",
    "optimizer = torch.optim.Adam(RNN_Model.parameters(), lr=0.01) \n",
    "\n",
    "train_accuracy = []\n",
    "loss_values = []\n",
    "\n",
    "for epoch in range(10):\n",
    "  print('Present Epoch: {}'.format(str(epoch+1) + '/' + str(10)))\n",
    "  correct = 0\n",
    "  running_loss = 0\n",
    "\n",
    "  for batch_idx in range(num_batch): \n",
    "\n",
    "      logit, y_train, global_embedding = minibatch_dataloader(train_final_data, num_minibatch, batch_idx, RNN_Model, 'rnn')\n",
    "      loss = cel(logit, y_train)\n",
    "      optimizer.zero_grad()\n",
    "      loss.backward()\n",
    "      optimizer.step()\n",
    "\n",
    "      running_loss += loss.item()\n",
    "\n",
    "      y_pred = logit.argmax(dim=-1)\n",
    "      correct += (y_pred == y_train).sum().item()\n",
    "\n",
    "  loss_values.append(running_loss/len(train_data))\n",
    "  train_accuracy.append(correct / len(train_data))\n",
    "  print('└Average Loss: {}, Training Accuracy: {}'.format(running_loss / len(train_data), train_accuracy[-1]))\n",
    "\n",
    "plt.plot(loss_values)"
   ]
  },
  {
   "cell_type": "code",
   "execution_count": null,
   "metadata": {
    "id": "IijZZBzzXgw7"
   },
   "outputs": [],
   "source": [
    "# dev-set preprocessing\n",
    "\n",
    "embedding_tensor = torch.zeros([len(dev_data), sentence_maximum_length, input_dim])\n",
    "length_list = []\n",
    "\n",
    "with torch.no_grad():\n",
    "  RNN_Model.eval()\n",
    "  for i in range(len(dev_data)):\n",
    "    embedding_list = global_embedding\n",
    "    one_sentence = dev_data.loc[i, 'sentence'].split(' ')\n",
    "    length_list.append(len(one_sentence))\n",
    "    one_sentence.extend(['<Padding>']*(sentence_maximum_length-len(one_sentence)))\n",
    "    embedding_index = list(map(lambda x: word2id_train[x], one_sentence))\n",
    "    embedding_input = embedding_list(torch.LongTensor([embedding_index]).to(device))\n",
    "    embedding_tensor[i] = embedding_input"
   ]
  },
  {
   "cell_type": "code",
   "execution_count": null,
   "metadata": {
    "colab": {
     "base_uri": "https://localhost:8080/"
    },
    "id": "yDUhs-3Bn0k2",
    "outputId": "70548b8c-6e47-448a-b1fb-fa1a6d9dc637"
   },
   "outputs": [
    {
     "name": "stdout",
     "output_type": "stream",
     "text": [
      "RNN model dev dataset accuracy: 0.783256880733945\n"
     ]
    }
   ],
   "source": [
    "RNN_Model.eval()\n",
    "RNN_dev_accuracy = torch.eq(RNN_Model(embedding_tensor.to(device), max(length_list)).argmax(-1), \n",
    "                            torch.LongTensor(dev_label).to(device)).sum().item() / len(dev_data)\n",
    "print('RNN model dev dataset accuracy: {}'.format(RNN_dev_accuracy))"
   ]
  },
  {
   "cell_type": "markdown",
   "metadata": {
    "id": "PBLmpKJRAd1h"
   },
   "source": [
    "## 4. Text Classification with LSTM and Dropout\n",
    "\n",
    "Now it is time to improve your baselines! Replace your RNN module with an LSTM module. See Lecture slides 04 and 05 for the formal definition of LSTMs. \n",
    "\n",
    "You will also use Dropout, which randomly makes each dimension zero with the probability of `p` and scale it by `1/(1-p)` if it is not zero during training. Put it either at the input or the output of the LSTM to prevent it from overfitting."
   ]
  },
  {
   "cell_type": "code",
   "execution_count": null,
   "metadata": {
    "colab": {
     "base_uri": "https://localhost:8080/"
    },
    "id": "R8H0F-csCCk0",
    "outputId": "0b778dac-faa0-4d03-b893-713126d3361c"
   },
   "outputs": [
    {
     "name": "stdout",
     "output_type": "stream",
     "text": [
      "tensor([0.2000, 0.6000, 0.0000, 1.4000, 1.8000])\n"
     ]
    }
   ],
   "source": [
    "a = torch.FloatTensor([0.1, 0.3, 0.5, 0.7, 0.9])\n",
    "dropout = nn.Dropout(0.5) # p=0.5\n",
    "print(dropout(a))"
   ]
  },
  {
   "cell_type": "markdown",
   "metadata": {
    "id": "G6boSxKjC4Mw"
   },
   "source": [
    "**Problem 4.1** *(20 points)* Implement and use LSTM (without using PyTorch's LSTM module) instead of vanilla RNN to improve your model. Report the accuracy on the dev data.\n",
    "\n",
    "---\n",
    "\n",
    "**Answer** Actually the performance was improved from about 78% to 81%. Highway information from cell state actually induced the performance improvement!\n",
    "\n",
    "---\n",
    "\n",
    "**Problem 4.2** *(10 points)* Use Dropout on LSTM (either at input or output). Report the accuracy on the dev data and briefly describe how it differs from 4.\n",
    "\n",
    "---  \n",
    "\n",
    "**Answer** The performance of LSTM without dropout was about 81% as stated above. However when I used dropout with remove probability 0.2, the performance was improved to about 84%. Tracking the training accuracy, the accuracy corresponding to each step is larger at the LSTM without dropout. As it is well-known, by using the dropout, I avoided the problem of overfitting a little bit, and I actually got improved result at dev set (Better generalization power)!\n",
    "\n",
    "---  \n",
    "\n",
    "\n",
    "**Problem 4.3 (bonus)** *(10 points)* Consider implementing bidirectional LSTM and two layers of LSTM to further improve your model. Report your accuracy on dev data.\n",
    "\n",
    "**Answer** I was working on Bi-LSTM, and at the training set, I got accuracy over 98 with 10 epochs. "
   ]
  },
  {
   "cell_type": "markdown",
   "metadata": {
    "id": "465xTFR5qSp-"
   },
   "source": [
    "### Code for Problem 4.1"
   ]
  },
  {
   "cell_type": "code",
   "execution_count": null,
   "metadata": {
    "id": "Gm_rfxoBqPdZ"
   },
   "outputs": [],
   "source": [
    "class LSTMCell(nn.Module):\n",
    "  def __init__(self, input_dim, hidden_dim, out_dim=2, dropout=False, dropout_prob=0.5):\n",
    "    super(LSTMCell, self).__init__()\n",
    "\n",
    "    self.input_dim = input_dim\n",
    "    self.hidden_dim = hidden_dim\n",
    "    self.out_dim = out_dim\n",
    "    self.dropout = dropout\n",
    "\n",
    "    ###########################################################\n",
    "    ##################### The first draft #####################\n",
    "    ###########################################################\n",
    "\n",
    "    # self.w_from_x = nn.Linear(self.input_dim, 4*self.layer_dim)\n",
    "    # self.u_from_h = nn.Linear(self.hidden_dim, 4*self.layer_dim)\n",
    "\n",
    "    # out_dim: self.hidden_dim for convenience\n",
    "    self.x_to_f = nn.Linear(self.input_dim, self.hidden_dim)\n",
    "    self.x_to_i = nn.Linear(self.input_dim, self.hidden_dim)\n",
    "    self.x_to_o = nn.Linear(self.input_dim, self.hidden_dim)\n",
    "    self.x_to_c = nn.Linear(self.input_dim, self.hidden_dim)\n",
    "\n",
    "    self.h_to_f = nn.Linear(self.hidden_dim, self.hidden_dim)\n",
    "    self.h_to_i = nn.Linear(self.hidden_dim, self.hidden_dim)\n",
    "    self.h_to_o = nn.Linear(self.hidden_dim, self.hidden_dim)\n",
    "    self.h_to_c = nn.Linear(self.hidden_dim, self.hidden_dim)\n",
    "\n",
    "    self.dropout = nn.Dropout(dropout_prob)\n",
    "\n",
    "    # self.output = nn.Linear(self.hidden_dim, 2)\n",
    "    \n",
    "    # if two_layer = True:\n",
    "    #   self.input_dim_2nd = hidden_dim\n",
    "\n",
    "    # self.weight_ih = nn.Linear(self.input_dim, 4*self.hidden_dim)\n",
    "    # self.weight_hh = nn.Linear(self.hidden_dim, 4*self.hidden_dim)\n",
    "    # self.dropout = nn.Dropout(dropoub_prob)\n",
    "\n",
    "  # def forward(self, x, previous_hidden, previous_cell, last_layer=False): \n",
    "  def forward(self, x, previous_hidden, previous_cell): \n",
    "\n",
    "    # internal_calculation = self.w_from_x(x) + self.u_from_h(previous_hidden)\n",
    "    # forget, input, output, gate = internal_calculation.chunk(4, dim=-1)\n",
    "    \n",
    "    if self.dropout==False:\n",
    "      forget = torch.sigmoid(self.x_to_f(x) + self.h_to_f(previous_hidden))\n",
    "      input = torch.sigmoid(self.x_to_i(x) + self.h_to_i(previous_hidden))\n",
    "      output = torch.sigmoid(self.x_to_o(x) + self.h_to_o(previous_hidden))\n",
    "      gate = torch.tanh(self.x_to_c(x) + self.h_to_c(previous_hidden))\n",
    "\n",
    "    else:\n",
    "      forget = torch.sigmoid(self.dropout(self.x_to_f(x)) + self.h_to_f(previous_hidden))\n",
    "      input = torch.sigmoid(self.dropout(self.x_to_i(x)) + self.h_to_i(previous_hidden))\n",
    "      output = self.dropout(torch.sigmoid(self.dropout(self.x_to_o(x)) + self.h_to_o(previous_hidden)))\n",
    "      gate = torch.tanh(self.dropout(self.x_to_c(x)) + self.h_to_c(previous_hidden))     \n",
    "\n",
    "    next_cell = forget * previous_cell + input * gate\n",
    "    next_hidden = output * torch.tanh(next_cell)\n",
    "\n",
    "    \n",
    "    ################################################################################\n",
    "    # My first draft: Using only last layer's hidden state for text classification #\n",
    "    ################################################################################\n",
    "\n",
    "    # if last_layer == False:\n",
    "    #   output_cal = None\n",
    "    # else:\n",
    "    #   output_cal = self.output(next_hidden)\n",
    "    #   next_cell = None\n",
    "    #   next_hidden = None\n",
    "\n",
    "    # return next_cell, next_hidden, output_cal\n",
    "   \n",
    "    return next_cell, next_hidden"
   ]
  },
  {
   "cell_type": "code",
   "execution_count": null,
   "metadata": {
    "id": "IA_tovIoBdz4"
   },
   "outputs": [],
   "source": [
    "class LSTMwithVariants(nn.Module):\n",
    "  def __init__(self, input_dim=128, hidden_dim=128, output_dim=2,\n",
    "               dropout=False, dropout_prob=0.2, bidirectional=None, num_of_layers=None):\n",
    "    super(LSTMwithVariants, self).__init__()\n",
    "\n",
    "    self.input_dim = input_dim\n",
    "    self.hidden_dim = hidden_dim\n",
    "    self.output_dim = output_dim\n",
    "    self.output = nn.Linear(self.hidden_dim, 2)\n",
    "    self.dropout = dropout\n",
    "    self.dropout_prob = dropout_prob\n",
    "\n",
    "    if glove == True:\n",
    "      self.embedding = glove_embedding\n",
    "    else:\n",
    "      self.embedding = nn.Embedding(len(word_for_2times), self.input_dim, word2id_train['<Padding>']) \n",
    "    \n",
    "    layers = []    \n",
    "    LSTM_unit = LSTMCell(self.input_dim, self.hidden_dim, self.output_dim, self.dropout, self.dropout_prob)\n",
    "    layers = [LSTM_unit]*sentence_maximum_length\n",
    "    self.lstm_extreme = nn.ModuleList(layers)\n",
    "\n",
    "  def forward(self, x, cutoff):\n",
    "    self.lstm = self.lstm_extreme[0:cutoff]\n",
    "    x = x.squeeze()\n",
    "    \n",
    "    cell = None\n",
    "    hidden = None\n",
    "    hidden_sum = None\n",
    "    output = None\n",
    "\n",
    "    for index, layer in enumerate(self.lstm):\n",
    "      if index == 0:\n",
    "        cell, hidden = layer(x[:,index,:], torch.zeros(1, self.hidden_dim).to(device), torch.zeros(1, self.hidden_dim).to(device))\n",
    "        hidden_sum = hidden\n",
    "      else:\n",
    "        cell, hidden = layer(x[:,index,:], hidden, cell)\n",
    "        hidden_sum = torch.add(hidden_sum, hidden)\n",
    "        if index == cutoff-1:\n",
    "          output = hidden_sum / cutoff\n",
    "          output = self.output(output)         \n",
    "\n",
    "    # for index, layer in enumerate(self.lstm):\n",
    "    #   if index == 0:\n",
    "    #     cell, hidden, _ = layer(x[:,index,:], torch.zeros(1, self.hidden_dim).to(device), torch.zeros(1, self.hidden_dim).to(device))\n",
    "    #   elif index < len(self.lstm)-1:\n",
    "    #     cell, hidden, _ = layer(x[:,index,:], hidden, cell)\n",
    "    #   else:\n",
    "    #     _, _, output = layer(x, hidden, cell, last_layer=True)\n",
    "\n",
    "    return output"
   ]
  },
  {
   "cell_type": "code",
   "execution_count": null,
   "metadata": {
    "colab": {
     "base_uri": "https://localhost:8080/",
     "height": 643
    },
    "id": "JGbABqVxp3R6",
    "outputId": "26b50ff2-b508-425c-a41d-74387ad2e573"
   },
   "outputs": [
    {
     "name": "stdout",
     "output_type": "stream",
     "text": [
      "Present Epoch: 1/10\n",
      "Average Loss: 0.0007884895156901756, Training Accuracy: 0.8014966814652036\n",
      "Present Epoch: 2/10\n",
      "Average Loss: 0.0003666600698132556, Training Accuracy: 0.9228644820264592\n",
      "Present Epoch: 3/10\n",
      "Average Loss: 0.00024166612034801646, Training Accuracy: 0.9475567565962375\n",
      "Present Epoch: 4/10\n",
      "Average Loss: 0.00018132620480066278, Training Accuracy: 0.958128554247279\n",
      "Present Epoch: 5/10\n",
      "Average Loss: 0.00013869708696911457, Training Accuracy: 0.9654634812692097\n",
      "Present Epoch: 6/10\n",
      "Average Loss: 0.00011588223488159609, Training Accuracy: 0.9703039391824675\n",
      "Present Epoch: 7/10\n",
      "Average Loss: 0.00010123410040624164, Training Accuracy: 0.9729320405648191\n",
      "Present Epoch: 8/10\n",
      "Average Loss: 9.019875126203861e-05, Training Accuracy: 0.975916494676981\n",
      "Present Epoch: 9/10\n",
      "Average Loss: 8.025882937481278e-05, Training Accuracy: 0.9770300969576385\n",
      "Present Epoch: 10/10\n",
      "Average Loss: 7.062255067326808e-05, Training Accuracy: 0.9797324384920341\n"
     ]
    },
    {
     "data": {
      "text/plain": [
       "[<matplotlib.lines.Line2D at 0x7f73a18a3310>]"
      ]
     },
     "execution_count": 44,
     "metadata": {
      "tags": []
     },
     "output_type": "execute_result"
    },
    {
     "data": {
      "image/png": "[encoded data removed]",
      "text/plain": [
       "<Figure size 432x288 with 1 Axes>"
      ]
     },
     "metadata": {
      "needs_background": "light",
      "tags": []
     },
     "output_type": "display_data"
    }
   ],
   "source": [
    "global_embedding = None # To use at test time\n",
    "\n",
    "num_minibatch = 512\n",
    "num_batch = math.floor(len(train_data)/num_minibatch) # Abandoned the leftover\n",
    "\n",
    "input_dim = 128\n",
    "hidden_dim = 128\n",
    "out_dim = 2\n",
    "\n",
    "LSTM_Model = LSTMwithVariants(input_dim, hidden_dim, out_dim, dropout=False, dropout_prob=0).to(device)\n",
    "cel = nn.CrossEntropyLoss()\n",
    "optimizer = torch.optim.Adam(LSTM_Model.parameters(), lr=0.01) \n",
    "\n",
    "train_accuracy = []\n",
    "loss_values = []\n",
    "\n",
    "for epoch in range(10):\n",
    "  print('Present Epoch: {}'.format(str(epoch+1) + '/' + str(10)))\n",
    "  correct = 0\n",
    "  running_loss = 0\n",
    "\n",
    "  for batch_idx in range(num_batch): \n",
    "\n",
    "    logit, y_train, global_embedding = minibatch_dataloader(train_final_data, num_minibatch, batch_idx, LSTM_Model, 'rnn')\n",
    "    \n",
    "    loss = cel(logit, y_train)\n",
    "    optimizer.zero_grad()\n",
    "    loss.backward()\n",
    "    optimizer.step()\n",
    "\n",
    "    running_loss += loss.item()\n",
    "\n",
    "    y_pred = logit.argmax(dim=-1)\n",
    "    correct += (y_pred == y_train).sum().item()\n",
    "  \n",
    "  loss_values.append(running_loss/len(train_data))\n",
    "  train_accuracy.append(correct / len(train_data))\n",
    "  print('Average Loss: {}, Training Accuracy: {}'.format(running_loss / len(train_data), train_accuracy[-1]))\n",
    "\n",
    "plt.plot(loss_values)"
   ]
  },
  {
   "cell_type": "code",
   "execution_count": null,
   "metadata": {
    "colab": {
     "base_uri": "https://localhost:8080/"
    },
    "id": "GKZ4rBmnyuhq",
    "outputId": "a0f22e8a-cc9d-4e6c-ec9e-11c809b9b20b"
   },
   "outputs": [
    {
     "name": "stdout",
     "output_type": "stream",
     "text": [
      "LSTM model dev dataset accuracy: 0.805045871559633\n"
     ]
    }
   ],
   "source": [
    "embedding_tensor = torch.zeros([len(dev_data), sentence_maximum_length, input_dim])\n",
    "length_list = []\n",
    "LSTM_dev_accuracy = None\n",
    "\n",
    "with torch.no_grad():\n",
    "  LSTM_Model.eval()\n",
    "  for i in range(len(dev_data)):\n",
    "    embedding_list = global_embedding\n",
    "    one_sentence = dev_data.loc[i, 'sentence'].split(' ')\n",
    "    length_list.append(len(one_sentence))\n",
    "    one_sentence.extend(['<Padding>']*(sentence_maximum_length-len(one_sentence)))\n",
    "    embedding_index = list(map(lambda x: word2id_train[x], one_sentence))\n",
    "    embedding_input = embedding_list(torch.LongTensor([embedding_index]).to(device))\n",
    "    embedding_tensor[i] = embedding_input\n",
    "\n",
    "    if i == len(dev_data)-1:\n",
    "      LSTM_dev_accuracy = torch.eq(LSTM_Model(embedding_tensor.to(device), max(length_list)).argmax(-1), \n",
    "                                   torch.LongTensor(dev_label).to(device)).sum().item() / len(dev_data)\n",
    "\n",
    "print('LSTM model dev dataset accuracy: {}'.format(LSTM_dev_accuracy))"
   ]
  },
  {
   "cell_type": "markdown",
   "metadata": {
    "id": "-Gjeq6oIKkFu"
   },
   "source": [
    "### Code for Problem 4.2"
   ]
  },
  {
   "cell_type": "code",
   "execution_count": null,
   "metadata": {
    "colab": {
     "base_uri": "https://localhost:8080/",
     "height": 643
    },
    "id": "qToNaXb4Kl_5",
    "outputId": "866c96fc-475d-4aed-e2aa-a01000896c73"
   },
   "outputs": [
    {
     "name": "stdout",
     "output_type": "stream",
     "text": [
      "Present Epoch: 1/10\n",
      "Average Loss: 0.0008442797437486115, Training Accuracy: 0.7844956866471663\n",
      "Present Epoch: 2/10\n",
      "Average Loss: 0.0003931838227804471, Training Accuracy: 0.9193009547283553\n",
      "Present Epoch: 3/10\n",
      "Average Loss: 0.00028527039653922253, Training Accuracy: 0.9408602948818839\n",
      "Present Epoch: 4/10\n",
      "Average Loss: 0.00022799368887397643, Training Accuracy: 0.9511648279855677\n",
      "Present Epoch: 5/10\n",
      "Average Loss: 0.00019447584394998056, Training Accuracy: 0.9578018975782863\n",
      "Present Epoch: 6/10\n",
      "Average Loss: 0.00017643051058543823, Training Accuracy: 0.9610684642682148\n",
      "Present Epoch: 7/10\n",
      "Average Loss: 0.00015861165024559526, Training Accuracy: 0.9643350309581434\n",
      "Present Epoch: 8/10\n",
      "Average Loss: 0.00014895170998512414, Training Accuracy: 0.9658495300598375\n",
      "Present Epoch: 9/10\n",
      "Average Loss: 0.00013856700304448432, Training Accuracy: 0.9667552599147723\n",
      "Present Epoch: 10/10\n",
      "Average Loss: 0.00013226773284797045, Training Accuracy: 0.9680024944691087\n"
     ]
    },
    {
     "data": {
      "text/plain": [
       "[<matplotlib.lines.Line2D at 0x7f73aa0f6510>]"
      ]
     },
     "execution_count": 46,
     "metadata": {
      "tags": []
     },
     "output_type": "execute_result"
    },
    {
     "data": {
      "image/png": "[encoded data removed]",
      "text/plain": [
       "<Figure size 432x288 with 1 Axes>"
      ]
     },
     "metadata": {
      "needs_background": "light",
      "tags": []
     },
     "output_type": "display_data"
    }
   ],
   "source": [
    "global_embedding = None # To use at test time\n",
    "\n",
    "num_minibatch = 512\n",
    "num_batch = math.floor(len(train_data)/num_minibatch) # Abandoned the leftover\n",
    "\n",
    "input_dim = 128\n",
    "hidden_dim = 128\n",
    "out_dim = 2\n",
    "\n",
    "LSTM_Model = LSTMwithVariants(input_dim, hidden_dim, out_dim, dropout=True, dropout_prob=0.2).to(device)\n",
    "cel = nn.CrossEntropyLoss()\n",
    "optimizer = torch.optim.Adam(LSTM_Model.parameters(), lr=0.01) \n",
    "\n",
    "train_accuracy = []\n",
    "loss_values = []\n",
    "\n",
    "for epoch in range(10):\n",
    "  print('Present Epoch: {}'.format(str(epoch+1) + '/' + str(10)))\n",
    "  correct = 0\n",
    "  running_loss = 0\n",
    "\n",
    "  for batch_idx in range(num_batch): \n",
    "\n",
    "    logit, y_train, global_embedding = minibatch_dataloader(train_final_data, num_minibatch, batch_idx, LSTM_Model,'rnn')\n",
    "    \n",
    "    loss = cel(logit, y_train)\n",
    "    optimizer.zero_grad()\n",
    "    loss.backward()\n",
    "    optimizer.step()\n",
    "\n",
    "    running_loss += loss.item()\n",
    "\n",
    "    y_pred = logit.argmax(dim=-1)\n",
    "    correct += (y_pred == y_train).sum().item()\n",
    "  \n",
    "  loss_values.append(running_loss/len(train_data))\n",
    "  train_accuracy.append(correct / len(train_data))\n",
    "  print('Average Loss: {}, Training Accuracy: {}'.format(running_loss / len(train_data), train_accuracy[-1]))\n",
    "\n",
    "plt.plot(loss_values)"
   ]
  },
  {
   "cell_type": "code",
   "execution_count": null,
   "metadata": {
    "colab": {
     "base_uri": "https://localhost:8080/"
    },
    "id": "3BgHJUcpKupN",
    "outputId": "7b5ef250-4c80-49b6-9074-1de9ca93e7e8"
   },
   "outputs": [
    {
     "name": "stdout",
     "output_type": "stream",
     "text": [
      "LSTM model dev dataset accuracy: 0.8360091743119266\n"
     ]
    }
   ],
   "source": [
    "embedding_tensor = torch.zeros([len(dev_data), sentence_maximum_length, input_dim])\n",
    "length_list = []\n",
    "LSTM_dev_accuracy = None\n",
    "\n",
    "with torch.no_grad():\n",
    "  LSTM_Model.eval()\n",
    "  for i in range(len(dev_data)):\n",
    "    embedding_list = global_embedding\n",
    "    one_sentence = dev_data.loc[i, 'sentence'].split(' ')\n",
    "    length_list.append(len(one_sentence))\n",
    "    one_sentence.extend(['<Padding>']*(sentence_maximum_length-len(one_sentence)))\n",
    "    embedding_index = list(map(lambda x: word2id_train[x], one_sentence))\n",
    "    embedding_input = embedding_list(torch.LongTensor([embedding_index]).to(device))\n",
    "    embedding_tensor[i] = embedding_input\n",
    "\n",
    "    if i == len(dev_data)-1:\n",
    "      LSTM_dev_accuracy = torch.eq(LSTM_Model(embedding_tensor.to(device), max(length_list)).argmax(-1), \n",
    "                                   torch.LongTensor(dev_label).to(device)).sum().item() / len(dev_data)\n",
    "\n",
    "print('LSTM model dev dataset accuracy: {}'.format(LSTM_dev_accuracy))"
   ]
  },
  {
   "cell_type": "markdown",
   "metadata": {
    "id": "855DrT78DXps"
   },
   "source": [
    "## 5. Pretrained Word Vectors\n",
    "The last step is to use pretrained vocabulary and word vectors. The prebuilt vocabulary will replace the vocabulary you built with SST-2 training data, and the word vectors will replace the embedding vectors. You will observe the power of leveraging self-supservised pretrained models.\n",
    "\n",
    "**Problem 5.1** *(10 points)* Go to https://nlp.stanford.edu/projects/glove/ and download `glove.6B.zip`. Use these pretrained word vectors to further improve your model from 4.2. Report the model's accuracy on the dev data.\n",
    "\n",
    "---\n",
    "\n",
    "**Answer**\n",
    "The accuracy of the model decreased a little bit from about 84% to 81%. However, I think this is because there were a lot of words that glove data could cover to my data. Because of the memory problem, I just used glove.6B.100d.txt including 100 dimensions. Less word, less dimension means less information. For the words that do not exist in the glove data, I just initialized with random normal distribution with mean=0 and variance=1. It is, of course a problem, because these initialization does not include any information about the word itself and the relationship with others. If the data was enough, and if I trained with more data with high-dimension, I am confident that performance would increase, though the amount of increase can be little. \n",
    "\n",
    "---\n",
    "\n",
    "**Problem 5.2 (bonus)** *(10 points)* You can go one step further by using word vectors obtained from pretrained language models. Can you import the word embeddings from `bert-base-uncased` model (via Hugging Face's `transformers`: https://huggingface.co/transformers/pretrained_models.html) into your model and improve it further? Report the accuracy on the dev data here. If the score is now higher, explain where the improvement is coming from."
   ]
  },
  {
   "cell_type": "markdown",
   "metadata": {
    "id": "SgCUuLJnJ-ta"
   },
   "source": [
    "### Code for Problem 5.1 "
   ]
  },
  {
   "cell_type": "code",
   "execution_count": null,
   "metadata": {
    "colab": {
     "base_uri": "https://localhost:8080/"
    },
    "id": "Mx6zOauKMoq7",
    "outputId": "27406b1f-f2a4-4898-e5b0-cb29700c843b"
   },
   "outputs": [
    {
     "name": "stdout",
     "output_type": "stream",
     "text": [
      "--2021-03-31 13:00:42--  http://nlp.stanford.edu/data/glove.6B.zip\n",
      "Resolving nlp.stanford.edu (nlp.stanford.edu)... 171.64.67.140\n",
      "Connecting to nlp.stanford.edu (nlp.stanford.edu)|171.64.67.140|:80... connected.\n",
      "HTTP request sent, awaiting response... 302 Found\n",
      "Location: https://nlp.stanford.edu/data/glove.6B.zip [following]\n",
      "--2021-03-31 13:00:42--  https://nlp.stanford.edu/data/glove.6B.zip\n",
      "Connecting to nlp.stanford.edu (nlp.stanford.edu)|171.64.67.140|:443... connected.\n",
      "HTTP request sent, awaiting response... 301 Moved Permanently\n",
      "Location: http://downloads.cs.stanford.edu/nlp/data/glove.6B.zip [following]\n",
      "--2021-03-31 13:00:42--  http://downloads.cs.stanford.edu/nlp/data/glove.6B.zip\n",
      "Resolving downloads.cs.stanford.edu (downloads.cs.stanford.edu)... 171.64.64.22\n",
      "Connecting to downloads.cs.stanford.edu (downloads.cs.stanford.edu)|171.64.64.22|:80... connected.\n",
      "HTTP request sent, awaiting response... 200 OK\n",
      "Length: 862182613 (822M) [application/zip]\n",
      "Saving to: ‘glove.6B.zip’\n",
      "\n",
      "glove.6B.zip        100%[===================>] 822.24M  5.08MB/s    in 2m 41s  \n",
      "\n",
      "2021-03-31 13:03:23 (5.12 MB/s) - ‘glove.6B.zip’ saved [862182613/862182613]\n",
      "\n",
      "Archive:  glove.6B.zip\n",
      "  inflating: glove.6B.50d.txt        \n",
      "  inflating: glove.6B.100d.txt       \n",
      "  inflating: glove.6B.200d.txt       \n",
      "  inflating: glove.6B.300d.txt       \n"
     ]
    }
   ],
   "source": [
    "!wget http://nlp.stanford.edu/data/glove.6B.zip\n",
    "!unzip glove.6B.zip"
   ]
  },
  {
   "cell_type": "code",
   "execution_count": null,
   "metadata": {
    "colab": {
     "base_uri": "https://localhost:8080/"
    },
    "id": "cnXP8JloVZhR",
    "outputId": "a2c07877-01a4-4691-c1f0-49665b0d94b0"
   },
   "outputs": [
    {
     "name": "stdout",
     "output_type": "stream",
     "text": [
      "/content/GLUE-baselines\n"
     ]
    }
   ],
   "source": [
    "!pwd"
   ]
  },
  {
   "cell_type": "code",
   "execution_count": null,
   "metadata": {
    "id": "6FSD9JqhbjC5"
   },
   "outputs": [],
   "source": [
    "glove_embedding = torch.randn((len(word_for_2times), 100))"
   ]
  },
  {
   "cell_type": "code",
   "execution_count": null,
   "metadata": {
    "id": "yW42tq-XZ2wP"
   },
   "outputs": [],
   "source": [
    "with open(\"./glove.6B.100d.txt\", 'r') as f:\n",
    "  while True:\n",
    "    line = f.readline()\n",
    "    if not line:\n",
    "      break\n",
    "    line_split = line.split(' ')\n",
    "    word = line_split[0]\n",
    "    if word in word_for_2times:\n",
    "      index = word2id_train[word]\n",
    "      word_embedding = torch.Tensor(list(map(lambda x: float(x), line_split[1:]))).reshape(1, -1)\n",
    "      glove_embedding[index,:] = word_embedding\n",
    "  f.close()"
   ]
  },
  {
   "cell_type": "code",
   "execution_count": null,
   "metadata": {
    "id": "Tw2H0CqDFVxt"
   },
   "outputs": [],
   "source": [
    "def create_emb_layer(weights_matrix, non_trainable=False):\n",
    "    num_embeddings, embedding_dim = weights_matrix.size()\n",
    "    emb_layer = nn.Embedding(num_embeddings, embedding_dim)\n",
    "    emb_layer.load_state_dict({'weight': weights_matrix})\n",
    "    \n",
    "    if non_trainable:\n",
    "        emb_layer.weight.requires_grad = False\n",
    "\n",
    "    return emb_layer\n",
    "\n",
    "glove_embedding = create_emb_layer(glove_embedding)"
   ]
  },
  {
   "cell_type": "code",
   "execution_count": null,
   "metadata": {
    "id": "0OtwiB2dV6TA"
   },
   "outputs": [],
   "source": [
    "class LSTMwithVariants(nn.Module):\n",
    "  def __init__(self, input_dim=128, hidden_dim=128, output_dim=2,\n",
    "               dropout=False, dropout_prob=0.2, bidirectional=None, num_of_layers=None, glove=True, glove_embedding=glove_embedding):\n",
    "    super(LSTMwithVariants, self).__init__()\n",
    "\n",
    "    self.input_dim = input_dim\n",
    "    self.hidden_dim = hidden_dim\n",
    "    self.output_dim = output_dim\n",
    "    self.output = nn.Linear(self.hidden_dim, 2)\n",
    "    self.dropout = dropout\n",
    "    self.dropout_prob = dropout_prob\n",
    "    self.embedding = glove_embedding\n",
    "    \n",
    "    layers = []    \n",
    "    LSTM_unit = LSTMCell(self.input_dim, self.hidden_dim, self.output_dim, self.dropout, self.dropout_prob)\n",
    "    layers = [LSTM_unit]*sentence_maximum_length\n",
    "    self.lstm_extreme = nn.ModuleList(layers)\n",
    "\n",
    "  def forward(self, x, cutoff):\n",
    "    self.lstm = self.lstm_extreme[0:cutoff]\n",
    "    x = x.squeeze()\n",
    "    \n",
    "    cell = None\n",
    "    hidden = None\n",
    "    hidden_sum = None\n",
    "    output = None\n",
    "\n",
    "    for index, layer in enumerate(self.lstm):\n",
    "      if index == 0:\n",
    "        cell, hidden = layer(x[:,index,:], torch.zeros(1, self.hidden_dim).to(device), torch.zeros(1, self.hidden_dim).to(device))\n",
    "        hidden_sum = hidden\n",
    "      else:\n",
    "        cell, hidden = layer(x[:,index,:], hidden, cell)\n",
    "        hidden_sum = torch.add(hidden_sum, hidden)\n",
    "        if index == cutoff-1:\n",
    "          output = hidden_sum / cutoff\n",
    "          output = self.output(output)         \n",
    "\n",
    "    # for index, layer in enumerate(self.lstm):\n",
    "    #   if index == 0:\n",
    "    #     cell, hidden, _ = layer(x[:,index,:], torch.zeros(1, self.hidden_dim).to(device), torch.zeros(1, self.hidden_dim).to(device))\n",
    "    #   elif index < len(self.lstm)-1:\n",
    "    #     cell, hidden, _ = layer(x[:,index,:], hidden, cell)\n",
    "    #   else:\n",
    "    #     _, _, output = layer(x, hidden, cell, last_layer=True)\n",
    "\n",
    "    return output"
   ]
  },
  {
   "cell_type": "code",
   "execution_count": null,
   "metadata": {
    "colab": {
     "base_uri": "https://localhost:8080/",
     "height": 643
    },
    "id": "qxDJB9uPjTnc",
    "outputId": "4b634403-7791-432e-ddcd-4a093fc706b7"
   },
   "outputs": [
    {
     "name": "stdout",
     "output_type": "stream",
     "text": [
      "Present Epoch: 1/10\n",
      "Average Loss: 0.0008043531298515259, Training Accuracy: 0.7926324073111701\n",
      "Present Epoch: 2/10\n",
      "Average Loss: 0.00034570075302382873, Training Accuracy: 0.9286403658554693\n",
      "Present Epoch: 3/10\n",
      "Average Loss: 0.0002481490193290341, Training Accuracy: 0.9487149029681213\n",
      "Present Epoch: 4/10\n",
      "Average Loss: 0.00019508943763292048, Training Accuracy: 0.9588709557677174\n",
      "Present Epoch: 5/10\n",
      "Average Loss: 0.00016633018380675306, Training Accuracy: 0.963978678228333\n",
      "Present Epoch: 6/10\n",
      "Average Loss: 0.00014219932177039933, Training Accuracy: 0.9689379203848609\n",
      "Present Epoch: 7/10\n",
      "Average Loss: 0.00012612824684557692, Training Accuracy: 0.9710166446420883\n",
      "Present Epoch: 8/10\n",
      "Average Loss: 0.00011651394085195803, Training Accuracy: 0.9731844570817682\n",
      "Present Epoch: 9/10\n",
      "Average Loss: 0.00010938875265556106, Training Accuracy: 0.9737189861764837\n",
      "Present Epoch: 10/10\n",
      "Average Loss: 0.00010133550157578716, Training Accuracy: 0.9757086222512583\n"
     ]
    },
    {
     "data": {
      "text/plain": [
       "[<matplotlib.lines.Line2D at 0x7f73a17b4910>]"
      ]
     },
     "execution_count": 56,
     "metadata": {
      "tags": []
     },
     "output_type": "execute_result"
    },
    {
     "data": {
      "image/png": "[encoded data removed]",
      "text/plain": [
       "<Figure size 432x288 with 1 Axes>"
      ]
     },
     "metadata": {
      "needs_background": "light",
      "tags": []
     },
     "output_type": "display_data"
    }
   ],
   "source": [
    "global_embedding = None\n",
    "num_minibatch = 512\n",
    "num_batch = math.floor(len(train_data)/num_minibatch) # Abandoned the leftover\n",
    "\n",
    "input_dim = 100\n",
    "hidden_dim = 128\n",
    "out_dim = 2\n",
    "\n",
    "LSTM_Model_g = LSTMwithVariants(input_dim, hidden_dim, out_dim, dropout=True, dropout_prob=0.2, \n",
    "                                glove=True, glove_embedding=glove_embedding).to(device)\n",
    "cel = nn.CrossEntropyLoss()\n",
    "optimizer = torch.optim.Adam(LSTM_Model_g.parameters(), lr=0.01) \n",
    "\n",
    "train_accuracy = []\n",
    "loss_values = []\n",
    "\n",
    "for epoch in range(10):\n",
    "  print('Present Epoch: {}'.format(str(epoch+1) + '/' + str(10)))\n",
    "  correct = 0\n",
    "  running_loss = 0\n",
    "\n",
    "  for batch_idx in range(num_batch): \n",
    "\n",
    "    logit, y_train, global_embedding = minibatch_dataloader(train_final_data, num_minibatch, batch_idx, LSTM_Model_g, 'rnn')\n",
    "    \n",
    "    loss = cel(logit, y_train)\n",
    "    optimizer.zero_grad()\n",
    "    loss.backward()\n",
    "    optimizer.step()\n",
    "\n",
    "    running_loss += loss.item()\n",
    "\n",
    "    y_pred = logit.argmax(dim=-1)\n",
    "    correct += (y_pred == y_train).sum().item()\n",
    "  \n",
    "  loss_values.append(running_loss/len(train_data))\n",
    "  train_accuracy.append(correct / len(train_data))\n",
    "  print('Average Loss: {}, Training Accuracy: {}'.format(running_loss / len(train_data), train_accuracy[-1]))\n",
    "\n",
    "plt.plot(loss_values)"
   ]
  },
  {
   "cell_type": "code",
   "execution_count": null,
   "metadata": {
    "colab": {
     "base_uri": "https://localhost:8080/"
    },
    "id": "MhbN7fiiHSvR",
    "outputId": "1c46b8b1-521c-4bca-ecb0-7bf52e6142bc"
   },
   "outputs": [
    {
     "name": "stdout",
     "output_type": "stream",
     "text": [
      "LSTM model dev dataset accuracy using the embedding of glove: 0.8073394495412844\n"
     ]
    }
   ],
   "source": [
    "embedding_tensor = torch.zeros([len(dev_data), sentence_maximum_length, input_dim])\n",
    "length_list = []\n",
    "LSTM_dev_accuracy_glove = None\n",
    "\n",
    "with torch.no_grad():\n",
    "  LSTM_Model_g.eval()\n",
    "  for i in range(len(dev_data)):\n",
    "    embedding_list = global_embedding\n",
    "    one_sentence = dev_data.loc[i, 'sentence'].split(' ')\n",
    "    length_list.append(len(one_sentence))\n",
    "    one_sentence.extend(['<Padding>']*(sentence_maximum_length-len(one_sentence)))\n",
    "    embedding_index = list(map(lambda x: word2id_train[x], one_sentence))\n",
    "    embedding_input = embedding_list(torch.LongTensor([embedding_index]).to(device))\n",
    "    embedding_tensor[i] = embedding_input\n",
    "\n",
    "    if i == len(dev_data)-1:\n",
    "      LSTM_dev_accuracy_glove = torch.eq(LSTM_Model_g(embedding_tensor.to(device), max(length_list)).argmax(-1), \n",
    "                                         torch.LongTensor(dev_label).to(device)).sum().item() / len(dev_data)\n",
    "\n",
    "print('LSTM model dev dataset accuracy using the embedding of glove: {}'.format(LSTM_dev_accuracy_glove))"
   ]
  },
  {
   "cell_type": "code",
   "execution_count": null,
   "metadata": {
    "id": "JEc3vi7waJJq"
   },
   "outputs": [],
   "source": []
  }
 ],
 "metadata": {
  "accelerator": "GPU",
  "colab": {
   "collapsed_sections": [
    "sB7xyzIgnnkA",
    "mwUIZmMrSV8B",
    "wakahjd-7gX7",
    "PWUc2T1eSFsl",
    "465xTFR5qSp-",
    "-Gjeq6oIKkFu"
   ],
   "name": "KAIST_AI605_Assignment_1_SeungwooRyu.ipynb",
   "provenance": []
  },
  "kernelspec": {
   "display_name": "Python 3",
   "language": "python",
   "name": "python3"
  },
  "language_info": {
   "codemirror_mode": {
    "name": "ipython",
    "version": 3
   },
   "file_extension": ".py",
   "mimetype": "text/x-python",
   "name": "python",
   "nbconvert_exporter": "python",
   "pygments_lexer": "ipython3",
   "version": "3.8.5"
  }
 },
 "nbformat": 4,
 "nbformat_minor": 1
}
